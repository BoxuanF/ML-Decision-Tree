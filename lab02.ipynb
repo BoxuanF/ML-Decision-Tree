{
  "cells": [
    {
      "cell_type": "markdown",
      "id": "sunrise-diagram",
      "metadata": {
        "id": "sunrise-diagram"
      },
      "source": [
        "# CSC311 Lab 2: Decision Trees and Accuracy-based Diagnostics\n",
        "\n",
        "All artificial intelligence systems have the potential to fail and in some domains\n",
        "(like health) failures can have grave consequences.  When we work in these domains,\n",
        "it's important for us to understand our algorithmic errors and their potential risk.\n",
        "\n",
        "<!--\n",
        "In labs 2, 5 and 7, we'll loosely be following the autiding procedure suggested by [Lui et. al](https://www.thelancet.com/journals/landig/article/PIIS2589-7500(22)00003-6/fulltext) in order to build and analyze a decision making system that operates in a high risk domain.\n",
        "-->\n",
        "\n",
        "In labs 2, 5 and 7, we will use data from The National Health and Nutrition Examination Survey [NHANES](https://www.cdc.gov/nchs/nhanes/index.htm) in the United States.\n",
        "This survey runs annually to assess people's health and nutritional status, and it combines data from interviews and physical examinations. We will be exploring a\n",
        "handful of attributes from the 2014 instance of this survey and their ability to predict heart disease.\n",
        "Making decisions using health data is particularly high risk, so we will use this opportunity to discuss\n",
        "how to assess our model prior to using it.\n",
        "\n",
        "<!--\n",
        "We will then do some testing according to\n",
        "the [auditing recipe](https://www.thelancet.com/journals/landig/article/PIIS2589-7500(22)00003-6/fulltext#seccestitle40) presented by Liu.\n",
        "-->\n",
        "\n",
        "In this lab, we will explore the features in this data set, use `sklearn` to fit a\n",
        "decision tree to our data, and do some work to select hyperparamters that maximize\n",
        "accuracy (or minimize the number of our classification mistakes). In future labs, we\n",
        "will be exploring our mistakes, relating them to important subgroups, and reflecting\n",
        "on our model's robustness. We will also consider how assessments of risk associated\n",
        "with our errors should or could inform our decision making criteria.\n",
        "\n",
        "By the end of this lab, you will be able to:\n",
        "\n",
        "1. Perform an exploratory analysis to understand the features that we use to make predictions.\n",
        "2. Transform features into formats amenable to machine learning (i.e. using one-hot embeddings).\n",
        "3. Use `sklearn` to fit a decision tree to our data and determine its training/validation/test accuracy.\n",
        "4. Visualize, understand and interpret a decision tree diagram.\n",
        "5. Explain how various hyperparameter choices may cause our decision tree to underfit or overfit data.\n",
        "6. Perform hyperparameter tuning to search for the optimal hyperparameters of a decision tree.\n",
        "\n",
        "Please work in groups of 1-2 during the labs.\n",
        "\n",
        "Acknowledgements:\n",
        "\n",
        "- Thanks to https://www.kaggle.com/code/tobyanderson/health-survey-analysis for some utilities to decode NHANES categories!  \n",
        "- This lab was created in collaboration with, Prof. Sonya Allin, Mustafa Haiderbhai, Carolyn Quinlan, Brandon Jaipersaud and others.\n",
        "\n",
        "## Submission\n",
        "\n",
        "If you are working with a partner, start by creating a group on Markus. If you are working alone,\n",
        "click \"Working Alone\".\n",
        "\n",
        "Submit the ipynb file `lab02.ipynb` on Markus\n",
        "**containing all your solutions to the Graded Tasks**.\n",
        "Your notebook file must contain your code **and outputs** where applicable,\n",
        "including printed lines and images.\n",
        "Your TA will not run your code for the purpose of grading.\n",
        "\n",
        "For this lab, you should submit the following:\n",
        "\n",
        "\n",
        "- Part 1. Your explanation for whether our features are likely to be informative predictors. (1 point)\n",
        "- Part 1. Your explanation for why encoding categorical variables as numeric values is problematic for a decision tree. (1 point)\n",
        "- Part 1. Your explanation as to why there is no need to normalize the features of a decision tree. (1 point)\n",
        "- Part 2. Your classification of `X_train[5]` based on your generated decision tree diagram and a justification for your classification. (1 point)\n",
        "- Part 2. The values of `max_depth` you chose to make your decision tree underfit/overfit, along with the generated diagrams. A justification as to why those values make the tree underfit/overfit. (1 point)\n",
        "- Part 2. The values of `min_samples_split` you chose to make your decision tree underfit/overfit. A justification as to why those values make the tree underfit/overfit. (1 point)\n",
        "- Part 3. Your implementation of `build_all_models`.  (2 points)\n",
        "- Part 3. Your implementation of grid search, including print statement(s) that show your best parameters and corresponding scores for both `entropy` and `gini` criteria.  (1 point)\n",
        "- Part 4. Your reflections on the exercise, and our definition of a model that performs \"well\". (1 point)\n",
        "\n",
        "## Google Colab Setup\n",
        "\n",
        "As before, we will import `matplotlib` and `numpy` for plotting and linear algebra\n",
        "manipulations."
      ]
    },
    {
      "cell_type": "code",
      "execution_count": 37,
      "id": "significant-aggregate",
      "metadata": {
        "id": "significant-aggregate"
      },
      "outputs": [],
      "source": [
        "import matplotlib.pyplot as plt # For plotting\n",
        "import numpy as np              # Linear algebra library"
      ]
    },
    {
      "cell_type": "markdown",
      "id": "alpine-knife",
      "metadata": {
        "id": "alpine-knife"
      },
      "source": [
        "In addition to using `numpy` for its linear algebra functionalities, we will also use\n",
        "a library called `pandas` to help us read CSV files and manipulate tabular data.\n",
        "The below code reads each of the csv files into a **data frame**, which is a way that\n",
        "`pandas` stores tabular data.\n",
        "As an added bonus, Jupyter notebooks display these data frames in a human-readable way."
      ]
    },
    {
      "cell_type": "code",
      "execution_count": 38,
      "id": "sharing-stroke",
      "metadata": {
        "id": "sharing-stroke"
      },
      "outputs": [],
      "source": [
        "import pandas as pd"
      ]
    },
    {
      "cell_type": "markdown",
      "id": "verified-season",
      "metadata": {
        "id": "verified-season"
      },
      "source": [
        "As before, we will start by downloading the data to Google Colab."
      ]
    },
    {
      "cell_type": "code",
      "execution_count": null,
      "id": "preceding-trade",
      "metadata": {
        "id": "preceding-trade"
      },
      "outputs": [],
      "source": [
        "!wget https://www.cs.toronto.edu/~lczhang/311/lab02/NHANES-heart.csv"
      ]
    },
    {
      "cell_type": "markdown",
      "id": "military-graduate",
      "metadata": {
        "id": "military-graduate"
      },
      "source": [
        "Use pandas to read the dataset."
      ]
    },
    {
      "cell_type": "code",
      "execution_count": 40,
      "id": "suited-robinson",
      "metadata": {
        "colab": {
          "base_uri": "https://localhost:8080/",
          "height": 444
        },
        "id": "suited-robinson",
        "outputId": "dd6cded3-c030-4383-8414-256675ab74c8"
      },
      "outputs": [
        {
          "output_type": "execute_result",
          "data": {
            "text/plain": [
              "      gender  race_ethnicity  chest_pain_ever  drink_alcohol  age   BMI  \\\n",
              "0          1               4              1.0            1.0   62  29.1   \n",
              "1          1               6              2.0            1.0   50  20.9   \n",
              "2          2               1              2.0            2.0   62  16.6   \n",
              "3          1               3              2.0            1.0   61  17.6   \n",
              "4          1               4              2.0            1.0   69  13.5   \n",
              "...      ...             ...              ...            ...  ...   ...   \n",
              "7995       2               3              1.0            2.0   76  24.6   \n",
              "7996       2               2              2.0            2.0   43  29.0   \n",
              "7997       1               6              2.0            2.0   51  14.3   \n",
              "7998       1               2              1.0            1.0   64  24.6   \n",
              "7999       2               3              2.0            2.0   80  32.2   \n",
              "\n",
              "      weight_kg  blood_pressure_sys  diastolic_bp  blood_cholesterol  \\\n",
              "0          77.3               104.0          56.0               5.64   \n",
              "1          42.9               118.0          46.0               5.25   \n",
              "2          27.3               116.0          66.0               3.23   \n",
              "3          26.2                90.0          52.0               3.67   \n",
              "4          21.0               116.0          66.0               4.50   \n",
              "...         ...                 ...           ...                ...   \n",
              "7995       13.1               116.0          66.0               4.50   \n",
              "7996       81.4               134.0          62.0               3.05   \n",
              "7997       15.6               116.0          66.0               4.50   \n",
              "7998       11.6               116.0          66.0               4.50   \n",
              "7999       78.3               114.0          66.0               4.55   \n",
              "\n",
              "      calories  family_income  target_heart  \n",
              "0        815.0           0.87           0.0  \n",
              "1       2339.0           3.63           0.0  \n",
              "2       1405.0           3.09           0.0  \n",
              "3       1735.0           2.13           0.0  \n",
              "4       1735.0           1.74           0.0  \n",
              "...        ...            ...           ...  \n",
              "7995    1735.0           2.05           1.0  \n",
              "7996    1735.0           0.45           1.0  \n",
              "7997    1735.0           0.48           1.0  \n",
              "7998    1120.0           0.31           1.0  \n",
              "7999    3274.0           0.62           1.0  \n",
              "\n",
              "[8000 rows x 13 columns]"
            ],
            "text/html": [
              "\n",
              "  <div id=\"df-56b1fef7-a6f6-4ce1-aada-044c33ba1a4e\" class=\"colab-df-container\">\n",
              "    <div>\n",
              "<style scoped>\n",
              "    .dataframe tbody tr th:only-of-type {\n",
              "        vertical-align: middle;\n",
              "    }\n",
              "\n",
              "    .dataframe tbody tr th {\n",
              "        vertical-align: top;\n",
              "    }\n",
              "\n",
              "    .dataframe thead th {\n",
              "        text-align: right;\n",
              "    }\n",
              "</style>\n",
              "<table border=\"1\" class=\"dataframe\">\n",
              "  <thead>\n",
              "    <tr style=\"text-align: right;\">\n",
              "      <th></th>\n",
              "      <th>gender</th>\n",
              "      <th>race_ethnicity</th>\n",
              "      <th>chest_pain_ever</th>\n",
              "      <th>drink_alcohol</th>\n",
              "      <th>age</th>\n",
              "      <th>BMI</th>\n",
              "      <th>weight_kg</th>\n",
              "      <th>blood_pressure_sys</th>\n",
              "      <th>diastolic_bp</th>\n",
              "      <th>blood_cholesterol</th>\n",
              "      <th>calories</th>\n",
              "      <th>family_income</th>\n",
              "      <th>target_heart</th>\n",
              "    </tr>\n",
              "  </thead>\n",
              "  <tbody>\n",
              "    <tr>\n",
              "      <th>0</th>\n",
              "      <td>1</td>\n",
              "      <td>4</td>\n",
              "      <td>1.0</td>\n",
              "      <td>1.0</td>\n",
              "      <td>62</td>\n",
              "      <td>29.1</td>\n",
              "      <td>77.3</td>\n",
              "      <td>104.0</td>\n",
              "      <td>56.0</td>\n",
              "      <td>5.64</td>\n",
              "      <td>815.0</td>\n",
              "      <td>0.87</td>\n",
              "      <td>0.0</td>\n",
              "    </tr>\n",
              "    <tr>\n",
              "      <th>1</th>\n",
              "      <td>1</td>\n",
              "      <td>6</td>\n",
              "      <td>2.0</td>\n",
              "      <td>1.0</td>\n",
              "      <td>50</td>\n",
              "      <td>20.9</td>\n",
              "      <td>42.9</td>\n",
              "      <td>118.0</td>\n",
              "      <td>46.0</td>\n",
              "      <td>5.25</td>\n",
              "      <td>2339.0</td>\n",
              "      <td>3.63</td>\n",
              "      <td>0.0</td>\n",
              "    </tr>\n",
              "    <tr>\n",
              "      <th>2</th>\n",
              "      <td>2</td>\n",
              "      <td>1</td>\n",
              "      <td>2.0</td>\n",
              "      <td>2.0</td>\n",
              "      <td>62</td>\n",
              "      <td>16.6</td>\n",
              "      <td>27.3</td>\n",
              "      <td>116.0</td>\n",
              "      <td>66.0</td>\n",
              "      <td>3.23</td>\n",
              "      <td>1405.0</td>\n",
              "      <td>3.09</td>\n",
              "      <td>0.0</td>\n",
              "    </tr>\n",
              "    <tr>\n",
              "      <th>3</th>\n",
              "      <td>1</td>\n",
              "      <td>3</td>\n",
              "      <td>2.0</td>\n",
              "      <td>1.0</td>\n",
              "      <td>61</td>\n",
              "      <td>17.6</td>\n",
              "      <td>26.2</td>\n",
              "      <td>90.0</td>\n",
              "      <td>52.0</td>\n",
              "      <td>3.67</td>\n",
              "      <td>1735.0</td>\n",
              "      <td>2.13</td>\n",
              "      <td>0.0</td>\n",
              "    </tr>\n",
              "    <tr>\n",
              "      <th>4</th>\n",
              "      <td>1</td>\n",
              "      <td>4</td>\n",
              "      <td>2.0</td>\n",
              "      <td>1.0</td>\n",
              "      <td>69</td>\n",
              "      <td>13.5</td>\n",
              "      <td>21.0</td>\n",
              "      <td>116.0</td>\n",
              "      <td>66.0</td>\n",
              "      <td>4.50</td>\n",
              "      <td>1735.0</td>\n",
              "      <td>1.74</td>\n",
              "      <td>0.0</td>\n",
              "    </tr>\n",
              "    <tr>\n",
              "      <th>...</th>\n",
              "      <td>...</td>\n",
              "      <td>...</td>\n",
              "      <td>...</td>\n",
              "      <td>...</td>\n",
              "      <td>...</td>\n",
              "      <td>...</td>\n",
              "      <td>...</td>\n",
              "      <td>...</td>\n",
              "      <td>...</td>\n",
              "      <td>...</td>\n",
              "      <td>...</td>\n",
              "      <td>...</td>\n",
              "      <td>...</td>\n",
              "    </tr>\n",
              "    <tr>\n",
              "      <th>7995</th>\n",
              "      <td>2</td>\n",
              "      <td>3</td>\n",
              "      <td>1.0</td>\n",
              "      <td>2.0</td>\n",
              "      <td>76</td>\n",
              "      <td>24.6</td>\n",
              "      <td>13.1</td>\n",
              "      <td>116.0</td>\n",
              "      <td>66.0</td>\n",
              "      <td>4.50</td>\n",
              "      <td>1735.0</td>\n",
              "      <td>2.05</td>\n",
              "      <td>1.0</td>\n",
              "    </tr>\n",
              "    <tr>\n",
              "      <th>7996</th>\n",
              "      <td>2</td>\n",
              "      <td>2</td>\n",
              "      <td>2.0</td>\n",
              "      <td>2.0</td>\n",
              "      <td>43</td>\n",
              "      <td>29.0</td>\n",
              "      <td>81.4</td>\n",
              "      <td>134.0</td>\n",
              "      <td>62.0</td>\n",
              "      <td>3.05</td>\n",
              "      <td>1735.0</td>\n",
              "      <td>0.45</td>\n",
              "      <td>1.0</td>\n",
              "    </tr>\n",
              "    <tr>\n",
              "      <th>7997</th>\n",
              "      <td>1</td>\n",
              "      <td>6</td>\n",
              "      <td>2.0</td>\n",
              "      <td>2.0</td>\n",
              "      <td>51</td>\n",
              "      <td>14.3</td>\n",
              "      <td>15.6</td>\n",
              "      <td>116.0</td>\n",
              "      <td>66.0</td>\n",
              "      <td>4.50</td>\n",
              "      <td>1735.0</td>\n",
              "      <td>0.48</td>\n",
              "      <td>1.0</td>\n",
              "    </tr>\n",
              "    <tr>\n",
              "      <th>7998</th>\n",
              "      <td>1</td>\n",
              "      <td>2</td>\n",
              "      <td>1.0</td>\n",
              "      <td>1.0</td>\n",
              "      <td>64</td>\n",
              "      <td>24.6</td>\n",
              "      <td>11.6</td>\n",
              "      <td>116.0</td>\n",
              "      <td>66.0</td>\n",
              "      <td>4.50</td>\n",
              "      <td>1120.0</td>\n",
              "      <td>0.31</td>\n",
              "      <td>1.0</td>\n",
              "    </tr>\n",
              "    <tr>\n",
              "      <th>7999</th>\n",
              "      <td>2</td>\n",
              "      <td>3</td>\n",
              "      <td>2.0</td>\n",
              "      <td>2.0</td>\n",
              "      <td>80</td>\n",
              "      <td>32.2</td>\n",
              "      <td>78.3</td>\n",
              "      <td>114.0</td>\n",
              "      <td>66.0</td>\n",
              "      <td>4.55</td>\n",
              "      <td>3274.0</td>\n",
              "      <td>0.62</td>\n",
              "      <td>1.0</td>\n",
              "    </tr>\n",
              "  </tbody>\n",
              "</table>\n",
              "<p>8000 rows × 13 columns</p>\n",
              "</div>\n",
              "    <div class=\"colab-df-buttons\">\n",
              "\n",
              "  <div class=\"colab-df-container\">\n",
              "    <button class=\"colab-df-convert\" onclick=\"convertToInteractive('df-56b1fef7-a6f6-4ce1-aada-044c33ba1a4e')\"\n",
              "            title=\"Convert this dataframe to an interactive table.\"\n",
              "            style=\"display:none;\">\n",
              "\n",
              "  <svg xmlns=\"http://www.w3.org/2000/svg\" height=\"24px\" viewBox=\"0 -960 960 960\">\n",
              "    <path d=\"M120-120v-720h720v720H120Zm60-500h600v-160H180v160Zm220 220h160v-160H400v160Zm0 220h160v-160H400v160ZM180-400h160v-160H180v160Zm440 0h160v-160H620v160ZM180-180h160v-160H180v160Zm440 0h160v-160H620v160Z\"/>\n",
              "  </svg>\n",
              "    </button>\n",
              "\n",
              "  <style>\n",
              "    .colab-df-container {\n",
              "      display:flex;\n",
              "      gap: 12px;\n",
              "    }\n",
              "\n",
              "    .colab-df-convert {\n",
              "      background-color: #E8F0FE;\n",
              "      border: none;\n",
              "      border-radius: 50%;\n",
              "      cursor: pointer;\n",
              "      display: none;\n",
              "      fill: #1967D2;\n",
              "      height: 32px;\n",
              "      padding: 0 0 0 0;\n",
              "      width: 32px;\n",
              "    }\n",
              "\n",
              "    .colab-df-convert:hover {\n",
              "      background-color: #E2EBFA;\n",
              "      box-shadow: 0px 1px 2px rgba(60, 64, 67, 0.3), 0px 1px 3px 1px rgba(60, 64, 67, 0.15);\n",
              "      fill: #174EA6;\n",
              "    }\n",
              "\n",
              "    .colab-df-buttons div {\n",
              "      margin-bottom: 4px;\n",
              "    }\n",
              "\n",
              "    [theme=dark] .colab-df-convert {\n",
              "      background-color: #3B4455;\n",
              "      fill: #D2E3FC;\n",
              "    }\n",
              "\n",
              "    [theme=dark] .colab-df-convert:hover {\n",
              "      background-color: #434B5C;\n",
              "      box-shadow: 0px 1px 3px 1px rgba(0, 0, 0, 0.15);\n",
              "      filter: drop-shadow(0px 1px 2px rgba(0, 0, 0, 0.3));\n",
              "      fill: #FFFFFF;\n",
              "    }\n",
              "  </style>\n",
              "\n",
              "    <script>\n",
              "      const buttonEl =\n",
              "        document.querySelector('#df-56b1fef7-a6f6-4ce1-aada-044c33ba1a4e button.colab-df-convert');\n",
              "      buttonEl.style.display =\n",
              "        google.colab.kernel.accessAllowed ? 'block' : 'none';\n",
              "\n",
              "      async function convertToInteractive(key) {\n",
              "        const element = document.querySelector('#df-56b1fef7-a6f6-4ce1-aada-044c33ba1a4e');\n",
              "        const dataTable =\n",
              "          await google.colab.kernel.invokeFunction('convertToInteractive',\n",
              "                                                    [key], {});\n",
              "        if (!dataTable) return;\n",
              "\n",
              "        const docLinkHtml = 'Like what you see? Visit the ' +\n",
              "          '<a target=\"_blank\" href=https://colab.research.google.com/notebooks/data_table.ipynb>data table notebook</a>'\n",
              "          + ' to learn more about interactive tables.';\n",
              "        element.innerHTML = '';\n",
              "        dataTable['output_type'] = 'display_data';\n",
              "        await google.colab.output.renderOutput(dataTable, element);\n",
              "        const docLink = document.createElement('div');\n",
              "        docLink.innerHTML = docLinkHtml;\n",
              "        element.appendChild(docLink);\n",
              "      }\n",
              "    </script>\n",
              "  </div>\n",
              "\n",
              "\n",
              "<div id=\"df-ccb3d0ab-49d2-49c4-bab7-d09a97b5d40a\">\n",
              "  <button class=\"colab-df-quickchart\" onclick=\"quickchart('df-ccb3d0ab-49d2-49c4-bab7-d09a97b5d40a')\"\n",
              "            title=\"Suggest charts\"\n",
              "            style=\"display:none;\">\n",
              "\n",
              "<svg xmlns=\"http://www.w3.org/2000/svg\" height=\"24px\"viewBox=\"0 0 24 24\"\n",
              "     width=\"24px\">\n",
              "    <g>\n",
              "        <path d=\"M19 3H5c-1.1 0-2 .9-2 2v14c0 1.1.9 2 2 2h14c1.1 0 2-.9 2-2V5c0-1.1-.9-2-2-2zM9 17H7v-7h2v7zm4 0h-2V7h2v10zm4 0h-2v-4h2v4z\"/>\n",
              "    </g>\n",
              "</svg>\n",
              "  </button>\n",
              "\n",
              "<style>\n",
              "  .colab-df-quickchart {\n",
              "      --bg-color: #E8F0FE;\n",
              "      --fill-color: #1967D2;\n",
              "      --hover-bg-color: #E2EBFA;\n",
              "      --hover-fill-color: #174EA6;\n",
              "      --disabled-fill-color: #AAA;\n",
              "      --disabled-bg-color: #DDD;\n",
              "  }\n",
              "\n",
              "  [theme=dark] .colab-df-quickchart {\n",
              "      --bg-color: #3B4455;\n",
              "      --fill-color: #D2E3FC;\n",
              "      --hover-bg-color: #434B5C;\n",
              "      --hover-fill-color: #FFFFFF;\n",
              "      --disabled-bg-color: #3B4455;\n",
              "      --disabled-fill-color: #666;\n",
              "  }\n",
              "\n",
              "  .colab-df-quickchart {\n",
              "    background-color: var(--bg-color);\n",
              "    border: none;\n",
              "    border-radius: 50%;\n",
              "    cursor: pointer;\n",
              "    display: none;\n",
              "    fill: var(--fill-color);\n",
              "    height: 32px;\n",
              "    padding: 0;\n",
              "    width: 32px;\n",
              "  }\n",
              "\n",
              "  .colab-df-quickchart:hover {\n",
              "    background-color: var(--hover-bg-color);\n",
              "    box-shadow: 0 1px 2px rgba(60, 64, 67, 0.3), 0 1px 3px 1px rgba(60, 64, 67, 0.15);\n",
              "    fill: var(--button-hover-fill-color);\n",
              "  }\n",
              "\n",
              "  .colab-df-quickchart-complete:disabled,\n",
              "  .colab-df-quickchart-complete:disabled:hover {\n",
              "    background-color: var(--disabled-bg-color);\n",
              "    fill: var(--disabled-fill-color);\n",
              "    box-shadow: none;\n",
              "  }\n",
              "\n",
              "  .colab-df-spinner {\n",
              "    border: 2px solid var(--fill-color);\n",
              "    border-color: transparent;\n",
              "    border-bottom-color: var(--fill-color);\n",
              "    animation:\n",
              "      spin 1s steps(1) infinite;\n",
              "  }\n",
              "\n",
              "  @keyframes spin {\n",
              "    0% {\n",
              "      border-color: transparent;\n",
              "      border-bottom-color: var(--fill-color);\n",
              "      border-left-color: var(--fill-color);\n",
              "    }\n",
              "    20% {\n",
              "      border-color: transparent;\n",
              "      border-left-color: var(--fill-color);\n",
              "      border-top-color: var(--fill-color);\n",
              "    }\n",
              "    30% {\n",
              "      border-color: transparent;\n",
              "      border-left-color: var(--fill-color);\n",
              "      border-top-color: var(--fill-color);\n",
              "      border-right-color: var(--fill-color);\n",
              "    }\n",
              "    40% {\n",
              "      border-color: transparent;\n",
              "      border-right-color: var(--fill-color);\n",
              "      border-top-color: var(--fill-color);\n",
              "    }\n",
              "    60% {\n",
              "      border-color: transparent;\n",
              "      border-right-color: var(--fill-color);\n",
              "    }\n",
              "    80% {\n",
              "      border-color: transparent;\n",
              "      border-right-color: var(--fill-color);\n",
              "      border-bottom-color: var(--fill-color);\n",
              "    }\n",
              "    90% {\n",
              "      border-color: transparent;\n",
              "      border-bottom-color: var(--fill-color);\n",
              "    }\n",
              "  }\n",
              "</style>\n",
              "\n",
              "  <script>\n",
              "    async function quickchart(key) {\n",
              "      const quickchartButtonEl =\n",
              "        document.querySelector('#' + key + ' button');\n",
              "      quickchartButtonEl.disabled = true;  // To prevent multiple clicks.\n",
              "      quickchartButtonEl.classList.add('colab-df-spinner');\n",
              "      try {\n",
              "        const charts = await google.colab.kernel.invokeFunction(\n",
              "            'suggestCharts', [key], {});\n",
              "      } catch (error) {\n",
              "        console.error('Error during call to suggestCharts:', error);\n",
              "      }\n",
              "      quickchartButtonEl.classList.remove('colab-df-spinner');\n",
              "      quickchartButtonEl.classList.add('colab-df-quickchart-complete');\n",
              "    }\n",
              "    (() => {\n",
              "      let quickchartButtonEl =\n",
              "        document.querySelector('#df-ccb3d0ab-49d2-49c4-bab7-d09a97b5d40a button');\n",
              "      quickchartButtonEl.style.display =\n",
              "        google.colab.kernel.accessAllowed ? 'block' : 'none';\n",
              "    })();\n",
              "  </script>\n",
              "</div>\n",
              "\n",
              "  <div id=\"id_f5bf822a-23c1-4508-ab53-3294be4eebd5\">\n",
              "    <style>\n",
              "      .colab-df-generate {\n",
              "        background-color: #E8F0FE;\n",
              "        border: none;\n",
              "        border-radius: 50%;\n",
              "        cursor: pointer;\n",
              "        display: none;\n",
              "        fill: #1967D2;\n",
              "        height: 32px;\n",
              "        padding: 0 0 0 0;\n",
              "        width: 32px;\n",
              "      }\n",
              "\n",
              "      .colab-df-generate:hover {\n",
              "        background-color: #E2EBFA;\n",
              "        box-shadow: 0px 1px 2px rgba(60, 64, 67, 0.3), 0px 1px 3px 1px rgba(60, 64, 67, 0.15);\n",
              "        fill: #174EA6;\n",
              "      }\n",
              "\n",
              "      [theme=dark] .colab-df-generate {\n",
              "        background-color: #3B4455;\n",
              "        fill: #D2E3FC;\n",
              "      }\n",
              "\n",
              "      [theme=dark] .colab-df-generate:hover {\n",
              "        background-color: #434B5C;\n",
              "        box-shadow: 0px 1px 3px 1px rgba(0, 0, 0, 0.15);\n",
              "        filter: drop-shadow(0px 1px 2px rgba(0, 0, 0, 0.3));\n",
              "        fill: #FFFFFF;\n",
              "      }\n",
              "    </style>\n",
              "    <button class=\"colab-df-generate\" onclick=\"generateWithVariable('data')\"\n",
              "            title=\"Generate code using this dataframe.\"\n",
              "            style=\"display:none;\">\n",
              "\n",
              "  <svg xmlns=\"http://www.w3.org/2000/svg\" height=\"24px\"viewBox=\"0 0 24 24\"\n",
              "       width=\"24px\">\n",
              "    <path d=\"M7,19H8.4L18.45,9,17,7.55,7,17.6ZM5,21V16.75L18.45,3.32a2,2,0,0,1,2.83,0l1.4,1.43a1.91,1.91,0,0,1,.58,1.4,1.91,1.91,0,0,1-.58,1.4L9.25,21ZM18.45,9,17,7.55Zm-12,3A5.31,5.31,0,0,0,4.9,8.1,5.31,5.31,0,0,0,1,6.5,5.31,5.31,0,0,0,4.9,4.9,5.31,5.31,0,0,0,6.5,1,5.31,5.31,0,0,0,8.1,4.9,5.31,5.31,0,0,0,12,6.5,5.46,5.46,0,0,0,6.5,12Z\"/>\n",
              "  </svg>\n",
              "    </button>\n",
              "    <script>\n",
              "      (() => {\n",
              "      const buttonEl =\n",
              "        document.querySelector('#id_f5bf822a-23c1-4508-ab53-3294be4eebd5 button.colab-df-generate');\n",
              "      buttonEl.style.display =\n",
              "        google.colab.kernel.accessAllowed ? 'block' : 'none';\n",
              "\n",
              "      buttonEl.onclick = () => {\n",
              "        google.colab.notebook.generateWithVariable('data');\n",
              "      }\n",
              "      })();\n",
              "    </script>\n",
              "  </div>\n",
              "\n",
              "    </div>\n",
              "  </div>\n"
            ]
          },
          "metadata": {},
          "execution_count": 40
        }
      ],
      "source": [
        "# read each of the csv files as a *pandas data frame*\n",
        "data = pd.read_csv(\"NHANES-heart.csv\")\n",
        "\n",
        "# display one the dataframes in the notebook\n",
        "data"
      ]
    },
    {
      "cell_type": "markdown",
      "id": "alternative-liquid",
      "metadata": {
        "id": "alternative-liquid"
      },
      "source": [
        "## Part 1. Data\n",
        "\n",
        "We will be focusing on NHANES survey data relevant to the assessment of heart disease.\n",
        "Note however that assessing the presence of heart disease based on this survey data is not an easy task.\n",
        "This is because people may have heart disease but not know it, or people may think they have heart disease\n",
        "when they do not. In our data, we have defined an individual as having heart disease if they answered \"Yes\"\n",
        "to this question on the NHANES survey: \"Have you ever been told by a doctor that you had congestive heart\n",
        "failure, coronary heart disease, a heart attack, or a stroke?\".  This is, as you may notice, not the perfect\n",
        "measure of heart disease! It is however the information we have in hand and it is consistent with the way others\n",
        "have defined heart disease in the [literature](https://www.ncbi.nlm.nih.gov/pmc/articles/PMC6836338/).\n",
        "\n",
        "If you are interested in better understanding the NHANES survey responses, we encourage you to look at\n",
        "the [NHANES data dictionary](https://wwwn.cdc.gov/nchs/nhanes/continuousnhanes/default.aspx). Understanding\n",
        "your data is extremely important, as there are often situations in which measurements may be ambiguous or\n",
        "inaccurate, and these inaccuracies impact any decision making algorithm you create.\n",
        "\n",
        "If you do work to gather data, it will be your responsibility to document this data.  And if you use data to\n",
        "create an algorithm, it will be your responsibility to understand its limitations.  If you are interested in\n",
        "best practices related to data documentation, we encourage you to read [Gebru's article on this topic](https://arxiv.org/pdf/1803.09010.pdf).\n",
        "You may also be interested in current data [reporting standards](https://www.bmj.com/content/370/bmj.m3164) for clinical trials that involve automated decision making tools.\n",
        "\n",
        "In this lab, we will be looking at 10 features from the NHANES data set. We have done work to clean the data for you so that it is approachable, but we encourage you to take a look at the raw data as you are able.  The definitions of the features are as follows:\n",
        "\n",
        "- `gender` (RIAGENDR): which is binary 2=female, 1=male\n",
        "- `race_ethnicity` (RIDRETH3): which can be 1=mexican american, 2=other hispanic, 3=white, 4=black, 6=asian, ...\n",
        "- `age` (RIDAGEYR): Age in years\n",
        "- `drink_alcohol` (ALQ101): which is binary; 1 indicates the individual reportedly drinks alcohol and 2 indicates they do not\n",
        "- `blood_cholesterol` (LBDTCSI): Results of an individual's blood cholesterol tests (mmol of cholesterol/L of blood)\n",
        "- `blood_pressure_sys` (BPXSY1): an individual's systolic blood pressure\n",
        "- `diastolic_bp` (BPXDI1): an individual's diastolic blood pressure\n",
        "- `calories` (DR1TKCAL): the number of calories an individual eats per day\n",
        "- `BMI` (BMXBMI): an individual's Body Mass Index (which can be used to assess obesity)\n",
        "- `chest_pain_ever` (CDQ001): If an individual has ever reported chest pain.\n",
        "- `family_income` (INDFMPIR): Ratio of a family's income to poverty threshold\n",
        "\n",
        "We will be using these features to predict the column `target_heart`:\n",
        "\n",
        "- `target_heart`: An individual reports that they have heart disease (1=yes, 0=no).\n",
        "\n",
        "\n",
        "Let's start by exploring the data that we have in hand. Pandas has a nice function to summarize the mean and dispersion of each feature in our data frame:"
      ]
    },
    {
      "cell_type": "code",
      "execution_count": 41,
      "id": "noted-valuation",
      "metadata": {
        "colab": {
          "base_uri": "https://localhost:8080/",
          "height": 320
        },
        "id": "noted-valuation",
        "outputId": "a292ef84-5acb-4719-c6fe-5e23ed0234b4"
      },
      "outputs": [
        {
          "output_type": "execute_result",
          "data": {
            "text/plain": [
              "            gender  race_ethnicity  chest_pain_ever  drink_alcohol  \\\n",
              "count  8000.000000     8000.000000      8000.000000    8000.000000   \n",
              "mean      1.498375        3.222000         1.649125       1.304375   \n",
              "std       0.500029        1.330672         0.477274       0.460171   \n",
              "min       1.000000        1.000000         1.000000       1.000000   \n",
              "25%       1.000000        3.000000         1.000000       1.000000   \n",
              "50%       1.000000        3.000000         2.000000       1.000000   \n",
              "75%       2.000000        4.000000         2.000000       2.000000   \n",
              "max       2.000000        7.000000         2.000000       2.000000   \n",
              "\n",
              "               age          BMI    weight_kg  blood_pressure_sys  \\\n",
              "count  8000.000000  8000.000000  8000.000000         8000.000000   \n",
              "mean     62.627875    25.352687    61.112887          117.135500   \n",
              "std      12.225806     7.683466    32.803242           15.050115   \n",
              "min      40.000000    12.900000     3.300000           82.000000   \n",
              "25%      52.000000    19.700000    33.600000          108.000000   \n",
              "50%      63.000000    24.600000    63.700000          116.000000   \n",
              "75%      73.000000    29.500000    83.000000          122.000000   \n",
              "max      80.000000    82.900000   201.600000          220.000000   \n",
              "\n",
              "       diastolic_bp  blood_cholesterol     calories  family_income  \\\n",
              "count   8000.000000        8000.000000  8000.000000    8000.000000   \n",
              "mean      65.705000           4.584376  1866.986875       2.456017   \n",
              "std       11.610893           0.908403   867.494312       1.532800   \n",
              "min        0.000000           2.020000   171.000000       0.000000   \n",
              "25%       60.000000           4.090000  1337.750000       1.180000   \n",
              "50%       66.000000           4.500000  1735.000000       2.050000   \n",
              "75%       72.000000           4.970000  2215.250000       3.800000   \n",
              "max      116.000000          11.970000  8496.000000       5.000000   \n",
              "\n",
              "       target_heart  \n",
              "count   8000.000000  \n",
              "mean       0.500000  \n",
              "std        0.500031  \n",
              "min        0.000000  \n",
              "25%        0.000000  \n",
              "50%        0.500000  \n",
              "75%        1.000000  \n",
              "max        1.000000  "
            ],
            "text/html": [
              "\n",
              "  <div id=\"df-ce5f738a-be78-43d6-8ba4-ed0536aea88f\" class=\"colab-df-container\">\n",
              "    <div>\n",
              "<style scoped>\n",
              "    .dataframe tbody tr th:only-of-type {\n",
              "        vertical-align: middle;\n",
              "    }\n",
              "\n",
              "    .dataframe tbody tr th {\n",
              "        vertical-align: top;\n",
              "    }\n",
              "\n",
              "    .dataframe thead th {\n",
              "        text-align: right;\n",
              "    }\n",
              "</style>\n",
              "<table border=\"1\" class=\"dataframe\">\n",
              "  <thead>\n",
              "    <tr style=\"text-align: right;\">\n",
              "      <th></th>\n",
              "      <th>gender</th>\n",
              "      <th>race_ethnicity</th>\n",
              "      <th>chest_pain_ever</th>\n",
              "      <th>drink_alcohol</th>\n",
              "      <th>age</th>\n",
              "      <th>BMI</th>\n",
              "      <th>weight_kg</th>\n",
              "      <th>blood_pressure_sys</th>\n",
              "      <th>diastolic_bp</th>\n",
              "      <th>blood_cholesterol</th>\n",
              "      <th>calories</th>\n",
              "      <th>family_income</th>\n",
              "      <th>target_heart</th>\n",
              "    </tr>\n",
              "  </thead>\n",
              "  <tbody>\n",
              "    <tr>\n",
              "      <th>count</th>\n",
              "      <td>8000.000000</td>\n",
              "      <td>8000.000000</td>\n",
              "      <td>8000.000000</td>\n",
              "      <td>8000.000000</td>\n",
              "      <td>8000.000000</td>\n",
              "      <td>8000.000000</td>\n",
              "      <td>8000.000000</td>\n",
              "      <td>8000.000000</td>\n",
              "      <td>8000.000000</td>\n",
              "      <td>8000.000000</td>\n",
              "      <td>8000.000000</td>\n",
              "      <td>8000.000000</td>\n",
              "      <td>8000.000000</td>\n",
              "    </tr>\n",
              "    <tr>\n",
              "      <th>mean</th>\n",
              "      <td>1.498375</td>\n",
              "      <td>3.222000</td>\n",
              "      <td>1.649125</td>\n",
              "      <td>1.304375</td>\n",
              "      <td>62.627875</td>\n",
              "      <td>25.352687</td>\n",
              "      <td>61.112887</td>\n",
              "      <td>117.135500</td>\n",
              "      <td>65.705000</td>\n",
              "      <td>4.584376</td>\n",
              "      <td>1866.986875</td>\n",
              "      <td>2.456017</td>\n",
              "      <td>0.500000</td>\n",
              "    </tr>\n",
              "    <tr>\n",
              "      <th>std</th>\n",
              "      <td>0.500029</td>\n",
              "      <td>1.330672</td>\n",
              "      <td>0.477274</td>\n",
              "      <td>0.460171</td>\n",
              "      <td>12.225806</td>\n",
              "      <td>7.683466</td>\n",
              "      <td>32.803242</td>\n",
              "      <td>15.050115</td>\n",
              "      <td>11.610893</td>\n",
              "      <td>0.908403</td>\n",
              "      <td>867.494312</td>\n",
              "      <td>1.532800</td>\n",
              "      <td>0.500031</td>\n",
              "    </tr>\n",
              "    <tr>\n",
              "      <th>min</th>\n",
              "      <td>1.000000</td>\n",
              "      <td>1.000000</td>\n",
              "      <td>1.000000</td>\n",
              "      <td>1.000000</td>\n",
              "      <td>40.000000</td>\n",
              "      <td>12.900000</td>\n",
              "      <td>3.300000</td>\n",
              "      <td>82.000000</td>\n",
              "      <td>0.000000</td>\n",
              "      <td>2.020000</td>\n",
              "      <td>171.000000</td>\n",
              "      <td>0.000000</td>\n",
              "      <td>0.000000</td>\n",
              "    </tr>\n",
              "    <tr>\n",
              "      <th>25%</th>\n",
              "      <td>1.000000</td>\n",
              "      <td>3.000000</td>\n",
              "      <td>1.000000</td>\n",
              "      <td>1.000000</td>\n",
              "      <td>52.000000</td>\n",
              "      <td>19.700000</td>\n",
              "      <td>33.600000</td>\n",
              "      <td>108.000000</td>\n",
              "      <td>60.000000</td>\n",
              "      <td>4.090000</td>\n",
              "      <td>1337.750000</td>\n",
              "      <td>1.180000</td>\n",
              "      <td>0.000000</td>\n",
              "    </tr>\n",
              "    <tr>\n",
              "      <th>50%</th>\n",
              "      <td>1.000000</td>\n",
              "      <td>3.000000</td>\n",
              "      <td>2.000000</td>\n",
              "      <td>1.000000</td>\n",
              "      <td>63.000000</td>\n",
              "      <td>24.600000</td>\n",
              "      <td>63.700000</td>\n",
              "      <td>116.000000</td>\n",
              "      <td>66.000000</td>\n",
              "      <td>4.500000</td>\n",
              "      <td>1735.000000</td>\n",
              "      <td>2.050000</td>\n",
              "      <td>0.500000</td>\n",
              "    </tr>\n",
              "    <tr>\n",
              "      <th>75%</th>\n",
              "      <td>2.000000</td>\n",
              "      <td>4.000000</td>\n",
              "      <td>2.000000</td>\n",
              "      <td>2.000000</td>\n",
              "      <td>73.000000</td>\n",
              "      <td>29.500000</td>\n",
              "      <td>83.000000</td>\n",
              "      <td>122.000000</td>\n",
              "      <td>72.000000</td>\n",
              "      <td>4.970000</td>\n",
              "      <td>2215.250000</td>\n",
              "      <td>3.800000</td>\n",
              "      <td>1.000000</td>\n",
              "    </tr>\n",
              "    <tr>\n",
              "      <th>max</th>\n",
              "      <td>2.000000</td>\n",
              "      <td>7.000000</td>\n",
              "      <td>2.000000</td>\n",
              "      <td>2.000000</td>\n",
              "      <td>80.000000</td>\n",
              "      <td>82.900000</td>\n",
              "      <td>201.600000</td>\n",
              "      <td>220.000000</td>\n",
              "      <td>116.000000</td>\n",
              "      <td>11.970000</td>\n",
              "      <td>8496.000000</td>\n",
              "      <td>5.000000</td>\n",
              "      <td>1.000000</td>\n",
              "    </tr>\n",
              "  </tbody>\n",
              "</table>\n",
              "</div>\n",
              "    <div class=\"colab-df-buttons\">\n",
              "\n",
              "  <div class=\"colab-df-container\">\n",
              "    <button class=\"colab-df-convert\" onclick=\"convertToInteractive('df-ce5f738a-be78-43d6-8ba4-ed0536aea88f')\"\n",
              "            title=\"Convert this dataframe to an interactive table.\"\n",
              "            style=\"display:none;\">\n",
              "\n",
              "  <svg xmlns=\"http://www.w3.org/2000/svg\" height=\"24px\" viewBox=\"0 -960 960 960\">\n",
              "    <path d=\"M120-120v-720h720v720H120Zm60-500h600v-160H180v160Zm220 220h160v-160H400v160Zm0 220h160v-160H400v160ZM180-400h160v-160H180v160Zm440 0h160v-160H620v160ZM180-180h160v-160H180v160Zm440 0h160v-160H620v160Z\"/>\n",
              "  </svg>\n",
              "    </button>\n",
              "\n",
              "  <style>\n",
              "    .colab-df-container {\n",
              "      display:flex;\n",
              "      gap: 12px;\n",
              "    }\n",
              "\n",
              "    .colab-df-convert {\n",
              "      background-color: #E8F0FE;\n",
              "      border: none;\n",
              "      border-radius: 50%;\n",
              "      cursor: pointer;\n",
              "      display: none;\n",
              "      fill: #1967D2;\n",
              "      height: 32px;\n",
              "      padding: 0 0 0 0;\n",
              "      width: 32px;\n",
              "    }\n",
              "\n",
              "    .colab-df-convert:hover {\n",
              "      background-color: #E2EBFA;\n",
              "      box-shadow: 0px 1px 2px rgba(60, 64, 67, 0.3), 0px 1px 3px 1px rgba(60, 64, 67, 0.15);\n",
              "      fill: #174EA6;\n",
              "    }\n",
              "\n",
              "    .colab-df-buttons div {\n",
              "      margin-bottom: 4px;\n",
              "    }\n",
              "\n",
              "    [theme=dark] .colab-df-convert {\n",
              "      background-color: #3B4455;\n",
              "      fill: #D2E3FC;\n",
              "    }\n",
              "\n",
              "    [theme=dark] .colab-df-convert:hover {\n",
              "      background-color: #434B5C;\n",
              "      box-shadow: 0px 1px 3px 1px rgba(0, 0, 0, 0.15);\n",
              "      filter: drop-shadow(0px 1px 2px rgba(0, 0, 0, 0.3));\n",
              "      fill: #FFFFFF;\n",
              "    }\n",
              "  </style>\n",
              "\n",
              "    <script>\n",
              "      const buttonEl =\n",
              "        document.querySelector('#df-ce5f738a-be78-43d6-8ba4-ed0536aea88f button.colab-df-convert');\n",
              "      buttonEl.style.display =\n",
              "        google.colab.kernel.accessAllowed ? 'block' : 'none';\n",
              "\n",
              "      async function convertToInteractive(key) {\n",
              "        const element = document.querySelector('#df-ce5f738a-be78-43d6-8ba4-ed0536aea88f');\n",
              "        const dataTable =\n",
              "          await google.colab.kernel.invokeFunction('convertToInteractive',\n",
              "                                                    [key], {});\n",
              "        if (!dataTable) return;\n",
              "\n",
              "        const docLinkHtml = 'Like what you see? Visit the ' +\n",
              "          '<a target=\"_blank\" href=https://colab.research.google.com/notebooks/data_table.ipynb>data table notebook</a>'\n",
              "          + ' to learn more about interactive tables.';\n",
              "        element.innerHTML = '';\n",
              "        dataTable['output_type'] = 'display_data';\n",
              "        await google.colab.output.renderOutput(dataTable, element);\n",
              "        const docLink = document.createElement('div');\n",
              "        docLink.innerHTML = docLinkHtml;\n",
              "        element.appendChild(docLink);\n",
              "      }\n",
              "    </script>\n",
              "  </div>\n",
              "\n",
              "\n",
              "<div id=\"df-4cf7dd2b-3e34-4e2d-8824-edf31ced1c9e\">\n",
              "  <button class=\"colab-df-quickchart\" onclick=\"quickchart('df-4cf7dd2b-3e34-4e2d-8824-edf31ced1c9e')\"\n",
              "            title=\"Suggest charts\"\n",
              "            style=\"display:none;\">\n",
              "\n",
              "<svg xmlns=\"http://www.w3.org/2000/svg\" height=\"24px\"viewBox=\"0 0 24 24\"\n",
              "     width=\"24px\">\n",
              "    <g>\n",
              "        <path d=\"M19 3H5c-1.1 0-2 .9-2 2v14c0 1.1.9 2 2 2h14c1.1 0 2-.9 2-2V5c0-1.1-.9-2-2-2zM9 17H7v-7h2v7zm4 0h-2V7h2v10zm4 0h-2v-4h2v4z\"/>\n",
              "    </g>\n",
              "</svg>\n",
              "  </button>\n",
              "\n",
              "<style>\n",
              "  .colab-df-quickchart {\n",
              "      --bg-color: #E8F0FE;\n",
              "      --fill-color: #1967D2;\n",
              "      --hover-bg-color: #E2EBFA;\n",
              "      --hover-fill-color: #174EA6;\n",
              "      --disabled-fill-color: #AAA;\n",
              "      --disabled-bg-color: #DDD;\n",
              "  }\n",
              "\n",
              "  [theme=dark] .colab-df-quickchart {\n",
              "      --bg-color: #3B4455;\n",
              "      --fill-color: #D2E3FC;\n",
              "      --hover-bg-color: #434B5C;\n",
              "      --hover-fill-color: #FFFFFF;\n",
              "      --disabled-bg-color: #3B4455;\n",
              "      --disabled-fill-color: #666;\n",
              "  }\n",
              "\n",
              "  .colab-df-quickchart {\n",
              "    background-color: var(--bg-color);\n",
              "    border: none;\n",
              "    border-radius: 50%;\n",
              "    cursor: pointer;\n",
              "    display: none;\n",
              "    fill: var(--fill-color);\n",
              "    height: 32px;\n",
              "    padding: 0;\n",
              "    width: 32px;\n",
              "  }\n",
              "\n",
              "  .colab-df-quickchart:hover {\n",
              "    background-color: var(--hover-bg-color);\n",
              "    box-shadow: 0 1px 2px rgba(60, 64, 67, 0.3), 0 1px 3px 1px rgba(60, 64, 67, 0.15);\n",
              "    fill: var(--button-hover-fill-color);\n",
              "  }\n",
              "\n",
              "  .colab-df-quickchart-complete:disabled,\n",
              "  .colab-df-quickchart-complete:disabled:hover {\n",
              "    background-color: var(--disabled-bg-color);\n",
              "    fill: var(--disabled-fill-color);\n",
              "    box-shadow: none;\n",
              "  }\n",
              "\n",
              "  .colab-df-spinner {\n",
              "    border: 2px solid var(--fill-color);\n",
              "    border-color: transparent;\n",
              "    border-bottom-color: var(--fill-color);\n",
              "    animation:\n",
              "      spin 1s steps(1) infinite;\n",
              "  }\n",
              "\n",
              "  @keyframes spin {\n",
              "    0% {\n",
              "      border-color: transparent;\n",
              "      border-bottom-color: var(--fill-color);\n",
              "      border-left-color: var(--fill-color);\n",
              "    }\n",
              "    20% {\n",
              "      border-color: transparent;\n",
              "      border-left-color: var(--fill-color);\n",
              "      border-top-color: var(--fill-color);\n",
              "    }\n",
              "    30% {\n",
              "      border-color: transparent;\n",
              "      border-left-color: var(--fill-color);\n",
              "      border-top-color: var(--fill-color);\n",
              "      border-right-color: var(--fill-color);\n",
              "    }\n",
              "    40% {\n",
              "      border-color: transparent;\n",
              "      border-right-color: var(--fill-color);\n",
              "      border-top-color: var(--fill-color);\n",
              "    }\n",
              "    60% {\n",
              "      border-color: transparent;\n",
              "      border-right-color: var(--fill-color);\n",
              "    }\n",
              "    80% {\n",
              "      border-color: transparent;\n",
              "      border-right-color: var(--fill-color);\n",
              "      border-bottom-color: var(--fill-color);\n",
              "    }\n",
              "    90% {\n",
              "      border-color: transparent;\n",
              "      border-bottom-color: var(--fill-color);\n",
              "    }\n",
              "  }\n",
              "</style>\n",
              "\n",
              "  <script>\n",
              "    async function quickchart(key) {\n",
              "      const quickchartButtonEl =\n",
              "        document.querySelector('#' + key + ' button');\n",
              "      quickchartButtonEl.disabled = true;  // To prevent multiple clicks.\n",
              "      quickchartButtonEl.classList.add('colab-df-spinner');\n",
              "      try {\n",
              "        const charts = await google.colab.kernel.invokeFunction(\n",
              "            'suggestCharts', [key], {});\n",
              "      } catch (error) {\n",
              "        console.error('Error during call to suggestCharts:', error);\n",
              "      }\n",
              "      quickchartButtonEl.classList.remove('colab-df-spinner');\n",
              "      quickchartButtonEl.classList.add('colab-df-quickchart-complete');\n",
              "    }\n",
              "    (() => {\n",
              "      let quickchartButtonEl =\n",
              "        document.querySelector('#df-4cf7dd2b-3e34-4e2d-8824-edf31ced1c9e button');\n",
              "      quickchartButtonEl.style.display =\n",
              "        google.colab.kernel.accessAllowed ? 'block' : 'none';\n",
              "    })();\n",
              "  </script>\n",
              "</div>\n",
              "\n",
              "    </div>\n",
              "  </div>\n"
            ]
          },
          "metadata": {},
          "execution_count": 41
        }
      ],
      "source": [
        "data.describe()"
      ]
    },
    {
      "cell_type": "markdown",
      "id": "collect-moore",
      "metadata": {
        "id": "collect-moore"
      },
      "source": [
        "We can also visualize the spread of numerical features using *box plots*. A box plot visually summarizes much of the information that is produced by a call to data.describe(). The orange line in the middle of each box represents the median (or 50th percentile) of the data.  Each box spans a range from the 25th to 75th percentile of the attribute in question. Outliers are plotted as points outside of the box.\n",
        "\n",
        "If, after you review some box plots, you are not comfortable with how box plots work, [Khan Academy has a good series of videos that explain how to read and interpret them.](https://www.khanacademy.org/math/statistics-probability/summarizing-quantitative-data/box-whisker-plots/v/reading-box-and-whisker-plots)"
      ]
    },
    {
      "cell_type": "code",
      "execution_count": 42,
      "id": "historical-huntington",
      "metadata": {
        "colab": {
          "base_uri": "https://localhost:8080/",
          "height": 595
        },
        "id": "historical-huntington",
        "outputId": "49d0c716-5cf3-40c3-f2ba-472b8f45c0a7"
      },
      "outputs": [
        {
          "output_type": "execute_result",
          "data": {
            "text/plain": [
              "{'whiskers': [<matplotlib.lines.Line2D at 0x7dffb6b4fc70>,\n",
              "  <matplotlib.lines.Line2D at 0x7dffb6b4ff10>],\n",
              " 'caps': [<matplotlib.lines.Line2D at 0x7dffb699c1f0>,\n",
              "  <matplotlib.lines.Line2D at 0x7dffb699c490>],\n",
              " 'boxes': [<matplotlib.lines.Line2D at 0x7dffb6b4f9d0>],\n",
              " 'medians': [<matplotlib.lines.Line2D at 0x7dffb699c730>],\n",
              " 'fliers': [<matplotlib.lines.Line2D at 0x7dffb699c9d0>],\n",
              " 'means': []}"
            ]
          },
          "metadata": {},
          "execution_count": 42
        },
        {
          "output_type": "display_data",
          "data": {
            "text/plain": [
              "<Figure size 640x480 with 1 Axes>"
            ],
            "image/png": "[encoded data removed]"
          },
          "metadata": {}
        }
      ],
      "source": [
        "plt.title(\"Box Plot Showing the Distribution of 'weight_kg'\")\n",
        "plt.boxplot(data[\"weight_kg\"])"
      ]
    },
    {
      "cell_type": "code",
      "execution_count": 43,
      "id": "verbal-digit",
      "metadata": {
        "colab": {
          "base_uri": "https://localhost:8080/",
          "height": 595
        },
        "id": "verbal-digit",
        "outputId": "8f90d58c-e878-43b7-a138-cd4f36c24cba"
      },
      "outputs": [
        {
          "output_type": "execute_result",
          "data": {
            "text/plain": [
              "{'whiskers': [<matplotlib.lines.Line2D at 0x7dffb6a18a00>,\n",
              "  <matplotlib.lines.Line2D at 0x7dffb6a18ca0>],\n",
              " 'caps': [<matplotlib.lines.Line2D at 0x7dffb6a18f40>,\n",
              "  <matplotlib.lines.Line2D at 0x7dffb6a191e0>],\n",
              " 'boxes': [<matplotlib.lines.Line2D at 0x7dffb6a18760>],\n",
              " 'medians': [<matplotlib.lines.Line2D at 0x7dffb6a19480>],\n",
              " 'fliers': [<matplotlib.lines.Line2D at 0x7dffb6a19720>],\n",
              " 'means': []}"
            ]
          },
          "metadata": {},
          "execution_count": 43
        },
        {
          "output_type": "display_data",
          "data": {
            "text/plain": [
              "<Figure size 640x480 with 1 Axes>"
            ],
            "image/png": "[encoded data removed]"
          },
          "metadata": {}
        }
      ],
      "source": [
        "plt.title(\"Box Plot Showing the Distribution of 'age'\")\n",
        "plt.boxplot(data[\"age\"])"
      ]
    },
    {
      "cell_type": "markdown",
      "id": "seven-birthday",
      "metadata": {
        "id": "seven-birthday"
      },
      "source": [
        "In the first box plot, we see that half of the people in the data set are under 64 kg,\n",
        "just as shown in the table generated by `data.describe()`. We see also that there are some outliers who weigh more than the general population of people in our data set.\n",
        "\n",
        "\n",
        "**Task:** Plot box plots for the remaining numerical features."
      ]
    },
    {
      "cell_type": "code",
      "execution_count": 44,
      "id": "brief-globe",
      "metadata": {
        "colab": {
          "base_uri": "https://localhost:8080/",
          "height": 595
        },
        "id": "brief-globe",
        "outputId": "4ff877a8-bf6a-45f4-c028-15792c6573ec"
      },
      "outputs": [
        {
          "output_type": "execute_result",
          "data": {
            "text/plain": [
              "{'whiskers': [<matplotlib.lines.Line2D at 0x7dffb6a85210>,\n",
              "  <matplotlib.lines.Line2D at 0x7dffb6a854b0>],\n",
              " 'caps': [<matplotlib.lines.Line2D at 0x7dffb6a856c0>,\n",
              "  <matplotlib.lines.Line2D at 0x7dffb6a85960>],\n",
              " 'boxes': [<matplotlib.lines.Line2D at 0x7dffb6a84f70>],\n",
              " 'medians': [<matplotlib.lines.Line2D at 0x7dffb6a85c00>],\n",
              " 'fliers': [<matplotlib.lines.Line2D at 0x7dffb6a85ea0>],\n",
              " 'means': []}"
            ]
          },
          "metadata": {},
          "execution_count": 44
        },
        {
          "output_type": "display_data",
          "data": {
            "text/plain": [
              "<Figure size 640x480 with 1 Axes>"
            ],
            "image/png": "[encoded data removed]"
          },
          "metadata": {}
        }
      ],
      "source": [
        "plt.title(\"Box Plot Showing the Distribution of 'BMI'\")\n",
        "plt.boxplot(data[\"BMI\"])"
      ]
    },
    {
      "cell_type": "code",
      "source": [
        "plt.title(\"Box Plot Showing the Distribution of 'blood_pressure_sys'\")\n",
        "plt.boxplot(data[\"blood_pressure_sys\"])"
      ],
      "metadata": {
        "colab": {
          "base_uri": "https://localhost:8080/",
          "height": 595
        },
        "id": "CtNj1qeAtdYI",
        "outputId": "7b9ec91d-ec4a-48d4-822c-a795a7828dc8"
      },
      "id": "CtNj1qeAtdYI",
      "execution_count": 45,
      "outputs": [
        {
          "output_type": "execute_result",
          "data": {
            "text/plain": [
              "{'whiskers': [<matplotlib.lines.Line2D at 0x7dffb6901840>,\n",
              "  <matplotlib.lines.Line2D at 0x7dffb6901ae0>],\n",
              " 'caps': [<matplotlib.lines.Line2D at 0x7dffb6901d80>,\n",
              "  <matplotlib.lines.Line2D at 0x7dffb6902020>],\n",
              " 'boxes': [<matplotlib.lines.Line2D at 0x7dffb69015a0>],\n",
              " 'medians': [<matplotlib.lines.Line2D at 0x7dffb69022c0>],\n",
              " 'fliers': [<matplotlib.lines.Line2D at 0x7dffb6902560>],\n",
              " 'means': []}"
            ]
          },
          "metadata": {},
          "execution_count": 45
        },
        {
          "output_type": "display_data",
          "data": {
            "text/plain": [
              "<Figure size 640x480 with 1 Axes>"
            ],
            "image/png": "[encoded data removed]"
          },
          "metadata": {}
        }
      ]
    },
    {
      "cell_type": "code",
      "source": [
        "plt.title(\"Box Plot Showing the Distribution of 'diastolic_bp'\")\n",
        "plt.boxplot(data[\"diastolic_bp\"])"
      ],
      "metadata": {
        "colab": {
          "base_uri": "https://localhost:8080/",
          "height": 595
        },
        "id": "iK29Fvcktd96",
        "outputId": "78fb686b-2ea4-4ef2-aabe-06728c9ff5cc"
      },
      "id": "iK29Fvcktd96",
      "execution_count": 46,
      "outputs": [
        {
          "output_type": "execute_result",
          "data": {
            "text/plain": [
              "{'whiskers': [<matplotlib.lines.Line2D at 0x7dffb6975510>,\n",
              "  <matplotlib.lines.Line2D at 0x7dffb69757b0>],\n",
              " 'caps': [<matplotlib.lines.Line2D at 0x7dffb6975a50>,\n",
              "  <matplotlib.lines.Line2D at 0x7dffb6975cf0>],\n",
              " 'boxes': [<matplotlib.lines.Line2D at 0x7dffb6975270>],\n",
              " 'medians': [<matplotlib.lines.Line2D at 0x7dffb6975f90>],\n",
              " 'fliers': [<matplotlib.lines.Line2D at 0x7dffb6976230>],\n",
              " 'means': []}"
            ]
          },
          "metadata": {},
          "execution_count": 46
        },
        {
          "output_type": "display_data",
          "data": {
            "text/plain": [
              "<Figure size 640x480 with 1 Axes>"
            ],
            "image/png": "[encoded data removed]"
          },
          "metadata": {}
        }
      ]
    },
    {
      "cell_type": "code",
      "source": [
        "plt.title(\"Box Plot Showing the Distribution of 'blood_cholesterol'\")\n",
        "plt.boxplot(data[\"blood_cholesterol\"])"
      ],
      "metadata": {
        "colab": {
          "base_uri": "https://localhost:8080/",
          "height": 595
        },
        "id": "aPMRmO_xtdtL",
        "outputId": "4ad5022a-f1e3-4c81-a68c-5f69f08d854c"
      },
      "id": "aPMRmO_xtdtL",
      "execution_count": 47,
      "outputs": [
        {
          "output_type": "execute_result",
          "data": {
            "text/plain": [
              "{'whiskers': [<matplotlib.lines.Line2D at 0x7dffb67f4f10>,\n",
              "  <matplotlib.lines.Line2D at 0x7dffb67f5060>],\n",
              " 'caps': [<matplotlib.lines.Line2D at 0x7dffb67f5330>,\n",
              "  <matplotlib.lines.Line2D at 0x7dffb67f55d0>],\n",
              " 'boxes': [<matplotlib.lines.Line2D at 0x7dffb67f4c70>],\n",
              " 'medians': [<matplotlib.lines.Line2D at 0x7dffb67f5870>],\n",
              " 'fliers': [<matplotlib.lines.Line2D at 0x7dffb67f5b10>],\n",
              " 'means': []}"
            ]
          },
          "metadata": {},
          "execution_count": 47
        },
        {
          "output_type": "display_data",
          "data": {
            "text/plain": [
              "<Figure size 640x480 with 1 Axes>"
            ],
            "image/png": "[encoded data removed]"
          },
          "metadata": {}
        }
      ]
    },
    {
      "cell_type": "code",
      "source": [
        "plt.title(\"Box Plot Showing the Distribution of 'calories'\")\n",
        "plt.boxplot(data[\"calories\"])"
      ],
      "metadata": {
        "colab": {
          "base_uri": "https://localhost:8080/",
          "height": 595
        },
        "id": "Kz-3pqo2uRYq",
        "outputId": "6ad02e9a-8aac-4a03-c2a6-681f34095806"
      },
      "id": "Kz-3pqo2uRYq",
      "execution_count": 48,
      "outputs": [
        {
          "output_type": "execute_result",
          "data": {
            "text/plain": [
              "{'whiskers': [<matplotlib.lines.Line2D at 0x7dffb6843820>,\n",
              "  <matplotlib.lines.Line2D at 0x7dffb6843ac0>],\n",
              " 'caps': [<matplotlib.lines.Line2D at 0x7dffb6843d60>,\n",
              "  <matplotlib.lines.Line2D at 0x7dffb687c040>],\n",
              " 'boxes': [<matplotlib.lines.Line2D at 0x7dffb6843580>],\n",
              " 'medians': [<matplotlib.lines.Line2D at 0x7dffb687c2e0>],\n",
              " 'fliers': [<matplotlib.lines.Line2D at 0x7dffb687c580>],\n",
              " 'means': []}"
            ]
          },
          "metadata": {},
          "execution_count": 48
        },
        {
          "output_type": "display_data",
          "data": {
            "text/plain": [
              "<Figure size 640x480 with 1 Axes>"
            ],
            "image/png": "[encoded data removed]"
          },
          "metadata": {}
        }
      ]
    },
    {
      "cell_type": "code",
      "source": [
        "plt.title(\"Box Plot Showing the Distribution of 'family_income'\")\n",
        "plt.boxplot(data[\"family_income\"])"
      ],
      "metadata": {
        "colab": {
          "base_uri": "https://localhost:8080/",
          "height": 595
        },
        "id": "_8NcHEKtudjV",
        "outputId": "61a90c99-dc04-4e3d-96f6-c3e28427ac74"
      },
      "id": "_8NcHEKtudjV",
      "execution_count": 49,
      "outputs": [
        {
          "output_type": "execute_result",
          "data": {
            "text/plain": [
              "{'whiskers': [<matplotlib.lines.Line2D at 0x7dffb66c1ea0>,\n",
              "  <matplotlib.lines.Line2D at 0x7dffb66c2140>],\n",
              " 'caps': [<matplotlib.lines.Line2D at 0x7dffb66c23e0>,\n",
              "  <matplotlib.lines.Line2D at 0x7dffb66c2680>],\n",
              " 'boxes': [<matplotlib.lines.Line2D at 0x7dffb66c1c00>],\n",
              " 'medians': [<matplotlib.lines.Line2D at 0x7dffb66c2920>],\n",
              " 'fliers': [<matplotlib.lines.Line2D at 0x7dffb66c2bc0>],\n",
              " 'means': []}"
            ]
          },
          "metadata": {},
          "execution_count": 49
        },
        {
          "output_type": "display_data",
          "data": {
            "text/plain": [
              "<Figure size 640x480 with 1 Axes>"
            ],
            "image/png": "[encoded data removed]"
          },
          "metadata": {}
        }
      ]
    },
    {
      "cell_type": "markdown",
      "id": "boxed-blair",
      "metadata": {
        "id": "boxed-blair"
      },
      "source": [
        "For the categorical features, we can also tabulate the frequency that each category\n",
        "occurs in the data set:"
      ]
    },
    {
      "cell_type": "code",
      "execution_count": 50,
      "id": "honey-minneapolis",
      "metadata": {
        "colab": {
          "base_uri": "https://localhost:8080/"
        },
        "id": "honey-minneapolis",
        "outputId": "a35f18f2-b223-468c-f59e-a8c2b6d1f518"
      },
      "outputs": [
        {
          "output_type": "execute_result",
          "data": {
            "text/plain": [
              "1    4013\n",
              "2    3987\n",
              "Name: gender, dtype: int64"
            ]
          },
          "metadata": {},
          "execution_count": 50
        }
      ],
      "source": [
        "data['gender'].value_counts()"
      ]
    },
    {
      "cell_type": "code",
      "execution_count": 51,
      "id": "powerful-occasion",
      "metadata": {
        "colab": {
          "base_uri": "https://localhost:8080/"
        },
        "id": "powerful-occasion",
        "outputId": "63bd7a21-44fe-4d08-d334-5f9b81fab19e"
      },
      "outputs": [
        {
          "output_type": "execute_result",
          "data": {
            "text/plain": [
              "1.0    5565\n",
              "2.0    2435\n",
              "Name: drink_alcohol, dtype: int64"
            ]
          },
          "metadata": {},
          "execution_count": 51
        }
      ],
      "source": [
        "data['drink_alcohol'].value_counts()"
      ]
    },
    {
      "cell_type": "code",
      "execution_count": 52,
      "id": "herbal-printing",
      "metadata": {
        "colab": {
          "base_uri": "https://localhost:8080/"
        },
        "id": "herbal-printing",
        "outputId": "b9f4b056-c4e6-4401-c879-0c68450767ff"
      },
      "outputs": [
        {
          "output_type": "execute_result",
          "data": {
            "text/plain": [
              "2.0    5193\n",
              "1.0    2807\n",
              "Name: chest_pain_ever, dtype: int64"
            ]
          },
          "metadata": {},
          "execution_count": 52
        }
      ],
      "source": [
        "data['chest_pain_ever'].value_counts()"
      ]
    },
    {
      "cell_type": "markdown",
      "id": "bound-rebate",
      "metadata": {
        "id": "bound-rebate"
      },
      "source": [
        "We see there are roughly equal numbers of men and women in the dataset and the majority report they drink alcohol.  About 1 in 4 report that they have experienced chest pain at some point in their lives.\n",
        "\n",
        "Finally, let's take a look at the distribution of our target variable."
      ]
    },
    {
      "cell_type": "code",
      "execution_count": 53,
      "id": "immediate-found",
      "metadata": {
        "colab": {
          "base_uri": "https://localhost:8080/"
        },
        "id": "immediate-found",
        "outputId": "7b59da84-0782-4be4-8a09-68db828dba83"
      },
      "outputs": [
        {
          "output_type": "execute_result",
          "data": {
            "text/plain": [
              "0.0    4000\n",
              "1.0    4000\n",
              "Name: target_heart, dtype: int64"
            ]
          },
          "metadata": {},
          "execution_count": 53
        }
      ],
      "source": [
        "data['target_heart'].value_counts()"
      ]
    },
    {
      "cell_type": "markdown",
      "id": "arabic-venice",
      "metadata": {
        "id": "arabic-venice"
      },
      "source": [
        "Note there are an equal number of cases that are labelled as having heart disease as not having heart disease.  This is both curious and convenient but it is absolutely **NOT** representative of the distribution of heart disease in the general population.  In the general population of Canada, about 1 in 12 (or 8%) have heart disease.  This is roughly the same as the distribution of reported heart disease across all NHANES survey respondents.  So why doesn't the data we are analyzing here reflect this distribution?  This is because we have sampled the NHANES survey data so as to **balance** the cases of heart disease against the cases without.\n",
        "\n",
        "**Task** Why did we create a dataset with a roughly equal number of data points that have `target_heart=1` and `target_heart=0`? In particular, what do you think might happen to our decision tree if we allowed 92% our training data to reflect the true prevalence of heart disease? <!-- ... and to therefore consist of data points with `target_heart=0`? -->"
      ]
    },
    {
      "cell_type": "code",
      "execution_count": null,
      "id": "exposed-conducting",
      "metadata": {
        "id": "exposed-conducting"
      },
      "outputs": [],
      "source": [
        "# then it is not representative. It will be hard to learn from the data and maybe the model will be underfitting."
      ]
    },
    {
      "cell_type": "markdown",
      "id": "pediatric-interview",
      "metadata": {
        "id": "pediatric-interview"
      },
      "source": [
        "**Task**: Let's continue exploring our data by plotting separate box plots for people with heart disease and people without heart disease. These box plots for (for `blood_cholesterol`, `age`, `calories` and `BMI`) should give you a sense of whether people with heart disease are\n",
        "different from those without heart disease, according to each of these characteristics. You should see that those with heart disease are, on average, older."
      ]
    },
    {
      "cell_type": "code",
      "execution_count": 54,
      "id": "altered-skill",
      "metadata": {
        "colab": {
          "base_uri": "https://localhost:8080/",
          "height": 1000
        },
        "id": "altered-skill",
        "outputId": "72c3a86e-e292-4256-e2e7-76cdf4d97b1d"
      },
      "outputs": [
        {
          "output_type": "execute_result",
          "data": {
            "text/plain": [
              "<Axes: title={'center': 'BMI'}, xlabel='target_heart'>"
            ]
          },
          "metadata": {},
          "execution_count": 54
        },
        {
          "output_type": "display_data",
          "data": {
            "text/plain": [
              "<Figure size 640x480 with 1 Axes>"
            ],
            "image/png": "[encoded data removed]"
          },
          "metadata": {}
        },
        {
          "output_type": "display_data",
          "data": {
            "text/plain": [
              "<Figure size 640x480 with 1 Axes>"
            ],
            "image/png": "[encoded data removed]"
          },
          "metadata": {}
        },
        {
          "output_type": "display_data",
          "data": {
            "text/plain": [
              "<Figure size 640x480 with 1 Axes>"
            ],
            "image/png": "[encoded data removed]"
          },
          "metadata": {}
        },
        {
          "output_type": "display_data",
          "data": {
            "text/plain": [
              "<Figure size 640x480 with 1 Axes>"
            ],
            "image/png": "[encoded data removed]"
          },
          "metadata": {}
        }
      ],
      "source": [
        "# analyze the distribution of blood_cholesterol for people with and without heart disease\n",
        "data.boxplot(column='blood_cholesterol', by='target_heart')\n",
        "\n",
        "# analyze the distribution of age for people with and without heart disease\n",
        "data.boxplot(column='age', by='target_heart')\n",
        "\n",
        "# analyze the distribution of calories for people with and without heart disease\n",
        "data.boxplot(column='calories', by='target_heart')\n",
        "\n",
        "# analyze the distribution of BMI for people with and without heart disease\n",
        "data.boxplot(column='BMI', by='target_heart')"
      ]
    },
    {
      "cell_type": "markdown",
      "id": "advanced-jumping",
      "metadata": {
        "id": "advanced-jumping"
      },
      "source": [
        "**Task**: We will do the same type of exploration for the categorical\n",
        "variables. Read the documentation for\n",
        "[pandas.crosstab](https://pandas.pydata.org/docs/reference/api/pandas.crosstab.html)\n",
        "so that you can explain the results of the following calls:"
      ]
    },
    {
      "cell_type": "code",
      "execution_count": 55,
      "id": "going-fantasy",
      "metadata": {
        "colab": {
          "base_uri": "https://localhost:8080/",
          "height": 143
        },
        "id": "going-fantasy",
        "outputId": "7044ae08-cf59-4360-8650-75569b904ccd"
      },
      "outputs": [
        {
          "output_type": "execute_result",
          "data": {
            "text/plain": [
              "gender           1     2\n",
              "target_heart            \n",
              "0.0           1819  2181\n",
              "1.0           2194  1806"
            ],
            "text/html": [
              "\n",
              "  <div id=\"df-259a556e-a778-4f1e-92f6-fbed30808559\" class=\"colab-df-container\">\n",
              "    <div>\n",
              "<style scoped>\n",
              "    .dataframe tbody tr th:only-of-type {\n",
              "        vertical-align: middle;\n",
              "    }\n",
              "\n",
              "    .dataframe tbody tr th {\n",
              "        vertical-align: top;\n",
              "    }\n",
              "\n",
              "    .dataframe thead th {\n",
              "        text-align: right;\n",
              "    }\n",
              "</style>\n",
              "<table border=\"1\" class=\"dataframe\">\n",
              "  <thead>\n",
              "    <tr style=\"text-align: right;\">\n",
              "      <th>gender</th>\n",
              "      <th>1</th>\n",
              "      <th>2</th>\n",
              "    </tr>\n",
              "    <tr>\n",
              "      <th>target_heart</th>\n",
              "      <th></th>\n",
              "      <th></th>\n",
              "    </tr>\n",
              "  </thead>\n",
              "  <tbody>\n",
              "    <tr>\n",
              "      <th>0.0</th>\n",
              "      <td>1819</td>\n",
              "      <td>2181</td>\n",
              "    </tr>\n",
              "    <tr>\n",
              "      <th>1.0</th>\n",
              "      <td>2194</td>\n",
              "      <td>1806</td>\n",
              "    </tr>\n",
              "  </tbody>\n",
              "</table>\n",
              "</div>\n",
              "    <div class=\"colab-df-buttons\">\n",
              "\n",
              "  <div class=\"colab-df-container\">\n",
              "    <button class=\"colab-df-convert\" onclick=\"convertToInteractive('df-259a556e-a778-4f1e-92f6-fbed30808559')\"\n",
              "            title=\"Convert this dataframe to an interactive table.\"\n",
              "            style=\"display:none;\">\n",
              "\n",
              "  <svg xmlns=\"http://www.w3.org/2000/svg\" height=\"24px\" viewBox=\"0 -960 960 960\">\n",
              "    <path d=\"M120-120v-720h720v720H120Zm60-500h600v-160H180v160Zm220 220h160v-160H400v160Zm0 220h160v-160H400v160ZM180-400h160v-160H180v160Zm440 0h160v-160H620v160ZM180-180h160v-160H180v160Zm440 0h160v-160H620v160Z\"/>\n",
              "  </svg>\n",
              "    </button>\n",
              "\n",
              "  <style>\n",
              "    .colab-df-container {\n",
              "      display:flex;\n",
              "      gap: 12px;\n",
              "    }\n",
              "\n",
              "    .colab-df-convert {\n",
              "      background-color: #E8F0FE;\n",
              "      border: none;\n",
              "      border-radius: 50%;\n",
              "      cursor: pointer;\n",
              "      display: none;\n",
              "      fill: #1967D2;\n",
              "      height: 32px;\n",
              "      padding: 0 0 0 0;\n",
              "      width: 32px;\n",
              "    }\n",
              "\n",
              "    .colab-df-convert:hover {\n",
              "      background-color: #E2EBFA;\n",
              "      box-shadow: 0px 1px 2px rgba(60, 64, 67, 0.3), 0px 1px 3px 1px rgba(60, 64, 67, 0.15);\n",
              "      fill: #174EA6;\n",
              "    }\n",
              "\n",
              "    .colab-df-buttons div {\n",
              "      margin-bottom: 4px;\n",
              "    }\n",
              "\n",
              "    [theme=dark] .colab-df-convert {\n",
              "      background-color: #3B4455;\n",
              "      fill: #D2E3FC;\n",
              "    }\n",
              "\n",
              "    [theme=dark] .colab-df-convert:hover {\n",
              "      background-color: #434B5C;\n",
              "      box-shadow: 0px 1px 3px 1px rgba(0, 0, 0, 0.15);\n",
              "      filter: drop-shadow(0px 1px 2px rgba(0, 0, 0, 0.3));\n",
              "      fill: #FFFFFF;\n",
              "    }\n",
              "  </style>\n",
              "\n",
              "    <script>\n",
              "      const buttonEl =\n",
              "        document.querySelector('#df-259a556e-a778-4f1e-92f6-fbed30808559 button.colab-df-convert');\n",
              "      buttonEl.style.display =\n",
              "        google.colab.kernel.accessAllowed ? 'block' : 'none';\n",
              "\n",
              "      async function convertToInteractive(key) {\n",
              "        const element = document.querySelector('#df-259a556e-a778-4f1e-92f6-fbed30808559');\n",
              "        const dataTable =\n",
              "          await google.colab.kernel.invokeFunction('convertToInteractive',\n",
              "                                                    [key], {});\n",
              "        if (!dataTable) return;\n",
              "\n",
              "        const docLinkHtml = 'Like what you see? Visit the ' +\n",
              "          '<a target=\"_blank\" href=https://colab.research.google.com/notebooks/data_table.ipynb>data table notebook</a>'\n",
              "          + ' to learn more about interactive tables.';\n",
              "        element.innerHTML = '';\n",
              "        dataTable['output_type'] = 'display_data';\n",
              "        await google.colab.output.renderOutput(dataTable, element);\n",
              "        const docLink = document.createElement('div');\n",
              "        docLink.innerHTML = docLinkHtml;\n",
              "        element.appendChild(docLink);\n",
              "      }\n",
              "    </script>\n",
              "  </div>\n",
              "\n",
              "\n",
              "<div id=\"df-d9136968-c6ae-4524-9b78-d7c992e9a28e\">\n",
              "  <button class=\"colab-df-quickchart\" onclick=\"quickchart('df-d9136968-c6ae-4524-9b78-d7c992e9a28e')\"\n",
              "            title=\"Suggest charts\"\n",
              "            style=\"display:none;\">\n",
              "\n",
              "<svg xmlns=\"http://www.w3.org/2000/svg\" height=\"24px\"viewBox=\"0 0 24 24\"\n",
              "     width=\"24px\">\n",
              "    <g>\n",
              "        <path d=\"M19 3H5c-1.1 0-2 .9-2 2v14c0 1.1.9 2 2 2h14c1.1 0 2-.9 2-2V5c0-1.1-.9-2-2-2zM9 17H7v-7h2v7zm4 0h-2V7h2v10zm4 0h-2v-4h2v4z\"/>\n",
              "    </g>\n",
              "</svg>\n",
              "  </button>\n",
              "\n",
              "<style>\n",
              "  .colab-df-quickchart {\n",
              "      --bg-color: #E8F0FE;\n",
              "      --fill-color: #1967D2;\n",
              "      --hover-bg-color: #E2EBFA;\n",
              "      --hover-fill-color: #174EA6;\n",
              "      --disabled-fill-color: #AAA;\n",
              "      --disabled-bg-color: #DDD;\n",
              "  }\n",
              "\n",
              "  [theme=dark] .colab-df-quickchart {\n",
              "      --bg-color: #3B4455;\n",
              "      --fill-color: #D2E3FC;\n",
              "      --hover-bg-color: #434B5C;\n",
              "      --hover-fill-color: #FFFFFF;\n",
              "      --disabled-bg-color: #3B4455;\n",
              "      --disabled-fill-color: #666;\n",
              "  }\n",
              "\n",
              "  .colab-df-quickchart {\n",
              "    background-color: var(--bg-color);\n",
              "    border: none;\n",
              "    border-radius: 50%;\n",
              "    cursor: pointer;\n",
              "    display: none;\n",
              "    fill: var(--fill-color);\n",
              "    height: 32px;\n",
              "    padding: 0;\n",
              "    width: 32px;\n",
              "  }\n",
              "\n",
              "  .colab-df-quickchart:hover {\n",
              "    background-color: var(--hover-bg-color);\n",
              "    box-shadow: 0 1px 2px rgba(60, 64, 67, 0.3), 0 1px 3px 1px rgba(60, 64, 67, 0.15);\n",
              "    fill: var(--button-hover-fill-color);\n",
              "  }\n",
              "\n",
              "  .colab-df-quickchart-complete:disabled,\n",
              "  .colab-df-quickchart-complete:disabled:hover {\n",
              "    background-color: var(--disabled-bg-color);\n",
              "    fill: var(--disabled-fill-color);\n",
              "    box-shadow: none;\n",
              "  }\n",
              "\n",
              "  .colab-df-spinner {\n",
              "    border: 2px solid var(--fill-color);\n",
              "    border-color: transparent;\n",
              "    border-bottom-color: var(--fill-color);\n",
              "    animation:\n",
              "      spin 1s steps(1) infinite;\n",
              "  }\n",
              "\n",
              "  @keyframes spin {\n",
              "    0% {\n",
              "      border-color: transparent;\n",
              "      border-bottom-color: var(--fill-color);\n",
              "      border-left-color: var(--fill-color);\n",
              "    }\n",
              "    20% {\n",
              "      border-color: transparent;\n",
              "      border-left-color: var(--fill-color);\n",
              "      border-top-color: var(--fill-color);\n",
              "    }\n",
              "    30% {\n",
              "      border-color: transparent;\n",
              "      border-left-color: var(--fill-color);\n",
              "      border-top-color: var(--fill-color);\n",
              "      border-right-color: var(--fill-color);\n",
              "    }\n",
              "    40% {\n",
              "      border-color: transparent;\n",
              "      border-right-color: var(--fill-color);\n",
              "      border-top-color: var(--fill-color);\n",
              "    }\n",
              "    60% {\n",
              "      border-color: transparent;\n",
              "      border-right-color: var(--fill-color);\n",
              "    }\n",
              "    80% {\n",
              "      border-color: transparent;\n",
              "      border-right-color: var(--fill-color);\n",
              "      border-bottom-color: var(--fill-color);\n",
              "    }\n",
              "    90% {\n",
              "      border-color: transparent;\n",
              "      border-bottom-color: var(--fill-color);\n",
              "    }\n",
              "  }\n",
              "</style>\n",
              "\n",
              "  <script>\n",
              "    async function quickchart(key) {\n",
              "      const quickchartButtonEl =\n",
              "        document.querySelector('#' + key + ' button');\n",
              "      quickchartButtonEl.disabled = true;  // To prevent multiple clicks.\n",
              "      quickchartButtonEl.classList.add('colab-df-spinner');\n",
              "      try {\n",
              "        const charts = await google.colab.kernel.invokeFunction(\n",
              "            'suggestCharts', [key], {});\n",
              "      } catch (error) {\n",
              "        console.error('Error during call to suggestCharts:', error);\n",
              "      }\n",
              "      quickchartButtonEl.classList.remove('colab-df-spinner');\n",
              "      quickchartButtonEl.classList.add('colab-df-quickchart-complete');\n",
              "    }\n",
              "    (() => {\n",
              "      let quickchartButtonEl =\n",
              "        document.querySelector('#df-d9136968-c6ae-4524-9b78-d7c992e9a28e button');\n",
              "      quickchartButtonEl.style.display =\n",
              "        google.colab.kernel.accessAllowed ? 'block' : 'none';\n",
              "    })();\n",
              "  </script>\n",
              "</div>\n",
              "\n",
              "    </div>\n",
              "  </div>\n"
            ]
          },
          "metadata": {},
          "execution_count": 55
        }
      ],
      "source": [
        "pd.crosstab(data[\"target_heart\"], data[\"gender\"])"
      ]
    },
    {
      "cell_type": "code",
      "execution_count": 56,
      "id": "featured-preservation",
      "metadata": {
        "colab": {
          "base_uri": "https://localhost:8080/",
          "height": 143
        },
        "id": "featured-preservation",
        "outputId": "83c89679-c203-443e-c566-ff4a84494742"
      },
      "outputs": [
        {
          "output_type": "execute_result",
          "data": {
            "text/plain": [
              "drink_alcohol   1.0   2.0\n",
              "target_heart             \n",
              "0.0            2824  1176\n",
              "1.0            2741  1259"
            ],
            "text/html": [
              "\n",
              "  <div id=\"df-d6e95ea4-abfc-4f48-87ea-d7acceabbe14\" class=\"colab-df-container\">\n",
              "    <div>\n",
              "<style scoped>\n",
              "    .dataframe tbody tr th:only-of-type {\n",
              "        vertical-align: middle;\n",
              "    }\n",
              "\n",
              "    .dataframe tbody tr th {\n",
              "        vertical-align: top;\n",
              "    }\n",
              "\n",
              "    .dataframe thead th {\n",
              "        text-align: right;\n",
              "    }\n",
              "</style>\n",
              "<table border=\"1\" class=\"dataframe\">\n",
              "  <thead>\n",
              "    <tr style=\"text-align: right;\">\n",
              "      <th>drink_alcohol</th>\n",
              "      <th>1.0</th>\n",
              "      <th>2.0</th>\n",
              "    </tr>\n",
              "    <tr>\n",
              "      <th>target_heart</th>\n",
              "      <th></th>\n",
              "      <th></th>\n",
              "    </tr>\n",
              "  </thead>\n",
              "  <tbody>\n",
              "    <tr>\n",
              "      <th>0.0</th>\n",
              "      <td>2824</td>\n",
              "      <td>1176</td>\n",
              "    </tr>\n",
              "    <tr>\n",
              "      <th>1.0</th>\n",
              "      <td>2741</td>\n",
              "      <td>1259</td>\n",
              "    </tr>\n",
              "  </tbody>\n",
              "</table>\n",
              "</div>\n",
              "    <div class=\"colab-df-buttons\">\n",
              "\n",
              "  <div class=\"colab-df-container\">\n",
              "    <button class=\"colab-df-convert\" onclick=\"convertToInteractive('df-d6e95ea4-abfc-4f48-87ea-d7acceabbe14')\"\n",
              "            title=\"Convert this dataframe to an interactive table.\"\n",
              "            style=\"display:none;\">\n",
              "\n",
              "  <svg xmlns=\"http://www.w3.org/2000/svg\" height=\"24px\" viewBox=\"0 -960 960 960\">\n",
              "    <path d=\"M120-120v-720h720v720H120Zm60-500h600v-160H180v160Zm220 220h160v-160H400v160Zm0 220h160v-160H400v160ZM180-400h160v-160H180v160Zm440 0h160v-160H620v160ZM180-180h160v-160H180v160Zm440 0h160v-160H620v160Z\"/>\n",
              "  </svg>\n",
              "    </button>\n",
              "\n",
              "  <style>\n",
              "    .colab-df-container {\n",
              "      display:flex;\n",
              "      gap: 12px;\n",
              "    }\n",
              "\n",
              "    .colab-df-convert {\n",
              "      background-color: #E8F0FE;\n",
              "      border: none;\n",
              "      border-radius: 50%;\n",
              "      cursor: pointer;\n",
              "      display: none;\n",
              "      fill: #1967D2;\n",
              "      height: 32px;\n",
              "      padding: 0 0 0 0;\n",
              "      width: 32px;\n",
              "    }\n",
              "\n",
              "    .colab-df-convert:hover {\n",
              "      background-color: #E2EBFA;\n",
              "      box-shadow: 0px 1px 2px rgba(60, 64, 67, 0.3), 0px 1px 3px 1px rgba(60, 64, 67, 0.15);\n",
              "      fill: #174EA6;\n",
              "    }\n",
              "\n",
              "    .colab-df-buttons div {\n",
              "      margin-bottom: 4px;\n",
              "    }\n",
              "\n",
              "    [theme=dark] .colab-df-convert {\n",
              "      background-color: #3B4455;\n",
              "      fill: #D2E3FC;\n",
              "    }\n",
              "\n",
              "    [theme=dark] .colab-df-convert:hover {\n",
              "      background-color: #434B5C;\n",
              "      box-shadow: 0px 1px 3px 1px rgba(0, 0, 0, 0.15);\n",
              "      filter: drop-shadow(0px 1px 2px rgba(0, 0, 0, 0.3));\n",
              "      fill: #FFFFFF;\n",
              "    }\n",
              "  </style>\n",
              "\n",
              "    <script>\n",
              "      const buttonEl =\n",
              "        document.querySelector('#df-d6e95ea4-abfc-4f48-87ea-d7acceabbe14 button.colab-df-convert');\n",
              "      buttonEl.style.display =\n",
              "        google.colab.kernel.accessAllowed ? 'block' : 'none';\n",
              "\n",
              "      async function convertToInteractive(key) {\n",
              "        const element = document.querySelector('#df-d6e95ea4-abfc-4f48-87ea-d7acceabbe14');\n",
              "        const dataTable =\n",
              "          await google.colab.kernel.invokeFunction('convertToInteractive',\n",
              "                                                    [key], {});\n",
              "        if (!dataTable) return;\n",
              "\n",
              "        const docLinkHtml = 'Like what you see? Visit the ' +\n",
              "          '<a target=\"_blank\" href=https://colab.research.google.com/notebooks/data_table.ipynb>data table notebook</a>'\n",
              "          + ' to learn more about interactive tables.';\n",
              "        element.innerHTML = '';\n",
              "        dataTable['output_type'] = 'display_data';\n",
              "        await google.colab.output.renderOutput(dataTable, element);\n",
              "        const docLink = document.createElement('div');\n",
              "        docLink.innerHTML = docLinkHtml;\n",
              "        element.appendChild(docLink);\n",
              "      }\n",
              "    </script>\n",
              "  </div>\n",
              "\n",
              "\n",
              "<div id=\"df-28a31ff6-f480-4990-bd4d-a332d5d42c9d\">\n",
              "  <button class=\"colab-df-quickchart\" onclick=\"quickchart('df-28a31ff6-f480-4990-bd4d-a332d5d42c9d')\"\n",
              "            title=\"Suggest charts\"\n",
              "            style=\"display:none;\">\n",
              "\n",
              "<svg xmlns=\"http://www.w3.org/2000/svg\" height=\"24px\"viewBox=\"0 0 24 24\"\n",
              "     width=\"24px\">\n",
              "    <g>\n",
              "        <path d=\"M19 3H5c-1.1 0-2 .9-2 2v14c0 1.1.9 2 2 2h14c1.1 0 2-.9 2-2V5c0-1.1-.9-2-2-2zM9 17H7v-7h2v7zm4 0h-2V7h2v10zm4 0h-2v-4h2v4z\"/>\n",
              "    </g>\n",
              "</svg>\n",
              "  </button>\n",
              "\n",
              "<style>\n",
              "  .colab-df-quickchart {\n",
              "      --bg-color: #E8F0FE;\n",
              "      --fill-color: #1967D2;\n",
              "      --hover-bg-color: #E2EBFA;\n",
              "      --hover-fill-color: #174EA6;\n",
              "      --disabled-fill-color: #AAA;\n",
              "      --disabled-bg-color: #DDD;\n",
              "  }\n",
              "\n",
              "  [theme=dark] .colab-df-quickchart {\n",
              "      --bg-color: #3B4455;\n",
              "      --fill-color: #D2E3FC;\n",
              "      --hover-bg-color: #434B5C;\n",
              "      --hover-fill-color: #FFFFFF;\n",
              "      --disabled-bg-color: #3B4455;\n",
              "      --disabled-fill-color: #666;\n",
              "  }\n",
              "\n",
              "  .colab-df-quickchart {\n",
              "    background-color: var(--bg-color);\n",
              "    border: none;\n",
              "    border-radius: 50%;\n",
              "    cursor: pointer;\n",
              "    display: none;\n",
              "    fill: var(--fill-color);\n",
              "    height: 32px;\n",
              "    padding: 0;\n",
              "    width: 32px;\n",
              "  }\n",
              "\n",
              "  .colab-df-quickchart:hover {\n",
              "    background-color: var(--hover-bg-color);\n",
              "    box-shadow: 0 1px 2px rgba(60, 64, 67, 0.3), 0 1px 3px 1px rgba(60, 64, 67, 0.15);\n",
              "    fill: var(--button-hover-fill-color);\n",
              "  }\n",
              "\n",
              "  .colab-df-quickchart-complete:disabled,\n",
              "  .colab-df-quickchart-complete:disabled:hover {\n",
              "    background-color: var(--disabled-bg-color);\n",
              "    fill: var(--disabled-fill-color);\n",
              "    box-shadow: none;\n",
              "  }\n",
              "\n",
              "  .colab-df-spinner {\n",
              "    border: 2px solid var(--fill-color);\n",
              "    border-color: transparent;\n",
              "    border-bottom-color: var(--fill-color);\n",
              "    animation:\n",
              "      spin 1s steps(1) infinite;\n",
              "  }\n",
              "\n",
              "  @keyframes spin {\n",
              "    0% {\n",
              "      border-color: transparent;\n",
              "      border-bottom-color: var(--fill-color);\n",
              "      border-left-color: var(--fill-color);\n",
              "    }\n",
              "    20% {\n",
              "      border-color: transparent;\n",
              "      border-left-color: var(--fill-color);\n",
              "      border-top-color: var(--fill-color);\n",
              "    }\n",
              "    30% {\n",
              "      border-color: transparent;\n",
              "      border-left-color: var(--fill-color);\n",
              "      border-top-color: var(--fill-color);\n",
              "      border-right-color: var(--fill-color);\n",
              "    }\n",
              "    40% {\n",
              "      border-color: transparent;\n",
              "      border-right-color: var(--fill-color);\n",
              "      border-top-color: var(--fill-color);\n",
              "    }\n",
              "    60% {\n",
              "      border-color: transparent;\n",
              "      border-right-color: var(--fill-color);\n",
              "    }\n",
              "    80% {\n",
              "      border-color: transparent;\n",
              "      border-right-color: var(--fill-color);\n",
              "      border-bottom-color: var(--fill-color);\n",
              "    }\n",
              "    90% {\n",
              "      border-color: transparent;\n",
              "      border-bottom-color: var(--fill-color);\n",
              "    }\n",
              "  }\n",
              "</style>\n",
              "\n",
              "  <script>\n",
              "    async function quickchart(key) {\n",
              "      const quickchartButtonEl =\n",
              "        document.querySelector('#' + key + ' button');\n",
              "      quickchartButtonEl.disabled = true;  // To prevent multiple clicks.\n",
              "      quickchartButtonEl.classList.add('colab-df-spinner');\n",
              "      try {\n",
              "        const charts = await google.colab.kernel.invokeFunction(\n",
              "            'suggestCharts', [key], {});\n",
              "      } catch (error) {\n",
              "        console.error('Error during call to suggestCharts:', error);\n",
              "      }\n",
              "      quickchartButtonEl.classList.remove('colab-df-spinner');\n",
              "      quickchartButtonEl.classList.add('colab-df-quickchart-complete');\n",
              "    }\n",
              "    (() => {\n",
              "      let quickchartButtonEl =\n",
              "        document.querySelector('#df-28a31ff6-f480-4990-bd4d-a332d5d42c9d button');\n",
              "      quickchartButtonEl.style.display =\n",
              "        google.colab.kernel.accessAllowed ? 'block' : 'none';\n",
              "    })();\n",
              "  </script>\n",
              "</div>\n",
              "\n",
              "    </div>\n",
              "  </div>\n"
            ]
          },
          "metadata": {},
          "execution_count": 56
        }
      ],
      "source": [
        "pd.crosstab(data[\"target_heart\"], data[\"drink_alcohol\"])"
      ]
    },
    {
      "cell_type": "code",
      "execution_count": 57,
      "id": "crude-nirvana",
      "metadata": {
        "colab": {
          "base_uri": "https://localhost:8080/",
          "height": 143
        },
        "id": "crude-nirvana",
        "outputId": "29dcc3e5-382f-4e07-9e9e-dead9e0ca1ea"
      },
      "outputs": [
        {
          "output_type": "execute_result",
          "data": {
            "text/plain": [
              "chest_pain_ever   1.0   2.0\n",
              "target_heart               \n",
              "0.0               791  3209\n",
              "1.0              2016  1984"
            ],
            "text/html": [
              "\n",
              "  <div id=\"df-bc1f6cee-d0e0-439b-9e8f-a13c7ebb792e\" class=\"colab-df-container\">\n",
              "    <div>\n",
              "<style scoped>\n",
              "    .dataframe tbody tr th:only-of-type {\n",
              "        vertical-align: middle;\n",
              "    }\n",
              "\n",
              "    .dataframe tbody tr th {\n",
              "        vertical-align: top;\n",
              "    }\n",
              "\n",
              "    .dataframe thead th {\n",
              "        text-align: right;\n",
              "    }\n",
              "</style>\n",
              "<table border=\"1\" class=\"dataframe\">\n",
              "  <thead>\n",
              "    <tr style=\"text-align: right;\">\n",
              "      <th>chest_pain_ever</th>\n",
              "      <th>1.0</th>\n",
              "      <th>2.0</th>\n",
              "    </tr>\n",
              "    <tr>\n",
              "      <th>target_heart</th>\n",
              "      <th></th>\n",
              "      <th></th>\n",
              "    </tr>\n",
              "  </thead>\n",
              "  <tbody>\n",
              "    <tr>\n",
              "      <th>0.0</th>\n",
              "      <td>791</td>\n",
              "      <td>3209</td>\n",
              "    </tr>\n",
              "    <tr>\n",
              "      <th>1.0</th>\n",
              "      <td>2016</td>\n",
              "      <td>1984</td>\n",
              "    </tr>\n",
              "  </tbody>\n",
              "</table>\n",
              "</div>\n",
              "    <div class=\"colab-df-buttons\">\n",
              "\n",
              "  <div class=\"colab-df-container\">\n",
              "    <button class=\"colab-df-convert\" onclick=\"convertToInteractive('df-bc1f6cee-d0e0-439b-9e8f-a13c7ebb792e')\"\n",
              "            title=\"Convert this dataframe to an interactive table.\"\n",
              "            style=\"display:none;\">\n",
              "\n",
              "  <svg xmlns=\"http://www.w3.org/2000/svg\" height=\"24px\" viewBox=\"0 -960 960 960\">\n",
              "    <path d=\"M120-120v-720h720v720H120Zm60-500h600v-160H180v160Zm220 220h160v-160H400v160Zm0 220h160v-160H400v160ZM180-400h160v-160H180v160Zm440 0h160v-160H620v160ZM180-180h160v-160H180v160Zm440 0h160v-160H620v160Z\"/>\n",
              "  </svg>\n",
              "    </button>\n",
              "\n",
              "  <style>\n",
              "    .colab-df-container {\n",
              "      display:flex;\n",
              "      gap: 12px;\n",
              "    }\n",
              "\n",
              "    .colab-df-convert {\n",
              "      background-color: #E8F0FE;\n",
              "      border: none;\n",
              "      border-radius: 50%;\n",
              "      cursor: pointer;\n",
              "      display: none;\n",
              "      fill: #1967D2;\n",
              "      height: 32px;\n",
              "      padding: 0 0 0 0;\n",
              "      width: 32px;\n",
              "    }\n",
              "\n",
              "    .colab-df-convert:hover {\n",
              "      background-color: #E2EBFA;\n",
              "      box-shadow: 0px 1px 2px rgba(60, 64, 67, 0.3), 0px 1px 3px 1px rgba(60, 64, 67, 0.15);\n",
              "      fill: #174EA6;\n",
              "    }\n",
              "\n",
              "    .colab-df-buttons div {\n",
              "      margin-bottom: 4px;\n",
              "    }\n",
              "\n",
              "    [theme=dark] .colab-df-convert {\n",
              "      background-color: #3B4455;\n",
              "      fill: #D2E3FC;\n",
              "    }\n",
              "\n",
              "    [theme=dark] .colab-df-convert:hover {\n",
              "      background-color: #434B5C;\n",
              "      box-shadow: 0px 1px 3px 1px rgba(0, 0, 0, 0.15);\n",
              "      filter: drop-shadow(0px 1px 2px rgba(0, 0, 0, 0.3));\n",
              "      fill: #FFFFFF;\n",
              "    }\n",
              "  </style>\n",
              "\n",
              "    <script>\n",
              "      const buttonEl =\n",
              "        document.querySelector('#df-bc1f6cee-d0e0-439b-9e8f-a13c7ebb792e button.colab-df-convert');\n",
              "      buttonEl.style.display =\n",
              "        google.colab.kernel.accessAllowed ? 'block' : 'none';\n",
              "\n",
              "      async function convertToInteractive(key) {\n",
              "        const element = document.querySelector('#df-bc1f6cee-d0e0-439b-9e8f-a13c7ebb792e');\n",
              "        const dataTable =\n",
              "          await google.colab.kernel.invokeFunction('convertToInteractive',\n",
              "                                                    [key], {});\n",
              "        if (!dataTable) return;\n",
              "\n",
              "        const docLinkHtml = 'Like what you see? Visit the ' +\n",
              "          '<a target=\"_blank\" href=https://colab.research.google.com/notebooks/data_table.ipynb>data table notebook</a>'\n",
              "          + ' to learn more about interactive tables.';\n",
              "        element.innerHTML = '';\n",
              "        dataTable['output_type'] = 'display_data';\n",
              "        await google.colab.output.renderOutput(dataTable, element);\n",
              "        const docLink = document.createElement('div');\n",
              "        docLink.innerHTML = docLinkHtml;\n",
              "        element.appendChild(docLink);\n",
              "      }\n",
              "    </script>\n",
              "  </div>\n",
              "\n",
              "\n",
              "<div id=\"df-3acba07b-5dcd-452a-8fc6-aa35f25c663f\">\n",
              "  <button class=\"colab-df-quickchart\" onclick=\"quickchart('df-3acba07b-5dcd-452a-8fc6-aa35f25c663f')\"\n",
              "            title=\"Suggest charts\"\n",
              "            style=\"display:none;\">\n",
              "\n",
              "<svg xmlns=\"http://www.w3.org/2000/svg\" height=\"24px\"viewBox=\"0 0 24 24\"\n",
              "     width=\"24px\">\n",
              "    <g>\n",
              "        <path d=\"M19 3H5c-1.1 0-2 .9-2 2v14c0 1.1.9 2 2 2h14c1.1 0 2-.9 2-2V5c0-1.1-.9-2-2-2zM9 17H7v-7h2v7zm4 0h-2V7h2v10zm4 0h-2v-4h2v4z\"/>\n",
              "    </g>\n",
              "</svg>\n",
              "  </button>\n",
              "\n",
              "<style>\n",
              "  .colab-df-quickchart {\n",
              "      --bg-color: #E8F0FE;\n",
              "      --fill-color: #1967D2;\n",
              "      --hover-bg-color: #E2EBFA;\n",
              "      --hover-fill-color: #174EA6;\n",
              "      --disabled-fill-color: #AAA;\n",
              "      --disabled-bg-color: #DDD;\n",
              "  }\n",
              "\n",
              "  [theme=dark] .colab-df-quickchart {\n",
              "      --bg-color: #3B4455;\n",
              "      --fill-color: #D2E3FC;\n",
              "      --hover-bg-color: #434B5C;\n",
              "      --hover-fill-color: #FFFFFF;\n",
              "      --disabled-bg-color: #3B4455;\n",
              "      --disabled-fill-color: #666;\n",
              "  }\n",
              "\n",
              "  .colab-df-quickchart {\n",
              "    background-color: var(--bg-color);\n",
              "    border: none;\n",
              "    border-radius: 50%;\n",
              "    cursor: pointer;\n",
              "    display: none;\n",
              "    fill: var(--fill-color);\n",
              "    height: 32px;\n",
              "    padding: 0;\n",
              "    width: 32px;\n",
              "  }\n",
              "\n",
              "  .colab-df-quickchart:hover {\n",
              "    background-color: var(--hover-bg-color);\n",
              "    box-shadow: 0 1px 2px rgba(60, 64, 67, 0.3), 0 1px 3px 1px rgba(60, 64, 67, 0.15);\n",
              "    fill: var(--button-hover-fill-color);\n",
              "  }\n",
              "\n",
              "  .colab-df-quickchart-complete:disabled,\n",
              "  .colab-df-quickchart-complete:disabled:hover {\n",
              "    background-color: var(--disabled-bg-color);\n",
              "    fill: var(--disabled-fill-color);\n",
              "    box-shadow: none;\n",
              "  }\n",
              "\n",
              "  .colab-df-spinner {\n",
              "    border: 2px solid var(--fill-color);\n",
              "    border-color: transparent;\n",
              "    border-bottom-color: var(--fill-color);\n",
              "    animation:\n",
              "      spin 1s steps(1) infinite;\n",
              "  }\n",
              "\n",
              "  @keyframes spin {\n",
              "    0% {\n",
              "      border-color: transparent;\n",
              "      border-bottom-color: var(--fill-color);\n",
              "      border-left-color: var(--fill-color);\n",
              "    }\n",
              "    20% {\n",
              "      border-color: transparent;\n",
              "      border-left-color: var(--fill-color);\n",
              "      border-top-color: var(--fill-color);\n",
              "    }\n",
              "    30% {\n",
              "      border-color: transparent;\n",
              "      border-left-color: var(--fill-color);\n",
              "      border-top-color: var(--fill-color);\n",
              "      border-right-color: var(--fill-color);\n",
              "    }\n",
              "    40% {\n",
              "      border-color: transparent;\n",
              "      border-right-color: var(--fill-color);\n",
              "      border-top-color: var(--fill-color);\n",
              "    }\n",
              "    60% {\n",
              "      border-color: transparent;\n",
              "      border-right-color: var(--fill-color);\n",
              "    }\n",
              "    80% {\n",
              "      border-color: transparent;\n",
              "      border-right-color: var(--fill-color);\n",
              "      border-bottom-color: var(--fill-color);\n",
              "    }\n",
              "    90% {\n",
              "      border-color: transparent;\n",
              "      border-bottom-color: var(--fill-color);\n",
              "    }\n",
              "  }\n",
              "</style>\n",
              "\n",
              "  <script>\n",
              "    async function quickchart(key) {\n",
              "      const quickchartButtonEl =\n",
              "        document.querySelector('#' + key + ' button');\n",
              "      quickchartButtonEl.disabled = true;  // To prevent multiple clicks.\n",
              "      quickchartButtonEl.classList.add('colab-df-spinner');\n",
              "      try {\n",
              "        const charts = await google.colab.kernel.invokeFunction(\n",
              "            'suggestCharts', [key], {});\n",
              "      } catch (error) {\n",
              "        console.error('Error during call to suggestCharts:', error);\n",
              "      }\n",
              "      quickchartButtonEl.classList.remove('colab-df-spinner');\n",
              "      quickchartButtonEl.classList.add('colab-df-quickchart-complete');\n",
              "    }\n",
              "    (() => {\n",
              "      let quickchartButtonEl =\n",
              "        document.querySelector('#df-3acba07b-5dcd-452a-8fc6-aa35f25c663f button');\n",
              "      quickchartButtonEl.style.display =\n",
              "        google.colab.kernel.accessAllowed ? 'block' : 'none';\n",
              "    })();\n",
              "  </script>\n",
              "</div>\n",
              "\n",
              "    </div>\n",
              "  </div>\n"
            ]
          },
          "metadata": {},
          "execution_count": 57
        }
      ],
      "source": [
        "pd.crosstab(data[\"target_heart\"], data[\"chest_pain_ever\"])"
      ]
    },
    {
      "cell_type": "markdown",
      "id": "disturbed-married",
      "metadata": {
        "id": "disturbed-married"
      },
      "source": [
        "**Graded Task**:\n",
        "Do you expect each of \"blood_cholesterol\", \"age\",  \"calories\", and \"BMI\" to be an informative predictor for \"target_heart\"?\n",
        "What about \"gender\", \"drink_alcohol\" and \"chest_pain_ever\"?\n",
        "Using your output from above, briefly explain why or why not."
      ]
    },
    {
      "cell_type": "code",
      "execution_count": null,
      "id": "looking-samoa",
      "metadata": {
        "id": "looking-samoa"
      },
      "outputs": [],
      "source": [
        "# TODO: your prediction as to whether these features are informative predictors.\n",
        "# For full credit, justify your answer with the figures above. Include the\n",
        "# figures above in your submission.\n",
        "\n",
        "# First of all, I don't expect those continuos variables like \"blood_cholesterol\",\n",
        "# \"calories\" and \"BMI\" to be an informative predictor rather than those\n",
        "# categorical predictors since categorical predictors are already being split\n",
        "# by nature (with 2 levels in this case for each one). However, for \"age\", it\n",
        "# seems to be a good predictor since the median of different groups tend to be\n",
        "# different significantly so that it could be representative, whereas the\n",
        "# others' median tend not to be differ by a lot. Moreover, among the\n",
        "# three categorical variables in above, by looking at the frequency count,\n",
        "# I think \"chest_pain_ever\" seems to be the most informative predictor since for\n",
        "# each group, the figure differs significantly comparing with the others. So\n",
        "# the expected conditional entropy should be less than the others (0.92 for\n",
        "# \"chest_pain_ever\" and 0.99 for \"gender\") and the smaller uncertainty is what\n",
        "# we want."
      ]
    },
    {
      "cell_type": "markdown",
      "id": "liquid-clinic",
      "metadata": {
        "id": "liquid-clinic"
      },
      "source": [
        "**Task**: Complete the exploratory data analysis by visualizing the remaining features.\n",
        "You should get a sense of whether these features may be informative predictors,\n",
        "and the distribution of these features.\n",
        "\n",
        "As a side note, this is also a great time to look for unexpected issues with the data.\n",
        "Is there missing data? Is there data that is outside the normal range that you would expect\n",
        "(e.g. an age of 500)? Are there features that almost always take on the same value,\n",
        "and would therefore likely not to be useful?"
      ]
    },
    {
      "cell_type": "code",
      "execution_count": null,
      "id": "speaking-vulnerability",
      "metadata": {
        "id": "speaking-vulnerability"
      },
      "outputs": [],
      "source": [
        "# The maximum value for 'calories' is 8000, so maybe there is a typo for that."
      ]
    },
    {
      "cell_type": "markdown",
      "id": "extraordinary-reynolds",
      "metadata": {
        "id": "extraordinary-reynolds"
      },
      "source": [
        "**Graded Task**: Before being able to use our data to train a decision tree model,\n",
        "we need to transform some of the ways that our features are encoded. In particular, we need to change our current encoding of `gender`\n",
        "and `race_ethnicity`.  Explain why the current encoding should not be used with a decision tree classifier."
      ]
    },
    {
      "cell_type": "code",
      "execution_count": null,
      "id": "rotary-journalism",
      "metadata": {
        "id": "rotary-journalism"
      },
      "outputs": [],
      "source": [
        "# Since the tree will split the data into branches using <= metrics, so that\n",
        "# we need to use float to tackle with all kinds of situations. That's why we\n",
        "# need to change our current encoding of gender and race_ethnicity in particular\n",
        "# for future decision tree classifier."
      ]
    },
    {
      "cell_type": "markdown",
      "id": "ethical-remove",
      "metadata": {
        "id": "ethical-remove"
      },
      "source": [
        "To solve the problem with our current encoding, we will encode categorical features using\n",
        "**indicator variables**. We will construct an indicator variable for every possible\n",
        "*value* or *category*.  More specifically, we will make a separate indicator variable for `race_ethicity_white`,\n",
        "`race_ethicity_black`, etc, with each feature taking on a value of 1 or 0.\n",
        "\n",
        "We will also group together `race_ethnicity=1` and\n",
        "`race_ethnicity=2` since these groups represent \"Mexican American\" and\n",
        "\"Other Hispanic\" and these groups are smaller than the others.\n",
        "This is a modeling decision born out of our understanding of the data,\n",
        "**and it may not be the correct decision**!\n",
        "Typically, many factors would go into decisions like this, including discussions\n",
        "with colleagues to understand where the data comes from and how the model will be used.\n",
        "Model building is also an iterative process: we may want to build multiple models with different\n",
        "feature representations, and compare the performance and other characteristics of\n",
        "these models.\n",
        "\n",
        "**Task**: Convert `data` into a numpy array `data_fets` with $N=8000$\n",
        "rows and with the following columns:\n",
        "\n",
        "- An indicator feature with value 1 iff `gender=2` (female)\n",
        "- An indicator feature with value 1 iff `race_ethnicity=1` or `race_ethnicity=2` (hispanic)\n",
        "- An indicator feature with value 1 iff `race_ethnicity=3` (white)\n",
        "- An indicator feature with value 1 iff `race_ethnicity=4` (black)\n",
        "- An indicator feature with value 1 iff `race_ethnicity=6` (asian)\n",
        "- An indicator feature with value 1 iff `chest_pain_ever=1`\n",
        "- An indicator feature with value 1 iff `drink_alcohol=1`\n",
        "- The numerical `age` feature\n",
        "- The numerical `blood_cholesterol` feature\n",
        "- The numerical `BMI` feature\n",
        "- The numerical `blood_pressure_sys` feature\n",
        "- The numerical `diastolic_bp` feature\n",
        "- The numerical `calories` feature\n",
        "- The numerical `family_income` feature\n",
        "\n",
        "Some of the features are provided for you. Complete the remaining features.\n",
        "\n",
        "This code works by creating individual numpy (1D) arrays for each feature,\n",
        "and then stacking them together into a single (2D) numpy array."
      ]
    },
    {
      "cell_type": "code",
      "execution_count": 58,
      "id": "acoustic-newsletter",
      "metadata": {
        "id": "acoustic-newsletter",
        "colab": {
          "base_uri": "https://localhost:8080/"
        },
        "outputId": "c2cac7bc-7410-4fff-edb2-e403d13a2ef3"
      },
      "outputs": [
        {
          "output_type": "stream",
          "name": "stdout",
          "text": [
            "(8000, 14)\n"
          ]
        }
      ],
      "source": [
        "data_fets = np.stack([\n",
        "    # gender_female: this code creates an array of booleans, which converted into 0 and 1\n",
        "    data[\"gender\"] == 2,\n",
        "    # re_hispanic: this code leverages addition to perform an \"or\" operation\n",
        "    (data[\"race_ethnicity\"] == 1) + (data[\"race_ethnicity\"] == 2),\n",
        "    # re_white\n",
        "    data[\"race_ethnicity\"] == 3,\n",
        "    # re_black\n",
        "    data[\"race_ethnicity\"] == 4,\n",
        "    # re_aisan\n",
        "    data[\"race_ethnicity\"] == 6,\n",
        "    # chest_pain_ever\n",
        "    data[\"chest_pain_ever\"] == 1,\n",
        "    # drink_alcohol\n",
        "    data[\"drink_alcohol\"] == 1,\n",
        "    # age: this is a numeric value and no transformations are required\n",
        "    data[\"age\"],\n",
        "    # blood_cholesterol:\n",
        "    data[\"blood_cholesterol\"],\n",
        "    # BMI:\n",
        "    data[\"BMI\"],\n",
        "    # blood_pressure_sys:\n",
        "    data[\"blood_pressure_sys\"],\n",
        "    # diastolic_bp:\n",
        "    data[\"diastolic_bp\"],\n",
        "    # calories:\n",
        "    data[\"calories\"],\n",
        "    # family_income:\n",
        "    data[\"family_income\"]\n",
        "], axis=1)\n",
        "\n",
        "print(data_fets.shape) # Should be (8000, 14)"
      ]
    },
    {
      "cell_type": "markdown",
      "id": "extra-amateur",
      "metadata": {
        "id": "extra-amateur"
      },
      "source": [
        "We will also declare a new array to store all the feature names. This will come in handy later when we visualize decision trees."
      ]
    },
    {
      "cell_type": "code",
      "execution_count": 59,
      "id": "silent-transmission",
      "metadata": {
        "id": "silent-transmission"
      },
      "outputs": [],
      "source": [
        "feature_names = [\n",
        "    \"gender_female\",\n",
        "    \"re_hispanic\",\n",
        "    \"re_white\",\n",
        "    \"re_black\",\n",
        "    \"re_asian\",\n",
        "    \"chest_pain\",\n",
        "    \"drink_alcohol\",\n",
        "    \"age\",\n",
        "    \"blood_cholesterol\",\n",
        "    \"BMI\",\n",
        "    \"blood_pressure_sys\",\n",
        "    \"diastolic_bp\",\n",
        "    \"calories\",\n",
        "    \"family_income\"]"
      ]
    },
    {
      "cell_type": "markdown",
      "id": "together-history",
      "metadata": {
        "id": "together-history"
      },
      "source": [
        "**Task** Finally, let's separate our data into training, validation, and test sets.\n",
        "We will use 5000 data points for training, 1500 for validation, and 1500 for test.\n",
        "\n",
        "Instead of manually splitting the data into two sets, we will use a function provided by `sklearn` which randomly splits the data for us. Use the `train_test_split` function to split the data into training and test sets. To ensure that the randomization is consistent across runs, please supply the following parameter to the `train_test_split` function: 'random_state=1'.  This will ensure that the each time you run your code, you are placing the same data points in your training, test and validation sets.\n",
        "\n",
        "You will likely need to read the [documentation](https://scikit-learn.org/stable/modules/generated/sklearn.model_selection.train_test_split.html) for the `sklearn.model_selection.train_test_splits` to get this job done."
      ]
    },
    {
      "cell_type": "code",
      "execution_count": 60,
      "id": "collect-tomorrow",
      "metadata": {
        "id": "collect-tomorrow"
      },
      "outputs": [],
      "source": [
        "\n",
        "from sklearn.model_selection import train_test_split\n",
        "\n",
        "# Split the data into X (dependent variables) and t (response variable)\n",
        "X = data_fets\n",
        "t = np.array(data[\"target_heart\"])\n",
        "\n",
        "# First, we will use `train_test_split` to split the data set into\n",
        "# 6500 training+validation, and 1500 test:\n",
        "X_tv, X_test, t_tv, t_test = train_test_split(X, t, test_size=1500/8000, random_state=1)\n",
        "\n",
        "# Then, use `train_test_split` to split the training+validation data\n",
        "# into 5000 train and 1500 validation\n",
        "X_train, X_valid, t_train, t_valid = train_test_split(X_tv, t_tv, test_size=1500/6500, random_state=1)"
      ]
    },
    {
      "cell_type": "markdown",
      "id": "upper-spotlight",
      "metadata": {
        "id": "upper-spotlight"
      },
      "source": [
        "**Graded Task**: Recall that in lab 1, normalizing our features yielded a\n",
        "marked improvement in the performance (accuracy) of our kNN model.\n",
        "Explain why normalizing our features will likely *not* improve a\n",
        "decision tree classifier.\n",
        "\n",
        "Your explanation serves as justification for *not* normalizing our features before continuing."
      ]
    },
    {
      "cell_type": "code",
      "execution_count": null,
      "id": "square-genesis",
      "metadata": {
        "id": "square-genesis"
      },
      "outputs": [],
      "source": [
        "# The kNN model is sensitive to scale whereas decision tree classifier is not.\n",
        "# Whether the scale of the feature is large or not doesn't change the way\n",
        "# thresholds are determined and normalizing is only an approach to fix the\n",
        "# scale so normalizing our features here will not improve a decision tree\n",
        "# classifier."
      ]
    },
    {
      "cell_type": "markdown",
      "id": "peripheral-minnesota",
      "metadata": {
        "id": "peripheral-minnesota"
      },
      "source": [
        "## Part 2. Using `sklearn` to Implement and Visualize Decision Trees\n",
        "\n",
        "One advantage of decision trees over other models is that they are easy\n",
        "to interpret and visualize.  The function `visualize_tree` below can be used to plot an `sklearn` decision tree model in your Colab Notebook."
      ]
    },
    {
      "cell_type": "code",
      "execution_count": 61,
      "id": "martial-debate",
      "metadata": {
        "id": "martial-debate"
      },
      "outputs": [],
      "source": [
        "from sklearn.tree import DecisionTreeClassifier\n",
        "\n",
        "# imports to visualize tree\n",
        "from sklearn import tree as treeViz\n",
        "import graphviz\n",
        "import pydotplus\n",
        "from IPython.display import display"
      ]
    },
    {
      "cell_type": "code",
      "execution_count": 62,
      "id": "velvet-hungarian",
      "metadata": {
        "id": "velvet-hungarian"
      },
      "outputs": [],
      "source": [
        "def visualize_tree(model, max_depth=5):\n",
        "    \"\"\"\n",
        "    Generate and return an image representing an Sklearn decision tree.\n",
        "\n",
        "    Each node in the visualization represents a node in the decision tree.\n",
        "    In addition, visualization for each node contains:\n",
        "        - The feature that is split on\n",
        "        - The entropy (of the outputs `t`) at the node\n",
        "        - The number of training samples at the node\n",
        "        - The number of training samples with true/false values\n",
        "        - The majority class (heart disease or not)\n",
        "    The colour of the node also shows the majority class and purity\n",
        "\n",
        "    See here: https://scikit-learn.org/stable/modules/generated/sklearn.tree.export_graphviz.html\n",
        "\n",
        "    Parameters:\n",
        "        `model` - An Sklearn decision tree model\n",
        "        `max_depth` - Max depth of decision tree to be rendered in the notebook.\n",
        "         This is useful since the tree can get very large if the max_depth is\n",
        "         set too high and thus making the resulting figure difficult to interpret.\n",
        "    \"\"\"\n",
        "    dot_data = treeViz.export_graphviz(model,\n",
        "                                       feature_names=feature_names,\n",
        "                                       max_depth=max_depth,\n",
        "                                       class_names=[\"heart_no\", \"heart_yes\"],\n",
        "                                       filled=True,\n",
        "                                       rounded=True)\n",
        "    return display(graphviz.Source(dot_data))\n"
      ]
    },
    {
      "cell_type": "markdown",
      "id": "incredible-extra",
      "metadata": {
        "id": "incredible-extra"
      },
      "source": [
        "Next, we will use sklearn's `DecisionTreeClassifier` to create some decision trees to fit to our data.\n",
        "\n",
        "**Task:** Fit a `DecisionTreeClassifier` to our dataset. Use `entropy` to measure the quality of a decision tree split, and set the `max_depth` to 3. Then, print the training and validation scores (accuracy).\n",
        "\n",
        "See more here: https://scikit-learn.org/stable/modules/generated/sklearn.tree.DecisionTreeClassifier.html"
      ]
    },
    {
      "cell_type": "code",
      "execution_count": 63,
      "id": "suspected-missile",
      "metadata": {
        "id": "suspected-missile",
        "colab": {
          "base_uri": "https://localhost:8080/"
        },
        "outputId": "ba75b536-6070-4755-c72a-d1c47f2c1d59"
      },
      "outputs": [
        {
          "output_type": "stream",
          "name": "stdout",
          "text": [
            "Training Accuracy: 0.7152\n",
            "Validation Accuracy: 0.7193333333333334\n"
          ]
        }
      ],
      "source": [
        "# Creating a DecisionTreeClassifier\n",
        "tree = DecisionTreeClassifier(criterion=\"entropy\", max_depth=3)\n",
        "\n",
        "# TODO: fit it to our data\n",
        "tree.fit(X_train, t_train)\n",
        "\n",
        "# Print the training and validation scores (accuracy)\n",
        "print(\"Training Accuracy:\", tree.score(X_train, t_train))\n",
        "print(\"Validation Accuracy:\", tree.score(X_valid, t_valid))"
      ]
    },
    {
      "cell_type": "markdown",
      "id": "brutal-hearts",
      "metadata": {
        "id": "brutal-hearts"
      },
      "source": [
        "**Task:** Use `visualize_tree` to visualize the decision tree that was fit."
      ]
    },
    {
      "cell_type": "code",
      "execution_count": 64,
      "id": "inner-farming",
      "metadata": {
        "id": "inner-farming",
        "colab": {
          "base_uri": "https://localhost:8080/",
          "height": 618
        },
        "outputId": "6c62d301-5943-4abb-edb2-b2507e98feb5"
      },
      "outputs": [
        {
          "output_type": "display_data",
          "data": {
            "image/svg+xml": "<?xml version=\"1.0\" encoding=\"UTF-8\" standalone=\"no\"?>\n<!DOCTYPE svg PUBLIC \"-//W3C//DTD SVG 1.1//EN\"\n \"http://www.w3.org/Graphics/SVG/1.1/DTD/svg11.dtd\">\n<!-- Generated by graphviz version 2.43.0 (0)\n -->\n<!-- Title: Tree Pages: 1 -->\n<svg width=\"1121pt\" height=\"433pt\"\n viewBox=\"0.00 0.00 1120.50 433.00\" xmlns=\"http://www.w3.org/2000/svg\" xmlns:xlink=\"http://www.w3.org/1999/xlink\">\n<g id=\"graph0\" class=\"graph\" transform=\"scale(1 1) rotate(0) translate(4 429)\">\n<title>Tree</title>\n<polygon fill=\"white\" stroke=\"transparent\" points=\"-4,4 -4,-429 1116.5,-429 1116.5,4 -4,4\"/>\n<!-- 0 -->\n<g id=\"node1\" class=\"node\">\n<title>0</title>\n<path fill=\"#fefcfb\" stroke=\"black\" d=\"M609.5,-425C609.5,-425 493.5,-425 493.5,-425 487.5,-425 481.5,-419 481.5,-413 481.5,-413 481.5,-354 481.5,-354 481.5,-348 487.5,-342 493.5,-342 493.5,-342 609.5,-342 609.5,-342 615.5,-342 621.5,-348 621.5,-354 621.5,-354 621.5,-413 621.5,-413 621.5,-419 615.5,-425 609.5,-425\"/>\n<text text-anchor=\"middle\" x=\"551.5\" y=\"-409.8\" font-family=\"Helvetica,sans-Serif\" font-size=\"14.00\">age &lt;= 64.5</text>\n<text text-anchor=\"middle\" x=\"551.5\" y=\"-394.8\" font-family=\"Helvetica,sans-Serif\" font-size=\"14.00\">entropy = 1.0</text>\n<text text-anchor=\"middle\" x=\"551.5\" y=\"-379.8\" font-family=\"Helvetica,sans-Serif\" font-size=\"14.00\">samples = 5000</text>\n<text text-anchor=\"middle\" x=\"551.5\" y=\"-364.8\" font-family=\"Helvetica,sans-Serif\" font-size=\"14.00\">value = [2528, 2472]</text>\n<text text-anchor=\"middle\" x=\"551.5\" y=\"-349.8\" font-family=\"Helvetica,sans-Serif\" font-size=\"14.00\">class = heart_no</text>\n</g>\n<!-- 1 -->\n<g id=\"node2\" class=\"node\">\n<title>1</title>\n<path fill=\"#f1be98\" stroke=\"black\" d=\"M464.5,-306C464.5,-306 356.5,-306 356.5,-306 350.5,-306 344.5,-300 344.5,-294 344.5,-294 344.5,-235 344.5,-235 344.5,-229 350.5,-223 356.5,-223 356.5,-223 464.5,-223 464.5,-223 470.5,-223 476.5,-229 476.5,-235 476.5,-235 476.5,-294 476.5,-294 476.5,-300 470.5,-306 464.5,-306\"/>\n<text text-anchor=\"middle\" x=\"410.5\" y=\"-290.8\" font-family=\"Helvetica,sans-Serif\" font-size=\"14.00\">chest_pain &lt;= 0.5</text>\n<text text-anchor=\"middle\" x=\"410.5\" y=\"-275.8\" font-family=\"Helvetica,sans-Serif\" font-size=\"14.00\">entropy = 0.909</text>\n<text text-anchor=\"middle\" x=\"410.5\" y=\"-260.8\" font-family=\"Helvetica,sans-Serif\" font-size=\"14.00\">samples = 2652</text>\n<text text-anchor=\"middle\" x=\"410.5\" y=\"-245.8\" font-family=\"Helvetica,sans-Serif\" font-size=\"14.00\">value = [1791, 861]</text>\n<text text-anchor=\"middle\" x=\"410.5\" y=\"-230.8\" font-family=\"Helvetica,sans-Serif\" font-size=\"14.00\">class = heart_no</text>\n</g>\n<!-- 0&#45;&gt;1 -->\n<g id=\"edge1\" class=\"edge\">\n<title>0&#45;&gt;1</title>\n<path fill=\"none\" stroke=\"black\" d=\"M502.58,-341.91C491.21,-332.47 479,-322.34 467.32,-312.65\"/>\n<polygon fill=\"black\" stroke=\"black\" points=\"469.26,-309.71 459.33,-306.02 464.79,-315.1 469.26,-309.71\"/>\n<text text-anchor=\"middle\" x=\"461.65\" y=\"-327.21\" font-family=\"Helvetica,sans-Serif\" font-size=\"14.00\">True</text>\n</g>\n<!-- 8 -->\n<g id=\"node9\" class=\"node\">\n<title>8</title>\n<path fill=\"#94caf1\" stroke=\"black\" d=\"M737.5,-306C737.5,-306 629.5,-306 629.5,-306 623.5,-306 617.5,-300 617.5,-294 617.5,-294 617.5,-235 617.5,-235 617.5,-229 623.5,-223 629.5,-223 629.5,-223 737.5,-223 737.5,-223 743.5,-223 749.5,-229 749.5,-235 749.5,-235 749.5,-294 749.5,-294 749.5,-300 743.5,-306 737.5,-306\"/>\n<text text-anchor=\"middle\" x=\"683.5\" y=\"-290.8\" font-family=\"Helvetica,sans-Serif\" font-size=\"14.00\">chest_pain &lt;= 0.5</text>\n<text text-anchor=\"middle\" x=\"683.5\" y=\"-275.8\" font-family=\"Helvetica,sans-Serif\" font-size=\"14.00\">entropy = 0.898</text>\n<text text-anchor=\"middle\" x=\"683.5\" y=\"-260.8\" font-family=\"Helvetica,sans-Serif\" font-size=\"14.00\">samples = 2348</text>\n<text text-anchor=\"middle\" x=\"683.5\" y=\"-245.8\" font-family=\"Helvetica,sans-Serif\" font-size=\"14.00\">value = [737, 1611]</text>\n<text text-anchor=\"middle\" x=\"683.5\" y=\"-230.8\" font-family=\"Helvetica,sans-Serif\" font-size=\"14.00\">class = heart_yes</text>\n</g>\n<!-- 0&#45;&gt;8 -->\n<g id=\"edge8\" class=\"edge\">\n<title>0&#45;&gt;8</title>\n<path fill=\"none\" stroke=\"black\" d=\"M597.3,-341.91C607.84,-332.56 619.15,-322.54 629.99,-312.93\"/>\n<polygon fill=\"black\" stroke=\"black\" points=\"632.62,-315.27 637.78,-306.02 627.98,-310.03 632.62,-315.27\"/>\n<text text-anchor=\"middle\" x=\"636.28\" y=\"-327.28\" font-family=\"Helvetica,sans-Serif\" font-size=\"14.00\">False</text>\n</g>\n<!-- 2 -->\n<g id=\"node3\" class=\"node\">\n<title>2</title>\n<path fill=\"#eca36f\" stroke=\"black\" d=\"M251.5,-187C251.5,-187 143.5,-187 143.5,-187 137.5,-187 131.5,-181 131.5,-175 131.5,-175 131.5,-116 131.5,-116 131.5,-110 137.5,-104 143.5,-104 143.5,-104 251.5,-104 251.5,-104 257.5,-104 263.5,-110 263.5,-116 263.5,-116 263.5,-175 263.5,-175 263.5,-181 257.5,-187 251.5,-187\"/>\n<text text-anchor=\"middle\" x=\"197.5\" y=\"-171.8\" font-family=\"Helvetica,sans-Serif\" font-size=\"14.00\">age &lt;= 47.5</text>\n<text text-anchor=\"middle\" x=\"197.5\" y=\"-156.8\" font-family=\"Helvetica,sans-Serif\" font-size=\"14.00\">entropy = 0.747</text>\n<text text-anchor=\"middle\" x=\"197.5\" y=\"-141.8\" font-family=\"Helvetica,sans-Serif\" font-size=\"14.00\">samples = 1818</text>\n<text text-anchor=\"middle\" x=\"197.5\" y=\"-126.8\" font-family=\"Helvetica,sans-Serif\" font-size=\"14.00\">value = [1431, 387]</text>\n<text text-anchor=\"middle\" x=\"197.5\" y=\"-111.8\" font-family=\"Helvetica,sans-Serif\" font-size=\"14.00\">class = heart_no</text>\n</g>\n<!-- 1&#45;&gt;2 -->\n<g id=\"edge2\" class=\"edge\">\n<title>1&#45;&gt;2</title>\n<path fill=\"none\" stroke=\"black\" d=\"M344.27,-227.12C321.53,-214.63 295.92,-200.56 272.53,-187.71\"/>\n<polygon fill=\"black\" stroke=\"black\" points=\"274.14,-184.6 263.69,-182.86 270.77,-190.74 274.14,-184.6\"/>\n</g>\n<!-- 5 -->\n<g id=\"node6\" class=\"node\">\n<title>5</title>\n<path fill=\"#cfe7f9\" stroke=\"black\" d=\"M461,-187C461,-187 360,-187 360,-187 354,-187 348,-181 348,-175 348,-175 348,-116 348,-116 348,-110 354,-104 360,-104 360,-104 461,-104 461,-104 467,-104 473,-110 473,-116 473,-116 473,-175 473,-175 473,-181 467,-187 461,-187\"/>\n<text text-anchor=\"middle\" x=\"410.5\" y=\"-171.8\" font-family=\"Helvetica,sans-Serif\" font-size=\"14.00\">age &lt;= 56.5</text>\n<text text-anchor=\"middle\" x=\"410.5\" y=\"-156.8\" font-family=\"Helvetica,sans-Serif\" font-size=\"14.00\">entropy = 0.986</text>\n<text text-anchor=\"middle\" x=\"410.5\" y=\"-141.8\" font-family=\"Helvetica,sans-Serif\" font-size=\"14.00\">samples = 834</text>\n<text text-anchor=\"middle\" x=\"410.5\" y=\"-126.8\" font-family=\"Helvetica,sans-Serif\" font-size=\"14.00\">value = [360, 474]</text>\n<text text-anchor=\"middle\" x=\"410.5\" y=\"-111.8\" font-family=\"Helvetica,sans-Serif\" font-size=\"14.00\">class = heart_yes</text>\n</g>\n<!-- 1&#45;&gt;5 -->\n<g id=\"edge5\" class=\"edge\">\n<title>1&#45;&gt;5</title>\n<path fill=\"none\" stroke=\"black\" d=\"M410.5,-222.91C410.5,-214.65 410.5,-205.86 410.5,-197.3\"/>\n<polygon fill=\"black\" stroke=\"black\" points=\"414,-197.02 410.5,-187.02 407,-197.02 414,-197.02\"/>\n</g>\n<!-- 3 -->\n<g id=\"node4\" class=\"node\">\n<title>3</title>\n<path fill=\"#e68641\" stroke=\"black\" d=\"M105,-68C105,-68 12,-68 12,-68 6,-68 0,-62 0,-56 0,-56 0,-12 0,-12 0,-6 6,0 12,0 12,0 105,0 105,0 111,0 117,-6 117,-12 117,-12 117,-56 117,-56 117,-62 111,-68 105,-68\"/>\n<text text-anchor=\"middle\" x=\"58.5\" y=\"-52.8\" font-family=\"Helvetica,sans-Serif\" font-size=\"14.00\">entropy = 0.232</text>\n<text text-anchor=\"middle\" x=\"58.5\" y=\"-37.8\" font-family=\"Helvetica,sans-Serif\" font-size=\"14.00\">samples = 529</text>\n<text text-anchor=\"middle\" x=\"58.5\" y=\"-22.8\" font-family=\"Helvetica,sans-Serif\" font-size=\"14.00\">value = [509, 20]</text>\n<text text-anchor=\"middle\" x=\"58.5\" y=\"-7.8\" font-family=\"Helvetica,sans-Serif\" font-size=\"14.00\">class = heart_no</text>\n</g>\n<!-- 2&#45;&gt;3 -->\n<g id=\"edge3\" class=\"edge\">\n<title>2&#45;&gt;3</title>\n<path fill=\"none\" stroke=\"black\" d=\"M145.74,-103.73C133.7,-94.24 120.9,-84.16 108.92,-74.72\"/>\n<polygon fill=\"black\" stroke=\"black\" points=\"110.79,-71.74 100.77,-68.3 106.46,-77.24 110.79,-71.74\"/>\n</g>\n<!-- 4 -->\n<g id=\"node5\" class=\"node\">\n<title>4</title>\n<path fill=\"#efb388\" stroke=\"black\" d=\"M248,-68C248,-68 147,-68 147,-68 141,-68 135,-62 135,-56 135,-56 135,-12 135,-12 135,-6 141,0 147,0 147,0 248,0 248,0 254,0 260,-6 260,-12 260,-12 260,-56 260,-56 260,-62 254,-68 248,-68\"/>\n<text text-anchor=\"middle\" x=\"197.5\" y=\"-52.8\" font-family=\"Helvetica,sans-Serif\" font-size=\"14.00\">entropy = 0.862</text>\n<text text-anchor=\"middle\" x=\"197.5\" y=\"-37.8\" font-family=\"Helvetica,sans-Serif\" font-size=\"14.00\">samples = 1289</text>\n<text text-anchor=\"middle\" x=\"197.5\" y=\"-22.8\" font-family=\"Helvetica,sans-Serif\" font-size=\"14.00\">value = [922, 367]</text>\n<text text-anchor=\"middle\" x=\"197.5\" y=\"-7.8\" font-family=\"Helvetica,sans-Serif\" font-size=\"14.00\">class = heart_no</text>\n</g>\n<!-- 2&#45;&gt;4 -->\n<g id=\"edge4\" class=\"edge\">\n<title>2&#45;&gt;4</title>\n<path fill=\"none\" stroke=\"black\" d=\"M197.5,-103.73C197.5,-95.52 197.5,-86.86 197.5,-78.56\"/>\n<polygon fill=\"black\" stroke=\"black\" points=\"201,-78.3 197.5,-68.3 194,-78.3 201,-78.3\"/>\n</g>\n<!-- 6 -->\n<g id=\"node7\" class=\"node\">\n<title>6</title>\n<path fill=\"#fae6d7\" stroke=\"black\" d=\"M391,-68C391,-68 290,-68 290,-68 284,-68 278,-62 278,-56 278,-56 278,-12 278,-12 278,-6 284,0 290,0 290,0 391,0 391,0 397,0 403,-6 403,-12 403,-12 403,-56 403,-56 403,-62 397,-68 391,-68\"/>\n<text text-anchor=\"middle\" x=\"340.5\" y=\"-52.8\" font-family=\"Helvetica,sans-Serif\" font-size=\"14.00\">entropy = 0.991</text>\n<text text-anchor=\"middle\" x=\"340.5\" y=\"-37.8\" font-family=\"Helvetica,sans-Serif\" font-size=\"14.00\">samples = 448</text>\n<text text-anchor=\"middle\" x=\"340.5\" y=\"-22.8\" font-family=\"Helvetica,sans-Serif\" font-size=\"14.00\">value = [249, 199]</text>\n<text text-anchor=\"middle\" x=\"340.5\" y=\"-7.8\" font-family=\"Helvetica,sans-Serif\" font-size=\"14.00\">class = heart_no</text>\n</g>\n<!-- 5&#45;&gt;6 -->\n<g id=\"edge6\" class=\"edge\">\n<title>5&#45;&gt;6</title>\n<path fill=\"none\" stroke=\"black\" d=\"M384.43,-103.73C378.84,-94.97 372.91,-85.7 367.29,-76.91\"/>\n<polygon fill=\"black\" stroke=\"black\" points=\"370.12,-74.84 361.79,-68.3 364.22,-78.61 370.12,-74.84\"/>\n</g>\n<!-- 7 -->\n<g id=\"node8\" class=\"node\">\n<title>7</title>\n<path fill=\"#89c5ef\" stroke=\"black\" d=\"M534,-68C534,-68 433,-68 433,-68 427,-68 421,-62 421,-56 421,-56 421,-12 421,-12 421,-6 427,0 433,0 433,0 534,0 534,0 540,0 546,-6 546,-12 546,-12 546,-56 546,-56 546,-62 540,-68 534,-68\"/>\n<text text-anchor=\"middle\" x=\"483.5\" y=\"-52.8\" font-family=\"Helvetica,sans-Serif\" font-size=\"14.00\">entropy = 0.866</text>\n<text text-anchor=\"middle\" x=\"483.5\" y=\"-37.8\" font-family=\"Helvetica,sans-Serif\" font-size=\"14.00\">samples = 386</text>\n<text text-anchor=\"middle\" x=\"483.5\" y=\"-22.8\" font-family=\"Helvetica,sans-Serif\" font-size=\"14.00\">value = [111, 275]</text>\n<text text-anchor=\"middle\" x=\"483.5\" y=\"-7.8\" font-family=\"Helvetica,sans-Serif\" font-size=\"14.00\">class = heart_yes</text>\n</g>\n<!-- 5&#45;&gt;7 -->\n<g id=\"edge7\" class=\"edge\">\n<title>5&#45;&gt;7</title>\n<path fill=\"none\" stroke=\"black\" d=\"M437.68,-103.73C443.58,-94.88 449.83,-85.51 455.75,-76.63\"/>\n<polygon fill=\"black\" stroke=\"black\" points=\"458.67,-78.56 461.3,-68.3 452.84,-74.68 458.67,-78.56\"/>\n</g>\n<!-- 9 -->\n<g id=\"node10\" class=\"node\">\n<title>9</title>\n<path fill=\"#c8e4f8\" stroke=\"black\" d=\"M734,-187C734,-187 633,-187 633,-187 627,-187 621,-181 621,-175 621,-175 621,-116 621,-116 621,-110 627,-104 633,-104 633,-104 734,-104 734,-104 740,-104 746,-110 746,-116 746,-116 746,-175 746,-175 746,-181 740,-187 734,-187\"/>\n<text text-anchor=\"middle\" x=\"683.5\" y=\"-171.8\" font-family=\"Helvetica,sans-Serif\" font-size=\"14.00\">age &lt;= 77.5</text>\n<text text-anchor=\"middle\" x=\"683.5\" y=\"-156.8\" font-family=\"Helvetica,sans-Serif\" font-size=\"14.00\">entropy = 0.981</text>\n<text text-anchor=\"middle\" x=\"683.5\" y=\"-141.8\" font-family=\"Helvetica,sans-Serif\" font-size=\"14.00\">samples = 1465</text>\n<text text-anchor=\"middle\" x=\"683.5\" y=\"-126.8\" font-family=\"Helvetica,sans-Serif\" font-size=\"14.00\">value = [614, 851]</text>\n<text text-anchor=\"middle\" x=\"683.5\" y=\"-111.8\" font-family=\"Helvetica,sans-Serif\" font-size=\"14.00\">class = heart_yes</text>\n</g>\n<!-- 8&#45;&gt;9 -->\n<g id=\"edge9\" class=\"edge\">\n<title>8&#45;&gt;9</title>\n<path fill=\"none\" stroke=\"black\" d=\"M683.5,-222.91C683.5,-214.65 683.5,-205.86 683.5,-197.3\"/>\n<polygon fill=\"black\" stroke=\"black\" points=\"687,-197.02 683.5,-187.02 680,-197.02 687,-197.02\"/>\n</g>\n<!-- 12 -->\n<g id=\"node13\" class=\"node\">\n<title>12</title>\n<path fill=\"#59ade9\" stroke=\"black\" d=\"M989.5,-187C989.5,-187 833.5,-187 833.5,-187 827.5,-187 821.5,-181 821.5,-175 821.5,-175 821.5,-116 821.5,-116 821.5,-110 827.5,-104 833.5,-104 833.5,-104 989.5,-104 989.5,-104 995.5,-104 1001.5,-110 1001.5,-116 1001.5,-116 1001.5,-175 1001.5,-175 1001.5,-181 995.5,-187 989.5,-187\"/>\n<text text-anchor=\"middle\" x=\"911.5\" y=\"-171.8\" font-family=\"Helvetica,sans-Serif\" font-size=\"14.00\">blood_cholesterol &lt;= 3.605</text>\n<text text-anchor=\"middle\" x=\"911.5\" y=\"-156.8\" font-family=\"Helvetica,sans-Serif\" font-size=\"14.00\">entropy = 0.582</text>\n<text text-anchor=\"middle\" x=\"911.5\" y=\"-141.8\" font-family=\"Helvetica,sans-Serif\" font-size=\"14.00\">samples = 883</text>\n<text text-anchor=\"middle\" x=\"911.5\" y=\"-126.8\" font-family=\"Helvetica,sans-Serif\" font-size=\"14.00\">value = [123, 760]</text>\n<text text-anchor=\"middle\" x=\"911.5\" y=\"-111.8\" font-family=\"Helvetica,sans-Serif\" font-size=\"14.00\">class = heart_yes</text>\n</g>\n<!-- 8&#45;&gt;12 -->\n<g id=\"edge12\" class=\"edge\">\n<title>8&#45;&gt;12</title>\n<path fill=\"none\" stroke=\"black\" d=\"M749.75,-229.5C772.82,-217.66 799.07,-204.19 823.62,-191.6\"/>\n<polygon fill=\"black\" stroke=\"black\" points=\"825.28,-194.68 832.58,-187 822.08,-188.45 825.28,-194.68\"/>\n</g>\n<!-- 10 -->\n<g id=\"node11\" class=\"node\">\n<title>10</title>\n<path fill=\"#fefcfb\" stroke=\"black\" d=\"M677,-68C677,-68 576,-68 576,-68 570,-68 564,-62 564,-56 564,-56 564,-12 564,-12 564,-6 570,0 576,0 576,0 677,0 677,0 683,0 689,-6 689,-12 689,-12 689,-56 689,-56 689,-62 683,-68 677,-68\"/>\n<text text-anchor=\"middle\" x=\"626.5\" y=\"-52.8\" font-family=\"Helvetica,sans-Serif\" font-size=\"14.00\">entropy = 1.0</text>\n<text text-anchor=\"middle\" x=\"626.5\" y=\"-37.8\" font-family=\"Helvetica,sans-Serif\" font-size=\"14.00\">samples = 936</text>\n<text text-anchor=\"middle\" x=\"626.5\" y=\"-22.8\" font-family=\"Helvetica,sans-Serif\" font-size=\"14.00\">value = [473, 463]</text>\n<text text-anchor=\"middle\" x=\"626.5\" y=\"-7.8\" font-family=\"Helvetica,sans-Serif\" font-size=\"14.00\">class = heart_no</text>\n</g>\n<!-- 9&#45;&gt;10 -->\n<g id=\"edge10\" class=\"edge\">\n<title>9&#45;&gt;10</title>\n<path fill=\"none\" stroke=\"black\" d=\"M662.28,-103.73C657.76,-95.06 652.99,-85.9 648.46,-77.18\"/>\n<polygon fill=\"black\" stroke=\"black\" points=\"651.56,-75.55 643.83,-68.3 645.35,-78.79 651.56,-75.55\"/>\n</g>\n<!-- 11 -->\n<g id=\"node12\" class=\"node\">\n<title>11</title>\n<path fill=\"#81c1ee\" stroke=\"black\" d=\"M820,-68C820,-68 719,-68 719,-68 713,-68 707,-62 707,-56 707,-56 707,-12 707,-12 707,-6 713,0 719,0 719,0 820,0 820,0 826,0 832,-6 832,-12 832,-12 832,-56 832,-56 832,-62 826,-68 820,-68\"/>\n<text text-anchor=\"middle\" x=\"769.5\" y=\"-52.8\" font-family=\"Helvetica,sans-Serif\" font-size=\"14.00\">entropy = 0.836</text>\n<text text-anchor=\"middle\" x=\"769.5\" y=\"-37.8\" font-family=\"Helvetica,sans-Serif\" font-size=\"14.00\">samples = 529</text>\n<text text-anchor=\"middle\" x=\"769.5\" y=\"-22.8\" font-family=\"Helvetica,sans-Serif\" font-size=\"14.00\">value = [141, 388]</text>\n<text text-anchor=\"middle\" x=\"769.5\" y=\"-7.8\" font-family=\"Helvetica,sans-Serif\" font-size=\"14.00\">class = heart_yes</text>\n</g>\n<!-- 9&#45;&gt;11 -->\n<g id=\"edge11\" class=\"edge\">\n<title>9&#45;&gt;11</title>\n<path fill=\"none\" stroke=\"black\" d=\"M715.52,-103.73C722.54,-94.79 729.98,-85.32 737.02,-76.36\"/>\n<polygon fill=\"black\" stroke=\"black\" points=\"739.92,-78.33 743.35,-68.3 734.42,-74 739.92,-78.33\"/>\n</g>\n<!-- 13 -->\n<g id=\"node14\" class=\"node\">\n<title>13</title>\n<path fill=\"#bddef6\" stroke=\"black\" d=\"M960.5,-68C960.5,-68 862.5,-68 862.5,-68 856.5,-68 850.5,-62 850.5,-56 850.5,-56 850.5,-12 850.5,-12 850.5,-6 856.5,0 862.5,0 862.5,0 960.5,0 960.5,0 966.5,0 972.5,-6 972.5,-12 972.5,-12 972.5,-56 972.5,-56 972.5,-62 966.5,-68 960.5,-68\"/>\n<text text-anchor=\"middle\" x=\"911.5\" y=\"-52.8\" font-family=\"Helvetica,sans-Serif\" font-size=\"14.00\">entropy = 0.971</text>\n<text text-anchor=\"middle\" x=\"911.5\" y=\"-37.8\" font-family=\"Helvetica,sans-Serif\" font-size=\"14.00\">samples = 60</text>\n<text text-anchor=\"middle\" x=\"911.5\" y=\"-22.8\" font-family=\"Helvetica,sans-Serif\" font-size=\"14.00\">value = [24, 36]</text>\n<text text-anchor=\"middle\" x=\"911.5\" y=\"-7.8\" font-family=\"Helvetica,sans-Serif\" font-size=\"14.00\">class = heart_yes</text>\n</g>\n<!-- 12&#45;&gt;13 -->\n<g id=\"edge13\" class=\"edge\">\n<title>12&#45;&gt;13</title>\n<path fill=\"none\" stroke=\"black\" d=\"M911.5,-103.73C911.5,-95.52 911.5,-86.86 911.5,-78.56\"/>\n<polygon fill=\"black\" stroke=\"black\" points=\"915,-78.3 911.5,-68.3 908,-78.3 915,-78.3\"/>\n</g>\n<!-- 14 -->\n<g id=\"node15\" class=\"node\">\n<title>14</title>\n<path fill=\"#54aae9\" stroke=\"black\" d=\"M1100.5,-68C1100.5,-68 1002.5,-68 1002.5,-68 996.5,-68 990.5,-62 990.5,-56 990.5,-56 990.5,-12 990.5,-12 990.5,-6 996.5,0 1002.5,0 1002.5,0 1100.5,0 1100.5,0 1106.5,0 1112.5,-6 1112.5,-12 1112.5,-12 1112.5,-56 1112.5,-56 1112.5,-62 1106.5,-68 1100.5,-68\"/>\n<text text-anchor=\"middle\" x=\"1051.5\" y=\"-52.8\" font-family=\"Helvetica,sans-Serif\" font-size=\"14.00\">entropy = 0.53</text>\n<text text-anchor=\"middle\" x=\"1051.5\" y=\"-37.8\" font-family=\"Helvetica,sans-Serif\" font-size=\"14.00\">samples = 823</text>\n<text text-anchor=\"middle\" x=\"1051.5\" y=\"-22.8\" font-family=\"Helvetica,sans-Serif\" font-size=\"14.00\">value = [99, 724]</text>\n<text text-anchor=\"middle\" x=\"1051.5\" y=\"-7.8\" font-family=\"Helvetica,sans-Serif\" font-size=\"14.00\">class = heart_yes</text>\n</g>\n<!-- 12&#45;&gt;14 -->\n<g id=\"edge14\" class=\"edge\">\n<title>12&#45;&gt;14</title>\n<path fill=\"none\" stroke=\"black\" d=\"M963.63,-103.73C975.76,-94.24 988.65,-84.16 1000.72,-74.72\"/>\n<polygon fill=\"black\" stroke=\"black\" points=\"1003.2,-77.22 1008.93,-68.3 998.89,-71.7 1003.2,-77.22\"/>\n</g>\n</g>\n</svg>\n",
            "text/plain": [
              "<graphviz.sources.Source at 0x7dffb67a7c40>"
            ]
          },
          "metadata": {}
        }
      ],
      "source": [
        "# TODO: call visualize_tree on the tree that was fit\n",
        "visualize_tree(tree)"
      ]
    },
    {
      "cell_type": "markdown",
      "id": "industrial-skill",
      "metadata": {
        "id": "industrial-skill"
      },
      "source": [
        "If this is done correctly, you should see your decision tree rendered above in your notebook.\n",
        "\n",
        "Let's try to interpret the decision tree we just generated!\n",
        "\n",
        "**Graded Task:** Using the decision tree you generated above, classify the training example `X_train[5]` by hand.\n",
        "In your write up, determine the set of nodes in the decision tree that we must visit to classify this training example."
      ]
    },
    {
      "cell_type": "code",
      "execution_count": 65,
      "id": "pregnant-custom",
      "metadata": {
        "id": "pregnant-custom",
        "colab": {
          "base_uri": "https://localhost:8080/"
        },
        "outputId": "c003c4d1-79be-4719-a2fc-d18302148914"
      },
      "outputs": [
        {
          "output_type": "stream",
          "name": "stdout",
          "text": [
            "{'gender_female': 1.0, 're_hispanic': 1.0, 're_white': 0.0, 're_black': 0.0, 're_asian': 0.0, 'chest_pain': 1.0, 'drink_alcohol': 0.0, 'age': 44.0, 'blood_cholesterol': 2.9, 'BMI': 18.8, 'blood_pressure_sys': 96.0, 'diastolic_bp': 58.0, 'calories': 2588.0, 'family_income': 0.81}\n"
          ]
        }
      ],
      "source": [
        "# TODO: Perform the classification of this data point by hand\n",
        "print(dict(zip(feature_names, X_train[5])))\n",
        "\n",
        "# First we start from age. Since our age is < 64.5 so we go to the left branch.\n",
        "# Then, since our chest_pain is 1.0, so we go to the right branch then.\n",
        "# And again, our age is < 56.5, so we go to the left branch which leads to the\n",
        "# leaf that indicates class = 'heart_no'"
      ]
    },
    {
      "cell_type": "markdown",
      "id": "flush-rover",
      "metadata": {
        "id": "flush-rover"
      },
      "source": [
        "We will now explore some hyperparameter choices that may cause our decision tree to underfit or overfit our data. Recall that overfitting means that, while our model may accurately capture relationships between inputs and our classification target in training data, it may not capture such relationships in the validation data. By contrast, underfitting occurs when our model lacks the complexity to model relationships in either training or validation data.  \n",
        "\n",
        "**Task:** Similar to what you did above, create another `DecisionTreeClassifier` that uses `entropy` to measure the quality of a split. Set the `max_depth` to a value that will cause the tree to *underfit*. Report the accuracy on the validation and training sets. Visualize the tree by calling `visualize_tree`."
      ]
    },
    {
      "cell_type": "code",
      "execution_count": 66,
      "id": "abstract-patent",
      "metadata": {
        "id": "abstract-patent",
        "colab": {
          "base_uri": "https://localhost:8080/",
          "height": 317
        },
        "outputId": "7afdf36e-f1b4-4db2-97da-ee7451a973d1"
      },
      "outputs": [
        {
          "output_type": "stream",
          "name": "stdout",
          "text": [
            "Training Accuracy: 0.6804\n",
            "Validation Accuracy: 0.6793333333333333\n"
          ]
        },
        {
          "output_type": "display_data",
          "data": {
            "image/svg+xml": "<?xml version=\"1.0\" encoding=\"UTF-8\" standalone=\"no\"?>\n<!DOCTYPE svg PUBLIC \"-//W3C//DTD SVG 1.1//EN\"\n \"http://www.w3.org/Graphics/SVG/1.1/DTD/svg11.dtd\">\n<!-- Generated by graphviz version 2.43.0 (0)\n -->\n<!-- Title: Tree Pages: 1 -->\n<svg width=\"290pt\" height=\"195pt\"\n viewBox=\"0.00 0.00 290.00 195.00\" xmlns=\"http://www.w3.org/2000/svg\" xmlns:xlink=\"http://www.w3.org/1999/xlink\">\n<g id=\"graph0\" class=\"graph\" transform=\"scale(1 1) rotate(0) translate(4 191)\">\n<title>Tree</title>\n<polygon fill=\"white\" stroke=\"transparent\" points=\"-4,4 -4,-191 286,-191 286,4 -4,4\"/>\n<!-- 0 -->\n<g id=\"node1\" class=\"node\">\n<title>0</title>\n<path fill=\"#fefcfb\" stroke=\"black\" d=\"M199,-187C199,-187 83,-187 83,-187 77,-187 71,-181 71,-175 71,-175 71,-116 71,-116 71,-110 77,-104 83,-104 83,-104 199,-104 199,-104 205,-104 211,-110 211,-116 211,-116 211,-175 211,-175 211,-181 205,-187 199,-187\"/>\n<text text-anchor=\"middle\" x=\"141\" y=\"-171.8\" font-family=\"Helvetica,sans-Serif\" font-size=\"14.00\">age &lt;= 64.5</text>\n<text text-anchor=\"middle\" x=\"141\" y=\"-156.8\" font-family=\"Helvetica,sans-Serif\" font-size=\"14.00\">entropy = 1.0</text>\n<text text-anchor=\"middle\" x=\"141\" y=\"-141.8\" font-family=\"Helvetica,sans-Serif\" font-size=\"14.00\">samples = 5000</text>\n<text text-anchor=\"middle\" x=\"141\" y=\"-126.8\" font-family=\"Helvetica,sans-Serif\" font-size=\"14.00\">value = [2528, 2472]</text>\n<text text-anchor=\"middle\" x=\"141\" y=\"-111.8\" font-family=\"Helvetica,sans-Serif\" font-size=\"14.00\">class = heart_no</text>\n</g>\n<!-- 1 -->\n<g id=\"node2\" class=\"node\">\n<title>1</title>\n<path fill=\"#f1be98\" stroke=\"black\" d=\"M120,-68C120,-68 12,-68 12,-68 6,-68 0,-62 0,-56 0,-56 0,-12 0,-12 0,-6 6,0 12,0 12,0 120,0 120,0 126,0 132,-6 132,-12 132,-12 132,-56 132,-56 132,-62 126,-68 120,-68\"/>\n<text text-anchor=\"middle\" x=\"66\" y=\"-52.8\" font-family=\"Helvetica,sans-Serif\" font-size=\"14.00\">entropy = 0.909</text>\n<text text-anchor=\"middle\" x=\"66\" y=\"-37.8\" font-family=\"Helvetica,sans-Serif\" font-size=\"14.00\">samples = 2652</text>\n<text text-anchor=\"middle\" x=\"66\" y=\"-22.8\" font-family=\"Helvetica,sans-Serif\" font-size=\"14.00\">value = [1791, 861]</text>\n<text text-anchor=\"middle\" x=\"66\" y=\"-7.8\" font-family=\"Helvetica,sans-Serif\" font-size=\"14.00\">class = heart_no</text>\n</g>\n<!-- 0&#45;&gt;1 -->\n<g id=\"edge1\" class=\"edge\">\n<title>0&#45;&gt;1</title>\n<path fill=\"none\" stroke=\"black\" d=\"M113.07,-103.73C107.01,-94.88 100.6,-85.51 94.51,-76.63\"/>\n<polygon fill=\"black\" stroke=\"black\" points=\"97.35,-74.57 88.81,-68.3 91.57,-78.53 97.35,-74.57\"/>\n<text text-anchor=\"middle\" x=\"84.21\" y=\"-89.17\" font-family=\"Helvetica,sans-Serif\" font-size=\"14.00\">True</text>\n</g>\n<!-- 2 -->\n<g id=\"node3\" class=\"node\">\n<title>2</title>\n<path fill=\"#94caf1\" stroke=\"black\" d=\"M270,-68C270,-68 162,-68 162,-68 156,-68 150,-62 150,-56 150,-56 150,-12 150,-12 150,-6 156,0 162,0 162,0 270,0 270,0 276,0 282,-6 282,-12 282,-12 282,-56 282,-56 282,-62 276,-68 270,-68\"/>\n<text text-anchor=\"middle\" x=\"216\" y=\"-52.8\" font-family=\"Helvetica,sans-Serif\" font-size=\"14.00\">entropy = 0.898</text>\n<text text-anchor=\"middle\" x=\"216\" y=\"-37.8\" font-family=\"Helvetica,sans-Serif\" font-size=\"14.00\">samples = 2348</text>\n<text text-anchor=\"middle\" x=\"216\" y=\"-22.8\" font-family=\"Helvetica,sans-Serif\" font-size=\"14.00\">value = [737, 1611]</text>\n<text text-anchor=\"middle\" x=\"216\" y=\"-7.8\" font-family=\"Helvetica,sans-Serif\" font-size=\"14.00\">class = heart_yes</text>\n</g>\n<!-- 0&#45;&gt;2 -->\n<g id=\"edge2\" class=\"edge\">\n<title>0&#45;&gt;2</title>\n<path fill=\"none\" stroke=\"black\" d=\"M168.93,-103.73C174.99,-94.88 181.4,-85.51 187.49,-76.63\"/>\n<polygon fill=\"black\" stroke=\"black\" points=\"190.43,-78.53 193.19,-68.3 184.65,-74.57 190.43,-78.53\"/>\n<text text-anchor=\"middle\" x=\"197.79\" y=\"-89.17\" font-family=\"Helvetica,sans-Serif\" font-size=\"14.00\">False</text>\n</g>\n</g>\n</svg>\n",
            "text/plain": [
              "<graphviz.sources.Source at 0x7dffb6524910>"
            ]
          },
          "metadata": {}
        }
      ],
      "source": [
        "# TODO: create a DecisionTreeClassifier\n",
        "tree_under = DecisionTreeClassifier(criterion=\"entropy\", max_depth=1)\n",
        "\n",
        "# TODO: fit it to our data\n",
        "tree_under.fit(X_train, t_train)\n",
        "\n",
        "# Print the training and validation accuracy\n",
        "print(\"Training Accuracy:\", tree_under.score(X_train, t_train))\n",
        "print(\"Validation Accuracy:\", tree_under.score(X_valid, t_valid))\n",
        "\n",
        "# TODO: visualize the tree\n",
        "visualize_tree(tree_under)"
      ]
    },
    {
      "cell_type": "markdown",
      "id": "impressed-vaccine",
      "metadata": {
        "id": "impressed-vaccine"
      },
      "source": [
        "**Task:** Repeat the same computation as above, but set the `max_depth` to a value that will cause the tree to *overfit*. When using `visualize_tree` to visualize the tree, leave the default max depth parameter as 5."
      ]
    },
    {
      "cell_type": "code",
      "execution_count": 67,
      "id": "human-right",
      "metadata": {
        "id": "human-right",
        "colab": {
          "base_uri": "https://localhost:8080/",
          "height": 1000
        },
        "outputId": "7c918e4b-12fa-4b12-d7f4-ed416638f496"
      },
      "outputs": [
        {
          "output_type": "stream",
          "name": "stdout",
          "text": [
            "Training Accuracy: 0.8794\n",
            "Validation Accuracy: 0.848\n"
          ]
        },
        {
          "output_type": "display_data",
          "data": {
            "image/svg+xml": "<?xml version=\"1.0\" encoding=\"UTF-8\" standalone=\"no\"?>\n<!DOCTYPE svg PUBLIC \"-//W3C//DTD SVG 1.1//EN\"\n \"http://www.w3.org/Graphics/SVG/1.1/DTD/svg11.dtd\">\n<!-- Generated by graphviz version 2.43.0 (0)\n -->\n<!-- Title: Tree Pages: 1 -->\n<svg width=\"4353pt\" height=\"758pt\"\n viewBox=\"0.00 0.00 4353.00 758.00\" xmlns=\"http://www.w3.org/2000/svg\" xmlns:xlink=\"http://www.w3.org/1999/xlink\">\n<g id=\"graph0\" class=\"graph\" transform=\"scale(1 1) rotate(0) translate(4 754)\">\n<title>Tree</title>\n<polygon fill=\"white\" stroke=\"transparent\" points=\"-4,4 -4,-754 4349,-754 4349,4 -4,4\"/>\n<!-- 0 -->\n<g id=\"node1\" class=\"node\">\n<title>0</title>\n<path fill=\"#fefcfb\" stroke=\"black\" d=\"M2379.5,-750C2379.5,-750 2263.5,-750 2263.5,-750 2257.5,-750 2251.5,-744 2251.5,-738 2251.5,-738 2251.5,-679 2251.5,-679 2251.5,-673 2257.5,-667 2263.5,-667 2263.5,-667 2379.5,-667 2379.5,-667 2385.5,-667 2391.5,-673 2391.5,-679 2391.5,-679 2391.5,-738 2391.5,-738 2391.5,-744 2385.5,-750 2379.5,-750\"/>\n<text text-anchor=\"middle\" x=\"2321.5\" y=\"-734.8\" font-family=\"Helvetica,sans-Serif\" font-size=\"14.00\">age &lt;= 64.5</text>\n<text text-anchor=\"middle\" x=\"2321.5\" y=\"-719.8\" font-family=\"Helvetica,sans-Serif\" font-size=\"14.00\">entropy = 1.0</text>\n<text text-anchor=\"middle\" x=\"2321.5\" y=\"-704.8\" font-family=\"Helvetica,sans-Serif\" font-size=\"14.00\">samples = 5000</text>\n<text text-anchor=\"middle\" x=\"2321.5\" y=\"-689.8\" font-family=\"Helvetica,sans-Serif\" font-size=\"14.00\">value = [2528, 2472]</text>\n<text text-anchor=\"middle\" x=\"2321.5\" y=\"-674.8\" font-family=\"Helvetica,sans-Serif\" font-size=\"14.00\">class = heart_no</text>\n</g>\n<!-- 1 -->\n<g id=\"node2\" class=\"node\">\n<title>1</title>\n<path fill=\"#f1be98\" stroke=\"black\" d=\"M1746.5,-631C1746.5,-631 1638.5,-631 1638.5,-631 1632.5,-631 1626.5,-625 1626.5,-619 1626.5,-619 1626.5,-560 1626.5,-560 1626.5,-554 1632.5,-548 1638.5,-548 1638.5,-548 1746.5,-548 1746.5,-548 1752.5,-548 1758.5,-554 1758.5,-560 1758.5,-560 1758.5,-619 1758.5,-619 1758.5,-625 1752.5,-631 1746.5,-631\"/>\n<text text-anchor=\"middle\" x=\"1692.5\" y=\"-615.8\" font-family=\"Helvetica,sans-Serif\" font-size=\"14.00\">chest_pain &lt;= 0.5</text>\n<text text-anchor=\"middle\" x=\"1692.5\" y=\"-600.8\" font-family=\"Helvetica,sans-Serif\" font-size=\"14.00\">entropy = 0.909</text>\n<text text-anchor=\"middle\" x=\"1692.5\" y=\"-585.8\" font-family=\"Helvetica,sans-Serif\" font-size=\"14.00\">samples = 2652</text>\n<text text-anchor=\"middle\" x=\"1692.5\" y=\"-570.8\" font-family=\"Helvetica,sans-Serif\" font-size=\"14.00\">value = [1791, 861]</text>\n<text text-anchor=\"middle\" x=\"1692.5\" y=\"-555.8\" font-family=\"Helvetica,sans-Serif\" font-size=\"14.00\">class = heart_no</text>\n</g>\n<!-- 0&#45;&gt;1 -->\n<g id=\"edge1\" class=\"edge\">\n<title>0&#45;&gt;1</title>\n<path fill=\"none\" stroke=\"black\" d=\"M2251.48,-694.48C2132.5,-672.34 1891.83,-627.58 1768.75,-604.68\"/>\n<polygon fill=\"black\" stroke=\"black\" points=\"1769.12,-601.19 1758.65,-602.8 1767.84,-608.07 1769.12,-601.19\"/>\n<text text-anchor=\"middle\" x=\"1772.8\" y=\"-619.72\" font-family=\"Helvetica,sans-Serif\" font-size=\"14.00\">True</text>\n</g>\n<!-- 178 -->\n<g id=\"node53\" class=\"node\">\n<title>178</title>\n<path fill=\"#94caf1\" stroke=\"black\" d=\"M2876.5,-631C2876.5,-631 2768.5,-631 2768.5,-631 2762.5,-631 2756.5,-625 2756.5,-619 2756.5,-619 2756.5,-560 2756.5,-560 2756.5,-554 2762.5,-548 2768.5,-548 2768.5,-548 2876.5,-548 2876.5,-548 2882.5,-548 2888.5,-554 2888.5,-560 2888.5,-560 2888.5,-619 2888.5,-619 2888.5,-625 2882.5,-631 2876.5,-631\"/>\n<text text-anchor=\"middle\" x=\"2822.5\" y=\"-615.8\" font-family=\"Helvetica,sans-Serif\" font-size=\"14.00\">chest_pain &lt;= 0.5</text>\n<text text-anchor=\"middle\" x=\"2822.5\" y=\"-600.8\" font-family=\"Helvetica,sans-Serif\" font-size=\"14.00\">entropy = 0.898</text>\n<text text-anchor=\"middle\" x=\"2822.5\" y=\"-585.8\" font-family=\"Helvetica,sans-Serif\" font-size=\"14.00\">samples = 2348</text>\n<text text-anchor=\"middle\" x=\"2822.5\" y=\"-570.8\" font-family=\"Helvetica,sans-Serif\" font-size=\"14.00\">value = [737, 1611]</text>\n<text text-anchor=\"middle\" x=\"2822.5\" y=\"-555.8\" font-family=\"Helvetica,sans-Serif\" font-size=\"14.00\">class = heart_yes</text>\n</g>\n<!-- 0&#45;&gt;178 -->\n<g id=\"edge52\" class=\"edge\">\n<title>0&#45;&gt;178</title>\n<path fill=\"none\" stroke=\"black\" d=\"M2391.69,-691.11C2485.19,-669.27 2650,-630.78 2746.4,-608.27\"/>\n<polygon fill=\"black\" stroke=\"black\" points=\"2747.43,-611.62 2756.38,-605.94 2745.84,-604.81 2747.43,-611.62\"/>\n<text text-anchor=\"middle\" x=\"2743.18\" y=\"-623.48\" font-family=\"Helvetica,sans-Serif\" font-size=\"14.00\">False</text>\n</g>\n<!-- 2 -->\n<g id=\"node3\" class=\"node\">\n<title>2</title>\n<path fill=\"#eca36f\" stroke=\"black\" d=\"M736.5,-512C736.5,-512 628.5,-512 628.5,-512 622.5,-512 616.5,-506 616.5,-500 616.5,-500 616.5,-441 616.5,-441 616.5,-435 622.5,-429 628.5,-429 628.5,-429 736.5,-429 736.5,-429 742.5,-429 748.5,-435 748.5,-441 748.5,-441 748.5,-500 748.5,-500 748.5,-506 742.5,-512 736.5,-512\"/>\n<text text-anchor=\"middle\" x=\"682.5\" y=\"-496.8\" font-family=\"Helvetica,sans-Serif\" font-size=\"14.00\">age &lt;= 47.5</text>\n<text text-anchor=\"middle\" x=\"682.5\" y=\"-481.8\" font-family=\"Helvetica,sans-Serif\" font-size=\"14.00\">entropy = 0.747</text>\n<text text-anchor=\"middle\" x=\"682.5\" y=\"-466.8\" font-family=\"Helvetica,sans-Serif\" font-size=\"14.00\">samples = 1818</text>\n<text text-anchor=\"middle\" x=\"682.5\" y=\"-451.8\" font-family=\"Helvetica,sans-Serif\" font-size=\"14.00\">value = [1431, 387]</text>\n<text text-anchor=\"middle\" x=\"682.5\" y=\"-436.8\" font-family=\"Helvetica,sans-Serif\" font-size=\"14.00\">class = heart_no</text>\n</g>\n<!-- 1&#45;&gt;2 -->\n<g id=\"edge2\" class=\"edge\">\n<title>1&#45;&gt;2</title>\n<path fill=\"none\" stroke=\"black\" d=\"M1626.23,-580.82C1446.33,-559.98 949.58,-502.44 758.64,-480.32\"/>\n<polygon fill=\"black\" stroke=\"black\" points=\"759.02,-476.84 748.68,-479.17 758.21,-483.79 759.02,-476.84\"/>\n</g>\n<!-- 91 -->\n<g id=\"node26\" class=\"node\">\n<title>91</title>\n<path fill=\"#cfe7f9\" stroke=\"black\" d=\"M1743,-512C1743,-512 1642,-512 1642,-512 1636,-512 1630,-506 1630,-500 1630,-500 1630,-441 1630,-441 1630,-435 1636,-429 1642,-429 1642,-429 1743,-429 1743,-429 1749,-429 1755,-435 1755,-441 1755,-441 1755,-500 1755,-500 1755,-506 1749,-512 1743,-512\"/>\n<text text-anchor=\"middle\" x=\"1692.5\" y=\"-496.8\" font-family=\"Helvetica,sans-Serif\" font-size=\"14.00\">age &lt;= 56.5</text>\n<text text-anchor=\"middle\" x=\"1692.5\" y=\"-481.8\" font-family=\"Helvetica,sans-Serif\" font-size=\"14.00\">entropy = 0.986</text>\n<text text-anchor=\"middle\" x=\"1692.5\" y=\"-466.8\" font-family=\"Helvetica,sans-Serif\" font-size=\"14.00\">samples = 834</text>\n<text text-anchor=\"middle\" x=\"1692.5\" y=\"-451.8\" font-family=\"Helvetica,sans-Serif\" font-size=\"14.00\">value = [360, 474]</text>\n<text text-anchor=\"middle\" x=\"1692.5\" y=\"-436.8\" font-family=\"Helvetica,sans-Serif\" font-size=\"14.00\">class = heart_yes</text>\n</g>\n<!-- 1&#45;&gt;91 -->\n<g id=\"edge25\" class=\"edge\">\n<title>1&#45;&gt;91</title>\n<path fill=\"none\" stroke=\"black\" d=\"M1692.5,-547.91C1692.5,-539.65 1692.5,-530.86 1692.5,-522.3\"/>\n<polygon fill=\"black\" stroke=\"black\" points=\"1696,-522.02 1692.5,-512.02 1689,-522.02 1696,-522.02\"/>\n</g>\n<!-- 3 -->\n<g id=\"node4\" class=\"node\">\n<title>3</title>\n<path fill=\"#e68641\" stroke=\"black\" d=\"M326.5,-393C326.5,-393 200.5,-393 200.5,-393 194.5,-393 188.5,-387 188.5,-381 188.5,-381 188.5,-322 188.5,-322 188.5,-316 194.5,-310 200.5,-310 200.5,-310 326.5,-310 326.5,-310 332.5,-310 338.5,-316 338.5,-322 338.5,-322 338.5,-381 338.5,-381 338.5,-387 332.5,-393 326.5,-393\"/>\n<text text-anchor=\"middle\" x=\"263.5\" y=\"-377.8\" font-family=\"Helvetica,sans-Serif\" font-size=\"14.00\">gender_female &lt;= 0.5</text>\n<text text-anchor=\"middle\" x=\"263.5\" y=\"-362.8\" font-family=\"Helvetica,sans-Serif\" font-size=\"14.00\">entropy = 0.232</text>\n<text text-anchor=\"middle\" x=\"263.5\" y=\"-347.8\" font-family=\"Helvetica,sans-Serif\" font-size=\"14.00\">samples = 529</text>\n<text text-anchor=\"middle\" x=\"263.5\" y=\"-332.8\" font-family=\"Helvetica,sans-Serif\" font-size=\"14.00\">value = [509, 20]</text>\n<text text-anchor=\"middle\" x=\"263.5\" y=\"-317.8\" font-family=\"Helvetica,sans-Serif\" font-size=\"14.00\">class = heart_no</text>\n</g>\n<!-- 2&#45;&gt;3 -->\n<g id=\"edge3\" class=\"edge\">\n<title>2&#45;&gt;3</title>\n<path fill=\"none\" stroke=\"black\" d=\"M616.11,-450.96C543.75,-430.75 427.75,-398.36 348.72,-376.3\"/>\n<polygon fill=\"black\" stroke=\"black\" points=\"349.36,-372.84 338.78,-373.52 347.48,-379.58 349.36,-372.84\"/>\n</g>\n<!-- 28 -->\n<g id=\"node13\" class=\"node\">\n<title>28</title>\n<path fill=\"#efb388\" stroke=\"black\" d=\"M748,-393C748,-393 617,-393 617,-393 611,-393 605,-387 605,-381 605,-381 605,-322 605,-322 605,-316 611,-310 617,-310 617,-310 748,-310 748,-310 754,-310 760,-316 760,-322 760,-322 760,-381 760,-381 760,-387 754,-393 748,-393\"/>\n<text text-anchor=\"middle\" x=\"682.5\" y=\"-377.8\" font-family=\"Helvetica,sans-Serif\" font-size=\"14.00\">family_income &lt;= 4.88</text>\n<text text-anchor=\"middle\" x=\"682.5\" y=\"-362.8\" font-family=\"Helvetica,sans-Serif\" font-size=\"14.00\">entropy = 0.862</text>\n<text text-anchor=\"middle\" x=\"682.5\" y=\"-347.8\" font-family=\"Helvetica,sans-Serif\" font-size=\"14.00\">samples = 1289</text>\n<text text-anchor=\"middle\" x=\"682.5\" y=\"-332.8\" font-family=\"Helvetica,sans-Serif\" font-size=\"14.00\">value = [922, 367]</text>\n<text text-anchor=\"middle\" x=\"682.5\" y=\"-317.8\" font-family=\"Helvetica,sans-Serif\" font-size=\"14.00\">class = heart_no</text>\n</g>\n<!-- 2&#45;&gt;28 -->\n<g id=\"edge12\" class=\"edge\">\n<title>2&#45;&gt;28</title>\n<path fill=\"none\" stroke=\"black\" d=\"M682.5,-428.91C682.5,-420.65 682.5,-411.86 682.5,-403.3\"/>\n<polygon fill=\"black\" stroke=\"black\" points=\"686,-403.02 682.5,-393.02 679,-403.02 686,-403.02\"/>\n</g>\n<!-- 4 -->\n<g id=\"node5\" class=\"node\">\n<title>4</title>\n<path fill=\"#e58139\" stroke=\"black\" d=\"M143.5,-266.5C143.5,-266.5 51.5,-266.5 51.5,-266.5 45.5,-266.5 39.5,-260.5 39.5,-254.5 39.5,-254.5 39.5,-210.5 39.5,-210.5 39.5,-204.5 45.5,-198.5 51.5,-198.5 51.5,-198.5 143.5,-198.5 143.5,-198.5 149.5,-198.5 155.5,-204.5 155.5,-210.5 155.5,-210.5 155.5,-254.5 155.5,-254.5 155.5,-260.5 149.5,-266.5 143.5,-266.5\"/>\n<text text-anchor=\"middle\" x=\"97.5\" y=\"-251.3\" font-family=\"Helvetica,sans-Serif\" font-size=\"14.00\">entropy = 0.0</text>\n<text text-anchor=\"middle\" x=\"97.5\" y=\"-236.3\" font-family=\"Helvetica,sans-Serif\" font-size=\"14.00\">samples = 235</text>\n<text text-anchor=\"middle\" x=\"97.5\" y=\"-221.3\" font-family=\"Helvetica,sans-Serif\" font-size=\"14.00\">value = [235, 0]</text>\n<text text-anchor=\"middle\" x=\"97.5\" y=\"-206.3\" font-family=\"Helvetica,sans-Serif\" font-size=\"14.00\">class = heart_no</text>\n</g>\n<!-- 3&#45;&gt;4 -->\n<g id=\"edge4\" class=\"edge\">\n<title>3&#45;&gt;4</title>\n<path fill=\"none\" stroke=\"black\" d=\"M205.91,-309.91C188.69,-297.77 169.85,-284.49 152.78,-272.46\"/>\n<polygon fill=\"black\" stroke=\"black\" points=\"154.75,-269.57 144.56,-266.67 150.71,-275.29 154.75,-269.57\"/>\n</g>\n<!-- 5 -->\n<g id=\"node6\" class=\"node\">\n<title>5</title>\n<path fill=\"#e78a47\" stroke=\"black\" d=\"M341.5,-274C341.5,-274 185.5,-274 185.5,-274 179.5,-274 173.5,-268 173.5,-262 173.5,-262 173.5,-203 173.5,-203 173.5,-197 179.5,-191 185.5,-191 185.5,-191 341.5,-191 341.5,-191 347.5,-191 353.5,-197 353.5,-203 353.5,-203 353.5,-262 353.5,-262 353.5,-268 347.5,-274 341.5,-274\"/>\n<text text-anchor=\"middle\" x=\"263.5\" y=\"-258.8\" font-family=\"Helvetica,sans-Serif\" font-size=\"14.00\">blood_cholesterol &lt;= 5.315</text>\n<text text-anchor=\"middle\" x=\"263.5\" y=\"-243.8\" font-family=\"Helvetica,sans-Serif\" font-size=\"14.00\">entropy = 0.359</text>\n<text text-anchor=\"middle\" x=\"263.5\" y=\"-228.8\" font-family=\"Helvetica,sans-Serif\" font-size=\"14.00\">samples = 294</text>\n<text text-anchor=\"middle\" x=\"263.5\" y=\"-213.8\" font-family=\"Helvetica,sans-Serif\" font-size=\"14.00\">value = [274, 20]</text>\n<text text-anchor=\"middle\" x=\"263.5\" y=\"-198.8\" font-family=\"Helvetica,sans-Serif\" font-size=\"14.00\">class = heart_no</text>\n</g>\n<!-- 3&#45;&gt;5 -->\n<g id=\"edge5\" class=\"edge\">\n<title>3&#45;&gt;5</title>\n<path fill=\"none\" stroke=\"black\" d=\"M263.5,-309.91C263.5,-301.65 263.5,-292.86 263.5,-284.3\"/>\n<polygon fill=\"black\" stroke=\"black\" points=\"267,-284.02 263.5,-274.02 260,-284.02 267,-284.02\"/>\n</g>\n<!-- 6 -->\n<g id=\"node7\" class=\"node\">\n<title>6</title>\n<path fill=\"#e68540\" stroke=\"black\" d=\"M143,-155C143,-155 12,-155 12,-155 6,-155 0,-149 0,-143 0,-143 0,-84 0,-84 0,-78 6,-72 12,-72 12,-72 143,-72 143,-72 149,-72 155,-78 155,-84 155,-84 155,-143 155,-143 155,-149 149,-155 143,-155\"/>\n<text text-anchor=\"middle\" x=\"77.5\" y=\"-139.8\" font-family=\"Helvetica,sans-Serif\" font-size=\"14.00\">family_income &lt;= 0.46</text>\n<text text-anchor=\"middle\" x=\"77.5\" y=\"-124.8\" font-family=\"Helvetica,sans-Serif\" font-size=\"14.00\">entropy = 0.215</text>\n<text text-anchor=\"middle\" x=\"77.5\" y=\"-109.8\" font-family=\"Helvetica,sans-Serif\" font-size=\"14.00\">samples = 234</text>\n<text text-anchor=\"middle\" x=\"77.5\" y=\"-94.8\" font-family=\"Helvetica,sans-Serif\" font-size=\"14.00\">value = [226, 8]</text>\n<text text-anchor=\"middle\" x=\"77.5\" y=\"-79.8\" font-family=\"Helvetica,sans-Serif\" font-size=\"14.00\">class = heart_no</text>\n</g>\n<!-- 5&#45;&gt;6 -->\n<g id=\"edge6\" class=\"edge\">\n<title>5&#45;&gt;6</title>\n<path fill=\"none\" stroke=\"black\" d=\"M198.97,-190.91C183.39,-181.11 166.63,-170.56 150.68,-160.53\"/>\n<polygon fill=\"black\" stroke=\"black\" points=\"152.25,-157.38 141.92,-155.02 148.52,-163.31 152.25,-157.38\"/>\n</g>\n<!-- 17 -->\n<g id=\"node10\" class=\"node\">\n<title>17</title>\n<path fill=\"#eca06a\" stroke=\"black\" d=\"M341.5,-155C341.5,-155 185.5,-155 185.5,-155 179.5,-155 173.5,-149 173.5,-143 173.5,-143 173.5,-84 173.5,-84 173.5,-78 179.5,-72 185.5,-72 185.5,-72 341.5,-72 341.5,-72 347.5,-72 353.5,-78 353.5,-84 353.5,-84 353.5,-143 353.5,-143 353.5,-149 347.5,-155 341.5,-155\"/>\n<text text-anchor=\"middle\" x=\"263.5\" y=\"-139.8\" font-family=\"Helvetica,sans-Serif\" font-size=\"14.00\">blood_cholesterol &lt;= 5.625</text>\n<text text-anchor=\"middle\" x=\"263.5\" y=\"-124.8\" font-family=\"Helvetica,sans-Serif\" font-size=\"14.00\">entropy = 0.722</text>\n<text text-anchor=\"middle\" x=\"263.5\" y=\"-109.8\" font-family=\"Helvetica,sans-Serif\" font-size=\"14.00\">samples = 60</text>\n<text text-anchor=\"middle\" x=\"263.5\" y=\"-94.8\" font-family=\"Helvetica,sans-Serif\" font-size=\"14.00\">value = [48, 12]</text>\n<text text-anchor=\"middle\" x=\"263.5\" y=\"-79.8\" font-family=\"Helvetica,sans-Serif\" font-size=\"14.00\">class = heart_no</text>\n</g>\n<!-- 5&#45;&gt;17 -->\n<g id=\"edge9\" class=\"edge\">\n<title>5&#45;&gt;17</title>\n<path fill=\"none\" stroke=\"black\" d=\"M263.5,-190.91C263.5,-182.65 263.5,-173.86 263.5,-165.3\"/>\n<polygon fill=\"black\" stroke=\"black\" points=\"267,-165.02 263.5,-155.02 260,-165.02 267,-165.02\"/>\n</g>\n<!-- 7 -->\n<g id=\"node8\" class=\"node\">\n<title>7</title>\n<path fill=\"#c0c0c0\" stroke=\"black\" d=\"M56.5,-36C56.5,-36 26.5,-36 26.5,-36 20.5,-36 14.5,-30 14.5,-24 14.5,-24 14.5,-12 14.5,-12 14.5,-6 20.5,0 26.5,0 26.5,0 56.5,0 56.5,0 62.5,0 68.5,-6 68.5,-12 68.5,-12 68.5,-24 68.5,-24 68.5,-30 62.5,-36 56.5,-36\"/>\n<text text-anchor=\"middle\" x=\"41.5\" y=\"-14.3\" font-family=\"Helvetica,sans-Serif\" font-size=\"14.00\">(...)</text>\n</g>\n<!-- 6&#45;&gt;7 -->\n<g id=\"edge7\" class=\"edge\">\n<title>6&#45;&gt;7</title>\n<path fill=\"none\" stroke=\"black\" d=\"M61.81,-71.76C58.46,-63.04 54.99,-54.04 51.89,-45.99\"/>\n<polygon fill=\"black\" stroke=\"black\" points=\"55.06,-44.48 48.2,-36.41 48.53,-46.99 55.06,-44.48\"/>\n</g>\n<!-- 10 -->\n<g id=\"node9\" class=\"node\">\n<title>10</title>\n<path fill=\"#c0c0c0\" stroke=\"black\" d=\"M128.5,-36C128.5,-36 98.5,-36 98.5,-36 92.5,-36 86.5,-30 86.5,-24 86.5,-24 86.5,-12 86.5,-12 86.5,-6 92.5,0 98.5,0 98.5,0 128.5,0 128.5,0 134.5,0 140.5,-6 140.5,-12 140.5,-12 140.5,-24 140.5,-24 140.5,-30 134.5,-36 128.5,-36\"/>\n<text text-anchor=\"middle\" x=\"113.5\" y=\"-14.3\" font-family=\"Helvetica,sans-Serif\" font-size=\"14.00\">(...)</text>\n</g>\n<!-- 6&#45;&gt;10 -->\n<g id=\"edge8\" class=\"edge\">\n<title>6&#45;&gt;10</title>\n<path fill=\"none\" stroke=\"black\" d=\"M93.19,-71.76C96.54,-63.04 100.01,-54.04 103.11,-45.99\"/>\n<polygon fill=\"black\" stroke=\"black\" points=\"106.47,-46.99 106.8,-36.41 99.94,-44.48 106.47,-46.99\"/>\n</g>\n<!-- 18 -->\n<g id=\"node11\" class=\"node\">\n<title>18</title>\n<path fill=\"#c0c0c0\" stroke=\"black\" d=\"M242.5,-36C242.5,-36 212.5,-36 212.5,-36 206.5,-36 200.5,-30 200.5,-24 200.5,-24 200.5,-12 200.5,-12 200.5,-6 206.5,0 212.5,0 212.5,0 242.5,0 242.5,0 248.5,0 254.5,-6 254.5,-12 254.5,-12 254.5,-24 254.5,-24 254.5,-30 248.5,-36 242.5,-36\"/>\n<text text-anchor=\"middle\" x=\"227.5\" y=\"-14.3\" font-family=\"Helvetica,sans-Serif\" font-size=\"14.00\">(...)</text>\n</g>\n<!-- 17&#45;&gt;18 -->\n<g id=\"edge10\" class=\"edge\">\n<title>17&#45;&gt;18</title>\n<path fill=\"none\" stroke=\"black\" d=\"M247.81,-71.76C244.46,-63.04 240.99,-54.04 237.89,-45.99\"/>\n<polygon fill=\"black\" stroke=\"black\" points=\"241.06,-44.48 234.2,-36.41 234.53,-46.99 241.06,-44.48\"/>\n</g>\n<!-- 27 -->\n<g id=\"node12\" class=\"node\">\n<title>27</title>\n<path fill=\"#c0c0c0\" stroke=\"black\" d=\"M314.5,-36C314.5,-36 284.5,-36 284.5,-36 278.5,-36 272.5,-30 272.5,-24 272.5,-24 272.5,-12 272.5,-12 272.5,-6 278.5,0 284.5,0 284.5,0 314.5,0 314.5,0 320.5,0 326.5,-6 326.5,-12 326.5,-12 326.5,-24 326.5,-24 326.5,-30 320.5,-36 314.5,-36\"/>\n<text text-anchor=\"middle\" x=\"299.5\" y=\"-14.3\" font-family=\"Helvetica,sans-Serif\" font-size=\"14.00\">(...)</text>\n</g>\n<!-- 17&#45;&gt;27 -->\n<g id=\"edge11\" class=\"edge\">\n<title>17&#45;&gt;27</title>\n<path fill=\"none\" stroke=\"black\" d=\"M279.19,-71.76C282.54,-63.04 286.01,-54.04 289.11,-45.99\"/>\n<polygon fill=\"black\" stroke=\"black\" points=\"292.47,-46.99 292.8,-36.41 285.94,-44.48 292.47,-46.99\"/>\n</g>\n<!-- 29 -->\n<g id=\"node14\" class=\"node\">\n<title>29</title>\n<path fill=\"#f3c4a3\" stroke=\"black\" d=\"M668,-274C668,-274 537,-274 537,-274 531,-274 525,-268 525,-262 525,-262 525,-203 525,-203 525,-197 531,-191 537,-191 537,-191 668,-191 668,-191 674,-191 680,-197 680,-203 680,-203 680,-262 680,-262 680,-268 674,-274 668,-274\"/>\n<text text-anchor=\"middle\" x=\"602.5\" y=\"-258.8\" font-family=\"Helvetica,sans-Serif\" font-size=\"14.00\">family_income &lt;= 2.92</text>\n<text text-anchor=\"middle\" x=\"602.5\" y=\"-243.8\" font-family=\"Helvetica,sans-Serif\" font-size=\"14.00\">entropy = 0.932</text>\n<text text-anchor=\"middle\" x=\"602.5\" y=\"-228.8\" font-family=\"Helvetica,sans-Serif\" font-size=\"14.00\">samples = 1026</text>\n<text text-anchor=\"middle\" x=\"602.5\" y=\"-213.8\" font-family=\"Helvetica,sans-Serif\" font-size=\"14.00\">value = [669, 357]</text>\n<text text-anchor=\"middle\" x=\"602.5\" y=\"-198.8\" font-family=\"Helvetica,sans-Serif\" font-size=\"14.00\">class = heart_no</text>\n</g>\n<!-- 28&#45;&gt;29 -->\n<g id=\"edge13\" class=\"edge\">\n<title>28&#45;&gt;29</title>\n<path fill=\"none\" stroke=\"black\" d=\"M654.74,-309.91C648.66,-301.01 642.16,-291.51 635.89,-282.33\"/>\n<polygon fill=\"black\" stroke=\"black\" points=\"638.74,-280.3 630.21,-274.02 632.96,-284.25 638.74,-280.3\"/>\n</g>\n<!-- 82 -->\n<g id=\"node21\" class=\"node\">\n<title>82</title>\n<path fill=\"#e68641\" stroke=\"black\" d=\"M814.5,-274C814.5,-274 710.5,-274 710.5,-274 704.5,-274 698.5,-268 698.5,-262 698.5,-262 698.5,-203 698.5,-203 698.5,-197 704.5,-191 710.5,-191 710.5,-191 814.5,-191 814.5,-191 820.5,-191 826.5,-197 826.5,-203 826.5,-203 826.5,-262 826.5,-262 826.5,-268 820.5,-274 814.5,-274\"/>\n<text text-anchor=\"middle\" x=\"762.5\" y=\"-258.8\" font-family=\"Helvetica,sans-Serif\" font-size=\"14.00\">re_hispanic &lt;= 0.5</text>\n<text text-anchor=\"middle\" x=\"762.5\" y=\"-243.8\" font-family=\"Helvetica,sans-Serif\" font-size=\"14.00\">entropy = 0.233</text>\n<text text-anchor=\"middle\" x=\"762.5\" y=\"-228.8\" font-family=\"Helvetica,sans-Serif\" font-size=\"14.00\">samples = 263</text>\n<text text-anchor=\"middle\" x=\"762.5\" y=\"-213.8\" font-family=\"Helvetica,sans-Serif\" font-size=\"14.00\">value = [253, 10]</text>\n<text text-anchor=\"middle\" x=\"762.5\" y=\"-198.8\" font-family=\"Helvetica,sans-Serif\" font-size=\"14.00\">class = heart_no</text>\n</g>\n<!-- 28&#45;&gt;82 -->\n<g id=\"edge20\" class=\"edge\">\n<title>28&#45;&gt;82</title>\n<path fill=\"none\" stroke=\"black\" d=\"M710.26,-309.91C716.34,-301.01 722.84,-291.51 729.11,-282.33\"/>\n<polygon fill=\"black\" stroke=\"black\" points=\"732.04,-284.25 734.79,-274.02 726.26,-280.3 732.04,-284.25\"/>\n</g>\n<!-- 30 -->\n<g id=\"node15\" class=\"node\">\n<title>30</title>\n<path fill=\"#f5cfb4\" stroke=\"black\" d=\"M497.5,-155C497.5,-155 383.5,-155 383.5,-155 377.5,-155 371.5,-149 371.5,-143 371.5,-143 371.5,-84 371.5,-84 371.5,-78 377.5,-72 383.5,-72 383.5,-72 497.5,-72 497.5,-72 503.5,-72 509.5,-78 509.5,-84 509.5,-84 509.5,-143 509.5,-143 509.5,-149 503.5,-155 497.5,-155\"/>\n<text text-anchor=\"middle\" x=\"440.5\" y=\"-139.8\" font-family=\"Helvetica,sans-Serif\" font-size=\"14.00\">diastolic_bp &lt;= 71.0</text>\n<text text-anchor=\"middle\" x=\"440.5\" y=\"-124.8\" font-family=\"Helvetica,sans-Serif\" font-size=\"14.00\">entropy = 0.96</text>\n<text text-anchor=\"middle\" x=\"440.5\" y=\"-109.8\" font-family=\"Helvetica,sans-Serif\" font-size=\"14.00\">samples = 812</text>\n<text text-anchor=\"middle\" x=\"440.5\" y=\"-94.8\" font-family=\"Helvetica,sans-Serif\" font-size=\"14.00\">value = [501, 311]</text>\n<text text-anchor=\"middle\" x=\"440.5\" y=\"-79.8\" font-family=\"Helvetica,sans-Serif\" font-size=\"14.00\">class = heart_no</text>\n</g>\n<!-- 29&#45;&gt;30 -->\n<g id=\"edge14\" class=\"edge\">\n<title>29&#45;&gt;30</title>\n<path fill=\"none\" stroke=\"black\" d=\"M546.29,-190.91C532.98,-181.29 518.67,-170.95 505.01,-161.09\"/>\n<polygon fill=\"black\" stroke=\"black\" points=\"506.76,-158.04 496.61,-155.02 502.66,-163.71 506.76,-158.04\"/>\n</g>\n<!-- 63 -->\n<g id=\"node18\" class=\"node\">\n<title>63</title>\n<path fill=\"#eca46f\" stroke=\"black\" d=\"M671,-155C671,-155 540,-155 540,-155 534,-155 528,-149 528,-143 528,-143 528,-84 528,-84 528,-78 534,-72 540,-72 540,-72 671,-72 671,-72 677,-72 683,-78 683,-84 683,-84 683,-143 683,-143 683,-149 677,-155 671,-155\"/>\n<text text-anchor=\"middle\" x=\"605.5\" y=\"-139.8\" font-family=\"Helvetica,sans-Serif\" font-size=\"14.00\">family_income &lt;= 4.27</text>\n<text text-anchor=\"middle\" x=\"605.5\" y=\"-124.8\" font-family=\"Helvetica,sans-Serif\" font-size=\"14.00\">entropy = 0.751</text>\n<text text-anchor=\"middle\" x=\"605.5\" y=\"-109.8\" font-family=\"Helvetica,sans-Serif\" font-size=\"14.00\">samples = 214</text>\n<text text-anchor=\"middle\" x=\"605.5\" y=\"-94.8\" font-family=\"Helvetica,sans-Serif\" font-size=\"14.00\">value = [168, 46]</text>\n<text text-anchor=\"middle\" x=\"605.5\" y=\"-79.8\" font-family=\"Helvetica,sans-Serif\" font-size=\"14.00\">class = heart_no</text>\n</g>\n<!-- 29&#45;&gt;63 -->\n<g id=\"edge17\" class=\"edge\">\n<title>29&#45;&gt;63</title>\n<path fill=\"none\" stroke=\"black\" d=\"M603.54,-190.91C603.75,-182.56 603.98,-173.67 604.2,-165.02\"/>\n<polygon fill=\"black\" stroke=\"black\" points=\"607.7,-165.11 604.46,-155.02 600.71,-164.93 607.7,-165.11\"/>\n</g>\n<!-- 31 -->\n<g id=\"node16\" class=\"node\">\n<title>31</title>\n<path fill=\"#c0c0c0\" stroke=\"black\" d=\"M439.5,-36C439.5,-36 409.5,-36 409.5,-36 403.5,-36 397.5,-30 397.5,-24 397.5,-24 397.5,-12 397.5,-12 397.5,-6 403.5,0 409.5,0 409.5,0 439.5,0 439.5,0 445.5,0 451.5,-6 451.5,-12 451.5,-12 451.5,-24 451.5,-24 451.5,-30 445.5,-36 439.5,-36\"/>\n<text text-anchor=\"middle\" x=\"424.5\" y=\"-14.3\" font-family=\"Helvetica,sans-Serif\" font-size=\"14.00\">(...)</text>\n</g>\n<!-- 30&#45;&gt;31 -->\n<g id=\"edge15\" class=\"edge\">\n<title>30&#45;&gt;31</title>\n<path fill=\"none\" stroke=\"black\" d=\"M433.53,-71.76C432.07,-63.24 430.56,-54.44 429.21,-46.53\"/>\n<polygon fill=\"black\" stroke=\"black\" points=\"432.62,-45.67 427.48,-36.41 425.72,-46.85 432.62,-45.67\"/>\n</g>\n<!-- 44 -->\n<g id=\"node17\" class=\"node\">\n<title>44</title>\n<path fill=\"#c0c0c0\" stroke=\"black\" d=\"M511.5,-36C511.5,-36 481.5,-36 481.5,-36 475.5,-36 469.5,-30 469.5,-24 469.5,-24 469.5,-12 469.5,-12 469.5,-6 475.5,0 481.5,0 481.5,0 511.5,0 511.5,0 517.5,0 523.5,-6 523.5,-12 523.5,-12 523.5,-24 523.5,-24 523.5,-30 517.5,-36 511.5,-36\"/>\n<text text-anchor=\"middle\" x=\"496.5\" y=\"-14.3\" font-family=\"Helvetica,sans-Serif\" font-size=\"14.00\">(...)</text>\n</g>\n<!-- 30&#45;&gt;44 -->\n<g id=\"edge16\" class=\"edge\">\n<title>30&#45;&gt;44</title>\n<path fill=\"none\" stroke=\"black\" d=\"M464.9,-71.76C470.3,-62.75 475.87,-53.44 480.81,-45.19\"/>\n<polygon fill=\"black\" stroke=\"black\" points=\"483.94,-46.78 486.08,-36.41 477.93,-43.19 483.94,-46.78\"/>\n</g>\n<!-- 64 -->\n<g id=\"node19\" class=\"node\">\n<title>64</title>\n<path fill=\"#c0c0c0\" stroke=\"black\" d=\"M602.5,-36C602.5,-36 572.5,-36 572.5,-36 566.5,-36 560.5,-30 560.5,-24 560.5,-24 560.5,-12 560.5,-12 560.5,-6 566.5,0 572.5,0 572.5,0 602.5,0 602.5,0 608.5,0 614.5,-6 614.5,-12 614.5,-12 614.5,-24 614.5,-24 614.5,-30 608.5,-36 602.5,-36\"/>\n<text text-anchor=\"middle\" x=\"587.5\" y=\"-14.3\" font-family=\"Helvetica,sans-Serif\" font-size=\"14.00\">(...)</text>\n</g>\n<!-- 63&#45;&gt;64 -->\n<g id=\"edge18\" class=\"edge\">\n<title>63&#45;&gt;64</title>\n<path fill=\"none\" stroke=\"black\" d=\"M597.66,-71.76C596,-63.14 594.28,-54.24 592.75,-46.26\"/>\n<polygon fill=\"black\" stroke=\"black\" points=\"596.18,-45.56 590.85,-36.41 589.3,-46.89 596.18,-45.56\"/>\n</g>\n<!-- 73 -->\n<g id=\"node20\" class=\"node\">\n<title>73</title>\n<path fill=\"#c0c0c0\" stroke=\"black\" d=\"M674.5,-36C674.5,-36 644.5,-36 644.5,-36 638.5,-36 632.5,-30 632.5,-24 632.5,-24 632.5,-12 632.5,-12 632.5,-6 638.5,0 644.5,0 644.5,0 674.5,0 674.5,0 680.5,0 686.5,-6 686.5,-12 686.5,-12 686.5,-24 686.5,-24 686.5,-30 680.5,-36 674.5,-36\"/>\n<text text-anchor=\"middle\" x=\"659.5\" y=\"-14.3\" font-family=\"Helvetica,sans-Serif\" font-size=\"14.00\">(...)</text>\n</g>\n<!-- 63&#45;&gt;73 -->\n<g id=\"edge19\" class=\"edge\">\n<title>63&#45;&gt;73</title>\n<path fill=\"none\" stroke=\"black\" d=\"M629.03,-71.76C634.23,-62.75 639.61,-53.44 644.37,-45.19\"/>\n<polygon fill=\"black\" stroke=\"black\" points=\"647.48,-46.82 649.45,-36.41 641.42,-43.31 647.48,-46.82\"/>\n</g>\n<!-- 83 -->\n<g id=\"node22\" class=\"node\">\n<title>83</title>\n<path fill=\"#e58139\" stroke=\"black\" d=\"M805.5,-147.5C805.5,-147.5 713.5,-147.5 713.5,-147.5 707.5,-147.5 701.5,-141.5 701.5,-135.5 701.5,-135.5 701.5,-91.5 701.5,-91.5 701.5,-85.5 707.5,-79.5 713.5,-79.5 713.5,-79.5 805.5,-79.5 805.5,-79.5 811.5,-79.5 817.5,-85.5 817.5,-91.5 817.5,-91.5 817.5,-135.5 817.5,-135.5 817.5,-141.5 811.5,-147.5 805.5,-147.5\"/>\n<text text-anchor=\"middle\" x=\"759.5\" y=\"-132.3\" font-family=\"Helvetica,sans-Serif\" font-size=\"14.00\">entropy = 0.0</text>\n<text text-anchor=\"middle\" x=\"759.5\" y=\"-117.3\" font-family=\"Helvetica,sans-Serif\" font-size=\"14.00\">samples = 218</text>\n<text text-anchor=\"middle\" x=\"759.5\" y=\"-102.3\" font-family=\"Helvetica,sans-Serif\" font-size=\"14.00\">value = [218, 0]</text>\n<text text-anchor=\"middle\" x=\"759.5\" y=\"-87.3\" font-family=\"Helvetica,sans-Serif\" font-size=\"14.00\">class = heart_no</text>\n</g>\n<!-- 82&#45;&gt;83 -->\n<g id=\"edge21\" class=\"edge\">\n<title>82&#45;&gt;83</title>\n<path fill=\"none\" stroke=\"black\" d=\"M761.46,-190.91C761.18,-180.2 760.89,-168.62 760.61,-157.78\"/>\n<polygon fill=\"black\" stroke=\"black\" points=\"764.11,-157.57 760.35,-147.67 757.11,-157.75 764.11,-157.57\"/>\n</g>\n<!-- 84 -->\n<g id=\"node23\" class=\"node\">\n<title>84</title>\n<path fill=\"#eca572\" stroke=\"black\" d=\"M939.5,-155C939.5,-155 847.5,-155 847.5,-155 841.5,-155 835.5,-149 835.5,-143 835.5,-143 835.5,-84 835.5,-84 835.5,-78 841.5,-72 847.5,-72 847.5,-72 939.5,-72 939.5,-72 945.5,-72 951.5,-78 951.5,-84 951.5,-84 951.5,-143 951.5,-143 951.5,-149 945.5,-155 939.5,-155\"/>\n<text text-anchor=\"middle\" x=\"893.5\" y=\"-139.8\" font-family=\"Helvetica,sans-Serif\" font-size=\"14.00\">age &lt;= 48.5</text>\n<text text-anchor=\"middle\" x=\"893.5\" y=\"-124.8\" font-family=\"Helvetica,sans-Serif\" font-size=\"14.00\">entropy = 0.764</text>\n<text text-anchor=\"middle\" x=\"893.5\" y=\"-109.8\" font-family=\"Helvetica,sans-Serif\" font-size=\"14.00\">samples = 45</text>\n<text text-anchor=\"middle\" x=\"893.5\" y=\"-94.8\" font-family=\"Helvetica,sans-Serif\" font-size=\"14.00\">value = [35, 10]</text>\n<text text-anchor=\"middle\" x=\"893.5\" y=\"-79.8\" font-family=\"Helvetica,sans-Serif\" font-size=\"14.00\">class = heart_no</text>\n</g>\n<!-- 82&#45;&gt;84 -->\n<g id=\"edge22\" class=\"edge\">\n<title>82&#45;&gt;84</title>\n<path fill=\"none\" stroke=\"black\" d=\"M807.95,-190.91C818.42,-181.56 829.64,-171.54 840.4,-161.93\"/>\n<polygon fill=\"black\" stroke=\"black\" points=\"843,-164.29 848.13,-155.02 838.34,-159.07 843,-164.29\"/>\n</g>\n<!-- 85 -->\n<g id=\"node24\" class=\"node\">\n<title>85</title>\n<path fill=\"#c0c0c0\" stroke=\"black\" d=\"M854.5,-36C854.5,-36 824.5,-36 824.5,-36 818.5,-36 812.5,-30 812.5,-24 812.5,-24 812.5,-12 812.5,-12 812.5,-6 818.5,0 824.5,0 824.5,0 854.5,0 854.5,0 860.5,0 866.5,-6 866.5,-12 866.5,-12 866.5,-24 866.5,-24 866.5,-30 860.5,-36 854.5,-36\"/>\n<text text-anchor=\"middle\" x=\"839.5\" y=\"-14.3\" font-family=\"Helvetica,sans-Serif\" font-size=\"14.00\">(...)</text>\n</g>\n<!-- 84&#45;&gt;85 -->\n<g id=\"edge23\" class=\"edge\">\n<title>84&#45;&gt;85</title>\n<path fill=\"none\" stroke=\"black\" d=\"M869.97,-71.76C864.77,-62.75 859.39,-53.44 854.63,-45.19\"/>\n<polygon fill=\"black\" stroke=\"black\" points=\"857.58,-43.31 849.55,-36.41 851.52,-46.82 857.58,-43.31\"/>\n</g>\n<!-- 86 -->\n<g id=\"node25\" class=\"node\">\n<title>86</title>\n<path fill=\"#c0c0c0\" stroke=\"black\" d=\"M926.5,-36C926.5,-36 896.5,-36 896.5,-36 890.5,-36 884.5,-30 884.5,-24 884.5,-24 884.5,-12 884.5,-12 884.5,-6 890.5,0 896.5,0 896.5,0 926.5,0 926.5,0 932.5,0 938.5,-6 938.5,-12 938.5,-12 938.5,-24 938.5,-24 938.5,-30 932.5,-36 926.5,-36\"/>\n<text text-anchor=\"middle\" x=\"911.5\" y=\"-14.3\" font-family=\"Helvetica,sans-Serif\" font-size=\"14.00\">(...)</text>\n</g>\n<!-- 84&#45;&gt;86 -->\n<g id=\"edge24\" class=\"edge\">\n<title>84&#45;&gt;86</title>\n<path fill=\"none\" stroke=\"black\" d=\"M901.34,-71.76C903,-63.14 904.72,-54.24 906.25,-46.26\"/>\n<polygon fill=\"black\" stroke=\"black\" points=\"909.7,-46.89 908.15,-36.41 902.82,-45.56 909.7,-46.89\"/>\n</g>\n<!-- 92 -->\n<g id=\"node27\" class=\"node\">\n<title>92</title>\n<path fill=\"#fae6d7\" stroke=\"black\" d=\"M1506,-393C1506,-393 1375,-393 1375,-393 1369,-393 1363,-387 1363,-381 1363,-381 1363,-322 1363,-322 1363,-316 1369,-310 1375,-310 1375,-310 1506,-310 1506,-310 1512,-310 1518,-316 1518,-322 1518,-322 1518,-381 1518,-381 1518,-387 1512,-393 1506,-393\"/>\n<text text-anchor=\"middle\" x=\"1440.5\" y=\"-377.8\" font-family=\"Helvetica,sans-Serif\" font-size=\"14.00\">family_income &lt;= 4.17</text>\n<text text-anchor=\"middle\" x=\"1440.5\" y=\"-362.8\" font-family=\"Helvetica,sans-Serif\" font-size=\"14.00\">entropy = 0.991</text>\n<text text-anchor=\"middle\" x=\"1440.5\" y=\"-347.8\" font-family=\"Helvetica,sans-Serif\" font-size=\"14.00\">samples = 448</text>\n<text text-anchor=\"middle\" x=\"1440.5\" y=\"-332.8\" font-family=\"Helvetica,sans-Serif\" font-size=\"14.00\">value = [249, 199]</text>\n<text text-anchor=\"middle\" x=\"1440.5\" y=\"-317.8\" font-family=\"Helvetica,sans-Serif\" font-size=\"14.00\">class = heart_no</text>\n</g>\n<!-- 91&#45;&gt;92 -->\n<g id=\"edge26\" class=\"edge\">\n<title>91&#45;&gt;92</title>\n<path fill=\"none\" stroke=\"black\" d=\"M1629.88,-440.43C1598.97,-426.08 1561.18,-408.53 1527.51,-392.9\"/>\n<polygon fill=\"black\" stroke=\"black\" points=\"1528.67,-389.58 1518.13,-388.54 1525.72,-395.93 1528.67,-389.58\"/>\n</g>\n<!-- 139 -->\n<g id=\"node40\" class=\"node\">\n<title>139</title>\n<path fill=\"#89c5ef\" stroke=\"black\" d=\"M1834,-393C1834,-393 1733,-393 1733,-393 1727,-393 1721,-387 1721,-381 1721,-381 1721,-322 1721,-322 1721,-316 1727,-310 1733,-310 1733,-310 1834,-310 1834,-310 1840,-310 1846,-316 1846,-322 1846,-322 1846,-381 1846,-381 1846,-387 1840,-393 1834,-393\"/>\n<text text-anchor=\"middle\" x=\"1783.5\" y=\"-377.8\" font-family=\"Helvetica,sans-Serif\" font-size=\"14.00\">age &lt;= 58.5</text>\n<text text-anchor=\"middle\" x=\"1783.5\" y=\"-362.8\" font-family=\"Helvetica,sans-Serif\" font-size=\"14.00\">entropy = 0.866</text>\n<text text-anchor=\"middle\" x=\"1783.5\" y=\"-347.8\" font-family=\"Helvetica,sans-Serif\" font-size=\"14.00\">samples = 386</text>\n<text text-anchor=\"middle\" x=\"1783.5\" y=\"-332.8\" font-family=\"Helvetica,sans-Serif\" font-size=\"14.00\">value = [111, 275]</text>\n<text text-anchor=\"middle\" x=\"1783.5\" y=\"-317.8\" font-family=\"Helvetica,sans-Serif\" font-size=\"14.00\">class = heart_yes</text>\n</g>\n<!-- 91&#45;&gt;139 -->\n<g id=\"edge39\" class=\"edge\">\n<title>91&#45;&gt;139</title>\n<path fill=\"none\" stroke=\"black\" d=\"M1724.07,-428.91C1731.06,-419.92 1738.53,-410.32 1745.74,-401.05\"/>\n<polygon fill=\"black\" stroke=\"black\" points=\"1748.61,-403.06 1751.98,-393.02 1743.08,-398.77 1748.61,-403.06\"/>\n</g>\n<!-- 93 -->\n<g id=\"node28\" class=\"node\">\n<title>93</title>\n<path fill=\"#f9fcfe\" stroke=\"black\" d=\"M1241,-274C1241,-274 1140,-274 1140,-274 1134,-274 1128,-268 1128,-262 1128,-262 1128,-203 1128,-203 1128,-197 1134,-191 1140,-191 1140,-191 1241,-191 1241,-191 1247,-191 1253,-197 1253,-203 1253,-203 1253,-262 1253,-262 1253,-268 1247,-274 1241,-274\"/>\n<text text-anchor=\"middle\" x=\"1190.5\" y=\"-258.8\" font-family=\"Helvetica,sans-Serif\" font-size=\"14.00\">age &lt;= 42.5</text>\n<text text-anchor=\"middle\" x=\"1190.5\" y=\"-243.8\" font-family=\"Helvetica,sans-Serif\" font-size=\"14.00\">entropy = 1.0</text>\n<text text-anchor=\"middle\" x=\"1190.5\" y=\"-228.8\" font-family=\"Helvetica,sans-Serif\" font-size=\"14.00\">samples = 380</text>\n<text text-anchor=\"middle\" x=\"1190.5\" y=\"-213.8\" font-family=\"Helvetica,sans-Serif\" font-size=\"14.00\">value = [187, 193]</text>\n<text text-anchor=\"middle\" x=\"1190.5\" y=\"-198.8\" font-family=\"Helvetica,sans-Serif\" font-size=\"14.00\">class = heart_yes</text>\n</g>\n<!-- 92&#45;&gt;93 -->\n<g id=\"edge27\" class=\"edge\">\n<title>92&#45;&gt;93</title>\n<path fill=\"none\" stroke=\"black\" d=\"M1362.77,-314.12C1330.68,-299.1 1293.71,-281.8 1262.27,-267.09\"/>\n<polygon fill=\"black\" stroke=\"black\" points=\"1263.67,-263.88 1253.13,-262.81 1260.7,-270.22 1263.67,-263.88\"/>\n</g>\n<!-- 132 -->\n<g id=\"node35\" class=\"node\">\n<title>132</title>\n<path fill=\"#e88d4c\" stroke=\"black\" d=\"M1526,-274C1526,-274 1355,-274 1355,-274 1349,-274 1343,-268 1343,-262 1343,-262 1343,-203 1343,-203 1343,-197 1349,-191 1355,-191 1355,-191 1526,-191 1526,-191 1532,-191 1538,-197 1538,-203 1538,-203 1538,-262 1538,-262 1538,-268 1532,-274 1526,-274\"/>\n<text text-anchor=\"middle\" x=\"1440.5\" y=\"-258.8\" font-family=\"Helvetica,sans-Serif\" font-size=\"14.00\">blood_pressure_sys &lt;= 159.0</text>\n<text text-anchor=\"middle\" x=\"1440.5\" y=\"-243.8\" font-family=\"Helvetica,sans-Serif\" font-size=\"14.00\">entropy = 0.431</text>\n<text text-anchor=\"middle\" x=\"1440.5\" y=\"-228.8\" font-family=\"Helvetica,sans-Serif\" font-size=\"14.00\">samples = 68</text>\n<text text-anchor=\"middle\" x=\"1440.5\" y=\"-213.8\" font-family=\"Helvetica,sans-Serif\" font-size=\"14.00\">value = [62, 6]</text>\n<text text-anchor=\"middle\" x=\"1440.5\" y=\"-198.8\" font-family=\"Helvetica,sans-Serif\" font-size=\"14.00\">class = heart_no</text>\n</g>\n<!-- 92&#45;&gt;132 -->\n<g id=\"edge34\" class=\"edge\">\n<title>92&#45;&gt;132</title>\n<path fill=\"none\" stroke=\"black\" d=\"M1440.5,-309.91C1440.5,-301.65 1440.5,-292.86 1440.5,-284.3\"/>\n<polygon fill=\"black\" stroke=\"black\" points=\"1444,-284.02 1440.5,-274.02 1437,-284.02 1444,-284.02\"/>\n</g>\n<!-- 94 -->\n<g id=\"node29\" class=\"node\">\n<title>94</title>\n<path fill=\"#e78c49\" stroke=\"black\" d=\"M1073.5,-155C1073.5,-155 981.5,-155 981.5,-155 975.5,-155 969.5,-149 969.5,-143 969.5,-143 969.5,-84 969.5,-84 969.5,-78 975.5,-72 981.5,-72 981.5,-72 1073.5,-72 1073.5,-72 1079.5,-72 1085.5,-78 1085.5,-84 1085.5,-84 1085.5,-143 1085.5,-143 1085.5,-149 1079.5,-155 1073.5,-155\"/>\n<text text-anchor=\"middle\" x=\"1027.5\" y=\"-139.8\" font-family=\"Helvetica,sans-Serif\" font-size=\"14.00\">BMI &lt;= 17.05</text>\n<text text-anchor=\"middle\" x=\"1027.5\" y=\"-124.8\" font-family=\"Helvetica,sans-Serif\" font-size=\"14.00\">entropy = 0.391</text>\n<text text-anchor=\"middle\" x=\"1027.5\" y=\"-109.8\" font-family=\"Helvetica,sans-Serif\" font-size=\"14.00\">samples = 39</text>\n<text text-anchor=\"middle\" x=\"1027.5\" y=\"-94.8\" font-family=\"Helvetica,sans-Serif\" font-size=\"14.00\">value = [36, 3]</text>\n<text text-anchor=\"middle\" x=\"1027.5\" y=\"-79.8\" font-family=\"Helvetica,sans-Serif\" font-size=\"14.00\">class = heart_no</text>\n</g>\n<!-- 93&#45;&gt;94 -->\n<g id=\"edge28\" class=\"edge\">\n<title>93&#45;&gt;94</title>\n<path fill=\"none\" stroke=\"black\" d=\"M1133.95,-190.91C1120.55,-181.29 1106.15,-170.95 1092.41,-161.09\"/>\n<polygon fill=\"black\" stroke=\"black\" points=\"1094.12,-158.01 1083.95,-155.02 1090.03,-163.7 1094.12,-158.01\"/>\n</g>\n<!-- 99 -->\n<g id=\"node32\" class=\"node\">\n<title>99</title>\n<path fill=\"#d6ebfa\" stroke=\"black\" d=\"M1265,-155C1265,-155 1116,-155 1116,-155 1110,-155 1104,-149 1104,-143 1104,-143 1104,-84 1104,-84 1104,-78 1110,-72 1116,-72 1116,-72 1265,-72 1265,-72 1271,-72 1277,-78 1277,-84 1277,-84 1277,-143 1277,-143 1277,-149 1271,-155 1265,-155\"/>\n<text text-anchor=\"middle\" x=\"1190.5\" y=\"-139.8\" font-family=\"Helvetica,sans-Serif\" font-size=\"14.00\">blood_cholesterol &lt;= 3.79</text>\n<text text-anchor=\"middle\" x=\"1190.5\" y=\"-124.8\" font-family=\"Helvetica,sans-Serif\" font-size=\"14.00\">entropy = 0.991</text>\n<text text-anchor=\"middle\" x=\"1190.5\" y=\"-109.8\" font-family=\"Helvetica,sans-Serif\" font-size=\"14.00\">samples = 341</text>\n<text text-anchor=\"middle\" x=\"1190.5\" y=\"-94.8\" font-family=\"Helvetica,sans-Serif\" font-size=\"14.00\">value = [151, 190]</text>\n<text text-anchor=\"middle\" x=\"1190.5\" y=\"-79.8\" font-family=\"Helvetica,sans-Serif\" font-size=\"14.00\">class = heart_yes</text>\n</g>\n<!-- 93&#45;&gt;99 -->\n<g id=\"edge31\" class=\"edge\">\n<title>93&#45;&gt;99</title>\n<path fill=\"none\" stroke=\"black\" d=\"M1190.5,-190.91C1190.5,-182.65 1190.5,-173.86 1190.5,-165.3\"/>\n<polygon fill=\"black\" stroke=\"black\" points=\"1194,-165.02 1190.5,-155.02 1187,-165.02 1194,-165.02\"/>\n</g>\n<!-- 95 -->\n<g id=\"node30\" class=\"node\">\n<title>95</title>\n<path fill=\"#c0c0c0\" stroke=\"black\" d=\"M1002.5,-36C1002.5,-36 972.5,-36 972.5,-36 966.5,-36 960.5,-30 960.5,-24 960.5,-24 960.5,-12 960.5,-12 960.5,-6 966.5,0 972.5,0 972.5,0 1002.5,0 1002.5,0 1008.5,0 1014.5,-6 1014.5,-12 1014.5,-12 1014.5,-24 1014.5,-24 1014.5,-30 1008.5,-36 1002.5,-36\"/>\n<text text-anchor=\"middle\" x=\"987.5\" y=\"-14.3\" font-family=\"Helvetica,sans-Serif\" font-size=\"14.00\">(...)</text>\n</g>\n<!-- 94&#45;&gt;95 -->\n<g id=\"edge29\" class=\"edge\">\n<title>94&#45;&gt;95</title>\n<path fill=\"none\" stroke=\"black\" d=\"M1010.07,-71.76C1006.3,-62.94 1002.4,-53.84 998.93,-45.72\"/>\n<polygon fill=\"black\" stroke=\"black\" points=\"1002.1,-44.22 994.95,-36.41 995.66,-46.98 1002.1,-44.22\"/>\n</g>\n<!-- 98 -->\n<g id=\"node31\" class=\"node\">\n<title>98</title>\n<path fill=\"#c0c0c0\" stroke=\"black\" d=\"M1074.5,-36C1074.5,-36 1044.5,-36 1044.5,-36 1038.5,-36 1032.5,-30 1032.5,-24 1032.5,-24 1032.5,-12 1032.5,-12 1032.5,-6 1038.5,0 1044.5,0 1044.5,0 1074.5,0 1074.5,0 1080.5,0 1086.5,-6 1086.5,-12 1086.5,-12 1086.5,-24 1086.5,-24 1086.5,-30 1080.5,-36 1074.5,-36\"/>\n<text text-anchor=\"middle\" x=\"1059.5\" y=\"-14.3\" font-family=\"Helvetica,sans-Serif\" font-size=\"14.00\">(...)</text>\n</g>\n<!-- 94&#45;&gt;98 -->\n<g id=\"edge30\" class=\"edge\">\n<title>94&#45;&gt;98</title>\n<path fill=\"none\" stroke=\"black\" d=\"M1041.44,-71.76C1044.43,-63.04 1047.51,-54.04 1050.26,-45.99\"/>\n<polygon fill=\"black\" stroke=\"black\" points=\"1053.62,-47 1053.54,-36.41 1046.99,-44.73 1053.62,-47\"/>\n</g>\n<!-- 100 -->\n<g id=\"node33\" class=\"node\">\n<title>100</title>\n<path fill=\"#c0c0c0\" stroke=\"black\" d=\"M1148.5,-36C1148.5,-36 1118.5,-36 1118.5,-36 1112.5,-36 1106.5,-30 1106.5,-24 1106.5,-24 1106.5,-12 1106.5,-12 1106.5,-6 1112.5,0 1118.5,0 1118.5,0 1148.5,0 1148.5,0 1154.5,0 1160.5,-6 1160.5,-12 1160.5,-12 1160.5,-24 1160.5,-24 1160.5,-30 1154.5,-36 1148.5,-36\"/>\n<text text-anchor=\"middle\" x=\"1133.5\" y=\"-14.3\" font-family=\"Helvetica,sans-Serif\" font-size=\"14.00\">(...)</text>\n</g>\n<!-- 99&#45;&gt;100 -->\n<g id=\"edge32\" class=\"edge\">\n<title>99&#45;&gt;100</title>\n<path fill=\"none\" stroke=\"black\" d=\"M1165.66,-71.76C1160.17,-62.75 1154.49,-53.44 1149.47,-45.19\"/>\n<polygon fill=\"black\" stroke=\"black\" points=\"1152.3,-43.12 1144.11,-36.41 1146.33,-46.77 1152.3,-43.12\"/>\n</g>\n<!-- 115 -->\n<g id=\"node34\" class=\"node\">\n<title>115</title>\n<path fill=\"#c0c0c0\" stroke=\"black\" d=\"M1220.5,-36C1220.5,-36 1190.5,-36 1190.5,-36 1184.5,-36 1178.5,-30 1178.5,-24 1178.5,-24 1178.5,-12 1178.5,-12 1178.5,-6 1184.5,0 1190.5,0 1190.5,0 1220.5,0 1220.5,0 1226.5,0 1232.5,-6 1232.5,-12 1232.5,-12 1232.5,-24 1232.5,-24 1232.5,-30 1226.5,-36 1220.5,-36\"/>\n<text text-anchor=\"middle\" x=\"1205.5\" y=\"-14.3\" font-family=\"Helvetica,sans-Serif\" font-size=\"14.00\">(...)</text>\n</g>\n<!-- 99&#45;&gt;115 -->\n<g id=\"edge33\" class=\"edge\">\n<title>99&#45;&gt;115</title>\n<path fill=\"none\" stroke=\"black\" d=\"M1197.04,-71.76C1198.4,-63.24 1199.81,-54.44 1201.08,-46.53\"/>\n<polygon fill=\"black\" stroke=\"black\" points=\"1204.58,-46.83 1202.71,-36.41 1197.67,-45.72 1204.58,-46.83\"/>\n</g>\n<!-- 133 -->\n<g id=\"node36\" class=\"node\">\n<title>133</title>\n<path fill=\"#e6853f\" stroke=\"black\" d=\"M1421.5,-155C1421.5,-155 1307.5,-155 1307.5,-155 1301.5,-155 1295.5,-149 1295.5,-143 1295.5,-143 1295.5,-84 1295.5,-84 1295.5,-78 1301.5,-72 1307.5,-72 1307.5,-72 1421.5,-72 1421.5,-72 1427.5,-72 1433.5,-78 1433.5,-84 1433.5,-84 1433.5,-143 1433.5,-143 1433.5,-149 1427.5,-155 1421.5,-155\"/>\n<text text-anchor=\"middle\" x=\"1364.5\" y=\"-139.8\" font-family=\"Helvetica,sans-Serif\" font-size=\"14.00\">diastolic_bp &lt;= 57.0</text>\n<text text-anchor=\"middle\" x=\"1364.5\" y=\"-124.8\" font-family=\"Helvetica,sans-Serif\" font-size=\"14.00\">entropy = 0.201</text>\n<text text-anchor=\"middle\" x=\"1364.5\" y=\"-109.8\" font-family=\"Helvetica,sans-Serif\" font-size=\"14.00\">samples = 64</text>\n<text text-anchor=\"middle\" x=\"1364.5\" y=\"-94.8\" font-family=\"Helvetica,sans-Serif\" font-size=\"14.00\">value = [62, 2]</text>\n<text text-anchor=\"middle\" x=\"1364.5\" y=\"-79.8\" font-family=\"Helvetica,sans-Serif\" font-size=\"14.00\">class = heart_no</text>\n</g>\n<!-- 132&#45;&gt;133 -->\n<g id=\"edge35\" class=\"edge\">\n<title>132&#45;&gt;133</title>\n<path fill=\"none\" stroke=\"black\" d=\"M1414.13,-190.91C1408.41,-182.1 1402.31,-172.7 1396.4,-163.61\"/>\n<polygon fill=\"black\" stroke=\"black\" points=\"1399.2,-161.5 1390.82,-155.02 1393.33,-165.31 1399.2,-161.5\"/>\n</g>\n<!-- 138 -->\n<g id=\"node39\" class=\"node\">\n<title>138</title>\n<path fill=\"#399de5\" stroke=\"black\" d=\"M1561.5,-147.5C1561.5,-147.5 1463.5,-147.5 1463.5,-147.5 1457.5,-147.5 1451.5,-141.5 1451.5,-135.5 1451.5,-135.5 1451.5,-91.5 1451.5,-91.5 1451.5,-85.5 1457.5,-79.5 1463.5,-79.5 1463.5,-79.5 1561.5,-79.5 1561.5,-79.5 1567.5,-79.5 1573.5,-85.5 1573.5,-91.5 1573.5,-91.5 1573.5,-135.5 1573.5,-135.5 1573.5,-141.5 1567.5,-147.5 1561.5,-147.5\"/>\n<text text-anchor=\"middle\" x=\"1512.5\" y=\"-132.3\" font-family=\"Helvetica,sans-Serif\" font-size=\"14.00\">entropy = 0.0</text>\n<text text-anchor=\"middle\" x=\"1512.5\" y=\"-117.3\" font-family=\"Helvetica,sans-Serif\" font-size=\"14.00\">samples = 4</text>\n<text text-anchor=\"middle\" x=\"1512.5\" y=\"-102.3\" font-family=\"Helvetica,sans-Serif\" font-size=\"14.00\">value = [0, 4]</text>\n<text text-anchor=\"middle\" x=\"1512.5\" y=\"-87.3\" font-family=\"Helvetica,sans-Serif\" font-size=\"14.00\">class = heart_yes</text>\n</g>\n<!-- 132&#45;&gt;138 -->\n<g id=\"edge38\" class=\"edge\">\n<title>132&#45;&gt;138</title>\n<path fill=\"none\" stroke=\"black\" d=\"M1465.48,-190.91C1472.34,-179.76 1479.79,-167.66 1486.69,-156.44\"/>\n<polygon fill=\"black\" stroke=\"black\" points=\"1489.83,-158.02 1492.09,-147.67 1483.87,-154.35 1489.83,-158.02\"/>\n</g>\n<!-- 134 -->\n<g id=\"node37\" class=\"node\">\n<title>134</title>\n<path fill=\"#c0c0c0\" stroke=\"black\" d=\"M1343.5,-36C1343.5,-36 1313.5,-36 1313.5,-36 1307.5,-36 1301.5,-30 1301.5,-24 1301.5,-24 1301.5,-12 1301.5,-12 1301.5,-6 1307.5,0 1313.5,0 1313.5,0 1343.5,0 1343.5,0 1349.5,0 1355.5,-6 1355.5,-12 1355.5,-12 1355.5,-24 1355.5,-24 1355.5,-30 1349.5,-36 1343.5,-36\"/>\n<text text-anchor=\"middle\" x=\"1328.5\" y=\"-14.3\" font-family=\"Helvetica,sans-Serif\" font-size=\"14.00\">(...)</text>\n</g>\n<!-- 133&#45;&gt;134 -->\n<g id=\"edge36\" class=\"edge\">\n<title>133&#45;&gt;134</title>\n<path fill=\"none\" stroke=\"black\" d=\"M1348.81,-71.76C1345.46,-63.04 1341.99,-54.04 1338.89,-45.99\"/>\n<polygon fill=\"black\" stroke=\"black\" points=\"1342.06,-44.48 1335.2,-36.41 1335.53,-46.99 1342.06,-44.48\"/>\n</g>\n<!-- 137 -->\n<g id=\"node38\" class=\"node\">\n<title>137</title>\n<path fill=\"#c0c0c0\" stroke=\"black\" d=\"M1415.5,-36C1415.5,-36 1385.5,-36 1385.5,-36 1379.5,-36 1373.5,-30 1373.5,-24 1373.5,-24 1373.5,-12 1373.5,-12 1373.5,-6 1379.5,0 1385.5,0 1385.5,0 1415.5,0 1415.5,0 1421.5,0 1427.5,-6 1427.5,-12 1427.5,-12 1427.5,-24 1427.5,-24 1427.5,-30 1421.5,-36 1415.5,-36\"/>\n<text text-anchor=\"middle\" x=\"1400.5\" y=\"-14.3\" font-family=\"Helvetica,sans-Serif\" font-size=\"14.00\">(...)</text>\n</g>\n<!-- 133&#45;&gt;137 -->\n<g id=\"edge37\" class=\"edge\">\n<title>133&#45;&gt;137</title>\n<path fill=\"none\" stroke=\"black\" d=\"M1380.19,-71.76C1383.54,-63.04 1387.01,-54.04 1390.11,-45.99\"/>\n<polygon fill=\"black\" stroke=\"black\" points=\"1393.47,-46.99 1393.8,-36.41 1386.94,-44.48 1393.47,-46.99\"/>\n</g>\n<!-- 140 -->\n<g id=\"node41\" class=\"node\">\n<title>140</title>\n<path fill=\"#4ea7e8\" stroke=\"black\" d=\"M1832.5,-274C1832.5,-274 1734.5,-274 1734.5,-274 1728.5,-274 1722.5,-268 1722.5,-262 1722.5,-262 1722.5,-203 1722.5,-203 1722.5,-197 1728.5,-191 1734.5,-191 1734.5,-191 1832.5,-191 1832.5,-191 1838.5,-191 1844.5,-197 1844.5,-203 1844.5,-203 1844.5,-262 1844.5,-262 1844.5,-268 1838.5,-274 1832.5,-274\"/>\n<text text-anchor=\"middle\" x=\"1783.5\" y=\"-258.8\" font-family=\"Helvetica,sans-Serif\" font-size=\"14.00\">BMI &lt;= 16.1</text>\n<text text-anchor=\"middle\" x=\"1783.5\" y=\"-243.8\" font-family=\"Helvetica,sans-Serif\" font-size=\"14.00\">entropy = 0.455</text>\n<text text-anchor=\"middle\" x=\"1783.5\" y=\"-228.8\" font-family=\"Helvetica,sans-Serif\" font-size=\"14.00\">samples = 94</text>\n<text text-anchor=\"middle\" x=\"1783.5\" y=\"-213.8\" font-family=\"Helvetica,sans-Serif\" font-size=\"14.00\">value = [9, 85]</text>\n<text text-anchor=\"middle\" x=\"1783.5\" y=\"-198.8\" font-family=\"Helvetica,sans-Serif\" font-size=\"14.00\">class = heart_yes</text>\n</g>\n<!-- 139&#45;&gt;140 -->\n<g id=\"edge40\" class=\"edge\">\n<title>139&#45;&gt;140</title>\n<path fill=\"none\" stroke=\"black\" d=\"M1783.5,-309.91C1783.5,-301.65 1783.5,-292.86 1783.5,-284.3\"/>\n<polygon fill=\"black\" stroke=\"black\" points=\"1787,-284.02 1783.5,-274.02 1780,-284.02 1787,-284.02\"/>\n</g>\n<!-- 153 -->\n<g id=\"node48\" class=\"node\">\n<title>153</title>\n<path fill=\"#a3d2f3\" stroke=\"black\" d=\"M2102.5,-274C2102.5,-274 1988.5,-274 1988.5,-274 1982.5,-274 1976.5,-268 1976.5,-262 1976.5,-262 1976.5,-203 1976.5,-203 1976.5,-197 1982.5,-191 1988.5,-191 1988.5,-191 2102.5,-191 2102.5,-191 2108.5,-191 2114.5,-197 2114.5,-203 2114.5,-203 2114.5,-262 2114.5,-262 2114.5,-268 2108.5,-274 2102.5,-274\"/>\n<text text-anchor=\"middle\" x=\"2045.5\" y=\"-258.8\" font-family=\"Helvetica,sans-Serif\" font-size=\"14.00\">diastolic_bp &lt;= 81.0</text>\n<text text-anchor=\"middle\" x=\"2045.5\" y=\"-243.8\" font-family=\"Helvetica,sans-Serif\" font-size=\"14.00\">entropy = 0.933</text>\n<text text-anchor=\"middle\" x=\"2045.5\" y=\"-228.8\" font-family=\"Helvetica,sans-Serif\" font-size=\"14.00\">samples = 292</text>\n<text text-anchor=\"middle\" x=\"2045.5\" y=\"-213.8\" font-family=\"Helvetica,sans-Serif\" font-size=\"14.00\">value = [102, 190]</text>\n<text text-anchor=\"middle\" x=\"2045.5\" y=\"-198.8\" font-family=\"Helvetica,sans-Serif\" font-size=\"14.00\">class = heart_yes</text>\n</g>\n<!-- 139&#45;&gt;153 -->\n<g id=\"edge47\" class=\"edge\">\n<title>139&#45;&gt;153</title>\n<path fill=\"none\" stroke=\"black\" d=\"M1846.26,-322.48C1882.55,-306.27 1928.55,-285.72 1967.21,-268.46\"/>\n<polygon fill=\"black\" stroke=\"black\" points=\"1968.65,-271.65 1976.35,-264.38 1965.79,-265.26 1968.65,-271.65\"/>\n</g>\n<!-- 141 -->\n<g id=\"node42\" class=\"node\">\n<title>141</title>\n<path fill=\"#bddef6\" stroke=\"black\" d=\"M1753,-155C1753,-155 1604,-155 1604,-155 1598,-155 1592,-149 1592,-143 1592,-143 1592,-84 1592,-84 1592,-78 1598,-72 1604,-72 1604,-72 1753,-72 1753,-72 1759,-72 1765,-78 1765,-84 1765,-84 1765,-143 1765,-143 1765,-149 1759,-155 1753,-155\"/>\n<text text-anchor=\"middle\" x=\"1678.5\" y=\"-139.8\" font-family=\"Helvetica,sans-Serif\" font-size=\"14.00\">blood_cholesterol &lt;= 3.57</text>\n<text text-anchor=\"middle\" x=\"1678.5\" y=\"-124.8\" font-family=\"Helvetica,sans-Serif\" font-size=\"14.00\">entropy = 0.971</text>\n<text text-anchor=\"middle\" x=\"1678.5\" y=\"-109.8\" font-family=\"Helvetica,sans-Serif\" font-size=\"14.00\">samples = 10</text>\n<text text-anchor=\"middle\" x=\"1678.5\" y=\"-94.8\" font-family=\"Helvetica,sans-Serif\" font-size=\"14.00\">value = [4, 6]</text>\n<text text-anchor=\"middle\" x=\"1678.5\" y=\"-79.8\" font-family=\"Helvetica,sans-Serif\" font-size=\"14.00\">class = heart_yes</text>\n</g>\n<!-- 140&#45;&gt;141 -->\n<g id=\"edge41\" class=\"edge\">\n<title>140&#45;&gt;141</title>\n<path fill=\"none\" stroke=\"black\" d=\"M1747.07,-190.91C1738.85,-181.74 1730.04,-171.93 1721.57,-162.49\"/>\n<polygon fill=\"black\" stroke=\"black\" points=\"1724.15,-160.13 1714.86,-155.02 1718.94,-164.8 1724.15,-160.13\"/>\n</g>\n<!-- 144 -->\n<g id=\"node45\" class=\"node\">\n<title>144</title>\n<path fill=\"#46a3e7\" stroke=\"black\" d=\"M1951.5,-155C1951.5,-155 1795.5,-155 1795.5,-155 1789.5,-155 1783.5,-149 1783.5,-143 1783.5,-143 1783.5,-84 1783.5,-84 1783.5,-78 1789.5,-72 1795.5,-72 1795.5,-72 1951.5,-72 1951.5,-72 1957.5,-72 1963.5,-78 1963.5,-84 1963.5,-84 1963.5,-143 1963.5,-143 1963.5,-149 1957.5,-155 1951.5,-155\"/>\n<text text-anchor=\"middle\" x=\"1873.5\" y=\"-139.8\" font-family=\"Helvetica,sans-Serif\" font-size=\"14.00\">blood_cholesterol &lt;= 5.545</text>\n<text text-anchor=\"middle\" x=\"1873.5\" y=\"-124.8\" font-family=\"Helvetica,sans-Serif\" font-size=\"14.00\">entropy = 0.326</text>\n<text text-anchor=\"middle\" x=\"1873.5\" y=\"-109.8\" font-family=\"Helvetica,sans-Serif\" font-size=\"14.00\">samples = 84</text>\n<text text-anchor=\"middle\" x=\"1873.5\" y=\"-94.8\" font-family=\"Helvetica,sans-Serif\" font-size=\"14.00\">value = [5, 79]</text>\n<text text-anchor=\"middle\" x=\"1873.5\" y=\"-79.8\" font-family=\"Helvetica,sans-Serif\" font-size=\"14.00\">class = heart_yes</text>\n</g>\n<!-- 140&#45;&gt;144 -->\n<g id=\"edge44\" class=\"edge\">\n<title>140&#45;&gt;144</title>\n<path fill=\"none\" stroke=\"black\" d=\"M1814.73,-190.91C1821.64,-181.92 1829.03,-172.32 1836.15,-163.05\"/>\n<polygon fill=\"black\" stroke=\"black\" points=\"1839.01,-165.08 1842.33,-155.02 1833.46,-160.81 1839.01,-165.08\"/>\n</g>\n<!-- 142 -->\n<g id=\"node43\" class=\"node\">\n<title>142</title>\n<path fill=\"#c0c0c0\" stroke=\"black\" d=\"M1657.5,-36C1657.5,-36 1627.5,-36 1627.5,-36 1621.5,-36 1615.5,-30 1615.5,-24 1615.5,-24 1615.5,-12 1615.5,-12 1615.5,-6 1621.5,0 1627.5,0 1627.5,0 1657.5,0 1657.5,0 1663.5,0 1669.5,-6 1669.5,-12 1669.5,-12 1669.5,-24 1669.5,-24 1669.5,-30 1663.5,-36 1657.5,-36\"/>\n<text text-anchor=\"middle\" x=\"1642.5\" y=\"-14.3\" font-family=\"Helvetica,sans-Serif\" font-size=\"14.00\">(...)</text>\n</g>\n<!-- 141&#45;&gt;142 -->\n<g id=\"edge42\" class=\"edge\">\n<title>141&#45;&gt;142</title>\n<path fill=\"none\" stroke=\"black\" d=\"M1662.81,-71.76C1659.46,-63.04 1655.99,-54.04 1652.89,-45.99\"/>\n<polygon fill=\"black\" stroke=\"black\" points=\"1656.06,-44.48 1649.2,-36.41 1649.53,-46.99 1656.06,-44.48\"/>\n</g>\n<!-- 143 -->\n<g id=\"node44\" class=\"node\">\n<title>143</title>\n<path fill=\"#c0c0c0\" stroke=\"black\" d=\"M1729.5,-36C1729.5,-36 1699.5,-36 1699.5,-36 1693.5,-36 1687.5,-30 1687.5,-24 1687.5,-24 1687.5,-12 1687.5,-12 1687.5,-6 1693.5,0 1699.5,0 1699.5,0 1729.5,0 1729.5,0 1735.5,0 1741.5,-6 1741.5,-12 1741.5,-12 1741.5,-24 1741.5,-24 1741.5,-30 1735.5,-36 1729.5,-36\"/>\n<text text-anchor=\"middle\" x=\"1714.5\" y=\"-14.3\" font-family=\"Helvetica,sans-Serif\" font-size=\"14.00\">(...)</text>\n</g>\n<!-- 141&#45;&gt;143 -->\n<g id=\"edge43\" class=\"edge\">\n<title>141&#45;&gt;143</title>\n<path fill=\"none\" stroke=\"black\" d=\"M1694.19,-71.76C1697.54,-63.04 1701.01,-54.04 1704.11,-45.99\"/>\n<polygon fill=\"black\" stroke=\"black\" points=\"1707.47,-46.99 1707.8,-36.41 1700.94,-44.48 1707.47,-46.99\"/>\n</g>\n<!-- 145 -->\n<g id=\"node46\" class=\"node\">\n<title>145</title>\n<path fill=\"#c0c0c0\" stroke=\"black\" d=\"M1864.5,-36C1864.5,-36 1834.5,-36 1834.5,-36 1828.5,-36 1822.5,-30 1822.5,-24 1822.5,-24 1822.5,-12 1822.5,-12 1822.5,-6 1828.5,0 1834.5,0 1834.5,0 1864.5,0 1864.5,0 1870.5,0 1876.5,-6 1876.5,-12 1876.5,-12 1876.5,-24 1876.5,-24 1876.5,-30 1870.5,-36 1864.5,-36\"/>\n<text text-anchor=\"middle\" x=\"1849.5\" y=\"-14.3\" font-family=\"Helvetica,sans-Serif\" font-size=\"14.00\">(...)</text>\n</g>\n<!-- 144&#45;&gt;145 -->\n<g id=\"edge45\" class=\"edge\">\n<title>144&#45;&gt;145</title>\n<path fill=\"none\" stroke=\"black\" d=\"M1863.04,-71.76C1860.83,-63.14 1858.55,-54.24 1856.5,-46.26\"/>\n<polygon fill=\"black\" stroke=\"black\" points=\"1859.84,-45.22 1853.97,-36.41 1853.06,-46.96 1859.84,-45.22\"/>\n</g>\n<!-- 150 -->\n<g id=\"node47\" class=\"node\">\n<title>150</title>\n<path fill=\"#c0c0c0\" stroke=\"black\" d=\"M1936.5,-36C1936.5,-36 1906.5,-36 1906.5,-36 1900.5,-36 1894.5,-30 1894.5,-24 1894.5,-24 1894.5,-12 1894.5,-12 1894.5,-6 1900.5,0 1906.5,0 1906.5,0 1936.5,0 1936.5,0 1942.5,0 1948.5,-6 1948.5,-12 1948.5,-12 1948.5,-24 1948.5,-24 1948.5,-30 1942.5,-36 1936.5,-36\"/>\n<text text-anchor=\"middle\" x=\"1921.5\" y=\"-14.3\" font-family=\"Helvetica,sans-Serif\" font-size=\"14.00\">(...)</text>\n</g>\n<!-- 144&#45;&gt;150 -->\n<g id=\"edge46\" class=\"edge\">\n<title>144&#45;&gt;150</title>\n<path fill=\"none\" stroke=\"black\" d=\"M1894.41,-71.76C1898.99,-62.85 1903.72,-53.64 1907.92,-45.46\"/>\n<polygon fill=\"black\" stroke=\"black\" points=\"1911.11,-46.9 1912.56,-36.41 1904.88,-43.7 1911.11,-46.9\"/>\n</g>\n<!-- 154 -->\n<g id=\"node49\" class=\"node\">\n<title>154</title>\n<path fill=\"#97cbf1\" stroke=\"black\" d=\"M2097.5,-155C2097.5,-155 1993.5,-155 1993.5,-155 1987.5,-155 1981.5,-149 1981.5,-143 1981.5,-143 1981.5,-84 1981.5,-84 1981.5,-78 1987.5,-72 1993.5,-72 1993.5,-72 2097.5,-72 2097.5,-72 2103.5,-72 2109.5,-78 2109.5,-84 2109.5,-84 2109.5,-143 2109.5,-143 2109.5,-149 2103.5,-155 2097.5,-155\"/>\n<text text-anchor=\"middle\" x=\"2045.5\" y=\"-139.8\" font-family=\"Helvetica,sans-Serif\" font-size=\"14.00\">calories &lt;= 3316.5</text>\n<text text-anchor=\"middle\" x=\"2045.5\" y=\"-124.8\" font-family=\"Helvetica,sans-Serif\" font-size=\"14.00\">entropy = 0.906</text>\n<text text-anchor=\"middle\" x=\"2045.5\" y=\"-109.8\" font-family=\"Helvetica,sans-Serif\" font-size=\"14.00\">samples = 280</text>\n<text text-anchor=\"middle\" x=\"2045.5\" y=\"-94.8\" font-family=\"Helvetica,sans-Serif\" font-size=\"14.00\">value = [90, 190]</text>\n<text text-anchor=\"middle\" x=\"2045.5\" y=\"-79.8\" font-family=\"Helvetica,sans-Serif\" font-size=\"14.00\">class = heart_yes</text>\n</g>\n<!-- 153&#45;&gt;154 -->\n<g id=\"edge48\" class=\"edge\">\n<title>153&#45;&gt;154</title>\n<path fill=\"none\" stroke=\"black\" d=\"M2045.5,-190.91C2045.5,-182.65 2045.5,-173.86 2045.5,-165.3\"/>\n<polygon fill=\"black\" stroke=\"black\" points=\"2049,-165.02 2045.5,-155.02 2042,-165.02 2049,-165.02\"/>\n</g>\n<!-- 177 -->\n<g id=\"node52\" class=\"node\">\n<title>177</title>\n<path fill=\"#e58139\" stroke=\"black\" d=\"M2231.5,-147.5C2231.5,-147.5 2139.5,-147.5 2139.5,-147.5 2133.5,-147.5 2127.5,-141.5 2127.5,-135.5 2127.5,-135.5 2127.5,-91.5 2127.5,-91.5 2127.5,-85.5 2133.5,-79.5 2139.5,-79.5 2139.5,-79.5 2231.5,-79.5 2231.5,-79.5 2237.5,-79.5 2243.5,-85.5 2243.5,-91.5 2243.5,-91.5 2243.5,-135.5 2243.5,-135.5 2243.5,-141.5 2237.5,-147.5 2231.5,-147.5\"/>\n<text text-anchor=\"middle\" x=\"2185.5\" y=\"-132.3\" font-family=\"Helvetica,sans-Serif\" font-size=\"14.00\">entropy = 0.0</text>\n<text text-anchor=\"middle\" x=\"2185.5\" y=\"-117.3\" font-family=\"Helvetica,sans-Serif\" font-size=\"14.00\">samples = 12</text>\n<text text-anchor=\"middle\" x=\"2185.5\" y=\"-102.3\" font-family=\"Helvetica,sans-Serif\" font-size=\"14.00\">value = [12, 0]</text>\n<text text-anchor=\"middle\" x=\"2185.5\" y=\"-87.3\" font-family=\"Helvetica,sans-Serif\" font-size=\"14.00\">class = heart_no</text>\n</g>\n<!-- 153&#45;&gt;177 -->\n<g id=\"edge51\" class=\"edge\">\n<title>153&#45;&gt;177</title>\n<path fill=\"none\" stroke=\"black\" d=\"M2094.07,-190.91C2108.33,-178.99 2123.91,-165.98 2138.09,-154.12\"/>\n<polygon fill=\"black\" stroke=\"black\" points=\"2140.38,-156.77 2145.81,-147.67 2135.9,-151.39 2140.38,-156.77\"/>\n</g>\n<!-- 155 -->\n<g id=\"node50\" class=\"node\">\n<title>155</title>\n<path fill=\"#c0c0c0\" stroke=\"black\" d=\"M2011.5,-36C2011.5,-36 1981.5,-36 1981.5,-36 1975.5,-36 1969.5,-30 1969.5,-24 1969.5,-24 1969.5,-12 1969.5,-12 1969.5,-6 1975.5,0 1981.5,0 1981.5,0 2011.5,0 2011.5,0 2017.5,0 2023.5,-6 2023.5,-12 2023.5,-12 2023.5,-24 2023.5,-24 2023.5,-30 2017.5,-36 2011.5,-36\"/>\n<text text-anchor=\"middle\" x=\"1996.5\" y=\"-14.3\" font-family=\"Helvetica,sans-Serif\" font-size=\"14.00\">(...)</text>\n</g>\n<!-- 154&#45;&gt;155 -->\n<g id=\"edge49\" class=\"edge\">\n<title>154&#45;&gt;155</title>\n<path fill=\"none\" stroke=\"black\" d=\"M2024.15,-71.76C2019.48,-62.85 2014.65,-53.64 2010.37,-45.46\"/>\n<polygon fill=\"black\" stroke=\"black\" points=\"2013.36,-43.64 2005.62,-36.41 2007.16,-46.89 2013.36,-43.64\"/>\n</g>\n<!-- 176 -->\n<g id=\"node51\" class=\"node\">\n<title>176</title>\n<path fill=\"#c0c0c0\" stroke=\"black\" d=\"M2083.5,-36C2083.5,-36 2053.5,-36 2053.5,-36 2047.5,-36 2041.5,-30 2041.5,-24 2041.5,-24 2041.5,-12 2041.5,-12 2041.5,-6 2047.5,0 2053.5,0 2053.5,0 2083.5,0 2083.5,0 2089.5,0 2095.5,-6 2095.5,-12 2095.5,-12 2095.5,-24 2095.5,-24 2095.5,-30 2089.5,-36 2083.5,-36\"/>\n<text text-anchor=\"middle\" x=\"2068.5\" y=\"-14.3\" font-family=\"Helvetica,sans-Serif\" font-size=\"14.00\">(...)</text>\n</g>\n<!-- 154&#45;&gt;176 -->\n<g id=\"edge50\" class=\"edge\">\n<title>154&#45;&gt;176</title>\n<path fill=\"none\" stroke=\"black\" d=\"M2055.52,-71.76C2057.64,-63.14 2059.83,-54.24 2061.79,-46.26\"/>\n<polygon fill=\"black\" stroke=\"black\" points=\"2065.23,-46.95 2064.22,-36.41 2058.43,-45.28 2065.23,-46.95\"/>\n</g>\n<!-- 179 -->\n<g id=\"node54\" class=\"node\">\n<title>179</title>\n<path fill=\"#c8e4f8\" stroke=\"black\" d=\"M2873,-512C2873,-512 2772,-512 2772,-512 2766,-512 2760,-506 2760,-500 2760,-500 2760,-441 2760,-441 2760,-435 2766,-429 2772,-429 2772,-429 2873,-429 2873,-429 2879,-429 2885,-435 2885,-441 2885,-441 2885,-500 2885,-500 2885,-506 2879,-512 2873,-512\"/>\n<text text-anchor=\"middle\" x=\"2822.5\" y=\"-496.8\" font-family=\"Helvetica,sans-Serif\" font-size=\"14.00\">age &lt;= 77.5</text>\n<text text-anchor=\"middle\" x=\"2822.5\" y=\"-481.8\" font-family=\"Helvetica,sans-Serif\" font-size=\"14.00\">entropy = 0.981</text>\n<text text-anchor=\"middle\" x=\"2822.5\" y=\"-466.8\" font-family=\"Helvetica,sans-Serif\" font-size=\"14.00\">samples = 1465</text>\n<text text-anchor=\"middle\" x=\"2822.5\" y=\"-451.8\" font-family=\"Helvetica,sans-Serif\" font-size=\"14.00\">value = [614, 851]</text>\n<text text-anchor=\"middle\" x=\"2822.5\" y=\"-436.8\" font-family=\"Helvetica,sans-Serif\" font-size=\"14.00\">class = heart_yes</text>\n</g>\n<!-- 178&#45;&gt;179 -->\n<g id=\"edge53\" class=\"edge\">\n<title>178&#45;&gt;179</title>\n<path fill=\"none\" stroke=\"black\" d=\"M2822.5,-547.91C2822.5,-539.65 2822.5,-530.86 2822.5,-522.3\"/>\n<polygon fill=\"black\" stroke=\"black\" points=\"2826,-522.02 2822.5,-512.02 2819,-522.02 2826,-522.02\"/>\n</g>\n<!-- 298 -->\n<g id=\"node81\" class=\"node\">\n<title>298</title>\n<path fill=\"#59ade9\" stroke=\"black\" d=\"M3688.5,-512C3688.5,-512 3532.5,-512 3532.5,-512 3526.5,-512 3520.5,-506 3520.5,-500 3520.5,-500 3520.5,-441 3520.5,-441 3520.5,-435 3526.5,-429 3532.5,-429 3532.5,-429 3688.5,-429 3688.5,-429 3694.5,-429 3700.5,-435 3700.5,-441 3700.5,-441 3700.5,-500 3700.5,-500 3700.5,-506 3694.5,-512 3688.5,-512\"/>\n<text text-anchor=\"middle\" x=\"3610.5\" y=\"-496.8\" font-family=\"Helvetica,sans-Serif\" font-size=\"14.00\">blood_cholesterol &lt;= 3.605</text>\n<text text-anchor=\"middle\" x=\"3610.5\" y=\"-481.8\" font-family=\"Helvetica,sans-Serif\" font-size=\"14.00\">entropy = 0.582</text>\n<text text-anchor=\"middle\" x=\"3610.5\" y=\"-466.8\" font-family=\"Helvetica,sans-Serif\" font-size=\"14.00\">samples = 883</text>\n<text text-anchor=\"middle\" x=\"3610.5\" y=\"-451.8\" font-family=\"Helvetica,sans-Serif\" font-size=\"14.00\">value = [123, 760]</text>\n<text text-anchor=\"middle\" x=\"3610.5\" y=\"-436.8\" font-family=\"Helvetica,sans-Serif\" font-size=\"14.00\">class = heart_yes</text>\n</g>\n<!-- 178&#45;&gt;298 -->\n<g id=\"edge80\" class=\"edge\">\n<title>178&#45;&gt;298</title>\n<path fill=\"none\" stroke=\"black\" d=\"M2888.67,-578.68C3026.83,-558.16 3346.7,-510.67 3510.26,-486.38\"/>\n<polygon fill=\"black\" stroke=\"black\" points=\"3510.95,-489.82 3520.32,-484.89 3509.92,-482.9 3510.95,-489.82\"/>\n</g>\n<!-- 180 -->\n<g id=\"node55\" class=\"node\">\n<title>180</title>\n<path fill=\"#fefcfb\" stroke=\"black\" d=\"M2747,-393C2747,-393 2616,-393 2616,-393 2610,-393 2604,-387 2604,-381 2604,-381 2604,-322 2604,-322 2604,-316 2610,-310 2616,-310 2616,-310 2747,-310 2747,-310 2753,-310 2759,-316 2759,-322 2759,-322 2759,-381 2759,-381 2759,-387 2753,-393 2747,-393\"/>\n<text text-anchor=\"middle\" x=\"2681.5\" y=\"-377.8\" font-family=\"Helvetica,sans-Serif\" font-size=\"14.00\">family_income &lt;= 3.84</text>\n<text text-anchor=\"middle\" x=\"2681.5\" y=\"-362.8\" font-family=\"Helvetica,sans-Serif\" font-size=\"14.00\">entropy = 1.0</text>\n<text text-anchor=\"middle\" x=\"2681.5\" y=\"-347.8\" font-family=\"Helvetica,sans-Serif\" font-size=\"14.00\">samples = 936</text>\n<text text-anchor=\"middle\" x=\"2681.5\" y=\"-332.8\" font-family=\"Helvetica,sans-Serif\" font-size=\"14.00\">value = [473, 463]</text>\n<text text-anchor=\"middle\" x=\"2681.5\" y=\"-317.8\" font-family=\"Helvetica,sans-Serif\" font-size=\"14.00\">class = heart_no</text>\n</g>\n<!-- 179&#45;&gt;180 -->\n<g id=\"edge54\" class=\"edge\">\n<title>179&#45;&gt;180</title>\n<path fill=\"none\" stroke=\"black\" d=\"M2773.58,-428.91C2762.21,-419.47 2750,-409.34 2738.32,-399.65\"/>\n<polygon fill=\"black\" stroke=\"black\" points=\"2740.26,-396.71 2730.33,-393.02 2735.79,-402.1 2740.26,-396.71\"/>\n</g>\n<!-- 239 -->\n<g id=\"node70\" class=\"node\">\n<title>239</title>\n<path fill=\"#81c1ee\" stroke=\"black\" d=\"M3015.5,-393C3015.5,-393 2889.5,-393 2889.5,-393 2883.5,-393 2877.5,-387 2877.5,-381 2877.5,-381 2877.5,-322 2877.5,-322 2877.5,-316 2883.5,-310 2889.5,-310 2889.5,-310 3015.5,-310 3015.5,-310 3021.5,-310 3027.5,-316 3027.5,-322 3027.5,-322 3027.5,-381 3027.5,-381 3027.5,-387 3021.5,-393 3015.5,-393\"/>\n<text text-anchor=\"middle\" x=\"2952.5\" y=\"-377.8\" font-family=\"Helvetica,sans-Serif\" font-size=\"14.00\">gender_female &lt;= 0.5</text>\n<text text-anchor=\"middle\" x=\"2952.5\" y=\"-362.8\" font-family=\"Helvetica,sans-Serif\" font-size=\"14.00\">entropy = 0.836</text>\n<text text-anchor=\"middle\" x=\"2952.5\" y=\"-347.8\" font-family=\"Helvetica,sans-Serif\" font-size=\"14.00\">samples = 529</text>\n<text text-anchor=\"middle\" x=\"2952.5\" y=\"-332.8\" font-family=\"Helvetica,sans-Serif\" font-size=\"14.00\">value = [141, 388]</text>\n<text text-anchor=\"middle\" x=\"2952.5\" y=\"-317.8\" font-family=\"Helvetica,sans-Serif\" font-size=\"14.00\">class = heart_yes</text>\n</g>\n<!-- 179&#45;&gt;239 -->\n<g id=\"edge69\" class=\"edge\">\n<title>179&#45;&gt;239</title>\n<path fill=\"none\" stroke=\"black\" d=\"M2867.6,-428.91C2877.99,-419.56 2889.12,-409.54 2899.8,-399.93\"/>\n<polygon fill=\"black\" stroke=\"black\" points=\"2902.39,-402.31 2907.48,-393.02 2897.7,-397.11 2902.39,-402.31\"/>\n</g>\n<!-- 181 -->\n<g id=\"node56\" class=\"node\">\n<title>181</title>\n<path fill=\"#dbedfa\" stroke=\"black\" d=\"M2521,-274C2521,-274 2420,-274 2420,-274 2414,-274 2408,-268 2408,-262 2408,-262 2408,-203 2408,-203 2408,-197 2414,-191 2420,-191 2420,-191 2521,-191 2521,-191 2527,-191 2533,-197 2533,-203 2533,-203 2533,-262 2533,-262 2533,-268 2527,-274 2521,-274\"/>\n<text text-anchor=\"middle\" x=\"2470.5\" y=\"-258.8\" font-family=\"Helvetica,sans-Serif\" font-size=\"14.00\">BMI &lt;= 16.05</text>\n<text text-anchor=\"middle\" x=\"2470.5\" y=\"-243.8\" font-family=\"Helvetica,sans-Serif\" font-size=\"14.00\">entropy = 0.993</text>\n<text text-anchor=\"middle\" x=\"2470.5\" y=\"-228.8\" font-family=\"Helvetica,sans-Serif\" font-size=\"14.00\">samples = 737</text>\n<text text-anchor=\"middle\" x=\"2470.5\" y=\"-213.8\" font-family=\"Helvetica,sans-Serif\" font-size=\"14.00\">value = [332, 405]</text>\n<text text-anchor=\"middle\" x=\"2470.5\" y=\"-198.8\" font-family=\"Helvetica,sans-Serif\" font-size=\"14.00\">class = heart_yes</text>\n</g>\n<!-- 180&#45;&gt;181 -->\n<g id=\"edge55\" class=\"edge\">\n<title>180&#45;&gt;181</title>\n<path fill=\"none\" stroke=\"black\" d=\"M2608.29,-309.91C2586.84,-298.01 2563.41,-285.02 2542.06,-273.18\"/>\n<polygon fill=\"black\" stroke=\"black\" points=\"2543.49,-269.97 2533.05,-268.18 2540.1,-276.09 2543.49,-269.97\"/>\n</g>\n<!-- 216 -->\n<g id=\"node63\" class=\"node\">\n<title>216</title>\n<path fill=\"#f0b58a\" stroke=\"black\" d=\"M2728,-274C2728,-274 2635,-274 2635,-274 2629,-274 2623,-268 2623,-262 2623,-262 2623,-203 2623,-203 2623,-197 2629,-191 2635,-191 2635,-191 2728,-191 2728,-191 2734,-191 2740,-197 2740,-203 2740,-203 2740,-262 2740,-262 2740,-268 2734,-274 2728,-274\"/>\n<text text-anchor=\"middle\" x=\"2681.5\" y=\"-258.8\" font-family=\"Helvetica,sans-Serif\" font-size=\"14.00\">BMI &lt;= 23.25</text>\n<text text-anchor=\"middle\" x=\"2681.5\" y=\"-243.8\" font-family=\"Helvetica,sans-Serif\" font-size=\"14.00\">entropy = 0.871</text>\n<text text-anchor=\"middle\" x=\"2681.5\" y=\"-228.8\" font-family=\"Helvetica,sans-Serif\" font-size=\"14.00\">samples = 199</text>\n<text text-anchor=\"middle\" x=\"2681.5\" y=\"-213.8\" font-family=\"Helvetica,sans-Serif\" font-size=\"14.00\">value = [141, 58]</text>\n<text text-anchor=\"middle\" x=\"2681.5\" y=\"-198.8\" font-family=\"Helvetica,sans-Serif\" font-size=\"14.00\">class = heart_no</text>\n</g>\n<!-- 180&#45;&gt;216 -->\n<g id=\"edge62\" class=\"edge\">\n<title>180&#45;&gt;216</title>\n<path fill=\"none\" stroke=\"black\" d=\"M2681.5,-309.91C2681.5,-301.65 2681.5,-292.86 2681.5,-284.3\"/>\n<polygon fill=\"black\" stroke=\"black\" points=\"2685,-284.02 2681.5,-274.02 2678,-284.02 2685,-284.02\"/>\n</g>\n<!-- 182 -->\n<g id=\"node57\" class=\"node\">\n<title>182</title>\n<path fill=\"#67b4eb\" stroke=\"black\" d=\"M2371.5,-155C2371.5,-155 2273.5,-155 2273.5,-155 2267.5,-155 2261.5,-149 2261.5,-143 2261.5,-143 2261.5,-84 2261.5,-84 2261.5,-78 2267.5,-72 2273.5,-72 2273.5,-72 2371.5,-72 2371.5,-72 2377.5,-72 2383.5,-78 2383.5,-84 2383.5,-84 2383.5,-143 2383.5,-143 2383.5,-149 2377.5,-155 2371.5,-155\"/>\n<text text-anchor=\"middle\" x=\"2322.5\" y=\"-139.8\" font-family=\"Helvetica,sans-Serif\" font-size=\"14.00\">BMI &lt;= 13.85</text>\n<text text-anchor=\"middle\" x=\"2322.5\" y=\"-124.8\" font-family=\"Helvetica,sans-Serif\" font-size=\"14.00\">entropy = 0.701</text>\n<text text-anchor=\"middle\" x=\"2322.5\" y=\"-109.8\" font-family=\"Helvetica,sans-Serif\" font-size=\"14.00\">samples = 100</text>\n<text text-anchor=\"middle\" x=\"2322.5\" y=\"-94.8\" font-family=\"Helvetica,sans-Serif\" font-size=\"14.00\">value = [19, 81]</text>\n<text text-anchor=\"middle\" x=\"2322.5\" y=\"-79.8\" font-family=\"Helvetica,sans-Serif\" font-size=\"14.00\">class = heart_yes</text>\n</g>\n<!-- 181&#45;&gt;182 -->\n<g id=\"edge56\" class=\"edge\">\n<title>181&#45;&gt;182</title>\n<path fill=\"none\" stroke=\"black\" d=\"M2419.15,-190.91C2407.1,-181.38 2394.16,-171.15 2381.79,-161.37\"/>\n<polygon fill=\"black\" stroke=\"black\" points=\"2383.77,-158.48 2373.76,-155.02 2379.43,-163.97 2383.77,-158.48\"/>\n</g>\n<!-- 193 -->\n<g id=\"node60\" class=\"node\">\n<title>193</title>\n<path fill=\"#f8fcfe\" stroke=\"black\" d=\"M2527.5,-155C2527.5,-155 2413.5,-155 2413.5,-155 2407.5,-155 2401.5,-149 2401.5,-143 2401.5,-143 2401.5,-84 2401.5,-84 2401.5,-78 2407.5,-72 2413.5,-72 2413.5,-72 2527.5,-72 2527.5,-72 2533.5,-72 2539.5,-78 2539.5,-84 2539.5,-84 2539.5,-143 2539.5,-143 2539.5,-149 2533.5,-155 2527.5,-155\"/>\n<text text-anchor=\"middle\" x=\"2470.5\" y=\"-139.8\" font-family=\"Helvetica,sans-Serif\" font-size=\"14.00\">diastolic_bp &lt;= 83.0</text>\n<text text-anchor=\"middle\" x=\"2470.5\" y=\"-124.8\" font-family=\"Helvetica,sans-Serif\" font-size=\"14.00\">entropy = 1.0</text>\n<text text-anchor=\"middle\" x=\"2470.5\" y=\"-109.8\" font-family=\"Helvetica,sans-Serif\" font-size=\"14.00\">samples = 637</text>\n<text text-anchor=\"middle\" x=\"2470.5\" y=\"-94.8\" font-family=\"Helvetica,sans-Serif\" font-size=\"14.00\">value = [313, 324]</text>\n<text text-anchor=\"middle\" x=\"2470.5\" y=\"-79.8\" font-family=\"Helvetica,sans-Serif\" font-size=\"14.00\">class = heart_yes</text>\n</g>\n<!-- 181&#45;&gt;193 -->\n<g id=\"edge59\" class=\"edge\">\n<title>181&#45;&gt;193</title>\n<path fill=\"none\" stroke=\"black\" d=\"M2470.5,-190.91C2470.5,-182.65 2470.5,-173.86 2470.5,-165.3\"/>\n<polygon fill=\"black\" stroke=\"black\" points=\"2474,-165.02 2470.5,-155.02 2467,-165.02 2474,-165.02\"/>\n</g>\n<!-- 183 -->\n<g id=\"node58\" class=\"node\">\n<title>183</title>\n<path fill=\"#c0c0c0\" stroke=\"black\" d=\"M2270.5,-36C2270.5,-36 2240.5,-36 2240.5,-36 2234.5,-36 2228.5,-30 2228.5,-24 2228.5,-24 2228.5,-12 2228.5,-12 2228.5,-6 2234.5,0 2240.5,0 2240.5,0 2270.5,0 2270.5,0 2276.5,0 2282.5,-6 2282.5,-12 2282.5,-12 2282.5,-24 2282.5,-24 2282.5,-30 2276.5,-36 2270.5,-36\"/>\n<text text-anchor=\"middle\" x=\"2255.5\" y=\"-14.3\" font-family=\"Helvetica,sans-Serif\" font-size=\"14.00\">(...)</text>\n</g>\n<!-- 182&#45;&gt;183 -->\n<g id=\"edge57\" class=\"edge\">\n<title>182&#45;&gt;183</title>\n<path fill=\"none\" stroke=\"black\" d=\"M2293.31,-71.76C2286.71,-62.56 2279.89,-53.04 2273.89,-44.66\"/>\n<polygon fill=\"black\" stroke=\"black\" points=\"2276.64,-42.49 2267.97,-36.41 2270.95,-46.57 2276.64,-42.49\"/>\n</g>\n<!-- 184 -->\n<g id=\"node59\" class=\"node\">\n<title>184</title>\n<path fill=\"#c0c0c0\" stroke=\"black\" d=\"M2342.5,-36C2342.5,-36 2312.5,-36 2312.5,-36 2306.5,-36 2300.5,-30 2300.5,-24 2300.5,-24 2300.5,-12 2300.5,-12 2300.5,-6 2306.5,0 2312.5,0 2312.5,0 2342.5,0 2342.5,0 2348.5,0 2354.5,-6 2354.5,-12 2354.5,-12 2354.5,-24 2354.5,-24 2354.5,-30 2348.5,-36 2342.5,-36\"/>\n<text text-anchor=\"middle\" x=\"2327.5\" y=\"-14.3\" font-family=\"Helvetica,sans-Serif\" font-size=\"14.00\">(...)</text>\n</g>\n<!-- 182&#45;&gt;184 -->\n<g id=\"edge58\" class=\"edge\">\n<title>182&#45;&gt;184</title>\n<path fill=\"none\" stroke=\"black\" d=\"M2324.68,-71.76C2325.13,-63.24 2325.6,-54.44 2326.03,-46.53\"/>\n<polygon fill=\"black\" stroke=\"black\" points=\"2329.53,-46.58 2326.57,-36.41 2322.54,-46.2 2329.53,-46.58\"/>\n</g>\n<!-- 194 -->\n<g id=\"node61\" class=\"node\">\n<title>194</title>\n<path fill=\"#c0c0c0\" stroke=\"black\" d=\"M2452.5,-36C2452.5,-36 2422.5,-36 2422.5,-36 2416.5,-36 2410.5,-30 2410.5,-24 2410.5,-24 2410.5,-12 2410.5,-12 2410.5,-6 2416.5,0 2422.5,0 2422.5,0 2452.5,0 2452.5,0 2458.5,0 2464.5,-6 2464.5,-12 2464.5,-12 2464.5,-24 2464.5,-24 2464.5,-30 2458.5,-36 2452.5,-36\"/>\n<text text-anchor=\"middle\" x=\"2437.5\" y=\"-14.3\" font-family=\"Helvetica,sans-Serif\" font-size=\"14.00\">(...)</text>\n</g>\n<!-- 193&#45;&gt;194 -->\n<g id=\"edge60\" class=\"edge\">\n<title>193&#45;&gt;194</title>\n<path fill=\"none\" stroke=\"black\" d=\"M2456.12,-71.76C2453.04,-63.04 2449.87,-54.04 2447.03,-45.99\"/>\n<polygon fill=\"black\" stroke=\"black\" points=\"2450.27,-44.67 2443.64,-36.41 2443.67,-47 2450.27,-44.67\"/>\n</g>\n<!-- 215 -->\n<g id=\"node62\" class=\"node\">\n<title>215</title>\n<path fill=\"#c0c0c0\" stroke=\"black\" d=\"M2524.5,-36C2524.5,-36 2494.5,-36 2494.5,-36 2488.5,-36 2482.5,-30 2482.5,-24 2482.5,-24 2482.5,-12 2482.5,-12 2482.5,-6 2488.5,0 2494.5,0 2494.5,0 2524.5,0 2524.5,0 2530.5,0 2536.5,-6 2536.5,-12 2536.5,-12 2536.5,-24 2536.5,-24 2536.5,-30 2530.5,-36 2524.5,-36\"/>\n<text text-anchor=\"middle\" x=\"2509.5\" y=\"-14.3\" font-family=\"Helvetica,sans-Serif\" font-size=\"14.00\">(...)</text>\n</g>\n<!-- 193&#45;&gt;215 -->\n<g id=\"edge61\" class=\"edge\">\n<title>193&#45;&gt;215</title>\n<path fill=\"none\" stroke=\"black\" d=\"M2487.49,-71.76C2491.17,-62.94 2494.97,-53.84 2498.35,-45.72\"/>\n<polygon fill=\"black\" stroke=\"black\" points=\"2501.62,-46.98 2502.24,-36.41 2495.16,-44.29 2501.62,-46.98\"/>\n</g>\n<!-- 217 -->\n<g id=\"node64\" class=\"node\">\n<title>217</title>\n<path fill=\"#fae7d9\" stroke=\"black\" d=\"M2683.5,-155C2683.5,-155 2569.5,-155 2569.5,-155 2563.5,-155 2557.5,-149 2557.5,-143 2557.5,-143 2557.5,-84 2557.5,-84 2557.5,-78 2563.5,-72 2569.5,-72 2569.5,-72 2683.5,-72 2683.5,-72 2689.5,-72 2695.5,-78 2695.5,-84 2695.5,-84 2695.5,-143 2695.5,-143 2695.5,-149 2689.5,-155 2683.5,-155\"/>\n<text text-anchor=\"middle\" x=\"2626.5\" y=\"-139.8\" font-family=\"Helvetica,sans-Serif\" font-size=\"14.00\">diastolic_bp &lt;= 57.0</text>\n<text text-anchor=\"middle\" x=\"2626.5\" y=\"-124.8\" font-family=\"Helvetica,sans-Serif\" font-size=\"14.00\">entropy = 0.992</text>\n<text text-anchor=\"middle\" x=\"2626.5\" y=\"-109.8\" font-family=\"Helvetica,sans-Serif\" font-size=\"14.00\">samples = 114</text>\n<text text-anchor=\"middle\" x=\"2626.5\" y=\"-94.8\" font-family=\"Helvetica,sans-Serif\" font-size=\"14.00\">value = [63, 51]</text>\n<text text-anchor=\"middle\" x=\"2626.5\" y=\"-79.8\" font-family=\"Helvetica,sans-Serif\" font-size=\"14.00\">class = heart_no</text>\n</g>\n<!-- 216&#45;&gt;217 -->\n<g id=\"edge63\" class=\"edge\">\n<title>216&#45;&gt;217</title>\n<path fill=\"none\" stroke=\"black\" d=\"M2662.42,-190.91C2658.37,-182.29 2654.04,-173.09 2649.85,-164.17\"/>\n<polygon fill=\"black\" stroke=\"black\" points=\"2652.97,-162.58 2645.55,-155.02 2646.64,-165.56 2652.97,-162.58\"/>\n</g>\n<!-- 230 -->\n<g id=\"node67\" class=\"node\">\n<title>230</title>\n<path fill=\"#e78c4b\" stroke=\"black\" d=\"M2817.5,-155C2817.5,-155 2725.5,-155 2725.5,-155 2719.5,-155 2713.5,-149 2713.5,-143 2713.5,-143 2713.5,-84 2713.5,-84 2713.5,-78 2719.5,-72 2725.5,-72 2725.5,-72 2817.5,-72 2817.5,-72 2823.5,-72 2829.5,-78 2829.5,-84 2829.5,-84 2829.5,-143 2829.5,-143 2829.5,-149 2823.5,-155 2817.5,-155\"/>\n<text text-anchor=\"middle\" x=\"2771.5\" y=\"-139.8\" font-family=\"Helvetica,sans-Serif\" font-size=\"14.00\">age &lt;= 73.5</text>\n<text text-anchor=\"middle\" x=\"2771.5\" y=\"-124.8\" font-family=\"Helvetica,sans-Serif\" font-size=\"14.00\">entropy = 0.41</text>\n<text text-anchor=\"middle\" x=\"2771.5\" y=\"-109.8\" font-family=\"Helvetica,sans-Serif\" font-size=\"14.00\">samples = 85</text>\n<text text-anchor=\"middle\" x=\"2771.5\" y=\"-94.8\" font-family=\"Helvetica,sans-Serif\" font-size=\"14.00\">value = [78, 7]</text>\n<text text-anchor=\"middle\" x=\"2771.5\" y=\"-79.8\" font-family=\"Helvetica,sans-Serif\" font-size=\"14.00\">class = heart_no</text>\n</g>\n<!-- 216&#45;&gt;230 -->\n<g id=\"edge66\" class=\"edge\">\n<title>216&#45;&gt;230</title>\n<path fill=\"none\" stroke=\"black\" d=\"M2712.73,-190.91C2719.64,-181.92 2727.03,-172.32 2734.15,-163.05\"/>\n<polygon fill=\"black\" stroke=\"black\" points=\"2737.01,-165.08 2740.33,-155.02 2731.46,-160.81 2737.01,-165.08\"/>\n</g>\n<!-- 218 -->\n<g id=\"node65\" class=\"node\">\n<title>218</title>\n<path fill=\"#c0c0c0\" stroke=\"black\" d=\"M2602.5,-36C2602.5,-36 2572.5,-36 2572.5,-36 2566.5,-36 2560.5,-30 2560.5,-24 2560.5,-24 2560.5,-12 2560.5,-12 2560.5,-6 2566.5,0 2572.5,0 2572.5,0 2602.5,0 2602.5,0 2608.5,0 2614.5,-6 2614.5,-12 2614.5,-12 2614.5,-24 2614.5,-24 2614.5,-30 2608.5,-36 2602.5,-36\"/>\n<text text-anchor=\"middle\" x=\"2587.5\" y=\"-14.3\" font-family=\"Helvetica,sans-Serif\" font-size=\"14.00\">(...)</text>\n</g>\n<!-- 217&#45;&gt;218 -->\n<g id=\"edge64\" class=\"edge\">\n<title>217&#45;&gt;218</title>\n<path fill=\"none\" stroke=\"black\" d=\"M2609.51,-71.76C2605.83,-62.94 2602.03,-53.84 2598.65,-45.72\"/>\n<polygon fill=\"black\" stroke=\"black\" points=\"2601.84,-44.29 2594.76,-36.41 2595.38,-46.98 2601.84,-44.29\"/>\n</g>\n<!-- 221 -->\n<g id=\"node66\" class=\"node\">\n<title>221</title>\n<path fill=\"#c0c0c0\" stroke=\"black\" d=\"M2674.5,-36C2674.5,-36 2644.5,-36 2644.5,-36 2638.5,-36 2632.5,-30 2632.5,-24 2632.5,-24 2632.5,-12 2632.5,-12 2632.5,-6 2638.5,0 2644.5,0 2644.5,0 2674.5,0 2674.5,0 2680.5,0 2686.5,-6 2686.5,-12 2686.5,-12 2686.5,-24 2686.5,-24 2686.5,-30 2680.5,-36 2674.5,-36\"/>\n<text text-anchor=\"middle\" x=\"2659.5\" y=\"-14.3\" font-family=\"Helvetica,sans-Serif\" font-size=\"14.00\">(...)</text>\n</g>\n<!-- 217&#45;&gt;221 -->\n<g id=\"edge65\" class=\"edge\">\n<title>217&#45;&gt;221</title>\n<path fill=\"none\" stroke=\"black\" d=\"M2640.88,-71.76C2643.96,-63.04 2647.13,-54.04 2649.97,-45.99\"/>\n<polygon fill=\"black\" stroke=\"black\" points=\"2653.33,-47 2653.36,-36.41 2646.73,-44.67 2653.33,-47\"/>\n</g>\n<!-- 231 -->\n<g id=\"node68\" class=\"node\">\n<title>231</title>\n<path fill=\"#c0c0c0\" stroke=\"black\" d=\"M2746.5,-36C2746.5,-36 2716.5,-36 2716.5,-36 2710.5,-36 2704.5,-30 2704.5,-24 2704.5,-24 2704.5,-12 2704.5,-12 2704.5,-6 2710.5,0 2716.5,0 2716.5,0 2746.5,0 2746.5,0 2752.5,0 2758.5,-6 2758.5,-12 2758.5,-12 2758.5,-24 2758.5,-24 2758.5,-30 2752.5,-36 2746.5,-36\"/>\n<text text-anchor=\"middle\" x=\"2731.5\" y=\"-14.3\" font-family=\"Helvetica,sans-Serif\" font-size=\"14.00\">(...)</text>\n</g>\n<!-- 230&#45;&gt;231 -->\n<g id=\"edge67\" class=\"edge\">\n<title>230&#45;&gt;231</title>\n<path fill=\"none\" stroke=\"black\" d=\"M2754.07,-71.76C2750.3,-62.94 2746.4,-53.84 2742.93,-45.72\"/>\n<polygon fill=\"black\" stroke=\"black\" points=\"2746.1,-44.22 2738.95,-36.41 2739.66,-46.98 2746.1,-44.22\"/>\n</g>\n<!-- 232 -->\n<g id=\"node69\" class=\"node\">\n<title>232</title>\n<path fill=\"#c0c0c0\" stroke=\"black\" d=\"M2818.5,-36C2818.5,-36 2788.5,-36 2788.5,-36 2782.5,-36 2776.5,-30 2776.5,-24 2776.5,-24 2776.5,-12 2776.5,-12 2776.5,-6 2782.5,0 2788.5,0 2788.5,0 2818.5,0 2818.5,0 2824.5,0 2830.5,-6 2830.5,-12 2830.5,-12 2830.5,-24 2830.5,-24 2830.5,-30 2824.5,-36 2818.5,-36\"/>\n<text text-anchor=\"middle\" x=\"2803.5\" y=\"-14.3\" font-family=\"Helvetica,sans-Serif\" font-size=\"14.00\">(...)</text>\n</g>\n<!-- 230&#45;&gt;232 -->\n<g id=\"edge68\" class=\"edge\">\n<title>230&#45;&gt;232</title>\n<path fill=\"none\" stroke=\"black\" d=\"M2785.44,-71.76C2788.43,-63.04 2791.51,-54.04 2794.26,-45.99\"/>\n<polygon fill=\"black\" stroke=\"black\" points=\"2797.62,-47 2797.54,-36.41 2790.99,-44.73 2797.62,-47\"/>\n</g>\n<!-- 240 -->\n<g id=\"node71\" class=\"node\">\n<title>240</title>\n<path fill=\"#69b5eb\" stroke=\"black\" d=\"M3030.5,-274C3030.5,-274 2874.5,-274 2874.5,-274 2868.5,-274 2862.5,-268 2862.5,-262 2862.5,-262 2862.5,-203 2862.5,-203 2862.5,-197 2868.5,-191 2874.5,-191 2874.5,-191 3030.5,-191 3030.5,-191 3036.5,-191 3042.5,-197 3042.5,-203 3042.5,-203 3042.5,-262 3042.5,-262 3042.5,-268 3036.5,-274 3030.5,-274\"/>\n<text text-anchor=\"middle\" x=\"2952.5\" y=\"-258.8\" font-family=\"Helvetica,sans-Serif\" font-size=\"14.00\">blood_cholesterol &lt;= 3.375</text>\n<text text-anchor=\"middle\" x=\"2952.5\" y=\"-243.8\" font-family=\"Helvetica,sans-Serif\" font-size=\"14.00\">entropy = 0.71</text>\n<text text-anchor=\"middle\" x=\"2952.5\" y=\"-228.8\" font-family=\"Helvetica,sans-Serif\" font-size=\"14.00\">samples = 299</text>\n<text text-anchor=\"middle\" x=\"2952.5\" y=\"-213.8\" font-family=\"Helvetica,sans-Serif\" font-size=\"14.00\">value = [58, 241]</text>\n<text text-anchor=\"middle\" x=\"2952.5\" y=\"-198.8\" font-family=\"Helvetica,sans-Serif\" font-size=\"14.00\">class = heart_yes</text>\n</g>\n<!-- 239&#45;&gt;240 -->\n<g id=\"edge70\" class=\"edge\">\n<title>239&#45;&gt;240</title>\n<path fill=\"none\" stroke=\"black\" d=\"M2952.5,-309.91C2952.5,-301.65 2952.5,-292.86 2952.5,-284.3\"/>\n<polygon fill=\"black\" stroke=\"black\" points=\"2956,-284.02 2952.5,-274.02 2949,-284.02 2956,-284.02\"/>\n</g>\n<!-- 271 -->\n<g id=\"node76\" class=\"node\">\n<title>271</title>\n<path fill=\"#a9d4f4\" stroke=\"black\" d=\"M3289,-274C3289,-274 3118,-274 3118,-274 3112,-274 3106,-268 3106,-262 3106,-262 3106,-203 3106,-203 3106,-197 3112,-191 3118,-191 3118,-191 3289,-191 3289,-191 3295,-191 3301,-197 3301,-203 3301,-203 3301,-262 3301,-262 3301,-268 3295,-274 3289,-274\"/>\n<text text-anchor=\"middle\" x=\"3203.5\" y=\"-258.8\" font-family=\"Helvetica,sans-Serif\" font-size=\"14.00\">blood_pressure_sys &lt;= 101.0</text>\n<text text-anchor=\"middle\" x=\"3203.5\" y=\"-243.8\" font-family=\"Helvetica,sans-Serif\" font-size=\"14.00\">entropy = 0.943</text>\n<text text-anchor=\"middle\" x=\"3203.5\" y=\"-228.8\" font-family=\"Helvetica,sans-Serif\" font-size=\"14.00\">samples = 230</text>\n<text text-anchor=\"middle\" x=\"3203.5\" y=\"-213.8\" font-family=\"Helvetica,sans-Serif\" font-size=\"14.00\">value = [83, 147]</text>\n<text text-anchor=\"middle\" x=\"3203.5\" y=\"-198.8\" font-family=\"Helvetica,sans-Serif\" font-size=\"14.00\">class = heart_yes</text>\n</g>\n<!-- 239&#45;&gt;271 -->\n<g id=\"edge75\" class=\"edge\">\n<title>239&#45;&gt;271</title>\n<path fill=\"none\" stroke=\"black\" d=\"M3027.81,-315.4C3052.74,-303.78 3080.83,-290.68 3107.12,-278.43\"/>\n<polygon fill=\"black\" stroke=\"black\" points=\"3108.75,-281.53 3116.34,-274.13 3105.79,-275.18 3108.75,-281.53\"/>\n</g>\n<!-- 241 -->\n<g id=\"node72\" class=\"node\">\n<title>241</title>\n<path fill=\"#399de5\" stroke=\"black\" d=\"M2957.5,-147.5C2957.5,-147.5 2859.5,-147.5 2859.5,-147.5 2853.5,-147.5 2847.5,-141.5 2847.5,-135.5 2847.5,-135.5 2847.5,-91.5 2847.5,-91.5 2847.5,-85.5 2853.5,-79.5 2859.5,-79.5 2859.5,-79.5 2957.5,-79.5 2957.5,-79.5 2963.5,-79.5 2969.5,-85.5 2969.5,-91.5 2969.5,-91.5 2969.5,-135.5 2969.5,-135.5 2969.5,-141.5 2963.5,-147.5 2957.5,-147.5\"/>\n<text text-anchor=\"middle\" x=\"2908.5\" y=\"-132.3\" font-family=\"Helvetica,sans-Serif\" font-size=\"14.00\">entropy = 0.0</text>\n<text text-anchor=\"middle\" x=\"2908.5\" y=\"-117.3\" font-family=\"Helvetica,sans-Serif\" font-size=\"14.00\">samples = 46</text>\n<text text-anchor=\"middle\" x=\"2908.5\" y=\"-102.3\" font-family=\"Helvetica,sans-Serif\" font-size=\"14.00\">value = [0, 46]</text>\n<text text-anchor=\"middle\" x=\"2908.5\" y=\"-87.3\" font-family=\"Helvetica,sans-Serif\" font-size=\"14.00\">class = heart_yes</text>\n</g>\n<!-- 240&#45;&gt;241 -->\n<g id=\"edge71\" class=\"edge\">\n<title>240&#45;&gt;241</title>\n<path fill=\"none\" stroke=\"black\" d=\"M2937.23,-190.91C2933.13,-179.98 2928.67,-168.14 2924.52,-157.11\"/>\n<polygon fill=\"black\" stroke=\"black\" points=\"2927.77,-155.79 2920.97,-147.67 2921.22,-158.26 2927.77,-155.79\"/>\n</g>\n<!-- 242 -->\n<g id=\"node73\" class=\"node\">\n<title>242</title>\n<path fill=\"#74baed\" stroke=\"black\" d=\"M3115,-155C3115,-155 3000,-155 3000,-155 2994,-155 2988,-149 2988,-143 2988,-143 2988,-84 2988,-84 2988,-78 2994,-72 3000,-72 3000,-72 3115,-72 3115,-72 3121,-72 3127,-78 3127,-84 3127,-84 3127,-143 3127,-143 3127,-149 3121,-155 3115,-155\"/>\n<text text-anchor=\"middle\" x=\"3057.5\" y=\"-139.8\" font-family=\"Helvetica,sans-Serif\" font-size=\"14.00\">drink_alcohol &lt;= 0.5</text>\n<text text-anchor=\"middle\" x=\"3057.5\" y=\"-124.8\" font-family=\"Helvetica,sans-Serif\" font-size=\"14.00\">entropy = 0.777</text>\n<text text-anchor=\"middle\" x=\"3057.5\" y=\"-109.8\" font-family=\"Helvetica,sans-Serif\" font-size=\"14.00\">samples = 253</text>\n<text text-anchor=\"middle\" x=\"3057.5\" y=\"-94.8\" font-family=\"Helvetica,sans-Serif\" font-size=\"14.00\">value = [58, 195]</text>\n<text text-anchor=\"middle\" x=\"3057.5\" y=\"-79.8\" font-family=\"Helvetica,sans-Serif\" font-size=\"14.00\">class = heart_yes</text>\n</g>\n<!-- 240&#45;&gt;242 -->\n<g id=\"edge72\" class=\"edge\">\n<title>240&#45;&gt;242</title>\n<path fill=\"none\" stroke=\"black\" d=\"M2988.93,-190.91C2997.15,-181.74 3005.96,-171.93 3014.43,-162.49\"/>\n<polygon fill=\"black\" stroke=\"black\" points=\"3017.06,-164.8 3021.14,-155.02 3011.85,-160.13 3017.06,-164.8\"/>\n</g>\n<!-- 243 -->\n<g id=\"node74\" class=\"node\">\n<title>243</title>\n<path fill=\"#c0c0c0\" stroke=\"black\" d=\"M3036.5,-36C3036.5,-36 3006.5,-36 3006.5,-36 3000.5,-36 2994.5,-30 2994.5,-24 2994.5,-24 2994.5,-12 2994.5,-12 2994.5,-6 3000.5,0 3006.5,0 3006.5,0 3036.5,0 3036.5,0 3042.5,0 3048.5,-6 3048.5,-12 3048.5,-12 3048.5,-24 3048.5,-24 3048.5,-30 3042.5,-36 3036.5,-36\"/>\n<text text-anchor=\"middle\" x=\"3021.5\" y=\"-14.3\" font-family=\"Helvetica,sans-Serif\" font-size=\"14.00\">(...)</text>\n</g>\n<!-- 242&#45;&gt;243 -->\n<g id=\"edge73\" class=\"edge\">\n<title>242&#45;&gt;243</title>\n<path fill=\"none\" stroke=\"black\" d=\"M3041.81,-71.76C3038.46,-63.04 3034.99,-54.04 3031.89,-45.99\"/>\n<polygon fill=\"black\" stroke=\"black\" points=\"3035.06,-44.48 3028.2,-36.41 3028.53,-46.99 3035.06,-44.48\"/>\n</g>\n<!-- 252 -->\n<g id=\"node75\" class=\"node\">\n<title>252</title>\n<path fill=\"#c0c0c0\" stroke=\"black\" d=\"M3108.5,-36C3108.5,-36 3078.5,-36 3078.5,-36 3072.5,-36 3066.5,-30 3066.5,-24 3066.5,-24 3066.5,-12 3066.5,-12 3066.5,-6 3072.5,0 3078.5,0 3078.5,0 3108.5,0 3108.5,0 3114.5,0 3120.5,-6 3120.5,-12 3120.5,-12 3120.5,-24 3120.5,-24 3120.5,-30 3114.5,-36 3108.5,-36\"/>\n<text text-anchor=\"middle\" x=\"3093.5\" y=\"-14.3\" font-family=\"Helvetica,sans-Serif\" font-size=\"14.00\">(...)</text>\n</g>\n<!-- 242&#45;&gt;252 -->\n<g id=\"edge74\" class=\"edge\">\n<title>242&#45;&gt;252</title>\n<path fill=\"none\" stroke=\"black\" d=\"M3073.19,-71.76C3076.54,-63.04 3080.01,-54.04 3083.11,-45.99\"/>\n<polygon fill=\"black\" stroke=\"black\" points=\"3086.47,-46.99 3086.8,-36.41 3079.94,-44.48 3086.47,-46.99\"/>\n</g>\n<!-- 272 -->\n<g id=\"node77\" class=\"node\">\n<title>272</title>\n<path fill=\"#e58139\" stroke=\"black\" d=\"M3249.5,-147.5C3249.5,-147.5 3157.5,-147.5 3157.5,-147.5 3151.5,-147.5 3145.5,-141.5 3145.5,-135.5 3145.5,-135.5 3145.5,-91.5 3145.5,-91.5 3145.5,-85.5 3151.5,-79.5 3157.5,-79.5 3157.5,-79.5 3249.5,-79.5 3249.5,-79.5 3255.5,-79.5 3261.5,-85.5 3261.5,-91.5 3261.5,-91.5 3261.5,-135.5 3261.5,-135.5 3261.5,-141.5 3255.5,-147.5 3249.5,-147.5\"/>\n<text text-anchor=\"middle\" x=\"3203.5\" y=\"-132.3\" font-family=\"Helvetica,sans-Serif\" font-size=\"14.00\">entropy = 0.0</text>\n<text text-anchor=\"middle\" x=\"3203.5\" y=\"-117.3\" font-family=\"Helvetica,sans-Serif\" font-size=\"14.00\">samples = 9</text>\n<text text-anchor=\"middle\" x=\"3203.5\" y=\"-102.3\" font-family=\"Helvetica,sans-Serif\" font-size=\"14.00\">value = [9, 0]</text>\n<text text-anchor=\"middle\" x=\"3203.5\" y=\"-87.3\" font-family=\"Helvetica,sans-Serif\" font-size=\"14.00\">class = heart_no</text>\n</g>\n<!-- 271&#45;&gt;272 -->\n<g id=\"edge76\" class=\"edge\">\n<title>271&#45;&gt;272</title>\n<path fill=\"none\" stroke=\"black\" d=\"M3203.5,-190.91C3203.5,-180.2 3203.5,-168.62 3203.5,-157.78\"/>\n<polygon fill=\"black\" stroke=\"black\" points=\"3207,-157.67 3203.5,-147.67 3200,-157.67 3207,-157.67\"/>\n</g>\n<!-- 273 -->\n<g id=\"node78\" class=\"node\">\n<title>273</title>\n<path fill=\"#9dcef2\" stroke=\"black\" d=\"M3395.5,-155C3395.5,-155 3291.5,-155 3291.5,-155 3285.5,-155 3279.5,-149 3279.5,-143 3279.5,-143 3279.5,-84 3279.5,-84 3279.5,-78 3285.5,-72 3291.5,-72 3291.5,-72 3395.5,-72 3395.5,-72 3401.5,-72 3407.5,-78 3407.5,-84 3407.5,-84 3407.5,-143 3407.5,-143 3407.5,-149 3401.5,-155 3395.5,-155\"/>\n<text text-anchor=\"middle\" x=\"3343.5\" y=\"-139.8\" font-family=\"Helvetica,sans-Serif\" font-size=\"14.00\">calories &lt;= 2746.0</text>\n<text text-anchor=\"middle\" x=\"3343.5\" y=\"-124.8\" font-family=\"Helvetica,sans-Serif\" font-size=\"14.00\">entropy = 0.92</text>\n<text text-anchor=\"middle\" x=\"3343.5\" y=\"-109.8\" font-family=\"Helvetica,sans-Serif\" font-size=\"14.00\">samples = 221</text>\n<text text-anchor=\"middle\" x=\"3343.5\" y=\"-94.8\" font-family=\"Helvetica,sans-Serif\" font-size=\"14.00\">value = [74, 147]</text>\n<text text-anchor=\"middle\" x=\"3343.5\" y=\"-79.8\" font-family=\"Helvetica,sans-Serif\" font-size=\"14.00\">class = heart_yes</text>\n</g>\n<!-- 271&#45;&gt;273 -->\n<g id=\"edge77\" class=\"edge\">\n<title>271&#45;&gt;273</title>\n<path fill=\"none\" stroke=\"black\" d=\"M3252.07,-190.91C3263.37,-181.47 3275.48,-171.34 3287.08,-161.65\"/>\n<polygon fill=\"black\" stroke=\"black\" points=\"3289.58,-164.12 3295.01,-155.02 3285.1,-158.75 3289.58,-164.12\"/>\n</g>\n<!-- 274 -->\n<g id=\"node79\" class=\"node\">\n<title>274</title>\n<path fill=\"#c0c0c0\" stroke=\"black\" d=\"M3290.5,-36C3290.5,-36 3260.5,-36 3260.5,-36 3254.5,-36 3248.5,-30 3248.5,-24 3248.5,-24 3248.5,-12 3248.5,-12 3248.5,-6 3254.5,0 3260.5,0 3260.5,0 3290.5,0 3290.5,0 3296.5,0 3302.5,-6 3302.5,-12 3302.5,-12 3302.5,-24 3302.5,-24 3302.5,-30 3296.5,-36 3290.5,-36\"/>\n<text text-anchor=\"middle\" x=\"3275.5\" y=\"-14.3\" font-family=\"Helvetica,sans-Serif\" font-size=\"14.00\">(...)</text>\n</g>\n<!-- 273&#45;&gt;274 -->\n<g id=\"edge78\" class=\"edge\">\n<title>273&#45;&gt;274</title>\n<path fill=\"none\" stroke=\"black\" d=\"M3313.87,-71.76C3307.18,-62.56 3300.25,-53.04 3294.16,-44.66\"/>\n<polygon fill=\"black\" stroke=\"black\" points=\"3296.87,-42.43 3288.16,-36.41 3291.21,-46.55 3296.87,-42.43\"/>\n</g>\n<!-- 291 -->\n<g id=\"node80\" class=\"node\">\n<title>291</title>\n<path fill=\"#c0c0c0\" stroke=\"black\" d=\"M3362.5,-36C3362.5,-36 3332.5,-36 3332.5,-36 3326.5,-36 3320.5,-30 3320.5,-24 3320.5,-24 3320.5,-12 3320.5,-12 3320.5,-6 3326.5,0 3332.5,0 3332.5,0 3362.5,0 3362.5,0 3368.5,0 3374.5,-6 3374.5,-12 3374.5,-12 3374.5,-24 3374.5,-24 3374.5,-30 3368.5,-36 3362.5,-36\"/>\n<text text-anchor=\"middle\" x=\"3347.5\" y=\"-14.3\" font-family=\"Helvetica,sans-Serif\" font-size=\"14.00\">(...)</text>\n</g>\n<!-- 273&#45;&gt;291 -->\n<g id=\"edge79\" class=\"edge\">\n<title>273&#45;&gt;291</title>\n<path fill=\"none\" stroke=\"black\" d=\"M3345.24,-71.76C3345.61,-63.24 3345.98,-54.44 3346.32,-46.53\"/>\n<polygon fill=\"black\" stroke=\"black\" points=\"3349.82,-46.55 3346.76,-36.41 3342.83,-46.25 3349.82,-46.55\"/>\n</g>\n<!-- 299 -->\n<g id=\"node82\" class=\"node\">\n<title>299</title>\n<path fill=\"#bddef6\" stroke=\"black\" d=\"M3659.5,-393C3659.5,-393 3561.5,-393 3561.5,-393 3555.5,-393 3549.5,-387 3549.5,-381 3549.5,-381 3549.5,-322 3549.5,-322 3549.5,-316 3555.5,-310 3561.5,-310 3561.5,-310 3659.5,-310 3659.5,-310 3665.5,-310 3671.5,-316 3671.5,-322 3671.5,-322 3671.5,-381 3671.5,-381 3671.5,-387 3665.5,-393 3659.5,-393\"/>\n<text text-anchor=\"middle\" x=\"3610.5\" y=\"-377.8\" font-family=\"Helvetica,sans-Serif\" font-size=\"14.00\">BMI &lt;= 27.05</text>\n<text text-anchor=\"middle\" x=\"3610.5\" y=\"-362.8\" font-family=\"Helvetica,sans-Serif\" font-size=\"14.00\">entropy = 0.971</text>\n<text text-anchor=\"middle\" x=\"3610.5\" y=\"-347.8\" font-family=\"Helvetica,sans-Serif\" font-size=\"14.00\">samples = 60</text>\n<text text-anchor=\"middle\" x=\"3610.5\" y=\"-332.8\" font-family=\"Helvetica,sans-Serif\" font-size=\"14.00\">value = [24, 36]</text>\n<text text-anchor=\"middle\" x=\"3610.5\" y=\"-317.8\" font-family=\"Helvetica,sans-Serif\" font-size=\"14.00\">class = heart_yes</text>\n</g>\n<!-- 298&#45;&gt;299 -->\n<g id=\"edge81\" class=\"edge\">\n<title>298&#45;&gt;299</title>\n<path fill=\"none\" stroke=\"black\" d=\"M3610.5,-428.91C3610.5,-420.65 3610.5,-411.86 3610.5,-403.3\"/>\n<polygon fill=\"black\" stroke=\"black\" points=\"3614,-403.02 3610.5,-393.02 3607,-403.02 3614,-403.02\"/>\n</g>\n<!-- 308 -->\n<g id=\"node89\" class=\"node\">\n<title>308</title>\n<path fill=\"#54aae9\" stroke=\"black\" d=\"M3992,-393C3992,-393 3821,-393 3821,-393 3815,-393 3809,-387 3809,-381 3809,-381 3809,-322 3809,-322 3809,-316 3815,-310 3821,-310 3821,-310 3992,-310 3992,-310 3998,-310 4004,-316 4004,-322 4004,-322 4004,-381 4004,-381 4004,-387 3998,-393 3992,-393\"/>\n<text text-anchor=\"middle\" x=\"3906.5\" y=\"-377.8\" font-family=\"Helvetica,sans-Serif\" font-size=\"14.00\">blood_pressure_sys &lt;= 135.0</text>\n<text text-anchor=\"middle\" x=\"3906.5\" y=\"-362.8\" font-family=\"Helvetica,sans-Serif\" font-size=\"14.00\">entropy = 0.53</text>\n<text text-anchor=\"middle\" x=\"3906.5\" y=\"-347.8\" font-family=\"Helvetica,sans-Serif\" font-size=\"14.00\">samples = 823</text>\n<text text-anchor=\"middle\" x=\"3906.5\" y=\"-332.8\" font-family=\"Helvetica,sans-Serif\" font-size=\"14.00\">value = [99, 724]</text>\n<text text-anchor=\"middle\" x=\"3906.5\" y=\"-317.8\" font-family=\"Helvetica,sans-Serif\" font-size=\"14.00\">class = heart_yes</text>\n</g>\n<!-- 298&#45;&gt;308 -->\n<g id=\"edge88\" class=\"edge\">\n<title>298&#45;&gt;308</title>\n<path fill=\"none\" stroke=\"black\" d=\"M3700.52,-433.92C3731.71,-421.59 3766.98,-407.65 3799.42,-394.83\"/>\n<polygon fill=\"black\" stroke=\"black\" points=\"3800.92,-398 3808.93,-391.07 3798.34,-391.49 3800.92,-398\"/>\n</g>\n<!-- 300 -->\n<g id=\"node83\" class=\"node\">\n<title>300</title>\n<path fill=\"#6ab6ec\" stroke=\"black\" d=\"M3604,-274C3604,-274 3455,-274 3455,-274 3449,-274 3443,-268 3443,-262 3443,-262 3443,-203 3443,-203 3443,-197 3449,-191 3455,-191 3455,-191 3604,-191 3604,-191 3610,-191 3616,-197 3616,-203 3616,-203 3616,-262 3616,-262 3616,-268 3610,-274 3604,-274\"/>\n<text text-anchor=\"middle\" x=\"3529.5\" y=\"-258.8\" font-family=\"Helvetica,sans-Serif\" font-size=\"14.00\">blood_cholesterol &lt;= 3.48</text>\n<text text-anchor=\"middle\" x=\"3529.5\" y=\"-243.8\" font-family=\"Helvetica,sans-Serif\" font-size=\"14.00\">entropy = 0.722</text>\n<text text-anchor=\"middle\" x=\"3529.5\" y=\"-228.8\" font-family=\"Helvetica,sans-Serif\" font-size=\"14.00\">samples = 45</text>\n<text text-anchor=\"middle\" x=\"3529.5\" y=\"-213.8\" font-family=\"Helvetica,sans-Serif\" font-size=\"14.00\">value = [9, 36]</text>\n<text text-anchor=\"middle\" x=\"3529.5\" y=\"-198.8\" font-family=\"Helvetica,sans-Serif\" font-size=\"14.00\">class = heart_yes</text>\n</g>\n<!-- 299&#45;&gt;300 -->\n<g id=\"edge82\" class=\"edge\">\n<title>299&#45;&gt;300</title>\n<path fill=\"none\" stroke=\"black\" d=\"M3582.4,-309.91C3576.24,-301.01 3569.66,-291.51 3563.31,-282.33\"/>\n<polygon fill=\"black\" stroke=\"black\" points=\"3566.12,-280.25 3557.55,-274.02 3560.37,-284.24 3566.12,-280.25\"/>\n</g>\n<!-- 307 -->\n<g id=\"node88\" class=\"node\">\n<title>307</title>\n<path fill=\"#e58139\" stroke=\"black\" d=\"M3738.5,-266.5C3738.5,-266.5 3646.5,-266.5 3646.5,-266.5 3640.5,-266.5 3634.5,-260.5 3634.5,-254.5 3634.5,-254.5 3634.5,-210.5 3634.5,-210.5 3634.5,-204.5 3640.5,-198.5 3646.5,-198.5 3646.5,-198.5 3738.5,-198.5 3738.5,-198.5 3744.5,-198.5 3750.5,-204.5 3750.5,-210.5 3750.5,-210.5 3750.5,-254.5 3750.5,-254.5 3750.5,-260.5 3744.5,-266.5 3738.5,-266.5\"/>\n<text text-anchor=\"middle\" x=\"3692.5\" y=\"-251.3\" font-family=\"Helvetica,sans-Serif\" font-size=\"14.00\">entropy = 0.0</text>\n<text text-anchor=\"middle\" x=\"3692.5\" y=\"-236.3\" font-family=\"Helvetica,sans-Serif\" font-size=\"14.00\">samples = 15</text>\n<text text-anchor=\"middle\" x=\"3692.5\" y=\"-221.3\" font-family=\"Helvetica,sans-Serif\" font-size=\"14.00\">value = [15, 0]</text>\n<text text-anchor=\"middle\" x=\"3692.5\" y=\"-206.3\" font-family=\"Helvetica,sans-Serif\" font-size=\"14.00\">class = heart_no</text>\n</g>\n<!-- 299&#45;&gt;307 -->\n<g id=\"edge87\" class=\"edge\">\n<title>299&#45;&gt;307</title>\n<path fill=\"none\" stroke=\"black\" d=\"M3638.95,-309.91C3646.84,-298.65 3655.41,-286.42 3663.34,-275.11\"/>\n<polygon fill=\"black\" stroke=\"black\" points=\"3666.38,-276.86 3669.25,-266.67 3660.65,-272.85 3666.38,-276.86\"/>\n</g>\n<!-- 301 -->\n<g id=\"node84\" class=\"node\">\n<title>301</title>\n<path fill=\"#4fa8e8\" stroke=\"black\" d=\"M3553,-155C3553,-155 3438,-155 3438,-155 3432,-155 3426,-149 3426,-143 3426,-143 3426,-84 3426,-84 3426,-78 3432,-72 3438,-72 3438,-72 3553,-72 3553,-72 3559,-72 3565,-78 3565,-84 3565,-84 3565,-143 3565,-143 3565,-149 3559,-155 3553,-155\"/>\n<text text-anchor=\"middle\" x=\"3495.5\" y=\"-139.8\" font-family=\"Helvetica,sans-Serif\" font-size=\"14.00\">drink_alcohol &lt;= 0.5</text>\n<text text-anchor=\"middle\" x=\"3495.5\" y=\"-124.8\" font-family=\"Helvetica,sans-Serif\" font-size=\"14.00\">entropy = 0.469</text>\n<text text-anchor=\"middle\" x=\"3495.5\" y=\"-109.8\" font-family=\"Helvetica,sans-Serif\" font-size=\"14.00\">samples = 40</text>\n<text text-anchor=\"middle\" x=\"3495.5\" y=\"-94.8\" font-family=\"Helvetica,sans-Serif\" font-size=\"14.00\">value = [4, 36]</text>\n<text text-anchor=\"middle\" x=\"3495.5\" y=\"-79.8\" font-family=\"Helvetica,sans-Serif\" font-size=\"14.00\">class = heart_yes</text>\n</g>\n<!-- 300&#45;&gt;301 -->\n<g id=\"edge83\" class=\"edge\">\n<title>300&#45;&gt;301</title>\n<path fill=\"none\" stroke=\"black\" d=\"M3517.7,-190.91C3515.25,-182.47 3512.64,-173.48 3510.1,-164.74\"/>\n<polygon fill=\"black\" stroke=\"black\" points=\"3513.43,-163.65 3507.28,-155.02 3506.7,-165.6 3513.43,-163.65\"/>\n</g>\n<!-- 306 -->\n<g id=\"node87\" class=\"node\">\n<title>306</title>\n<path fill=\"#e58139\" stroke=\"black\" d=\"M3687.5,-147.5C3687.5,-147.5 3595.5,-147.5 3595.5,-147.5 3589.5,-147.5 3583.5,-141.5 3583.5,-135.5 3583.5,-135.5 3583.5,-91.5 3583.5,-91.5 3583.5,-85.5 3589.5,-79.5 3595.5,-79.5 3595.5,-79.5 3687.5,-79.5 3687.5,-79.5 3693.5,-79.5 3699.5,-85.5 3699.5,-91.5 3699.5,-91.5 3699.5,-135.5 3699.5,-135.5 3699.5,-141.5 3693.5,-147.5 3687.5,-147.5\"/>\n<text text-anchor=\"middle\" x=\"3641.5\" y=\"-132.3\" font-family=\"Helvetica,sans-Serif\" font-size=\"14.00\">entropy = 0.0</text>\n<text text-anchor=\"middle\" x=\"3641.5\" y=\"-117.3\" font-family=\"Helvetica,sans-Serif\" font-size=\"14.00\">samples = 5</text>\n<text text-anchor=\"middle\" x=\"3641.5\" y=\"-102.3\" font-family=\"Helvetica,sans-Serif\" font-size=\"14.00\">value = [5, 0]</text>\n<text text-anchor=\"middle\" x=\"3641.5\" y=\"-87.3\" font-family=\"Helvetica,sans-Serif\" font-size=\"14.00\">class = heart_no</text>\n</g>\n<!-- 300&#45;&gt;306 -->\n<g id=\"edge86\" class=\"edge\">\n<title>300&#45;&gt;306</title>\n<path fill=\"none\" stroke=\"black\" d=\"M3568.36,-190.91C3579.45,-179.32 3591.53,-166.7 3602.62,-155.11\"/>\n<polygon fill=\"black\" stroke=\"black\" points=\"3605.36,-157.31 3609.75,-147.67 3600.31,-152.47 3605.36,-157.31\"/>\n</g>\n<!-- 302 -->\n<g id=\"node85\" class=\"node\">\n<title>302</title>\n<path fill=\"#c0c0c0\" stroke=\"black\" d=\"M3474.5,-36C3474.5,-36 3444.5,-36 3444.5,-36 3438.5,-36 3432.5,-30 3432.5,-24 3432.5,-24 3432.5,-12 3432.5,-12 3432.5,-6 3438.5,0 3444.5,0 3444.5,0 3474.5,0 3474.5,0 3480.5,0 3486.5,-6 3486.5,-12 3486.5,-12 3486.5,-24 3486.5,-24 3486.5,-30 3480.5,-36 3474.5,-36\"/>\n<text text-anchor=\"middle\" x=\"3459.5\" y=\"-14.3\" font-family=\"Helvetica,sans-Serif\" font-size=\"14.00\">(...)</text>\n</g>\n<!-- 301&#45;&gt;302 -->\n<g id=\"edge84\" class=\"edge\">\n<title>301&#45;&gt;302</title>\n<path fill=\"none\" stroke=\"black\" d=\"M3479.81,-71.76C3476.46,-63.04 3472.99,-54.04 3469.89,-45.99\"/>\n<polygon fill=\"black\" stroke=\"black\" points=\"3473.06,-44.48 3466.2,-36.41 3466.53,-46.99 3473.06,-44.48\"/>\n</g>\n<!-- 305 -->\n<g id=\"node86\" class=\"node\">\n<title>305</title>\n<path fill=\"#c0c0c0\" stroke=\"black\" d=\"M3546.5,-36C3546.5,-36 3516.5,-36 3516.5,-36 3510.5,-36 3504.5,-30 3504.5,-24 3504.5,-24 3504.5,-12 3504.5,-12 3504.5,-6 3510.5,0 3516.5,0 3516.5,0 3546.5,0 3546.5,0 3552.5,0 3558.5,-6 3558.5,-12 3558.5,-12 3558.5,-24 3558.5,-24 3558.5,-30 3552.5,-36 3546.5,-36\"/>\n<text text-anchor=\"middle\" x=\"3531.5\" y=\"-14.3\" font-family=\"Helvetica,sans-Serif\" font-size=\"14.00\">(...)</text>\n</g>\n<!-- 301&#45;&gt;305 -->\n<g id=\"edge85\" class=\"edge\">\n<title>301&#45;&gt;305</title>\n<path fill=\"none\" stroke=\"black\" d=\"M3511.19,-71.76C3514.54,-63.04 3518.01,-54.04 3521.11,-45.99\"/>\n<polygon fill=\"black\" stroke=\"black\" points=\"3524.47,-46.99 3524.8,-36.41 3517.94,-44.48 3524.47,-46.99\"/>\n</g>\n<!-- 309 -->\n<g id=\"node90\" class=\"node\">\n<title>309</title>\n<path fill=\"#59ade9\" stroke=\"black\" d=\"M3963.5,-274C3963.5,-274 3849.5,-274 3849.5,-274 3843.5,-274 3837.5,-268 3837.5,-262 3837.5,-262 3837.5,-203 3837.5,-203 3837.5,-197 3843.5,-191 3849.5,-191 3849.5,-191 3963.5,-191 3963.5,-191 3969.5,-191 3975.5,-197 3975.5,-203 3975.5,-203 3975.5,-262 3975.5,-262 3975.5,-268 3969.5,-274 3963.5,-274\"/>\n<text text-anchor=\"middle\" x=\"3906.5\" y=\"-258.8\" font-family=\"Helvetica,sans-Serif\" font-size=\"14.00\">diastolic_bp &lt;= 57.0</text>\n<text text-anchor=\"middle\" x=\"3906.5\" y=\"-243.8\" font-family=\"Helvetica,sans-Serif\" font-size=\"14.00\">entropy = 0.586</text>\n<text text-anchor=\"middle\" x=\"3906.5\" y=\"-228.8\" font-family=\"Helvetica,sans-Serif\" font-size=\"14.00\">samples = 668</text>\n<text text-anchor=\"middle\" x=\"3906.5\" y=\"-213.8\" font-family=\"Helvetica,sans-Serif\" font-size=\"14.00\">value = [94, 574]</text>\n<text text-anchor=\"middle\" x=\"3906.5\" y=\"-198.8\" font-family=\"Helvetica,sans-Serif\" font-size=\"14.00\">class = heart_yes</text>\n</g>\n<!-- 308&#45;&gt;309 -->\n<g id=\"edge89\" class=\"edge\">\n<title>308&#45;&gt;309</title>\n<path fill=\"none\" stroke=\"black\" d=\"M3906.5,-309.91C3906.5,-301.65 3906.5,-292.86 3906.5,-284.3\"/>\n<polygon fill=\"black\" stroke=\"black\" points=\"3910,-284.02 3906.5,-274.02 3903,-284.02 3910,-284.02\"/>\n</g>\n<!-- 340 -->\n<g id=\"node97\" class=\"node\">\n<title>340</title>\n<path fill=\"#40a0e6\" stroke=\"black\" d=\"M4144.5,-274C4144.5,-274 4040.5,-274 4040.5,-274 4034.5,-274 4028.5,-268 4028.5,-262 4028.5,-262 4028.5,-203 4028.5,-203 4028.5,-197 4034.5,-191 4040.5,-191 4040.5,-191 4144.5,-191 4144.5,-191 4150.5,-191 4156.5,-197 4156.5,-203 4156.5,-203 4156.5,-262 4156.5,-262 4156.5,-268 4150.5,-274 4144.5,-274\"/>\n<text text-anchor=\"middle\" x=\"4092.5\" y=\"-258.8\" font-family=\"Helvetica,sans-Serif\" font-size=\"14.00\">calories &lt;= 1992.5</text>\n<text text-anchor=\"middle\" x=\"4092.5\" y=\"-243.8\" font-family=\"Helvetica,sans-Serif\" font-size=\"14.00\">entropy = 0.206</text>\n<text text-anchor=\"middle\" x=\"4092.5\" y=\"-228.8\" font-family=\"Helvetica,sans-Serif\" font-size=\"14.00\">samples = 155</text>\n<text text-anchor=\"middle\" x=\"4092.5\" y=\"-213.8\" font-family=\"Helvetica,sans-Serif\" font-size=\"14.00\">value = [5, 150]</text>\n<text text-anchor=\"middle\" x=\"4092.5\" y=\"-198.8\" font-family=\"Helvetica,sans-Serif\" font-size=\"14.00\">class = heart_yes</text>\n</g>\n<!-- 308&#45;&gt;340 -->\n<g id=\"edge96\" class=\"edge\">\n<title>308&#45;&gt;340</title>\n<path fill=\"none\" stroke=\"black\" d=\"M3971.03,-309.91C3986.7,-300.05 4003.56,-289.44 4019.59,-279.36\"/>\n<polygon fill=\"black\" stroke=\"black\" points=\"4021.8,-282.11 4028.4,-273.82 4018.07,-276.18 4021.8,-282.11\"/>\n</g>\n<!-- 310 -->\n<g id=\"node91\" class=\"node\">\n<title>310</title>\n<path fill=\"#9acdf2\" stroke=\"black\" d=\"M3861,-155C3861,-155 3730,-155 3730,-155 3724,-155 3718,-149 3718,-143 3718,-143 3718,-84 3718,-84 3718,-78 3724,-72 3730,-72 3730,-72 3861,-72 3861,-72 3867,-72 3873,-78 3873,-84 3873,-84 3873,-143 3873,-143 3873,-149 3867,-155 3861,-155\"/>\n<text text-anchor=\"middle\" x=\"3795.5\" y=\"-139.8\" font-family=\"Helvetica,sans-Serif\" font-size=\"14.00\">family_income &lt;= 1.19</text>\n<text text-anchor=\"middle\" x=\"3795.5\" y=\"-124.8\" font-family=\"Helvetica,sans-Serif\" font-size=\"14.00\">entropy = 0.914</text>\n<text text-anchor=\"middle\" x=\"3795.5\" y=\"-109.8\" font-family=\"Helvetica,sans-Serif\" font-size=\"14.00\">samples = 76</text>\n<text text-anchor=\"middle\" x=\"3795.5\" y=\"-94.8\" font-family=\"Helvetica,sans-Serif\" font-size=\"14.00\">value = [25, 51]</text>\n<text text-anchor=\"middle\" x=\"3795.5\" y=\"-79.8\" font-family=\"Helvetica,sans-Serif\" font-size=\"14.00\">class = heart_yes</text>\n</g>\n<!-- 309&#45;&gt;310 -->\n<g id=\"edge90\" class=\"edge\">\n<title>309&#45;&gt;310</title>\n<path fill=\"none\" stroke=\"black\" d=\"M3867.99,-190.91C3859.29,-181.74 3849.98,-171.93 3841.03,-162.49\"/>\n<polygon fill=\"black\" stroke=\"black\" points=\"3843.36,-159.87 3833.94,-155.02 3838.29,-164.68 3843.36,-159.87\"/>\n</g>\n<!-- 323 -->\n<g id=\"node94\" class=\"node\">\n<title>323</title>\n<path fill=\"#53aae8\" stroke=\"black\" d=\"M4001.5,-155C4001.5,-155 3903.5,-155 3903.5,-155 3897.5,-155 3891.5,-149 3891.5,-143 3891.5,-143 3891.5,-84 3891.5,-84 3891.5,-78 3897.5,-72 3903.5,-72 3903.5,-72 4001.5,-72 4001.5,-72 4007.5,-72 4013.5,-78 4013.5,-84 4013.5,-84 4013.5,-143 4013.5,-143 4013.5,-149 4007.5,-155 4001.5,-155\"/>\n<text text-anchor=\"middle\" x=\"3952.5\" y=\"-139.8\" font-family=\"Helvetica,sans-Serif\" font-size=\"14.00\">calories &lt;= 522.0</text>\n<text text-anchor=\"middle\" x=\"3952.5\" y=\"-124.8\" font-family=\"Helvetica,sans-Serif\" font-size=\"14.00\">entropy = 0.519</text>\n<text text-anchor=\"middle\" x=\"3952.5\" y=\"-109.8\" font-family=\"Helvetica,sans-Serif\" font-size=\"14.00\">samples = 592</text>\n<text text-anchor=\"middle\" x=\"3952.5\" y=\"-94.8\" font-family=\"Helvetica,sans-Serif\" font-size=\"14.00\">value = [69, 523]</text>\n<text text-anchor=\"middle\" x=\"3952.5\" y=\"-79.8\" font-family=\"Helvetica,sans-Serif\" font-size=\"14.00\">class = heart_yes</text>\n</g>\n<!-- 309&#45;&gt;323 -->\n<g id=\"edge93\" class=\"edge\">\n<title>309&#45;&gt;323</title>\n<path fill=\"none\" stroke=\"black\" d=\"M3922.46,-190.91C3925.81,-182.38 3929.39,-173.28 3932.86,-164.46\"/>\n<polygon fill=\"black\" stroke=\"black\" points=\"3936.17,-165.61 3936.57,-155.02 3929.65,-163.05 3936.17,-165.61\"/>\n</g>\n<!-- 311 -->\n<g id=\"node92\" class=\"node\">\n<title>311</title>\n<path fill=\"#c0c0c0\" stroke=\"black\" d=\"M3744.5,-36C3744.5,-36 3714.5,-36 3714.5,-36 3708.5,-36 3702.5,-30 3702.5,-24 3702.5,-24 3702.5,-12 3702.5,-12 3702.5,-6 3708.5,0 3714.5,0 3714.5,0 3744.5,0 3744.5,0 3750.5,0 3756.5,-6 3756.5,-12 3756.5,-12 3756.5,-24 3756.5,-24 3756.5,-30 3750.5,-36 3744.5,-36\"/>\n<text text-anchor=\"middle\" x=\"3729.5\" y=\"-14.3\" font-family=\"Helvetica,sans-Serif\" font-size=\"14.00\">(...)</text>\n</g>\n<!-- 310&#45;&gt;311 -->\n<g id=\"edge91\" class=\"edge\">\n<title>310&#45;&gt;311</title>\n<path fill=\"none\" stroke=\"black\" d=\"M3766.74,-71.76C3760.25,-62.56 3753.53,-53.04 3747.61,-44.66\"/>\n<polygon fill=\"black\" stroke=\"black\" points=\"3750.41,-42.56 3741.79,-36.41 3744.69,-46.59 3750.41,-42.56\"/>\n</g>\n<!-- 312 -->\n<g id=\"node93\" class=\"node\">\n<title>312</title>\n<path fill=\"#c0c0c0\" stroke=\"black\" d=\"M3816.5,-36C3816.5,-36 3786.5,-36 3786.5,-36 3780.5,-36 3774.5,-30 3774.5,-24 3774.5,-24 3774.5,-12 3774.5,-12 3774.5,-6 3780.5,0 3786.5,0 3786.5,0 3816.5,0 3816.5,0 3822.5,0 3828.5,-6 3828.5,-12 3828.5,-12 3828.5,-24 3828.5,-24 3828.5,-30 3822.5,-36 3816.5,-36\"/>\n<text text-anchor=\"middle\" x=\"3801.5\" y=\"-14.3\" font-family=\"Helvetica,sans-Serif\" font-size=\"14.00\">(...)</text>\n</g>\n<!-- 310&#45;&gt;312 -->\n<g id=\"edge92\" class=\"edge\">\n<title>310&#45;&gt;312</title>\n<path fill=\"none\" stroke=\"black\" d=\"M3798.11,-71.76C3798.66,-63.24 3799.23,-54.44 3799.73,-46.53\"/>\n<polygon fill=\"black\" stroke=\"black\" points=\"3803.24,-46.61 3800.38,-36.41 3796.25,-46.16 3803.24,-46.61\"/>\n</g>\n<!-- 324 -->\n<g id=\"node95\" class=\"node\">\n<title>324</title>\n<path fill=\"#c0c0c0\" stroke=\"black\" d=\"M3931.5,-36C3931.5,-36 3901.5,-36 3901.5,-36 3895.5,-36 3889.5,-30 3889.5,-24 3889.5,-24 3889.5,-12 3889.5,-12 3889.5,-6 3895.5,0 3901.5,0 3901.5,0 3931.5,0 3931.5,0 3937.5,0 3943.5,-6 3943.5,-12 3943.5,-12 3943.5,-24 3943.5,-24 3943.5,-30 3937.5,-36 3931.5,-36\"/>\n<text text-anchor=\"middle\" x=\"3916.5\" y=\"-14.3\" font-family=\"Helvetica,sans-Serif\" font-size=\"14.00\">(...)</text>\n</g>\n<!-- 323&#45;&gt;324 -->\n<g id=\"edge94\" class=\"edge\">\n<title>323&#45;&gt;324</title>\n<path fill=\"none\" stroke=\"black\" d=\"M3936.81,-71.76C3933.46,-63.04 3929.99,-54.04 3926.89,-45.99\"/>\n<polygon fill=\"black\" stroke=\"black\" points=\"3930.06,-44.48 3923.2,-36.41 3923.53,-46.99 3930.06,-44.48\"/>\n</g>\n<!-- 325 -->\n<g id=\"node96\" class=\"node\">\n<title>325</title>\n<path fill=\"#c0c0c0\" stroke=\"black\" d=\"M4003.5,-36C4003.5,-36 3973.5,-36 3973.5,-36 3967.5,-36 3961.5,-30 3961.5,-24 3961.5,-24 3961.5,-12 3961.5,-12 3961.5,-6 3967.5,0 3973.5,0 3973.5,0 4003.5,0 4003.5,0 4009.5,0 4015.5,-6 4015.5,-12 4015.5,-12 4015.5,-24 4015.5,-24 4015.5,-30 4009.5,-36 4003.5,-36\"/>\n<text text-anchor=\"middle\" x=\"3988.5\" y=\"-14.3\" font-family=\"Helvetica,sans-Serif\" font-size=\"14.00\">(...)</text>\n</g>\n<!-- 323&#45;&gt;325 -->\n<g id=\"edge95\" class=\"edge\">\n<title>323&#45;&gt;325</title>\n<path fill=\"none\" stroke=\"black\" d=\"M3968.19,-71.76C3971.54,-63.04 3975.01,-54.04 3978.11,-45.99\"/>\n<polygon fill=\"black\" stroke=\"black\" points=\"3981.47,-46.99 3981.8,-36.41 3974.94,-44.48 3981.47,-46.99\"/>\n</g>\n<!-- 341 -->\n<g id=\"node98\" class=\"node\">\n<title>341</title>\n<path fill=\"#399de5\" stroke=\"black\" d=\"M4141.5,-147.5C4141.5,-147.5 4043.5,-147.5 4043.5,-147.5 4037.5,-147.5 4031.5,-141.5 4031.5,-135.5 4031.5,-135.5 4031.5,-91.5 4031.5,-91.5 4031.5,-85.5 4037.5,-79.5 4043.5,-79.5 4043.5,-79.5 4141.5,-79.5 4141.5,-79.5 4147.5,-79.5 4153.5,-85.5 4153.5,-91.5 4153.5,-91.5 4153.5,-135.5 4153.5,-135.5 4153.5,-141.5 4147.5,-147.5 4141.5,-147.5\"/>\n<text text-anchor=\"middle\" x=\"4092.5\" y=\"-132.3\" font-family=\"Helvetica,sans-Serif\" font-size=\"14.00\">entropy = 0.0</text>\n<text text-anchor=\"middle\" x=\"4092.5\" y=\"-117.3\" font-family=\"Helvetica,sans-Serif\" font-size=\"14.00\">samples = 110</text>\n<text text-anchor=\"middle\" x=\"4092.5\" y=\"-102.3\" font-family=\"Helvetica,sans-Serif\" font-size=\"14.00\">value = [0, 110]</text>\n<text text-anchor=\"middle\" x=\"4092.5\" y=\"-87.3\" font-family=\"Helvetica,sans-Serif\" font-size=\"14.00\">class = heart_yes</text>\n</g>\n<!-- 340&#45;&gt;341 -->\n<g id=\"edge97\" class=\"edge\">\n<title>340&#45;&gt;341</title>\n<path fill=\"none\" stroke=\"black\" d=\"M4092.5,-190.91C4092.5,-180.2 4092.5,-168.62 4092.5,-157.78\"/>\n<polygon fill=\"black\" stroke=\"black\" points=\"4096,-157.67 4092.5,-147.67 4089,-157.67 4096,-157.67\"/>\n</g>\n<!-- 342 -->\n<g id=\"node99\" class=\"node\">\n<title>342</title>\n<path fill=\"#52a9e8\" stroke=\"black\" d=\"M4333,-155C4333,-155 4184,-155 4184,-155 4178,-155 4172,-149 4172,-143 4172,-143 4172,-84 4172,-84 4172,-78 4178,-72 4184,-72 4184,-72 4333,-72 4333,-72 4339,-72 4345,-78 4345,-84 4345,-84 4345,-143 4345,-143 4345,-149 4339,-155 4333,-155\"/>\n<text text-anchor=\"middle\" x=\"4258.5\" y=\"-139.8\" font-family=\"Helvetica,sans-Serif\" font-size=\"14.00\">blood_cholesterol &lt;= 4.72</text>\n<text text-anchor=\"middle\" x=\"4258.5\" y=\"-124.8\" font-family=\"Helvetica,sans-Serif\" font-size=\"14.00\">entropy = 0.503</text>\n<text text-anchor=\"middle\" x=\"4258.5\" y=\"-109.8\" font-family=\"Helvetica,sans-Serif\" font-size=\"14.00\">samples = 45</text>\n<text text-anchor=\"middle\" x=\"4258.5\" y=\"-94.8\" font-family=\"Helvetica,sans-Serif\" font-size=\"14.00\">value = [5, 40]</text>\n<text text-anchor=\"middle\" x=\"4258.5\" y=\"-79.8\" font-family=\"Helvetica,sans-Serif\" font-size=\"14.00\">class = heart_yes</text>\n</g>\n<!-- 340&#45;&gt;342 -->\n<g id=\"edge98\" class=\"edge\">\n<title>340&#45;&gt;342</title>\n<path fill=\"none\" stroke=\"black\" d=\"M4150.09,-190.91C4163.87,-181.2 4178.68,-170.76 4192.79,-160.81\"/>\n<polygon fill=\"black\" stroke=\"black\" points=\"4194.85,-163.64 4201.01,-155.02 4190.82,-157.92 4194.85,-163.64\"/>\n</g>\n<!-- 343 -->\n<g id=\"node100\" class=\"node\">\n<title>343</title>\n<path fill=\"#c0c0c0\" stroke=\"black\" d=\"M4237.5,-36C4237.5,-36 4207.5,-36 4207.5,-36 4201.5,-36 4195.5,-30 4195.5,-24 4195.5,-24 4195.5,-12 4195.5,-12 4195.5,-6 4201.5,0 4207.5,0 4207.5,0 4237.5,0 4237.5,0 4243.5,0 4249.5,-6 4249.5,-12 4249.5,-12 4249.5,-24 4249.5,-24 4249.5,-30 4243.5,-36 4237.5,-36\"/>\n<text text-anchor=\"middle\" x=\"4222.5\" y=\"-14.3\" font-family=\"Helvetica,sans-Serif\" font-size=\"14.00\">(...)</text>\n</g>\n<!-- 342&#45;&gt;343 -->\n<g id=\"edge99\" class=\"edge\">\n<title>342&#45;&gt;343</title>\n<path fill=\"none\" stroke=\"black\" d=\"M4242.81,-71.76C4239.46,-63.04 4235.99,-54.04 4232.89,-45.99\"/>\n<polygon fill=\"black\" stroke=\"black\" points=\"4236.06,-44.48 4229.2,-36.41 4229.53,-46.99 4236.06,-44.48\"/>\n</g>\n<!-- 346 -->\n<g id=\"node101\" class=\"node\">\n<title>346</title>\n<path fill=\"#c0c0c0\" stroke=\"black\" d=\"M4309.5,-36C4309.5,-36 4279.5,-36 4279.5,-36 4273.5,-36 4267.5,-30 4267.5,-24 4267.5,-24 4267.5,-12 4267.5,-12 4267.5,-6 4273.5,0 4279.5,0 4279.5,0 4309.5,0 4309.5,0 4315.5,0 4321.5,-6 4321.5,-12 4321.5,-12 4321.5,-24 4321.5,-24 4321.5,-30 4315.5,-36 4309.5,-36\"/>\n<text text-anchor=\"middle\" x=\"4294.5\" y=\"-14.3\" font-family=\"Helvetica,sans-Serif\" font-size=\"14.00\">(...)</text>\n</g>\n<!-- 342&#45;&gt;346 -->\n<g id=\"edge100\" class=\"edge\">\n<title>342&#45;&gt;346</title>\n<path fill=\"none\" stroke=\"black\" d=\"M4274.19,-71.76C4277.54,-63.04 4281.01,-54.04 4284.11,-45.99\"/>\n<polygon fill=\"black\" stroke=\"black\" points=\"4287.47,-46.99 4287.8,-36.41 4280.94,-44.48 4287.47,-46.99\"/>\n</g>\n</g>\n</svg>\n",
            "text/plain": [
              "<graphviz.sources.Source at 0x7dffc4e8a950>"
            ]
          },
          "metadata": {}
        }
      ],
      "source": [
        "# TODO: create a DecisionTreeClassifier\n",
        "tree_over = DecisionTreeClassifier(criterion=\"entropy\", max_depth=10)\n",
        "\n",
        "# TODO: fit it to our data\n",
        "tree_over.fit(X_train, t_train)\n",
        "\n",
        "# Print the training and validation accuracy\n",
        "print(\"Training Accuracy:\", tree_over.score(X_train, t_train))\n",
        "print(\"Validation Accuracy:\", tree_over.score(X_valid, t_valid))\n",
        "\n",
        "# TODO: visualize the tree\n",
        "visualize_tree(tree_over)"
      ]
    },
    {
      "cell_type": "markdown",
      "id": "excited-massage",
      "metadata": {
        "id": "excited-massage"
      },
      "source": [
        "**Graded Task:** What value of `max_depth` did you choose to make the tree underfit, or overfit? Why do these values cause the graph to underfit, or overfit?"
      ]
    },
    {
      "cell_type": "code",
      "execution_count": null,
      "id": "swiss-cuisine",
      "metadata": {
        "id": "swiss-cuisine"
      },
      "outputs": [],
      "source": [
        "# To make the tree underfit, I chose max_depth = 1 as it will only capture\n",
        "# a very limited information, which it only took whether age is <= 64.5 in this\n",
        "# case. For overfitting, I chose max_depth = 10 and it turned out it captured\n",
        "# too much detail."
      ]
    },
    {
      "cell_type": "markdown",
      "id": "mighty-yukon",
      "metadata": {
        "id": "mighty-yukon"
      },
      "source": [
        "We will now repeat the same computation as above, but vary the `min_samples_split` parameter instead of `max_depth`.\n",
        "\n",
        "**Task:** Similar to what we've been doing above, create another `DecisionTreeClassifier` that uses `entropy` to measure the quality of a split. This time set `min_samples_split` to a value that would cause the tree to *underfit*.  Omit the `max_depth` parameter. Report the accuracy (obtained via the `score()` method) on the validation and training sets. Visualize the tree."
      ]
    },
    {
      "cell_type": "code",
      "execution_count": 68,
      "id": "hearing-blink",
      "metadata": {
        "id": "hearing-blink",
        "colab": {
          "base_uri": "https://localhost:8080/",
          "height": 317
        },
        "outputId": "9a37a39c-ffe1-43ed-e97e-724e906945ea"
      },
      "outputs": [
        {
          "output_type": "stream",
          "name": "stdout",
          "text": [
            "Training Accuracy: 0.6804\n",
            "Validation Accuracy: 0.6793333333333333\n"
          ]
        },
        {
          "output_type": "display_data",
          "data": {
            "image/svg+xml": "<?xml version=\"1.0\" encoding=\"UTF-8\" standalone=\"no\"?>\n<!DOCTYPE svg PUBLIC \"-//W3C//DTD SVG 1.1//EN\"\n \"http://www.w3.org/Graphics/SVG/1.1/DTD/svg11.dtd\">\n<!-- Generated by graphviz version 2.43.0 (0)\n -->\n<!-- Title: Tree Pages: 1 -->\n<svg width=\"290pt\" height=\"195pt\"\n viewBox=\"0.00 0.00 290.00 195.00\" xmlns=\"http://www.w3.org/2000/svg\" xmlns:xlink=\"http://www.w3.org/1999/xlink\">\n<g id=\"graph0\" class=\"graph\" transform=\"scale(1 1) rotate(0) translate(4 191)\">\n<title>Tree</title>\n<polygon fill=\"white\" stroke=\"transparent\" points=\"-4,4 -4,-191 286,-191 286,4 -4,4\"/>\n<!-- 0 -->\n<g id=\"node1\" class=\"node\">\n<title>0</title>\n<path fill=\"#fefcfb\" stroke=\"black\" d=\"M199,-187C199,-187 83,-187 83,-187 77,-187 71,-181 71,-175 71,-175 71,-116 71,-116 71,-110 77,-104 83,-104 83,-104 199,-104 199,-104 205,-104 211,-110 211,-116 211,-116 211,-175 211,-175 211,-181 205,-187 199,-187\"/>\n<text text-anchor=\"middle\" x=\"141\" y=\"-171.8\" font-family=\"Helvetica,sans-Serif\" font-size=\"14.00\">age &lt;= 64.5</text>\n<text text-anchor=\"middle\" x=\"141\" y=\"-156.8\" font-family=\"Helvetica,sans-Serif\" font-size=\"14.00\">entropy = 1.0</text>\n<text text-anchor=\"middle\" x=\"141\" y=\"-141.8\" font-family=\"Helvetica,sans-Serif\" font-size=\"14.00\">samples = 5000</text>\n<text text-anchor=\"middle\" x=\"141\" y=\"-126.8\" font-family=\"Helvetica,sans-Serif\" font-size=\"14.00\">value = [2528, 2472]</text>\n<text text-anchor=\"middle\" x=\"141\" y=\"-111.8\" font-family=\"Helvetica,sans-Serif\" font-size=\"14.00\">class = heart_no</text>\n</g>\n<!-- 1 -->\n<g id=\"node2\" class=\"node\">\n<title>1</title>\n<path fill=\"#f1be98\" stroke=\"black\" d=\"M120,-68C120,-68 12,-68 12,-68 6,-68 0,-62 0,-56 0,-56 0,-12 0,-12 0,-6 6,0 12,0 12,0 120,0 120,0 126,0 132,-6 132,-12 132,-12 132,-56 132,-56 132,-62 126,-68 120,-68\"/>\n<text text-anchor=\"middle\" x=\"66\" y=\"-52.8\" font-family=\"Helvetica,sans-Serif\" font-size=\"14.00\">entropy = 0.909</text>\n<text text-anchor=\"middle\" x=\"66\" y=\"-37.8\" font-family=\"Helvetica,sans-Serif\" font-size=\"14.00\">samples = 2652</text>\n<text text-anchor=\"middle\" x=\"66\" y=\"-22.8\" font-family=\"Helvetica,sans-Serif\" font-size=\"14.00\">value = [1791, 861]</text>\n<text text-anchor=\"middle\" x=\"66\" y=\"-7.8\" font-family=\"Helvetica,sans-Serif\" font-size=\"14.00\">class = heart_no</text>\n</g>\n<!-- 0&#45;&gt;1 -->\n<g id=\"edge1\" class=\"edge\">\n<title>0&#45;&gt;1</title>\n<path fill=\"none\" stroke=\"black\" d=\"M113.07,-103.73C107.01,-94.88 100.6,-85.51 94.51,-76.63\"/>\n<polygon fill=\"black\" stroke=\"black\" points=\"97.35,-74.57 88.81,-68.3 91.57,-78.53 97.35,-74.57\"/>\n<text text-anchor=\"middle\" x=\"84.21\" y=\"-89.17\" font-family=\"Helvetica,sans-Serif\" font-size=\"14.00\">True</text>\n</g>\n<!-- 2 -->\n<g id=\"node3\" class=\"node\">\n<title>2</title>\n<path fill=\"#94caf1\" stroke=\"black\" d=\"M270,-68C270,-68 162,-68 162,-68 156,-68 150,-62 150,-56 150,-56 150,-12 150,-12 150,-6 156,0 162,0 162,0 270,0 270,0 276,0 282,-6 282,-12 282,-12 282,-56 282,-56 282,-62 276,-68 270,-68\"/>\n<text text-anchor=\"middle\" x=\"216\" y=\"-52.8\" font-family=\"Helvetica,sans-Serif\" font-size=\"14.00\">entropy = 0.898</text>\n<text text-anchor=\"middle\" x=\"216\" y=\"-37.8\" font-family=\"Helvetica,sans-Serif\" font-size=\"14.00\">samples = 2348</text>\n<text text-anchor=\"middle\" x=\"216\" y=\"-22.8\" font-family=\"Helvetica,sans-Serif\" font-size=\"14.00\">value = [737, 1611]</text>\n<text text-anchor=\"middle\" x=\"216\" y=\"-7.8\" font-family=\"Helvetica,sans-Serif\" font-size=\"14.00\">class = heart_yes</text>\n</g>\n<!-- 0&#45;&gt;2 -->\n<g id=\"edge2\" class=\"edge\">\n<title>0&#45;&gt;2</title>\n<path fill=\"none\" stroke=\"black\" d=\"M168.93,-103.73C174.99,-94.88 181.4,-85.51 187.49,-76.63\"/>\n<polygon fill=\"black\" stroke=\"black\" points=\"190.43,-78.53 193.19,-68.3 184.65,-74.57 190.43,-78.53\"/>\n<text text-anchor=\"middle\" x=\"197.79\" y=\"-89.17\" font-family=\"Helvetica,sans-Serif\" font-size=\"14.00\">False</text>\n</g>\n</g>\n</svg>\n",
            "text/plain": [
              "<graphviz.sources.Source at 0x7dffc4e8a950>"
            ]
          },
          "metadata": {}
        }
      ],
      "source": [
        "# TODO: create a DecisionTreeClassifier\n",
        "tree_under = DecisionTreeClassifier(criterion=\"entropy\", min_samples_split=5000)\n",
        "\n",
        "# TODO: fit it to our data\n",
        "tree_under.fit(X_train, t_train)\n",
        "\n",
        "# Print the training and validation accuracy\n",
        "print(\"Training Accuracy:\", tree_under.score(X_train, t_train))\n",
        "print(\"Validation Accuracy:\", tree_under.score(X_valid, t_valid))\n",
        "\n",
        "# TODO: visualize the tree\n",
        "visualize_tree(tree_under)"
      ]
    },
    {
      "cell_type": "markdown",
      "id": "extreme-linux",
      "metadata": {
        "id": "extreme-linux"
      },
      "source": [
        "**Task:** Repeat the same thing you did above. Set `min_samples_split` to a value that would cause the tree to *overfit*. Omit the `max_depth` parameter. Report the accuracy on the validation and training sets. When using `visualize_tree` to visualize the tree, you can leave the default max depth parameter as 5."
      ]
    },
    {
      "cell_type": "code",
      "execution_count": 69,
      "id": "reliable-auction",
      "metadata": {
        "id": "reliable-auction",
        "colab": {
          "base_uri": "https://localhost:8080/",
          "height": 1000
        },
        "outputId": "a55d2df5-f3c9-4390-f17f-0eb5a21424fe"
      },
      "outputs": [
        {
          "output_type": "stream",
          "name": "stdout",
          "text": [
            "Training Accuracy: 0.8414\n",
            "Validation Accuracy: 0.8073333333333333\n"
          ]
        },
        {
          "output_type": "display_data",
          "data": {
            "image/svg+xml": "<?xml version=\"1.0\" encoding=\"UTF-8\" standalone=\"no\"?>\n<!DOCTYPE svg PUBLIC \"-//W3C//DTD SVG 1.1//EN\"\n \"http://www.w3.org/Graphics/SVG/1.1/DTD/svg11.dtd\">\n<!-- Generated by graphviz version 2.43.0 (0)\n -->\n<!-- Title: Tree Pages: 1 -->\n<svg width=\"3226pt\" height=\"758pt\"\n viewBox=\"0.00 0.00 3225.50 758.00\" xmlns=\"http://www.w3.org/2000/svg\" xmlns:xlink=\"http://www.w3.org/1999/xlink\">\n<g id=\"graph0\" class=\"graph\" transform=\"scale(1 1) rotate(0) translate(4 754)\">\n<title>Tree</title>\n<polygon fill=\"white\" stroke=\"transparent\" points=\"-4,4 -4,-754 3221.5,-754 3221.5,4 -4,4\"/>\n<!-- 0 -->\n<g id=\"node1\" class=\"node\">\n<title>0</title>\n<path fill=\"#fefcfb\" stroke=\"black\" d=\"M1705.5,-750C1705.5,-750 1589.5,-750 1589.5,-750 1583.5,-750 1577.5,-744 1577.5,-738 1577.5,-738 1577.5,-679 1577.5,-679 1577.5,-673 1583.5,-667 1589.5,-667 1589.5,-667 1705.5,-667 1705.5,-667 1711.5,-667 1717.5,-673 1717.5,-679 1717.5,-679 1717.5,-738 1717.5,-738 1717.5,-744 1711.5,-750 1705.5,-750\"/>\n<text text-anchor=\"middle\" x=\"1647.5\" y=\"-734.8\" font-family=\"Helvetica,sans-Serif\" font-size=\"14.00\">age &lt;= 64.5</text>\n<text text-anchor=\"middle\" x=\"1647.5\" y=\"-719.8\" font-family=\"Helvetica,sans-Serif\" font-size=\"14.00\">entropy = 1.0</text>\n<text text-anchor=\"middle\" x=\"1647.5\" y=\"-704.8\" font-family=\"Helvetica,sans-Serif\" font-size=\"14.00\">samples = 5000</text>\n<text text-anchor=\"middle\" x=\"1647.5\" y=\"-689.8\" font-family=\"Helvetica,sans-Serif\" font-size=\"14.00\">value = [2528, 2472]</text>\n<text text-anchor=\"middle\" x=\"1647.5\" y=\"-674.8\" font-family=\"Helvetica,sans-Serif\" font-size=\"14.00\">class = heart_no</text>\n</g>\n<!-- 1 -->\n<g id=\"node2\" class=\"node\">\n<title>1</title>\n<path fill=\"#f1be98\" stroke=\"black\" d=\"M1248.5,-631C1248.5,-631 1140.5,-631 1140.5,-631 1134.5,-631 1128.5,-625 1128.5,-619 1128.5,-619 1128.5,-560 1128.5,-560 1128.5,-554 1134.5,-548 1140.5,-548 1140.5,-548 1248.5,-548 1248.5,-548 1254.5,-548 1260.5,-554 1260.5,-560 1260.5,-560 1260.5,-619 1260.5,-619 1260.5,-625 1254.5,-631 1248.5,-631\"/>\n<text text-anchor=\"middle\" x=\"1194.5\" y=\"-615.8\" font-family=\"Helvetica,sans-Serif\" font-size=\"14.00\">chest_pain &lt;= 0.5</text>\n<text text-anchor=\"middle\" x=\"1194.5\" y=\"-600.8\" font-family=\"Helvetica,sans-Serif\" font-size=\"14.00\">entropy = 0.909</text>\n<text text-anchor=\"middle\" x=\"1194.5\" y=\"-585.8\" font-family=\"Helvetica,sans-Serif\" font-size=\"14.00\">samples = 2652</text>\n<text text-anchor=\"middle\" x=\"1194.5\" y=\"-570.8\" font-family=\"Helvetica,sans-Serif\" font-size=\"14.00\">value = [1791, 861]</text>\n<text text-anchor=\"middle\" x=\"1194.5\" y=\"-555.8\" font-family=\"Helvetica,sans-Serif\" font-size=\"14.00\">class = heart_no</text>\n</g>\n<!-- 0&#45;&gt;1 -->\n<g id=\"edge1\" class=\"edge\">\n<title>0&#45;&gt;1</title>\n<path fill=\"none\" stroke=\"black\" d=\"M1577.22,-689.35C1494.03,-667.86 1356.02,-632.22 1270.44,-610.11\"/>\n<polygon fill=\"black\" stroke=\"black\" points=\"1271.08,-606.66 1260.53,-607.55 1269.33,-613.44 1271.08,-606.66\"/>\n<text text-anchor=\"middle\" x=\"1273.22\" y=\"-625.39\" font-family=\"Helvetica,sans-Serif\" font-size=\"14.00\">True</text>\n</g>\n<!-- 86 -->\n<g id=\"node37\" class=\"node\">\n<title>86</title>\n<path fill=\"#94caf1\" stroke=\"black\" d=\"M2143.5,-631C2143.5,-631 2035.5,-631 2035.5,-631 2029.5,-631 2023.5,-625 2023.5,-619 2023.5,-619 2023.5,-560 2023.5,-560 2023.5,-554 2029.5,-548 2035.5,-548 2035.5,-548 2143.5,-548 2143.5,-548 2149.5,-548 2155.5,-554 2155.5,-560 2155.5,-560 2155.5,-619 2155.5,-619 2155.5,-625 2149.5,-631 2143.5,-631\"/>\n<text text-anchor=\"middle\" x=\"2089.5\" y=\"-615.8\" font-family=\"Helvetica,sans-Serif\" font-size=\"14.00\">chest_pain &lt;= 0.5</text>\n<text text-anchor=\"middle\" x=\"2089.5\" y=\"-600.8\" font-family=\"Helvetica,sans-Serif\" font-size=\"14.00\">entropy = 0.898</text>\n<text text-anchor=\"middle\" x=\"2089.5\" y=\"-585.8\" font-family=\"Helvetica,sans-Serif\" font-size=\"14.00\">samples = 2348</text>\n<text text-anchor=\"middle\" x=\"2089.5\" y=\"-570.8\" font-family=\"Helvetica,sans-Serif\" font-size=\"14.00\">value = [737, 1611]</text>\n<text text-anchor=\"middle\" x=\"2089.5\" y=\"-555.8\" font-family=\"Helvetica,sans-Serif\" font-size=\"14.00\">class = heart_yes</text>\n</g>\n<!-- 0&#45;&gt;86 -->\n<g id=\"edge36\" class=\"edge\">\n<title>0&#45;&gt;86</title>\n<path fill=\"none\" stroke=\"black\" d=\"M1717.54,-688.96C1798.24,-667.6 1930.38,-632.62 2013.51,-610.61\"/>\n<polygon fill=\"black\" stroke=\"black\" points=\"2014.63,-613.94 2023.4,-608 2012.84,-607.17 2014.63,-613.94\"/>\n<text text-anchor=\"middle\" x=\"2010.84\" y=\"-625.91\" font-family=\"Helvetica,sans-Serif\" font-size=\"14.00\">False</text>\n</g>\n<!-- 2 -->\n<g id=\"node3\" class=\"node\">\n<title>2</title>\n<path fill=\"#eca36f\" stroke=\"black\" d=\"M672.5,-512C672.5,-512 564.5,-512 564.5,-512 558.5,-512 552.5,-506 552.5,-500 552.5,-500 552.5,-441 552.5,-441 552.5,-435 558.5,-429 564.5,-429 564.5,-429 672.5,-429 672.5,-429 678.5,-429 684.5,-435 684.5,-441 684.5,-441 684.5,-500 684.5,-500 684.5,-506 678.5,-512 672.5,-512\"/>\n<text text-anchor=\"middle\" x=\"618.5\" y=\"-496.8\" font-family=\"Helvetica,sans-Serif\" font-size=\"14.00\">age &lt;= 47.5</text>\n<text text-anchor=\"middle\" x=\"618.5\" y=\"-481.8\" font-family=\"Helvetica,sans-Serif\" font-size=\"14.00\">entropy = 0.747</text>\n<text text-anchor=\"middle\" x=\"618.5\" y=\"-466.8\" font-family=\"Helvetica,sans-Serif\" font-size=\"14.00\">samples = 1818</text>\n<text text-anchor=\"middle\" x=\"618.5\" y=\"-451.8\" font-family=\"Helvetica,sans-Serif\" font-size=\"14.00\">value = [1431, 387]</text>\n<text text-anchor=\"middle\" x=\"618.5\" y=\"-436.8\" font-family=\"Helvetica,sans-Serif\" font-size=\"14.00\">class = heart_no</text>\n</g>\n<!-- 1&#45;&gt;2 -->\n<g id=\"edge2\" class=\"edge\">\n<title>1&#45;&gt;2</title>\n<path fill=\"none\" stroke=\"black\" d=\"M1128.43,-575.08C1020.86,-553.23 808.49,-510.09 694.72,-486.98\"/>\n<polygon fill=\"black\" stroke=\"black\" points=\"695.19,-483.51 684.69,-484.94 693.79,-490.37 695.19,-483.51\"/>\n</g>\n<!-- 55 -->\n<g id=\"node22\" class=\"node\">\n<title>55</title>\n<path fill=\"#cfe7f9\" stroke=\"black\" d=\"M1245,-512C1245,-512 1144,-512 1144,-512 1138,-512 1132,-506 1132,-500 1132,-500 1132,-441 1132,-441 1132,-435 1138,-429 1144,-429 1144,-429 1245,-429 1245,-429 1251,-429 1257,-435 1257,-441 1257,-441 1257,-500 1257,-500 1257,-506 1251,-512 1245,-512\"/>\n<text text-anchor=\"middle\" x=\"1194.5\" y=\"-496.8\" font-family=\"Helvetica,sans-Serif\" font-size=\"14.00\">age &lt;= 56.5</text>\n<text text-anchor=\"middle\" x=\"1194.5\" y=\"-481.8\" font-family=\"Helvetica,sans-Serif\" font-size=\"14.00\">entropy = 0.986</text>\n<text text-anchor=\"middle\" x=\"1194.5\" y=\"-466.8\" font-family=\"Helvetica,sans-Serif\" font-size=\"14.00\">samples = 834</text>\n<text text-anchor=\"middle\" x=\"1194.5\" y=\"-451.8\" font-family=\"Helvetica,sans-Serif\" font-size=\"14.00\">value = [360, 474]</text>\n<text text-anchor=\"middle\" x=\"1194.5\" y=\"-436.8\" font-family=\"Helvetica,sans-Serif\" font-size=\"14.00\">class = heart_yes</text>\n</g>\n<!-- 1&#45;&gt;55 -->\n<g id=\"edge21\" class=\"edge\">\n<title>1&#45;&gt;55</title>\n<path fill=\"none\" stroke=\"black\" d=\"M1194.5,-547.91C1194.5,-539.65 1194.5,-530.86 1194.5,-522.3\"/>\n<polygon fill=\"black\" stroke=\"black\" points=\"1198,-522.02 1194.5,-512.02 1191,-522.02 1198,-522.02\"/>\n</g>\n<!-- 3 -->\n<g id=\"node4\" class=\"node\">\n<title>3</title>\n<path fill=\"#e68641\" stroke=\"black\" d=\"M294.5,-393C294.5,-393 168.5,-393 168.5,-393 162.5,-393 156.5,-387 156.5,-381 156.5,-381 156.5,-322 156.5,-322 156.5,-316 162.5,-310 168.5,-310 168.5,-310 294.5,-310 294.5,-310 300.5,-310 306.5,-316 306.5,-322 306.5,-322 306.5,-381 306.5,-381 306.5,-387 300.5,-393 294.5,-393\"/>\n<text text-anchor=\"middle\" x=\"231.5\" y=\"-377.8\" font-family=\"Helvetica,sans-Serif\" font-size=\"14.00\">gender_female &lt;= 0.5</text>\n<text text-anchor=\"middle\" x=\"231.5\" y=\"-362.8\" font-family=\"Helvetica,sans-Serif\" font-size=\"14.00\">entropy = 0.232</text>\n<text text-anchor=\"middle\" x=\"231.5\" y=\"-347.8\" font-family=\"Helvetica,sans-Serif\" font-size=\"14.00\">samples = 529</text>\n<text text-anchor=\"middle\" x=\"231.5\" y=\"-332.8\" font-family=\"Helvetica,sans-Serif\" font-size=\"14.00\">value = [509, 20]</text>\n<text text-anchor=\"middle\" x=\"231.5\" y=\"-317.8\" font-family=\"Helvetica,sans-Serif\" font-size=\"14.00\">class = heart_no</text>\n</g>\n<!-- 2&#45;&gt;3 -->\n<g id=\"edge3\" class=\"edge\">\n<title>2&#45;&gt;3</title>\n<path fill=\"none\" stroke=\"black\" d=\"M552.41,-449.52C487.26,-429.82 387.41,-399.64 316.41,-378.17\"/>\n<polygon fill=\"black\" stroke=\"black\" points=\"317.17,-374.74 306.59,-375.2 315.15,-381.44 317.17,-374.74\"/>\n</g>\n<!-- 12 -->\n<g id=\"node11\" class=\"node\">\n<title>12</title>\n<path fill=\"#efb388\" stroke=\"black\" d=\"M684,-393C684,-393 553,-393 553,-393 547,-393 541,-387 541,-381 541,-381 541,-322 541,-322 541,-316 547,-310 553,-310 553,-310 684,-310 684,-310 690,-310 696,-316 696,-322 696,-322 696,-381 696,-381 696,-387 690,-393 684,-393\"/>\n<text text-anchor=\"middle\" x=\"618.5\" y=\"-377.8\" font-family=\"Helvetica,sans-Serif\" font-size=\"14.00\">family_income &lt;= 4.88</text>\n<text text-anchor=\"middle\" x=\"618.5\" y=\"-362.8\" font-family=\"Helvetica,sans-Serif\" font-size=\"14.00\">entropy = 0.862</text>\n<text text-anchor=\"middle\" x=\"618.5\" y=\"-347.8\" font-family=\"Helvetica,sans-Serif\" font-size=\"14.00\">samples = 1289</text>\n<text text-anchor=\"middle\" x=\"618.5\" y=\"-332.8\" font-family=\"Helvetica,sans-Serif\" font-size=\"14.00\">value = [922, 367]</text>\n<text text-anchor=\"middle\" x=\"618.5\" y=\"-317.8\" font-family=\"Helvetica,sans-Serif\" font-size=\"14.00\">class = heart_no</text>\n</g>\n<!-- 2&#45;&gt;12 -->\n<g id=\"edge10\" class=\"edge\">\n<title>2&#45;&gt;12</title>\n<path fill=\"none\" stroke=\"black\" d=\"M618.5,-428.91C618.5,-420.65 618.5,-411.86 618.5,-403.3\"/>\n<polygon fill=\"black\" stroke=\"black\" points=\"622,-403.02 618.5,-393.02 615,-403.02 622,-403.02\"/>\n</g>\n<!-- 4 -->\n<g id=\"node5\" class=\"node\">\n<title>4</title>\n<path fill=\"#e58139\" stroke=\"black\" d=\"M111.5,-266.5C111.5,-266.5 19.5,-266.5 19.5,-266.5 13.5,-266.5 7.5,-260.5 7.5,-254.5 7.5,-254.5 7.5,-210.5 7.5,-210.5 7.5,-204.5 13.5,-198.5 19.5,-198.5 19.5,-198.5 111.5,-198.5 111.5,-198.5 117.5,-198.5 123.5,-204.5 123.5,-210.5 123.5,-210.5 123.5,-254.5 123.5,-254.5 123.5,-260.5 117.5,-266.5 111.5,-266.5\"/>\n<text text-anchor=\"middle\" x=\"65.5\" y=\"-251.3\" font-family=\"Helvetica,sans-Serif\" font-size=\"14.00\">entropy = 0.0</text>\n<text text-anchor=\"middle\" x=\"65.5\" y=\"-236.3\" font-family=\"Helvetica,sans-Serif\" font-size=\"14.00\">samples = 235</text>\n<text text-anchor=\"middle\" x=\"65.5\" y=\"-221.3\" font-family=\"Helvetica,sans-Serif\" font-size=\"14.00\">value = [235, 0]</text>\n<text text-anchor=\"middle\" x=\"65.5\" y=\"-206.3\" font-family=\"Helvetica,sans-Serif\" font-size=\"14.00\">class = heart_no</text>\n</g>\n<!-- 3&#45;&gt;4 -->\n<g id=\"edge4\" class=\"edge\">\n<title>3&#45;&gt;4</title>\n<path fill=\"none\" stroke=\"black\" d=\"M173.91,-309.91C156.69,-297.77 137.85,-284.49 120.78,-272.46\"/>\n<polygon fill=\"black\" stroke=\"black\" points=\"122.75,-269.57 112.56,-266.67 118.71,-275.29 122.75,-269.57\"/>\n</g>\n<!-- 5 -->\n<g id=\"node6\" class=\"node\">\n<title>5</title>\n<path fill=\"#e78a47\" stroke=\"black\" d=\"M309.5,-274C309.5,-274 153.5,-274 153.5,-274 147.5,-274 141.5,-268 141.5,-262 141.5,-262 141.5,-203 141.5,-203 141.5,-197 147.5,-191 153.5,-191 153.5,-191 309.5,-191 309.5,-191 315.5,-191 321.5,-197 321.5,-203 321.5,-203 321.5,-262 321.5,-262 321.5,-268 315.5,-274 309.5,-274\"/>\n<text text-anchor=\"middle\" x=\"231.5\" y=\"-258.8\" font-family=\"Helvetica,sans-Serif\" font-size=\"14.00\">blood_cholesterol &lt;= 5.315</text>\n<text text-anchor=\"middle\" x=\"231.5\" y=\"-243.8\" font-family=\"Helvetica,sans-Serif\" font-size=\"14.00\">entropy = 0.359</text>\n<text text-anchor=\"middle\" x=\"231.5\" y=\"-228.8\" font-family=\"Helvetica,sans-Serif\" font-size=\"14.00\">samples = 294</text>\n<text text-anchor=\"middle\" x=\"231.5\" y=\"-213.8\" font-family=\"Helvetica,sans-Serif\" font-size=\"14.00\">value = [274, 20]</text>\n<text text-anchor=\"middle\" x=\"231.5\" y=\"-198.8\" font-family=\"Helvetica,sans-Serif\" font-size=\"14.00\">class = heart_no</text>\n</g>\n<!-- 3&#45;&gt;5 -->\n<g id=\"edge5\" class=\"edge\">\n<title>3&#45;&gt;5</title>\n<path fill=\"none\" stroke=\"black\" d=\"M231.5,-309.91C231.5,-301.65 231.5,-292.86 231.5,-284.3\"/>\n<polygon fill=\"black\" stroke=\"black\" points=\"235,-284.02 231.5,-274.02 228,-284.02 235,-284.02\"/>\n</g>\n<!-- 6 -->\n<g id=\"node7\" class=\"node\">\n<title>6</title>\n<path fill=\"#e68540\" stroke=\"black\" d=\"M143,-155C143,-155 12,-155 12,-155 6,-155 0,-149 0,-143 0,-143 0,-84 0,-84 0,-78 6,-72 12,-72 12,-72 143,-72 143,-72 149,-72 155,-78 155,-84 155,-84 155,-143 155,-143 155,-149 149,-155 143,-155\"/>\n<text text-anchor=\"middle\" x=\"77.5\" y=\"-139.8\" font-family=\"Helvetica,sans-Serif\" font-size=\"14.00\">family_income &lt;= 0.46</text>\n<text text-anchor=\"middle\" x=\"77.5\" y=\"-124.8\" font-family=\"Helvetica,sans-Serif\" font-size=\"14.00\">entropy = 0.215</text>\n<text text-anchor=\"middle\" x=\"77.5\" y=\"-109.8\" font-family=\"Helvetica,sans-Serif\" font-size=\"14.00\">samples = 234</text>\n<text text-anchor=\"middle\" x=\"77.5\" y=\"-94.8\" font-family=\"Helvetica,sans-Serif\" font-size=\"14.00\">value = [226, 8]</text>\n<text text-anchor=\"middle\" x=\"77.5\" y=\"-79.8\" font-family=\"Helvetica,sans-Serif\" font-size=\"14.00\">class = heart_no</text>\n</g>\n<!-- 5&#45;&gt;6 -->\n<g id=\"edge6\" class=\"edge\">\n<title>5&#45;&gt;6</title>\n<path fill=\"none\" stroke=\"black\" d=\"M178.07,-190.91C165.41,-181.29 151.81,-170.95 138.82,-161.09\"/>\n<polygon fill=\"black\" stroke=\"black\" points=\"140.92,-158.28 130.84,-155.02 136.68,-163.86 140.92,-158.28\"/>\n</g>\n<!-- 11 -->\n<g id=\"node10\" class=\"node\">\n<title>11</title>\n<path fill=\"#eca06a\" stroke=\"black\" d=\"M277.5,-147.5C277.5,-147.5 185.5,-147.5 185.5,-147.5 179.5,-147.5 173.5,-141.5 173.5,-135.5 173.5,-135.5 173.5,-91.5 173.5,-91.5 173.5,-85.5 179.5,-79.5 185.5,-79.5 185.5,-79.5 277.5,-79.5 277.5,-79.5 283.5,-79.5 289.5,-85.5 289.5,-91.5 289.5,-91.5 289.5,-135.5 289.5,-135.5 289.5,-141.5 283.5,-147.5 277.5,-147.5\"/>\n<text text-anchor=\"middle\" x=\"231.5\" y=\"-132.3\" font-family=\"Helvetica,sans-Serif\" font-size=\"14.00\">entropy = 0.722</text>\n<text text-anchor=\"middle\" x=\"231.5\" y=\"-117.3\" font-family=\"Helvetica,sans-Serif\" font-size=\"14.00\">samples = 60</text>\n<text text-anchor=\"middle\" x=\"231.5\" y=\"-102.3\" font-family=\"Helvetica,sans-Serif\" font-size=\"14.00\">value = [48, 12]</text>\n<text text-anchor=\"middle\" x=\"231.5\" y=\"-87.3\" font-family=\"Helvetica,sans-Serif\" font-size=\"14.00\">class = heart_no</text>\n</g>\n<!-- 5&#45;&gt;11 -->\n<g id=\"edge9\" class=\"edge\">\n<title>5&#45;&gt;11</title>\n<path fill=\"none\" stroke=\"black\" d=\"M231.5,-190.91C231.5,-180.2 231.5,-168.62 231.5,-157.78\"/>\n<polygon fill=\"black\" stroke=\"black\" points=\"235,-157.67 231.5,-147.67 228,-157.67 235,-157.67\"/>\n</g>\n<!-- 7 -->\n<g id=\"node8\" class=\"node\">\n<title>7</title>\n<path fill=\"#c0c0c0\" stroke=\"black\" d=\"M56.5,-36C56.5,-36 26.5,-36 26.5,-36 20.5,-36 14.5,-30 14.5,-24 14.5,-24 14.5,-12 14.5,-12 14.5,-6 20.5,0 26.5,0 26.5,0 56.5,0 56.5,0 62.5,0 68.5,-6 68.5,-12 68.5,-12 68.5,-24 68.5,-24 68.5,-30 62.5,-36 56.5,-36\"/>\n<text text-anchor=\"middle\" x=\"41.5\" y=\"-14.3\" font-family=\"Helvetica,sans-Serif\" font-size=\"14.00\">(...)</text>\n</g>\n<!-- 6&#45;&gt;7 -->\n<g id=\"edge7\" class=\"edge\">\n<title>6&#45;&gt;7</title>\n<path fill=\"none\" stroke=\"black\" d=\"M61.81,-71.76C58.46,-63.04 54.99,-54.04 51.89,-45.99\"/>\n<polygon fill=\"black\" stroke=\"black\" points=\"55.06,-44.48 48.2,-36.41 48.53,-46.99 55.06,-44.48\"/>\n</g>\n<!-- 8 -->\n<g id=\"node9\" class=\"node\">\n<title>8</title>\n<path fill=\"#c0c0c0\" stroke=\"black\" d=\"M128.5,-36C128.5,-36 98.5,-36 98.5,-36 92.5,-36 86.5,-30 86.5,-24 86.5,-24 86.5,-12 86.5,-12 86.5,-6 92.5,0 98.5,0 98.5,0 128.5,0 128.5,0 134.5,0 140.5,-6 140.5,-12 140.5,-12 140.5,-24 140.5,-24 140.5,-30 134.5,-36 128.5,-36\"/>\n<text text-anchor=\"middle\" x=\"113.5\" y=\"-14.3\" font-family=\"Helvetica,sans-Serif\" font-size=\"14.00\">(...)</text>\n</g>\n<!-- 6&#45;&gt;8 -->\n<g id=\"edge8\" class=\"edge\">\n<title>6&#45;&gt;8</title>\n<path fill=\"none\" stroke=\"black\" d=\"M93.19,-71.76C96.54,-63.04 100.01,-54.04 103.11,-45.99\"/>\n<polygon fill=\"black\" stroke=\"black\" points=\"106.47,-46.99 106.8,-36.41 99.94,-44.48 106.47,-46.99\"/>\n</g>\n<!-- 13 -->\n<g id=\"node12\" class=\"node\">\n<title>13</title>\n<path fill=\"#f3c4a3\" stroke=\"black\" d=\"M604,-274C604,-274 473,-274 473,-274 467,-274 461,-268 461,-262 461,-262 461,-203 461,-203 461,-197 467,-191 473,-191 473,-191 604,-191 604,-191 610,-191 616,-197 616,-203 616,-203 616,-262 616,-262 616,-268 610,-274 604,-274\"/>\n<text text-anchor=\"middle\" x=\"538.5\" y=\"-258.8\" font-family=\"Helvetica,sans-Serif\" font-size=\"14.00\">family_income &lt;= 2.92</text>\n<text text-anchor=\"middle\" x=\"538.5\" y=\"-243.8\" font-family=\"Helvetica,sans-Serif\" font-size=\"14.00\">entropy = 0.932</text>\n<text text-anchor=\"middle\" x=\"538.5\" y=\"-228.8\" font-family=\"Helvetica,sans-Serif\" font-size=\"14.00\">samples = 1026</text>\n<text text-anchor=\"middle\" x=\"538.5\" y=\"-213.8\" font-family=\"Helvetica,sans-Serif\" font-size=\"14.00\">value = [669, 357]</text>\n<text text-anchor=\"middle\" x=\"538.5\" y=\"-198.8\" font-family=\"Helvetica,sans-Serif\" font-size=\"14.00\">class = heart_no</text>\n</g>\n<!-- 12&#45;&gt;13 -->\n<g id=\"edge11\" class=\"edge\">\n<title>12&#45;&gt;13</title>\n<path fill=\"none\" stroke=\"black\" d=\"M590.74,-309.91C584.66,-301.01 578.16,-291.51 571.89,-282.33\"/>\n<polygon fill=\"black\" stroke=\"black\" points=\"574.74,-280.3 566.21,-274.02 568.96,-284.25 574.74,-280.3\"/>\n</g>\n<!-- 52 -->\n<g id=\"node19\" class=\"node\">\n<title>52</title>\n<path fill=\"#e68641\" stroke=\"black\" d=\"M750.5,-274C750.5,-274 646.5,-274 646.5,-274 640.5,-274 634.5,-268 634.5,-262 634.5,-262 634.5,-203 634.5,-203 634.5,-197 640.5,-191 646.5,-191 646.5,-191 750.5,-191 750.5,-191 756.5,-191 762.5,-197 762.5,-203 762.5,-203 762.5,-262 762.5,-262 762.5,-268 756.5,-274 750.5,-274\"/>\n<text text-anchor=\"middle\" x=\"698.5\" y=\"-258.8\" font-family=\"Helvetica,sans-Serif\" font-size=\"14.00\">re_hispanic &lt;= 0.5</text>\n<text text-anchor=\"middle\" x=\"698.5\" y=\"-243.8\" font-family=\"Helvetica,sans-Serif\" font-size=\"14.00\">entropy = 0.233</text>\n<text text-anchor=\"middle\" x=\"698.5\" y=\"-228.8\" font-family=\"Helvetica,sans-Serif\" font-size=\"14.00\">samples = 263</text>\n<text text-anchor=\"middle\" x=\"698.5\" y=\"-213.8\" font-family=\"Helvetica,sans-Serif\" font-size=\"14.00\">value = [253, 10]</text>\n<text text-anchor=\"middle\" x=\"698.5\" y=\"-198.8\" font-family=\"Helvetica,sans-Serif\" font-size=\"14.00\">class = heart_no</text>\n</g>\n<!-- 12&#45;&gt;52 -->\n<g id=\"edge18\" class=\"edge\">\n<title>12&#45;&gt;52</title>\n<path fill=\"none\" stroke=\"black\" d=\"M646.26,-309.91C652.34,-301.01 658.84,-291.51 665.11,-282.33\"/>\n<polygon fill=\"black\" stroke=\"black\" points=\"668.04,-284.25 670.79,-274.02 662.26,-280.3 668.04,-284.25\"/>\n</g>\n<!-- 14 -->\n<g id=\"node13\" class=\"node\">\n<title>14</title>\n<path fill=\"#f5cfb4\" stroke=\"black\" d=\"M433.5,-155C433.5,-155 319.5,-155 319.5,-155 313.5,-155 307.5,-149 307.5,-143 307.5,-143 307.5,-84 307.5,-84 307.5,-78 313.5,-72 319.5,-72 319.5,-72 433.5,-72 433.5,-72 439.5,-72 445.5,-78 445.5,-84 445.5,-84 445.5,-143 445.5,-143 445.5,-149 439.5,-155 433.5,-155\"/>\n<text text-anchor=\"middle\" x=\"376.5\" y=\"-139.8\" font-family=\"Helvetica,sans-Serif\" font-size=\"14.00\">diastolic_bp &lt;= 71.0</text>\n<text text-anchor=\"middle\" x=\"376.5\" y=\"-124.8\" font-family=\"Helvetica,sans-Serif\" font-size=\"14.00\">entropy = 0.96</text>\n<text text-anchor=\"middle\" x=\"376.5\" y=\"-109.8\" font-family=\"Helvetica,sans-Serif\" font-size=\"14.00\">samples = 812</text>\n<text text-anchor=\"middle\" x=\"376.5\" y=\"-94.8\" font-family=\"Helvetica,sans-Serif\" font-size=\"14.00\">value = [501, 311]</text>\n<text text-anchor=\"middle\" x=\"376.5\" y=\"-79.8\" font-family=\"Helvetica,sans-Serif\" font-size=\"14.00\">class = heart_no</text>\n</g>\n<!-- 13&#45;&gt;14 -->\n<g id=\"edge12\" class=\"edge\">\n<title>13&#45;&gt;14</title>\n<path fill=\"none\" stroke=\"black\" d=\"M482.29,-190.91C468.98,-181.29 454.67,-170.95 441.01,-161.09\"/>\n<polygon fill=\"black\" stroke=\"black\" points=\"442.76,-158.04 432.61,-155.02 438.66,-163.71 442.76,-158.04\"/>\n</g>\n<!-- 47 -->\n<g id=\"node16\" class=\"node\">\n<title>47</title>\n<path fill=\"#eca46f\" stroke=\"black\" d=\"M607,-155C607,-155 476,-155 476,-155 470,-155 464,-149 464,-143 464,-143 464,-84 464,-84 464,-78 470,-72 476,-72 476,-72 607,-72 607,-72 613,-72 619,-78 619,-84 619,-84 619,-143 619,-143 619,-149 613,-155 607,-155\"/>\n<text text-anchor=\"middle\" x=\"541.5\" y=\"-139.8\" font-family=\"Helvetica,sans-Serif\" font-size=\"14.00\">family_income &lt;= 4.27</text>\n<text text-anchor=\"middle\" x=\"541.5\" y=\"-124.8\" font-family=\"Helvetica,sans-Serif\" font-size=\"14.00\">entropy = 0.751</text>\n<text text-anchor=\"middle\" x=\"541.5\" y=\"-109.8\" font-family=\"Helvetica,sans-Serif\" font-size=\"14.00\">samples = 214</text>\n<text text-anchor=\"middle\" x=\"541.5\" y=\"-94.8\" font-family=\"Helvetica,sans-Serif\" font-size=\"14.00\">value = [168, 46]</text>\n<text text-anchor=\"middle\" x=\"541.5\" y=\"-79.8\" font-family=\"Helvetica,sans-Serif\" font-size=\"14.00\">class = heart_no</text>\n</g>\n<!-- 13&#45;&gt;47 -->\n<g id=\"edge15\" class=\"edge\">\n<title>13&#45;&gt;47</title>\n<path fill=\"none\" stroke=\"black\" d=\"M539.54,-190.91C539.75,-182.56 539.98,-173.67 540.2,-165.02\"/>\n<polygon fill=\"black\" stroke=\"black\" points=\"543.7,-165.11 540.46,-155.02 536.71,-164.93 543.7,-165.11\"/>\n</g>\n<!-- 15 -->\n<g id=\"node14\" class=\"node\">\n<title>15</title>\n<path fill=\"#c0c0c0\" stroke=\"black\" d=\"M355.5,-36C355.5,-36 325.5,-36 325.5,-36 319.5,-36 313.5,-30 313.5,-24 313.5,-24 313.5,-12 313.5,-12 313.5,-6 319.5,0 325.5,0 325.5,0 355.5,0 355.5,0 361.5,0 367.5,-6 367.5,-12 367.5,-12 367.5,-24 367.5,-24 367.5,-30 361.5,-36 355.5,-36\"/>\n<text text-anchor=\"middle\" x=\"340.5\" y=\"-14.3\" font-family=\"Helvetica,sans-Serif\" font-size=\"14.00\">(...)</text>\n</g>\n<!-- 14&#45;&gt;15 -->\n<g id=\"edge13\" class=\"edge\">\n<title>14&#45;&gt;15</title>\n<path fill=\"none\" stroke=\"black\" d=\"M360.81,-71.76C357.46,-63.04 353.99,-54.04 350.89,-45.99\"/>\n<polygon fill=\"black\" stroke=\"black\" points=\"354.06,-44.48 347.2,-36.41 347.53,-46.99 354.06,-44.48\"/>\n</g>\n<!-- 40 -->\n<g id=\"node15\" class=\"node\">\n<title>40</title>\n<path fill=\"#c0c0c0\" stroke=\"black\" d=\"M427.5,-36C427.5,-36 397.5,-36 397.5,-36 391.5,-36 385.5,-30 385.5,-24 385.5,-24 385.5,-12 385.5,-12 385.5,-6 391.5,0 397.5,0 397.5,0 427.5,0 427.5,0 433.5,0 439.5,-6 439.5,-12 439.5,-12 439.5,-24 439.5,-24 439.5,-30 433.5,-36 427.5,-36\"/>\n<text text-anchor=\"middle\" x=\"412.5\" y=\"-14.3\" font-family=\"Helvetica,sans-Serif\" font-size=\"14.00\">(...)</text>\n</g>\n<!-- 14&#45;&gt;40 -->\n<g id=\"edge14\" class=\"edge\">\n<title>14&#45;&gt;40</title>\n<path fill=\"none\" stroke=\"black\" d=\"M392.19,-71.76C395.54,-63.04 399.01,-54.04 402.11,-45.99\"/>\n<polygon fill=\"black\" stroke=\"black\" points=\"405.47,-46.99 405.8,-36.41 398.94,-44.48 405.47,-46.99\"/>\n</g>\n<!-- 48 -->\n<g id=\"node17\" class=\"node\">\n<title>48</title>\n<path fill=\"#c0c0c0\" stroke=\"black\" d=\"M546.5,-36C546.5,-36 516.5,-36 516.5,-36 510.5,-36 504.5,-30 504.5,-24 504.5,-24 504.5,-12 504.5,-12 504.5,-6 510.5,0 516.5,0 516.5,0 546.5,0 546.5,0 552.5,0 558.5,-6 558.5,-12 558.5,-12 558.5,-24 558.5,-24 558.5,-30 552.5,-36 546.5,-36\"/>\n<text text-anchor=\"middle\" x=\"531.5\" y=\"-14.3\" font-family=\"Helvetica,sans-Serif\" font-size=\"14.00\">(...)</text>\n</g>\n<!-- 47&#45;&gt;48 -->\n<g id=\"edge16\" class=\"edge\">\n<title>47&#45;&gt;48</title>\n<path fill=\"none\" stroke=\"black\" d=\"M537.14,-71.76C536.23,-63.24 535.29,-54.44 534.44,-46.53\"/>\n<polygon fill=\"black\" stroke=\"black\" points=\"537.91,-45.98 533.36,-36.41 530.94,-46.72 537.91,-45.98\"/>\n</g>\n<!-- 51 -->\n<g id=\"node18\" class=\"node\">\n<title>51</title>\n<path fill=\"#c0c0c0\" stroke=\"black\" d=\"M618.5,-36C618.5,-36 588.5,-36 588.5,-36 582.5,-36 576.5,-30 576.5,-24 576.5,-24 576.5,-12 576.5,-12 576.5,-6 582.5,0 588.5,0 588.5,0 618.5,0 618.5,0 624.5,0 630.5,-6 630.5,-12 630.5,-12 630.5,-24 630.5,-24 630.5,-30 624.5,-36 618.5,-36\"/>\n<text text-anchor=\"middle\" x=\"603.5\" y=\"-14.3\" font-family=\"Helvetica,sans-Serif\" font-size=\"14.00\">(...)</text>\n</g>\n<!-- 47&#45;&gt;51 -->\n<g id=\"edge17\" class=\"edge\">\n<title>47&#45;&gt;51</title>\n<path fill=\"none\" stroke=\"black\" d=\"M568.51,-71.76C574.55,-62.65 580.8,-53.24 586.31,-44.92\"/>\n<polygon fill=\"black\" stroke=\"black\" points=\"589.35,-46.67 591.96,-36.41 583.52,-42.81 589.35,-46.67\"/>\n</g>\n<!-- 53 -->\n<g id=\"node20\" class=\"node\">\n<title>53</title>\n<path fill=\"#e58139\" stroke=\"black\" d=\"M741.5,-147.5C741.5,-147.5 649.5,-147.5 649.5,-147.5 643.5,-147.5 637.5,-141.5 637.5,-135.5 637.5,-135.5 637.5,-91.5 637.5,-91.5 637.5,-85.5 643.5,-79.5 649.5,-79.5 649.5,-79.5 741.5,-79.5 741.5,-79.5 747.5,-79.5 753.5,-85.5 753.5,-91.5 753.5,-91.5 753.5,-135.5 753.5,-135.5 753.5,-141.5 747.5,-147.5 741.5,-147.5\"/>\n<text text-anchor=\"middle\" x=\"695.5\" y=\"-132.3\" font-family=\"Helvetica,sans-Serif\" font-size=\"14.00\">entropy = 0.0</text>\n<text text-anchor=\"middle\" x=\"695.5\" y=\"-117.3\" font-family=\"Helvetica,sans-Serif\" font-size=\"14.00\">samples = 218</text>\n<text text-anchor=\"middle\" x=\"695.5\" y=\"-102.3\" font-family=\"Helvetica,sans-Serif\" font-size=\"14.00\">value = [218, 0]</text>\n<text text-anchor=\"middle\" x=\"695.5\" y=\"-87.3\" font-family=\"Helvetica,sans-Serif\" font-size=\"14.00\">class = heart_no</text>\n</g>\n<!-- 52&#45;&gt;53 -->\n<g id=\"edge19\" class=\"edge\">\n<title>52&#45;&gt;53</title>\n<path fill=\"none\" stroke=\"black\" d=\"M697.46,-190.91C697.18,-180.2 696.89,-168.62 696.61,-157.78\"/>\n<polygon fill=\"black\" stroke=\"black\" points=\"700.11,-157.57 696.35,-147.67 693.11,-157.75 700.11,-157.57\"/>\n</g>\n<!-- 54 -->\n<g id=\"node21\" class=\"node\">\n<title>54</title>\n<path fill=\"#eca572\" stroke=\"black\" d=\"M875.5,-147.5C875.5,-147.5 783.5,-147.5 783.5,-147.5 777.5,-147.5 771.5,-141.5 771.5,-135.5 771.5,-135.5 771.5,-91.5 771.5,-91.5 771.5,-85.5 777.5,-79.5 783.5,-79.5 783.5,-79.5 875.5,-79.5 875.5,-79.5 881.5,-79.5 887.5,-85.5 887.5,-91.5 887.5,-91.5 887.5,-135.5 887.5,-135.5 887.5,-141.5 881.5,-147.5 875.5,-147.5\"/>\n<text text-anchor=\"middle\" x=\"829.5\" y=\"-132.3\" font-family=\"Helvetica,sans-Serif\" font-size=\"14.00\">entropy = 0.764</text>\n<text text-anchor=\"middle\" x=\"829.5\" y=\"-117.3\" font-family=\"Helvetica,sans-Serif\" font-size=\"14.00\">samples = 45</text>\n<text text-anchor=\"middle\" x=\"829.5\" y=\"-102.3\" font-family=\"Helvetica,sans-Serif\" font-size=\"14.00\">value = [35, 10]</text>\n<text text-anchor=\"middle\" x=\"829.5\" y=\"-87.3\" font-family=\"Helvetica,sans-Serif\" font-size=\"14.00\">class = heart_no</text>\n</g>\n<!-- 52&#45;&gt;54 -->\n<g id=\"edge20\" class=\"edge\">\n<title>52&#45;&gt;54</title>\n<path fill=\"none\" stroke=\"black\" d=\"M743.95,-190.91C757.17,-179.1 771.6,-166.22 784.77,-154.45\"/>\n<polygon fill=\"black\" stroke=\"black\" points=\"787.24,-156.94 792.36,-147.67 782.57,-151.72 787.24,-156.94\"/>\n</g>\n<!-- 56 -->\n<g id=\"node23\" class=\"node\">\n<title>56</title>\n<path fill=\"#fae6d7\" stroke=\"black\" d=\"M1181,-393C1181,-393 1050,-393 1050,-393 1044,-393 1038,-387 1038,-381 1038,-381 1038,-322 1038,-322 1038,-316 1044,-310 1050,-310 1050,-310 1181,-310 1181,-310 1187,-310 1193,-316 1193,-322 1193,-322 1193,-381 1193,-381 1193,-387 1187,-393 1181,-393\"/>\n<text text-anchor=\"middle\" x=\"1115.5\" y=\"-377.8\" font-family=\"Helvetica,sans-Serif\" font-size=\"14.00\">family_income &lt;= 4.17</text>\n<text text-anchor=\"middle\" x=\"1115.5\" y=\"-362.8\" font-family=\"Helvetica,sans-Serif\" font-size=\"14.00\">entropy = 0.991</text>\n<text text-anchor=\"middle\" x=\"1115.5\" y=\"-347.8\" font-family=\"Helvetica,sans-Serif\" font-size=\"14.00\">samples = 448</text>\n<text text-anchor=\"middle\" x=\"1115.5\" y=\"-332.8\" font-family=\"Helvetica,sans-Serif\" font-size=\"14.00\">value = [249, 199]</text>\n<text text-anchor=\"middle\" x=\"1115.5\" y=\"-317.8\" font-family=\"Helvetica,sans-Serif\" font-size=\"14.00\">class = heart_no</text>\n</g>\n<!-- 55&#45;&gt;56 -->\n<g id=\"edge22\" class=\"edge\">\n<title>55&#45;&gt;56</title>\n<path fill=\"none\" stroke=\"black\" d=\"M1167.09,-428.91C1161.09,-420.01 1154.67,-410.51 1148.47,-401.33\"/>\n<polygon fill=\"black\" stroke=\"black\" points=\"1151.36,-399.35 1142.86,-393.02 1145.56,-403.27 1151.36,-399.35\"/>\n</g>\n<!-- 71 -->\n<g id=\"node30\" class=\"node\">\n<title>71</title>\n<path fill=\"#89c5ef\" stroke=\"black\" d=\"M1324,-393C1324,-393 1223,-393 1223,-393 1217,-393 1211,-387 1211,-381 1211,-381 1211,-322 1211,-322 1211,-316 1217,-310 1223,-310 1223,-310 1324,-310 1324,-310 1330,-310 1336,-316 1336,-322 1336,-322 1336,-381 1336,-381 1336,-387 1330,-393 1324,-393\"/>\n<text text-anchor=\"middle\" x=\"1273.5\" y=\"-377.8\" font-family=\"Helvetica,sans-Serif\" font-size=\"14.00\">age &lt;= 58.5</text>\n<text text-anchor=\"middle\" x=\"1273.5\" y=\"-362.8\" font-family=\"Helvetica,sans-Serif\" font-size=\"14.00\">entropy = 0.866</text>\n<text text-anchor=\"middle\" x=\"1273.5\" y=\"-347.8\" font-family=\"Helvetica,sans-Serif\" font-size=\"14.00\">samples = 386</text>\n<text text-anchor=\"middle\" x=\"1273.5\" y=\"-332.8\" font-family=\"Helvetica,sans-Serif\" font-size=\"14.00\">value = [111, 275]</text>\n<text text-anchor=\"middle\" x=\"1273.5\" y=\"-317.8\" font-family=\"Helvetica,sans-Serif\" font-size=\"14.00\">class = heart_yes</text>\n</g>\n<!-- 55&#45;&gt;71 -->\n<g id=\"edge29\" class=\"edge\">\n<title>55&#45;&gt;71</title>\n<path fill=\"none\" stroke=\"black\" d=\"M1221.91,-428.91C1227.91,-420.01 1234.33,-410.51 1240.53,-401.33\"/>\n<polygon fill=\"black\" stroke=\"black\" points=\"1243.44,-403.27 1246.14,-393.02 1237.64,-399.35 1243.44,-403.27\"/>\n</g>\n<!-- 57 -->\n<g id=\"node24\" class=\"node\">\n<title>57</title>\n<path fill=\"#f9fcfe\" stroke=\"black\" d=\"M1033,-274C1033,-274 932,-274 932,-274 926,-274 920,-268 920,-262 920,-262 920,-203 920,-203 920,-197 926,-191 932,-191 932,-191 1033,-191 1033,-191 1039,-191 1045,-197 1045,-203 1045,-203 1045,-262 1045,-262 1045,-268 1039,-274 1033,-274\"/>\n<text text-anchor=\"middle\" x=\"982.5\" y=\"-258.8\" font-family=\"Helvetica,sans-Serif\" font-size=\"14.00\">age &lt;= 42.5</text>\n<text text-anchor=\"middle\" x=\"982.5\" y=\"-243.8\" font-family=\"Helvetica,sans-Serif\" font-size=\"14.00\">entropy = 1.0</text>\n<text text-anchor=\"middle\" x=\"982.5\" y=\"-228.8\" font-family=\"Helvetica,sans-Serif\" font-size=\"14.00\">samples = 380</text>\n<text text-anchor=\"middle\" x=\"982.5\" y=\"-213.8\" font-family=\"Helvetica,sans-Serif\" font-size=\"14.00\">value = [187, 193]</text>\n<text text-anchor=\"middle\" x=\"982.5\" y=\"-198.8\" font-family=\"Helvetica,sans-Serif\" font-size=\"14.00\">class = heart_yes</text>\n</g>\n<!-- 56&#45;&gt;57 -->\n<g id=\"edge23\" class=\"edge\">\n<title>56&#45;&gt;57</title>\n<path fill=\"none\" stroke=\"black\" d=\"M1069.36,-309.91C1058.63,-300.47 1047.12,-290.34 1036.1,-280.65\"/>\n<polygon fill=\"black\" stroke=\"black\" points=\"1038.38,-278 1028.56,-274.02 1033.76,-283.25 1038.38,-278\"/>\n</g>\n<!-- 70 -->\n<g id=\"node29\" class=\"node\">\n<title>70</title>\n<path fill=\"#e88d4c\" stroke=\"black\" d=\"M1167.5,-266.5C1167.5,-266.5 1075.5,-266.5 1075.5,-266.5 1069.5,-266.5 1063.5,-260.5 1063.5,-254.5 1063.5,-254.5 1063.5,-210.5 1063.5,-210.5 1063.5,-204.5 1069.5,-198.5 1075.5,-198.5 1075.5,-198.5 1167.5,-198.5 1167.5,-198.5 1173.5,-198.5 1179.5,-204.5 1179.5,-210.5 1179.5,-210.5 1179.5,-254.5 1179.5,-254.5 1179.5,-260.5 1173.5,-266.5 1167.5,-266.5\"/>\n<text text-anchor=\"middle\" x=\"1121.5\" y=\"-251.3\" font-family=\"Helvetica,sans-Serif\" font-size=\"14.00\">entropy = 0.431</text>\n<text text-anchor=\"middle\" x=\"1121.5\" y=\"-236.3\" font-family=\"Helvetica,sans-Serif\" font-size=\"14.00\">samples = 68</text>\n<text text-anchor=\"middle\" x=\"1121.5\" y=\"-221.3\" font-family=\"Helvetica,sans-Serif\" font-size=\"14.00\">value = [62, 6]</text>\n<text text-anchor=\"middle\" x=\"1121.5\" y=\"-206.3\" font-family=\"Helvetica,sans-Serif\" font-size=\"14.00\">class = heart_no</text>\n</g>\n<!-- 56&#45;&gt;70 -->\n<g id=\"edge28\" class=\"edge\">\n<title>56&#45;&gt;70</title>\n<path fill=\"none\" stroke=\"black\" d=\"M1117.58,-309.91C1118.13,-299.2 1118.72,-287.62 1119.28,-276.78\"/>\n<polygon fill=\"black\" stroke=\"black\" points=\"1122.78,-276.83 1119.8,-266.67 1115.79,-276.47 1122.78,-276.83\"/>\n</g>\n<!-- 58 -->\n<g id=\"node25\" class=\"node\">\n<title>58</title>\n<path fill=\"#e78c49\" stroke=\"black\" d=\"M1009.5,-147.5C1009.5,-147.5 917.5,-147.5 917.5,-147.5 911.5,-147.5 905.5,-141.5 905.5,-135.5 905.5,-135.5 905.5,-91.5 905.5,-91.5 905.5,-85.5 911.5,-79.5 917.5,-79.5 917.5,-79.5 1009.5,-79.5 1009.5,-79.5 1015.5,-79.5 1021.5,-85.5 1021.5,-91.5 1021.5,-91.5 1021.5,-135.5 1021.5,-135.5 1021.5,-141.5 1015.5,-147.5 1009.5,-147.5\"/>\n<text text-anchor=\"middle\" x=\"963.5\" y=\"-132.3\" font-family=\"Helvetica,sans-Serif\" font-size=\"14.00\">entropy = 0.391</text>\n<text text-anchor=\"middle\" x=\"963.5\" y=\"-117.3\" font-family=\"Helvetica,sans-Serif\" font-size=\"14.00\">samples = 39</text>\n<text text-anchor=\"middle\" x=\"963.5\" y=\"-102.3\" font-family=\"Helvetica,sans-Serif\" font-size=\"14.00\">value = [36, 3]</text>\n<text text-anchor=\"middle\" x=\"963.5\" y=\"-87.3\" font-family=\"Helvetica,sans-Serif\" font-size=\"14.00\">class = heart_no</text>\n</g>\n<!-- 57&#45;&gt;58 -->\n<g id=\"edge24\" class=\"edge\">\n<title>57&#45;&gt;58</title>\n<path fill=\"none\" stroke=\"black\" d=\"M975.91,-190.91C974.17,-180.2 972.29,-168.62 970.53,-157.78\"/>\n<polygon fill=\"black\" stroke=\"black\" points=\"973.94,-156.98 968.89,-147.67 967.03,-158.1 973.94,-156.98\"/>\n</g>\n<!-- 59 -->\n<g id=\"node26\" class=\"node\">\n<title>59</title>\n<path fill=\"#d6ebfa\" stroke=\"black\" d=\"M1201,-155C1201,-155 1052,-155 1052,-155 1046,-155 1040,-149 1040,-143 1040,-143 1040,-84 1040,-84 1040,-78 1046,-72 1052,-72 1052,-72 1201,-72 1201,-72 1207,-72 1213,-78 1213,-84 1213,-84 1213,-143 1213,-143 1213,-149 1207,-155 1201,-155\"/>\n<text text-anchor=\"middle\" x=\"1126.5\" y=\"-139.8\" font-family=\"Helvetica,sans-Serif\" font-size=\"14.00\">blood_cholesterol &lt;= 3.79</text>\n<text text-anchor=\"middle\" x=\"1126.5\" y=\"-124.8\" font-family=\"Helvetica,sans-Serif\" font-size=\"14.00\">entropy = 0.991</text>\n<text text-anchor=\"middle\" x=\"1126.5\" y=\"-109.8\" font-family=\"Helvetica,sans-Serif\" font-size=\"14.00\">samples = 341</text>\n<text text-anchor=\"middle\" x=\"1126.5\" y=\"-94.8\" font-family=\"Helvetica,sans-Serif\" font-size=\"14.00\">value = [151, 190]</text>\n<text text-anchor=\"middle\" x=\"1126.5\" y=\"-79.8\" font-family=\"Helvetica,sans-Serif\" font-size=\"14.00\">class = heart_yes</text>\n</g>\n<!-- 57&#45;&gt;59 -->\n<g id=\"edge25\" class=\"edge\">\n<title>57&#45;&gt;59</title>\n<path fill=\"none\" stroke=\"black\" d=\"M1032.46,-190.91C1044.19,-181.38 1056.78,-171.15 1068.81,-161.37\"/>\n<polygon fill=\"black\" stroke=\"black\" points=\"1071.07,-164.04 1076.63,-155.02 1066.66,-158.61 1071.07,-164.04\"/>\n</g>\n<!-- 60 -->\n<g id=\"node27\" class=\"node\">\n<title>60</title>\n<path fill=\"#c0c0c0\" stroke=\"black\" d=\"M1105.5,-36C1105.5,-36 1075.5,-36 1075.5,-36 1069.5,-36 1063.5,-30 1063.5,-24 1063.5,-24 1063.5,-12 1063.5,-12 1063.5,-6 1069.5,0 1075.5,0 1075.5,0 1105.5,0 1105.5,0 1111.5,0 1117.5,-6 1117.5,-12 1117.5,-12 1117.5,-24 1117.5,-24 1117.5,-30 1111.5,-36 1105.5,-36\"/>\n<text text-anchor=\"middle\" x=\"1090.5\" y=\"-14.3\" font-family=\"Helvetica,sans-Serif\" font-size=\"14.00\">(...)</text>\n</g>\n<!-- 59&#45;&gt;60 -->\n<g id=\"edge26\" class=\"edge\">\n<title>59&#45;&gt;60</title>\n<path fill=\"none\" stroke=\"black\" d=\"M1110.81,-71.76C1107.46,-63.04 1103.99,-54.04 1100.89,-45.99\"/>\n<polygon fill=\"black\" stroke=\"black\" points=\"1104.06,-44.48 1097.2,-36.41 1097.53,-46.99 1104.06,-44.48\"/>\n</g>\n<!-- 61 -->\n<g id=\"node28\" class=\"node\">\n<title>61</title>\n<path fill=\"#c0c0c0\" stroke=\"black\" d=\"M1177.5,-36C1177.5,-36 1147.5,-36 1147.5,-36 1141.5,-36 1135.5,-30 1135.5,-24 1135.5,-24 1135.5,-12 1135.5,-12 1135.5,-6 1141.5,0 1147.5,0 1147.5,0 1177.5,0 1177.5,0 1183.5,0 1189.5,-6 1189.5,-12 1189.5,-12 1189.5,-24 1189.5,-24 1189.5,-30 1183.5,-36 1177.5,-36\"/>\n<text text-anchor=\"middle\" x=\"1162.5\" y=\"-14.3\" font-family=\"Helvetica,sans-Serif\" font-size=\"14.00\">(...)</text>\n</g>\n<!-- 59&#45;&gt;61 -->\n<g id=\"edge27\" class=\"edge\">\n<title>59&#45;&gt;61</title>\n<path fill=\"none\" stroke=\"black\" d=\"M1142.19,-71.76C1145.54,-63.04 1149.01,-54.04 1152.11,-45.99\"/>\n<polygon fill=\"black\" stroke=\"black\" points=\"1155.47,-46.99 1155.8,-36.41 1148.94,-44.48 1155.47,-46.99\"/>\n</g>\n<!-- 72 -->\n<g id=\"node31\" class=\"node\">\n<title>72</title>\n<path fill=\"#4ea7e8\" stroke=\"black\" d=\"M1317.5,-266.5C1317.5,-266.5 1219.5,-266.5 1219.5,-266.5 1213.5,-266.5 1207.5,-260.5 1207.5,-254.5 1207.5,-254.5 1207.5,-210.5 1207.5,-210.5 1207.5,-204.5 1213.5,-198.5 1219.5,-198.5 1219.5,-198.5 1317.5,-198.5 1317.5,-198.5 1323.5,-198.5 1329.5,-204.5 1329.5,-210.5 1329.5,-210.5 1329.5,-254.5 1329.5,-254.5 1329.5,-260.5 1323.5,-266.5 1317.5,-266.5\"/>\n<text text-anchor=\"middle\" x=\"1268.5\" y=\"-251.3\" font-family=\"Helvetica,sans-Serif\" font-size=\"14.00\">entropy = 0.455</text>\n<text text-anchor=\"middle\" x=\"1268.5\" y=\"-236.3\" font-family=\"Helvetica,sans-Serif\" font-size=\"14.00\">samples = 94</text>\n<text text-anchor=\"middle\" x=\"1268.5\" y=\"-221.3\" font-family=\"Helvetica,sans-Serif\" font-size=\"14.00\">value = [9, 85]</text>\n<text text-anchor=\"middle\" x=\"1268.5\" y=\"-206.3\" font-family=\"Helvetica,sans-Serif\" font-size=\"14.00\">class = heart_yes</text>\n</g>\n<!-- 71&#45;&gt;72 -->\n<g id=\"edge30\" class=\"edge\">\n<title>71&#45;&gt;72</title>\n<path fill=\"none\" stroke=\"black\" d=\"M1271.77,-309.91C1271.31,-299.2 1270.81,-287.62 1270.35,-276.78\"/>\n<polygon fill=\"black\" stroke=\"black\" points=\"1273.84,-276.51 1269.92,-266.67 1266.85,-276.81 1273.84,-276.51\"/>\n</g>\n<!-- 73 -->\n<g id=\"node32\" class=\"node\">\n<title>73</title>\n<path fill=\"#a3d2f3\" stroke=\"black\" d=\"M1473.5,-274C1473.5,-274 1359.5,-274 1359.5,-274 1353.5,-274 1347.5,-268 1347.5,-262 1347.5,-262 1347.5,-203 1347.5,-203 1347.5,-197 1353.5,-191 1359.5,-191 1359.5,-191 1473.5,-191 1473.5,-191 1479.5,-191 1485.5,-197 1485.5,-203 1485.5,-203 1485.5,-262 1485.5,-262 1485.5,-268 1479.5,-274 1473.5,-274\"/>\n<text text-anchor=\"middle\" x=\"1416.5\" y=\"-258.8\" font-family=\"Helvetica,sans-Serif\" font-size=\"14.00\">diastolic_bp &lt;= 81.0</text>\n<text text-anchor=\"middle\" x=\"1416.5\" y=\"-243.8\" font-family=\"Helvetica,sans-Serif\" font-size=\"14.00\">entropy = 0.933</text>\n<text text-anchor=\"middle\" x=\"1416.5\" y=\"-228.8\" font-family=\"Helvetica,sans-Serif\" font-size=\"14.00\">samples = 292</text>\n<text text-anchor=\"middle\" x=\"1416.5\" y=\"-213.8\" font-family=\"Helvetica,sans-Serif\" font-size=\"14.00\">value = [102, 190]</text>\n<text text-anchor=\"middle\" x=\"1416.5\" y=\"-198.8\" font-family=\"Helvetica,sans-Serif\" font-size=\"14.00\">class = heart_yes</text>\n</g>\n<!-- 71&#45;&gt;73 -->\n<g id=\"edge31\" class=\"edge\">\n<title>71&#45;&gt;73</title>\n<path fill=\"none\" stroke=\"black\" d=\"M1323.11,-309.91C1334.76,-300.38 1347.26,-290.15 1359.21,-280.37\"/>\n<polygon fill=\"black\" stroke=\"black\" points=\"1361.45,-283.06 1366.97,-274.02 1357.02,-277.64 1361.45,-283.06\"/>\n</g>\n<!-- 74 -->\n<g id=\"node33\" class=\"node\">\n<title>74</title>\n<path fill=\"#97cbf1\" stroke=\"black\" d=\"M1347.5,-155C1347.5,-155 1243.5,-155 1243.5,-155 1237.5,-155 1231.5,-149 1231.5,-143 1231.5,-143 1231.5,-84 1231.5,-84 1231.5,-78 1237.5,-72 1243.5,-72 1243.5,-72 1347.5,-72 1347.5,-72 1353.5,-72 1359.5,-78 1359.5,-84 1359.5,-84 1359.5,-143 1359.5,-143 1359.5,-149 1353.5,-155 1347.5,-155\"/>\n<text text-anchor=\"middle\" x=\"1295.5\" y=\"-139.8\" font-family=\"Helvetica,sans-Serif\" font-size=\"14.00\">calories &lt;= 3316.5</text>\n<text text-anchor=\"middle\" x=\"1295.5\" y=\"-124.8\" font-family=\"Helvetica,sans-Serif\" font-size=\"14.00\">entropy = 0.906</text>\n<text text-anchor=\"middle\" x=\"1295.5\" y=\"-109.8\" font-family=\"Helvetica,sans-Serif\" font-size=\"14.00\">samples = 280</text>\n<text text-anchor=\"middle\" x=\"1295.5\" y=\"-94.8\" font-family=\"Helvetica,sans-Serif\" font-size=\"14.00\">value = [90, 190]</text>\n<text text-anchor=\"middle\" x=\"1295.5\" y=\"-79.8\" font-family=\"Helvetica,sans-Serif\" font-size=\"14.00\">class = heart_yes</text>\n</g>\n<!-- 73&#45;&gt;74 -->\n<g id=\"edge32\" class=\"edge\">\n<title>73&#45;&gt;74</title>\n<path fill=\"none\" stroke=\"black\" d=\"M1374.52,-190.91C1364.95,-181.65 1354.69,-171.73 1344.84,-162.21\"/>\n<polygon fill=\"black\" stroke=\"black\" points=\"1347.03,-159.46 1337.41,-155.02 1342.16,-164.49 1347.03,-159.46\"/>\n</g>\n<!-- 85 -->\n<g id=\"node36\" class=\"node\">\n<title>85</title>\n<path fill=\"#e58139\" stroke=\"black\" d=\"M1481.5,-147.5C1481.5,-147.5 1389.5,-147.5 1389.5,-147.5 1383.5,-147.5 1377.5,-141.5 1377.5,-135.5 1377.5,-135.5 1377.5,-91.5 1377.5,-91.5 1377.5,-85.5 1383.5,-79.5 1389.5,-79.5 1389.5,-79.5 1481.5,-79.5 1481.5,-79.5 1487.5,-79.5 1493.5,-85.5 1493.5,-91.5 1493.5,-91.5 1493.5,-135.5 1493.5,-135.5 1493.5,-141.5 1487.5,-147.5 1481.5,-147.5\"/>\n<text text-anchor=\"middle\" x=\"1435.5\" y=\"-132.3\" font-family=\"Helvetica,sans-Serif\" font-size=\"14.00\">entropy = 0.0</text>\n<text text-anchor=\"middle\" x=\"1435.5\" y=\"-117.3\" font-family=\"Helvetica,sans-Serif\" font-size=\"14.00\">samples = 12</text>\n<text text-anchor=\"middle\" x=\"1435.5\" y=\"-102.3\" font-family=\"Helvetica,sans-Serif\" font-size=\"14.00\">value = [12, 0]</text>\n<text text-anchor=\"middle\" x=\"1435.5\" y=\"-87.3\" font-family=\"Helvetica,sans-Serif\" font-size=\"14.00\">class = heart_no</text>\n</g>\n<!-- 73&#45;&gt;85 -->\n<g id=\"edge35\" class=\"edge\">\n<title>73&#45;&gt;85</title>\n<path fill=\"none\" stroke=\"black\" d=\"M1423.09,-190.91C1424.83,-180.2 1426.71,-168.62 1428.47,-157.78\"/>\n<polygon fill=\"black\" stroke=\"black\" points=\"1431.97,-158.1 1430.11,-147.67 1425.06,-156.98 1431.97,-158.1\"/>\n</g>\n<!-- 75 -->\n<g id=\"node34\" class=\"node\">\n<title>75</title>\n<path fill=\"#c0c0c0\" stroke=\"black\" d=\"M1298.5,-36C1298.5,-36 1268.5,-36 1268.5,-36 1262.5,-36 1256.5,-30 1256.5,-24 1256.5,-24 1256.5,-12 1256.5,-12 1256.5,-6 1262.5,0 1268.5,0 1268.5,0 1298.5,0 1298.5,0 1304.5,0 1310.5,-6 1310.5,-12 1310.5,-12 1310.5,-24 1310.5,-24 1310.5,-30 1304.5,-36 1298.5,-36\"/>\n<text text-anchor=\"middle\" x=\"1283.5\" y=\"-14.3\" font-family=\"Helvetica,sans-Serif\" font-size=\"14.00\">(...)</text>\n</g>\n<!-- 74&#45;&gt;75 -->\n<g id=\"edge33\" class=\"edge\">\n<title>74&#45;&gt;75</title>\n<path fill=\"none\" stroke=\"black\" d=\"M1290.27,-71.76C1289.18,-63.24 1288.05,-54.44 1287.03,-46.53\"/>\n<polygon fill=\"black\" stroke=\"black\" points=\"1290.48,-45.88 1285.73,-36.41 1283.54,-46.77 1290.48,-45.88\"/>\n</g>\n<!-- 84 -->\n<g id=\"node35\" class=\"node\">\n<title>84</title>\n<path fill=\"#c0c0c0\" stroke=\"black\" d=\"M1370.5,-36C1370.5,-36 1340.5,-36 1340.5,-36 1334.5,-36 1328.5,-30 1328.5,-24 1328.5,-24 1328.5,-12 1328.5,-12 1328.5,-6 1334.5,0 1340.5,0 1340.5,0 1370.5,0 1370.5,0 1376.5,0 1382.5,-6 1382.5,-12 1382.5,-12 1382.5,-24 1382.5,-24 1382.5,-30 1376.5,-36 1370.5,-36\"/>\n<text text-anchor=\"middle\" x=\"1355.5\" y=\"-14.3\" font-family=\"Helvetica,sans-Serif\" font-size=\"14.00\">(...)</text>\n</g>\n<!-- 74&#45;&gt;84 -->\n<g id=\"edge34\" class=\"edge\">\n<title>74&#45;&gt;84</title>\n<path fill=\"none\" stroke=\"black\" d=\"M1321.64,-71.76C1327.49,-62.65 1333.53,-53.24 1338.86,-44.92\"/>\n<polygon fill=\"black\" stroke=\"black\" points=\"1341.88,-46.71 1344.33,-36.41 1335.98,-42.93 1341.88,-46.71\"/>\n</g>\n<!-- 87 -->\n<g id=\"node38\" class=\"node\">\n<title>87</title>\n<path fill=\"#c8e4f8\" stroke=\"black\" d=\"M2140,-512C2140,-512 2039,-512 2039,-512 2033,-512 2027,-506 2027,-500 2027,-500 2027,-441 2027,-441 2027,-435 2033,-429 2039,-429 2039,-429 2140,-429 2140,-429 2146,-429 2152,-435 2152,-441 2152,-441 2152,-500 2152,-500 2152,-506 2146,-512 2140,-512\"/>\n<text text-anchor=\"middle\" x=\"2089.5\" y=\"-496.8\" font-family=\"Helvetica,sans-Serif\" font-size=\"14.00\">age &lt;= 77.5</text>\n<text text-anchor=\"middle\" x=\"2089.5\" y=\"-481.8\" font-family=\"Helvetica,sans-Serif\" font-size=\"14.00\">entropy = 0.981</text>\n<text text-anchor=\"middle\" x=\"2089.5\" y=\"-466.8\" font-family=\"Helvetica,sans-Serif\" font-size=\"14.00\">samples = 1465</text>\n<text text-anchor=\"middle\" x=\"2089.5\" y=\"-451.8\" font-family=\"Helvetica,sans-Serif\" font-size=\"14.00\">value = [614, 851]</text>\n<text text-anchor=\"middle\" x=\"2089.5\" y=\"-436.8\" font-family=\"Helvetica,sans-Serif\" font-size=\"14.00\">class = heart_yes</text>\n</g>\n<!-- 86&#45;&gt;87 -->\n<g id=\"edge37\" class=\"edge\">\n<title>86&#45;&gt;87</title>\n<path fill=\"none\" stroke=\"black\" d=\"M2089.5,-547.91C2089.5,-539.65 2089.5,-530.86 2089.5,-522.3\"/>\n<polygon fill=\"black\" stroke=\"black\" points=\"2093,-522.02 2089.5,-512.02 2086,-522.02 2093,-522.02\"/>\n</g>\n<!-- 148 -->\n<g id=\"node63\" class=\"node\">\n<title>148</title>\n<path fill=\"#59ade9\" stroke=\"black\" d=\"M2578.5,-512C2578.5,-512 2422.5,-512 2422.5,-512 2416.5,-512 2410.5,-506 2410.5,-500 2410.5,-500 2410.5,-441 2410.5,-441 2410.5,-435 2416.5,-429 2422.5,-429 2422.5,-429 2578.5,-429 2578.5,-429 2584.5,-429 2590.5,-435 2590.5,-441 2590.5,-441 2590.5,-500 2590.5,-500 2590.5,-506 2584.5,-512 2578.5,-512\"/>\n<text text-anchor=\"middle\" x=\"2500.5\" y=\"-496.8\" font-family=\"Helvetica,sans-Serif\" font-size=\"14.00\">blood_cholesterol &lt;= 3.605</text>\n<text text-anchor=\"middle\" x=\"2500.5\" y=\"-481.8\" font-family=\"Helvetica,sans-Serif\" font-size=\"14.00\">entropy = 0.582</text>\n<text text-anchor=\"middle\" x=\"2500.5\" y=\"-466.8\" font-family=\"Helvetica,sans-Serif\" font-size=\"14.00\">samples = 883</text>\n<text text-anchor=\"middle\" x=\"2500.5\" y=\"-451.8\" font-family=\"Helvetica,sans-Serif\" font-size=\"14.00\">value = [123, 760]</text>\n<text text-anchor=\"middle\" x=\"2500.5\" y=\"-436.8\" font-family=\"Helvetica,sans-Serif\" font-size=\"14.00\">class = heart_yes</text>\n</g>\n<!-- 86&#45;&gt;148 -->\n<g id=\"edge62\" class=\"edge\">\n<title>86&#45;&gt;148</title>\n<path fill=\"none\" stroke=\"black\" d=\"M2155.53,-569.7C2221.8,-550.84 2324.69,-521.55 2400.87,-499.86\"/>\n<polygon fill=\"black\" stroke=\"black\" points=\"2401.83,-503.23 2410.49,-497.12 2399.92,-496.49 2401.83,-503.23\"/>\n</g>\n<!-- 88 -->\n<g id=\"node39\" class=\"node\">\n<title>88</title>\n<path fill=\"#fefcfb\" stroke=\"black\" d=\"M2042,-393C2042,-393 1911,-393 1911,-393 1905,-393 1899,-387 1899,-381 1899,-381 1899,-322 1899,-322 1899,-316 1905,-310 1911,-310 1911,-310 2042,-310 2042,-310 2048,-310 2054,-316 2054,-322 2054,-322 2054,-381 2054,-381 2054,-387 2048,-393 2042,-393\"/>\n<text text-anchor=\"middle\" x=\"1976.5\" y=\"-377.8\" font-family=\"Helvetica,sans-Serif\" font-size=\"14.00\">family_income &lt;= 3.84</text>\n<text text-anchor=\"middle\" x=\"1976.5\" y=\"-362.8\" font-family=\"Helvetica,sans-Serif\" font-size=\"14.00\">entropy = 1.0</text>\n<text text-anchor=\"middle\" x=\"1976.5\" y=\"-347.8\" font-family=\"Helvetica,sans-Serif\" font-size=\"14.00\">samples = 936</text>\n<text text-anchor=\"middle\" x=\"1976.5\" y=\"-332.8\" font-family=\"Helvetica,sans-Serif\" font-size=\"14.00\">value = [473, 463]</text>\n<text text-anchor=\"middle\" x=\"1976.5\" y=\"-317.8\" font-family=\"Helvetica,sans-Serif\" font-size=\"14.00\">class = heart_no</text>\n</g>\n<!-- 87&#45;&gt;88 -->\n<g id=\"edge38\" class=\"edge\">\n<title>87&#45;&gt;88</title>\n<path fill=\"none\" stroke=\"black\" d=\"M2050.3,-428.91C2041.44,-419.74 2031.96,-409.93 2022.85,-400.49\"/>\n<polygon fill=\"black\" stroke=\"black\" points=\"2025.1,-397.78 2015.64,-393.02 2020.07,-402.65 2025.1,-397.78\"/>\n</g>\n<!-- 127 -->\n<g id=\"node52\" class=\"node\">\n<title>127</title>\n<path fill=\"#81c1ee\" stroke=\"black\" d=\"M2265.5,-393C2265.5,-393 2139.5,-393 2139.5,-393 2133.5,-393 2127.5,-387 2127.5,-381 2127.5,-381 2127.5,-322 2127.5,-322 2127.5,-316 2133.5,-310 2139.5,-310 2139.5,-310 2265.5,-310 2265.5,-310 2271.5,-310 2277.5,-316 2277.5,-322 2277.5,-322 2277.5,-381 2277.5,-381 2277.5,-387 2271.5,-393 2265.5,-393\"/>\n<text text-anchor=\"middle\" x=\"2202.5\" y=\"-377.8\" font-family=\"Helvetica,sans-Serif\" font-size=\"14.00\">gender_female &lt;= 0.5</text>\n<text text-anchor=\"middle\" x=\"2202.5\" y=\"-362.8\" font-family=\"Helvetica,sans-Serif\" font-size=\"14.00\">entropy = 0.836</text>\n<text text-anchor=\"middle\" x=\"2202.5\" y=\"-347.8\" font-family=\"Helvetica,sans-Serif\" font-size=\"14.00\">samples = 529</text>\n<text text-anchor=\"middle\" x=\"2202.5\" y=\"-332.8\" font-family=\"Helvetica,sans-Serif\" font-size=\"14.00\">value = [141, 388]</text>\n<text text-anchor=\"middle\" x=\"2202.5\" y=\"-317.8\" font-family=\"Helvetica,sans-Serif\" font-size=\"14.00\">class = heart_yes</text>\n</g>\n<!-- 87&#45;&gt;127 -->\n<g id=\"edge51\" class=\"edge\">\n<title>87&#45;&gt;127</title>\n<path fill=\"none\" stroke=\"black\" d=\"M2128.7,-428.91C2137.56,-419.74 2147.04,-409.93 2156.15,-400.49\"/>\n<polygon fill=\"black\" stroke=\"black\" points=\"2158.93,-402.65 2163.36,-393.02 2153.9,-397.78 2158.93,-402.65\"/>\n</g>\n<!-- 89 -->\n<g id=\"node40\" class=\"node\">\n<title>89</title>\n<path fill=\"#dbedfa\" stroke=\"black\" d=\"M1771,-274C1771,-274 1670,-274 1670,-274 1664,-274 1658,-268 1658,-262 1658,-262 1658,-203 1658,-203 1658,-197 1664,-191 1670,-191 1670,-191 1771,-191 1771,-191 1777,-191 1783,-197 1783,-203 1783,-203 1783,-262 1783,-262 1783,-268 1777,-274 1771,-274\"/>\n<text text-anchor=\"middle\" x=\"1720.5\" y=\"-258.8\" font-family=\"Helvetica,sans-Serif\" font-size=\"14.00\">BMI &lt;= 16.05</text>\n<text text-anchor=\"middle\" x=\"1720.5\" y=\"-243.8\" font-family=\"Helvetica,sans-Serif\" font-size=\"14.00\">entropy = 0.993</text>\n<text text-anchor=\"middle\" x=\"1720.5\" y=\"-228.8\" font-family=\"Helvetica,sans-Serif\" font-size=\"14.00\">samples = 737</text>\n<text text-anchor=\"middle\" x=\"1720.5\" y=\"-213.8\" font-family=\"Helvetica,sans-Serif\" font-size=\"14.00\">value = [332, 405]</text>\n<text text-anchor=\"middle\" x=\"1720.5\" y=\"-198.8\" font-family=\"Helvetica,sans-Serif\" font-size=\"14.00\">class = heart_yes</text>\n</g>\n<!-- 88&#45;&gt;89 -->\n<g id=\"edge39\" class=\"edge\">\n<title>88&#45;&gt;89</title>\n<path fill=\"none\" stroke=\"black\" d=\"M1899,-315.08C1865.1,-299.59 1825.57,-281.52 1792.35,-266.34\"/>\n<polygon fill=\"black\" stroke=\"black\" points=\"1793.7,-263.11 1783.15,-262.13 1790.79,-269.47 1793.7,-263.11\"/>\n</g>\n<!-- 122 -->\n<g id=\"node47\" class=\"node\">\n<title>122</title>\n<path fill=\"#f0b58a\" stroke=\"black\" d=\"M2023,-274C2023,-274 1930,-274 1930,-274 1924,-274 1918,-268 1918,-262 1918,-262 1918,-203 1918,-203 1918,-197 1924,-191 1930,-191 1930,-191 2023,-191 2023,-191 2029,-191 2035,-197 2035,-203 2035,-203 2035,-262 2035,-262 2035,-268 2029,-274 2023,-274\"/>\n<text text-anchor=\"middle\" x=\"1976.5\" y=\"-258.8\" font-family=\"Helvetica,sans-Serif\" font-size=\"14.00\">BMI &lt;= 23.25</text>\n<text text-anchor=\"middle\" x=\"1976.5\" y=\"-243.8\" font-family=\"Helvetica,sans-Serif\" font-size=\"14.00\">entropy = 0.871</text>\n<text text-anchor=\"middle\" x=\"1976.5\" y=\"-228.8\" font-family=\"Helvetica,sans-Serif\" font-size=\"14.00\">samples = 199</text>\n<text text-anchor=\"middle\" x=\"1976.5\" y=\"-213.8\" font-family=\"Helvetica,sans-Serif\" font-size=\"14.00\">value = [141, 58]</text>\n<text text-anchor=\"middle\" x=\"1976.5\" y=\"-198.8\" font-family=\"Helvetica,sans-Serif\" font-size=\"14.00\">class = heart_no</text>\n</g>\n<!-- 88&#45;&gt;122 -->\n<g id=\"edge46\" class=\"edge\">\n<title>88&#45;&gt;122</title>\n<path fill=\"none\" stroke=\"black\" d=\"M1976.5,-309.91C1976.5,-301.65 1976.5,-292.86 1976.5,-284.3\"/>\n<polygon fill=\"black\" stroke=\"black\" points=\"1980,-284.02 1976.5,-274.02 1973,-284.02 1980,-284.02\"/>\n</g>\n<!-- 90 -->\n<g id=\"node41\" class=\"node\">\n<title>90</title>\n<path fill=\"#67b4eb\" stroke=\"black\" d=\"M1621.5,-155C1621.5,-155 1523.5,-155 1523.5,-155 1517.5,-155 1511.5,-149 1511.5,-143 1511.5,-143 1511.5,-84 1511.5,-84 1511.5,-78 1517.5,-72 1523.5,-72 1523.5,-72 1621.5,-72 1621.5,-72 1627.5,-72 1633.5,-78 1633.5,-84 1633.5,-84 1633.5,-143 1633.5,-143 1633.5,-149 1627.5,-155 1621.5,-155\"/>\n<text text-anchor=\"middle\" x=\"1572.5\" y=\"-139.8\" font-family=\"Helvetica,sans-Serif\" font-size=\"14.00\">BMI &lt;= 13.85</text>\n<text text-anchor=\"middle\" x=\"1572.5\" y=\"-124.8\" font-family=\"Helvetica,sans-Serif\" font-size=\"14.00\">entropy = 0.701</text>\n<text text-anchor=\"middle\" x=\"1572.5\" y=\"-109.8\" font-family=\"Helvetica,sans-Serif\" font-size=\"14.00\">samples = 100</text>\n<text text-anchor=\"middle\" x=\"1572.5\" y=\"-94.8\" font-family=\"Helvetica,sans-Serif\" font-size=\"14.00\">value = [19, 81]</text>\n<text text-anchor=\"middle\" x=\"1572.5\" y=\"-79.8\" font-family=\"Helvetica,sans-Serif\" font-size=\"14.00\">class = heart_yes</text>\n</g>\n<!-- 89&#45;&gt;90 -->\n<g id=\"edge40\" class=\"edge\">\n<title>89&#45;&gt;90</title>\n<path fill=\"none\" stroke=\"black\" d=\"M1669.15,-190.91C1657.1,-181.38 1644.16,-171.15 1631.79,-161.37\"/>\n<polygon fill=\"black\" stroke=\"black\" points=\"1633.77,-158.48 1623.76,-155.02 1629.43,-163.97 1633.77,-158.48\"/>\n</g>\n<!-- 93 -->\n<g id=\"node44\" class=\"node\">\n<title>93</title>\n<path fill=\"#f8fcfe\" stroke=\"black\" d=\"M1777.5,-155C1777.5,-155 1663.5,-155 1663.5,-155 1657.5,-155 1651.5,-149 1651.5,-143 1651.5,-143 1651.5,-84 1651.5,-84 1651.5,-78 1657.5,-72 1663.5,-72 1663.5,-72 1777.5,-72 1777.5,-72 1783.5,-72 1789.5,-78 1789.5,-84 1789.5,-84 1789.5,-143 1789.5,-143 1789.5,-149 1783.5,-155 1777.5,-155\"/>\n<text text-anchor=\"middle\" x=\"1720.5\" y=\"-139.8\" font-family=\"Helvetica,sans-Serif\" font-size=\"14.00\">diastolic_bp &lt;= 83.0</text>\n<text text-anchor=\"middle\" x=\"1720.5\" y=\"-124.8\" font-family=\"Helvetica,sans-Serif\" font-size=\"14.00\">entropy = 1.0</text>\n<text text-anchor=\"middle\" x=\"1720.5\" y=\"-109.8\" font-family=\"Helvetica,sans-Serif\" font-size=\"14.00\">samples = 637</text>\n<text text-anchor=\"middle\" x=\"1720.5\" y=\"-94.8\" font-family=\"Helvetica,sans-Serif\" font-size=\"14.00\">value = [313, 324]</text>\n<text text-anchor=\"middle\" x=\"1720.5\" y=\"-79.8\" font-family=\"Helvetica,sans-Serif\" font-size=\"14.00\">class = heart_yes</text>\n</g>\n<!-- 89&#45;&gt;93 -->\n<g id=\"edge43\" class=\"edge\">\n<title>89&#45;&gt;93</title>\n<path fill=\"none\" stroke=\"black\" d=\"M1720.5,-190.91C1720.5,-182.65 1720.5,-173.86 1720.5,-165.3\"/>\n<polygon fill=\"black\" stroke=\"black\" points=\"1724,-165.02 1720.5,-155.02 1717,-165.02 1724,-165.02\"/>\n</g>\n<!-- 91 -->\n<g id=\"node42\" class=\"node\">\n<title>91</title>\n<path fill=\"#c0c0c0\" stroke=\"black\" d=\"M1523.5,-36C1523.5,-36 1493.5,-36 1493.5,-36 1487.5,-36 1481.5,-30 1481.5,-24 1481.5,-24 1481.5,-12 1481.5,-12 1481.5,-6 1487.5,0 1493.5,0 1493.5,0 1523.5,0 1523.5,0 1529.5,0 1535.5,-6 1535.5,-12 1535.5,-12 1535.5,-24 1535.5,-24 1535.5,-30 1529.5,-36 1523.5,-36\"/>\n<text text-anchor=\"middle\" x=\"1508.5\" y=\"-14.3\" font-family=\"Helvetica,sans-Serif\" font-size=\"14.00\">(...)</text>\n</g>\n<!-- 90&#45;&gt;91 -->\n<g id=\"edge41\" class=\"edge\">\n<title>90&#45;&gt;91</title>\n<path fill=\"none\" stroke=\"black\" d=\"M1544.61,-71.76C1538.31,-62.56 1531.8,-53.04 1526.06,-44.66\"/>\n<polygon fill=\"black\" stroke=\"black\" points=\"1528.95,-42.68 1520.41,-36.41 1523.17,-46.63 1528.95,-42.68\"/>\n</g>\n<!-- 92 -->\n<g id=\"node43\" class=\"node\">\n<title>92</title>\n<path fill=\"#c0c0c0\" stroke=\"black\" d=\"M1595.5,-36C1595.5,-36 1565.5,-36 1565.5,-36 1559.5,-36 1553.5,-30 1553.5,-24 1553.5,-24 1553.5,-12 1553.5,-12 1553.5,-6 1559.5,0 1565.5,0 1565.5,0 1595.5,0 1595.5,0 1601.5,0 1607.5,-6 1607.5,-12 1607.5,-12 1607.5,-24 1607.5,-24 1607.5,-30 1601.5,-36 1595.5,-36\"/>\n<text text-anchor=\"middle\" x=\"1580.5\" y=\"-14.3\" font-family=\"Helvetica,sans-Serif\" font-size=\"14.00\">(...)</text>\n</g>\n<!-- 90&#45;&gt;92 -->\n<g id=\"edge42\" class=\"edge\">\n<title>90&#45;&gt;92</title>\n<path fill=\"none\" stroke=\"black\" d=\"M1575.99,-71.76C1576.72,-63.24 1577.47,-54.44 1578.14,-46.53\"/>\n<polygon fill=\"black\" stroke=\"black\" points=\"1581.65,-46.67 1579.01,-36.41 1574.67,-46.07 1581.65,-46.67\"/>\n</g>\n<!-- 94 -->\n<g id=\"node45\" class=\"node\">\n<title>94</title>\n<path fill=\"#c0c0c0\" stroke=\"black\" d=\"M1669.5,-36C1669.5,-36 1639.5,-36 1639.5,-36 1633.5,-36 1627.5,-30 1627.5,-24 1627.5,-24 1627.5,-12 1627.5,-12 1627.5,-6 1633.5,0 1639.5,0 1639.5,0 1669.5,0 1669.5,0 1675.5,0 1681.5,-6 1681.5,-12 1681.5,-12 1681.5,-24 1681.5,-24 1681.5,-30 1675.5,-36 1669.5,-36\"/>\n<text text-anchor=\"middle\" x=\"1654.5\" y=\"-14.3\" font-family=\"Helvetica,sans-Serif\" font-size=\"14.00\">(...)</text>\n</g>\n<!-- 93&#45;&gt;94 -->\n<g id=\"edge44\" class=\"edge\">\n<title>93&#45;&gt;94</title>\n<path fill=\"none\" stroke=\"black\" d=\"M1691.74,-71.76C1685.25,-62.56 1678.53,-53.04 1672.61,-44.66\"/>\n<polygon fill=\"black\" stroke=\"black\" points=\"1675.41,-42.56 1666.79,-36.41 1669.69,-46.59 1675.41,-42.56\"/>\n</g>\n<!-- 121 -->\n<g id=\"node46\" class=\"node\">\n<title>121</title>\n<path fill=\"#c0c0c0\" stroke=\"black\" d=\"M1741.5,-36C1741.5,-36 1711.5,-36 1711.5,-36 1705.5,-36 1699.5,-30 1699.5,-24 1699.5,-24 1699.5,-12 1699.5,-12 1699.5,-6 1705.5,0 1711.5,0 1711.5,0 1741.5,0 1741.5,0 1747.5,0 1753.5,-6 1753.5,-12 1753.5,-12 1753.5,-24 1753.5,-24 1753.5,-30 1747.5,-36 1741.5,-36\"/>\n<text text-anchor=\"middle\" x=\"1726.5\" y=\"-14.3\" font-family=\"Helvetica,sans-Serif\" font-size=\"14.00\">(...)</text>\n</g>\n<!-- 93&#45;&gt;121 -->\n<g id=\"edge45\" class=\"edge\">\n<title>93&#45;&gt;121</title>\n<path fill=\"none\" stroke=\"black\" d=\"M1723.11,-71.76C1723.66,-63.24 1724.23,-54.44 1724.73,-46.53\"/>\n<polygon fill=\"black\" stroke=\"black\" points=\"1728.24,-46.61 1725.38,-36.41 1721.25,-46.16 1728.24,-46.61\"/>\n</g>\n<!-- 123 -->\n<g id=\"node48\" class=\"node\">\n<title>123</title>\n<path fill=\"#fae7d9\" stroke=\"black\" d=\"M1933.5,-155C1933.5,-155 1819.5,-155 1819.5,-155 1813.5,-155 1807.5,-149 1807.5,-143 1807.5,-143 1807.5,-84 1807.5,-84 1807.5,-78 1813.5,-72 1819.5,-72 1819.5,-72 1933.5,-72 1933.5,-72 1939.5,-72 1945.5,-78 1945.5,-84 1945.5,-84 1945.5,-143 1945.5,-143 1945.5,-149 1939.5,-155 1933.5,-155\"/>\n<text text-anchor=\"middle\" x=\"1876.5\" y=\"-139.8\" font-family=\"Helvetica,sans-Serif\" font-size=\"14.00\">diastolic_bp &lt;= 57.0</text>\n<text text-anchor=\"middle\" x=\"1876.5\" y=\"-124.8\" font-family=\"Helvetica,sans-Serif\" font-size=\"14.00\">entropy = 0.992</text>\n<text text-anchor=\"middle\" x=\"1876.5\" y=\"-109.8\" font-family=\"Helvetica,sans-Serif\" font-size=\"14.00\">samples = 114</text>\n<text text-anchor=\"middle\" x=\"1876.5\" y=\"-94.8\" font-family=\"Helvetica,sans-Serif\" font-size=\"14.00\">value = [63, 51]</text>\n<text text-anchor=\"middle\" x=\"1876.5\" y=\"-79.8\" font-family=\"Helvetica,sans-Serif\" font-size=\"14.00\">class = heart_no</text>\n</g>\n<!-- 122&#45;&gt;123 -->\n<g id=\"edge47\" class=\"edge\">\n<title>122&#45;&gt;123</title>\n<path fill=\"none\" stroke=\"black\" d=\"M1941.81,-190.91C1934.05,-181.83 1925.75,-172.12 1917.76,-162.77\"/>\n<polygon fill=\"black\" stroke=\"black\" points=\"1920.29,-160.35 1911.13,-155.02 1914.97,-164.9 1920.29,-160.35\"/>\n</g>\n<!-- 126 -->\n<g id=\"node51\" class=\"node\">\n<title>126</title>\n<path fill=\"#e78c4b\" stroke=\"black\" d=\"M2067.5,-147.5C2067.5,-147.5 1975.5,-147.5 1975.5,-147.5 1969.5,-147.5 1963.5,-141.5 1963.5,-135.5 1963.5,-135.5 1963.5,-91.5 1963.5,-91.5 1963.5,-85.5 1969.5,-79.5 1975.5,-79.5 1975.5,-79.5 2067.5,-79.5 2067.5,-79.5 2073.5,-79.5 2079.5,-85.5 2079.5,-91.5 2079.5,-91.5 2079.5,-135.5 2079.5,-135.5 2079.5,-141.5 2073.5,-147.5 2067.5,-147.5\"/>\n<text text-anchor=\"middle\" x=\"2021.5\" y=\"-132.3\" font-family=\"Helvetica,sans-Serif\" font-size=\"14.00\">entropy = 0.41</text>\n<text text-anchor=\"middle\" x=\"2021.5\" y=\"-117.3\" font-family=\"Helvetica,sans-Serif\" font-size=\"14.00\">samples = 85</text>\n<text text-anchor=\"middle\" x=\"2021.5\" y=\"-102.3\" font-family=\"Helvetica,sans-Serif\" font-size=\"14.00\">value = [78, 7]</text>\n<text text-anchor=\"middle\" x=\"2021.5\" y=\"-87.3\" font-family=\"Helvetica,sans-Serif\" font-size=\"14.00\">class = heart_no</text>\n</g>\n<!-- 122&#45;&gt;126 -->\n<g id=\"edge50\" class=\"edge\">\n<title>122&#45;&gt;126</title>\n<path fill=\"none\" stroke=\"black\" d=\"M1992.11,-190.91C1996.31,-179.98 2000.87,-168.14 2005.11,-157.11\"/>\n<polygon fill=\"black\" stroke=\"black\" points=\"2008.42,-158.26 2008.74,-147.67 2001.89,-155.74 2008.42,-158.26\"/>\n</g>\n<!-- 124 -->\n<g id=\"node49\" class=\"node\">\n<title>124</title>\n<path fill=\"#c0c0c0\" stroke=\"black\" d=\"M1855.5,-36C1855.5,-36 1825.5,-36 1825.5,-36 1819.5,-36 1813.5,-30 1813.5,-24 1813.5,-24 1813.5,-12 1813.5,-12 1813.5,-6 1819.5,0 1825.5,0 1825.5,0 1855.5,0 1855.5,0 1861.5,0 1867.5,-6 1867.5,-12 1867.5,-12 1867.5,-24 1867.5,-24 1867.5,-30 1861.5,-36 1855.5,-36\"/>\n<text text-anchor=\"middle\" x=\"1840.5\" y=\"-14.3\" font-family=\"Helvetica,sans-Serif\" font-size=\"14.00\">(...)</text>\n</g>\n<!-- 123&#45;&gt;124 -->\n<g id=\"edge48\" class=\"edge\">\n<title>123&#45;&gt;124</title>\n<path fill=\"none\" stroke=\"black\" d=\"M1860.81,-71.76C1857.46,-63.04 1853.99,-54.04 1850.89,-45.99\"/>\n<polygon fill=\"black\" stroke=\"black\" points=\"1854.06,-44.48 1847.2,-36.41 1847.53,-46.99 1854.06,-44.48\"/>\n</g>\n<!-- 125 -->\n<g id=\"node50\" class=\"node\">\n<title>125</title>\n<path fill=\"#c0c0c0\" stroke=\"black\" d=\"M1927.5,-36C1927.5,-36 1897.5,-36 1897.5,-36 1891.5,-36 1885.5,-30 1885.5,-24 1885.5,-24 1885.5,-12 1885.5,-12 1885.5,-6 1891.5,0 1897.5,0 1897.5,0 1927.5,0 1927.5,0 1933.5,0 1939.5,-6 1939.5,-12 1939.5,-12 1939.5,-24 1939.5,-24 1939.5,-30 1933.5,-36 1927.5,-36\"/>\n<text text-anchor=\"middle\" x=\"1912.5\" y=\"-14.3\" font-family=\"Helvetica,sans-Serif\" font-size=\"14.00\">(...)</text>\n</g>\n<!-- 123&#45;&gt;125 -->\n<g id=\"edge49\" class=\"edge\">\n<title>123&#45;&gt;125</title>\n<path fill=\"none\" stroke=\"black\" d=\"M1892.19,-71.76C1895.54,-63.04 1899.01,-54.04 1902.11,-45.99\"/>\n<polygon fill=\"black\" stroke=\"black\" points=\"1905.47,-46.99 1905.8,-36.41 1898.94,-44.48 1905.47,-46.99\"/>\n</g>\n<!-- 128 -->\n<g id=\"node53\" class=\"node\">\n<title>128</title>\n<path fill=\"#69b5eb\" stroke=\"black\" d=\"M2280.5,-274C2280.5,-274 2124.5,-274 2124.5,-274 2118.5,-274 2112.5,-268 2112.5,-262 2112.5,-262 2112.5,-203 2112.5,-203 2112.5,-197 2118.5,-191 2124.5,-191 2124.5,-191 2280.5,-191 2280.5,-191 2286.5,-191 2292.5,-197 2292.5,-203 2292.5,-203 2292.5,-262 2292.5,-262 2292.5,-268 2286.5,-274 2280.5,-274\"/>\n<text text-anchor=\"middle\" x=\"2202.5\" y=\"-258.8\" font-family=\"Helvetica,sans-Serif\" font-size=\"14.00\">blood_cholesterol &lt;= 3.375</text>\n<text text-anchor=\"middle\" x=\"2202.5\" y=\"-243.8\" font-family=\"Helvetica,sans-Serif\" font-size=\"14.00\">entropy = 0.71</text>\n<text text-anchor=\"middle\" x=\"2202.5\" y=\"-228.8\" font-family=\"Helvetica,sans-Serif\" font-size=\"14.00\">samples = 299</text>\n<text text-anchor=\"middle\" x=\"2202.5\" y=\"-213.8\" font-family=\"Helvetica,sans-Serif\" font-size=\"14.00\">value = [58, 241]</text>\n<text text-anchor=\"middle\" x=\"2202.5\" y=\"-198.8\" font-family=\"Helvetica,sans-Serif\" font-size=\"14.00\">class = heart_yes</text>\n</g>\n<!-- 127&#45;&gt;128 -->\n<g id=\"edge52\" class=\"edge\">\n<title>127&#45;&gt;128</title>\n<path fill=\"none\" stroke=\"black\" d=\"M2202.5,-309.91C2202.5,-301.65 2202.5,-292.86 2202.5,-284.3\"/>\n<polygon fill=\"black\" stroke=\"black\" points=\"2206,-284.02 2202.5,-274.02 2199,-284.02 2206,-284.02\"/>\n</g>\n<!-- 139 -->\n<g id=\"node58\" class=\"node\">\n<title>139</title>\n<path fill=\"#a9d4f4\" stroke=\"black\" d=\"M2539,-274C2539,-274 2368,-274 2368,-274 2362,-274 2356,-268 2356,-262 2356,-262 2356,-203 2356,-203 2356,-197 2362,-191 2368,-191 2368,-191 2539,-191 2539,-191 2545,-191 2551,-197 2551,-203 2551,-203 2551,-262 2551,-262 2551,-268 2545,-274 2539,-274\"/>\n<text text-anchor=\"middle\" x=\"2453.5\" y=\"-258.8\" font-family=\"Helvetica,sans-Serif\" font-size=\"14.00\">blood_pressure_sys &lt;= 101.0</text>\n<text text-anchor=\"middle\" x=\"2453.5\" y=\"-243.8\" font-family=\"Helvetica,sans-Serif\" font-size=\"14.00\">entropy = 0.943</text>\n<text text-anchor=\"middle\" x=\"2453.5\" y=\"-228.8\" font-family=\"Helvetica,sans-Serif\" font-size=\"14.00\">samples = 230</text>\n<text text-anchor=\"middle\" x=\"2453.5\" y=\"-213.8\" font-family=\"Helvetica,sans-Serif\" font-size=\"14.00\">value = [83, 147]</text>\n<text text-anchor=\"middle\" x=\"2453.5\" y=\"-198.8\" font-family=\"Helvetica,sans-Serif\" font-size=\"14.00\">class = heart_yes</text>\n</g>\n<!-- 127&#45;&gt;139 -->\n<g id=\"edge57\" class=\"edge\">\n<title>127&#45;&gt;139</title>\n<path fill=\"none\" stroke=\"black\" d=\"M2277.81,-315.4C2302.74,-303.78 2330.83,-290.68 2357.12,-278.43\"/>\n<polygon fill=\"black\" stroke=\"black\" points=\"2358.75,-281.53 2366.34,-274.13 2355.79,-275.18 2358.75,-281.53\"/>\n</g>\n<!-- 129 -->\n<g id=\"node54\" class=\"node\">\n<title>129</title>\n<path fill=\"#399de5\" stroke=\"black\" d=\"M2207.5,-147.5C2207.5,-147.5 2109.5,-147.5 2109.5,-147.5 2103.5,-147.5 2097.5,-141.5 2097.5,-135.5 2097.5,-135.5 2097.5,-91.5 2097.5,-91.5 2097.5,-85.5 2103.5,-79.5 2109.5,-79.5 2109.5,-79.5 2207.5,-79.5 2207.5,-79.5 2213.5,-79.5 2219.5,-85.5 2219.5,-91.5 2219.5,-91.5 2219.5,-135.5 2219.5,-135.5 2219.5,-141.5 2213.5,-147.5 2207.5,-147.5\"/>\n<text text-anchor=\"middle\" x=\"2158.5\" y=\"-132.3\" font-family=\"Helvetica,sans-Serif\" font-size=\"14.00\">entropy = 0.0</text>\n<text text-anchor=\"middle\" x=\"2158.5\" y=\"-117.3\" font-family=\"Helvetica,sans-Serif\" font-size=\"14.00\">samples = 46</text>\n<text text-anchor=\"middle\" x=\"2158.5\" y=\"-102.3\" font-family=\"Helvetica,sans-Serif\" font-size=\"14.00\">value = [0, 46]</text>\n<text text-anchor=\"middle\" x=\"2158.5\" y=\"-87.3\" font-family=\"Helvetica,sans-Serif\" font-size=\"14.00\">class = heart_yes</text>\n</g>\n<!-- 128&#45;&gt;129 -->\n<g id=\"edge53\" class=\"edge\">\n<title>128&#45;&gt;129</title>\n<path fill=\"none\" stroke=\"black\" d=\"M2187.23,-190.91C2183.13,-179.98 2178.67,-168.14 2174.52,-157.11\"/>\n<polygon fill=\"black\" stroke=\"black\" points=\"2177.77,-155.79 2170.97,-147.67 2171.22,-158.26 2177.77,-155.79\"/>\n</g>\n<!-- 130 -->\n<g id=\"node55\" class=\"node\">\n<title>130</title>\n<path fill=\"#74baed\" stroke=\"black\" d=\"M2365,-155C2365,-155 2250,-155 2250,-155 2244,-155 2238,-149 2238,-143 2238,-143 2238,-84 2238,-84 2238,-78 2244,-72 2250,-72 2250,-72 2365,-72 2365,-72 2371,-72 2377,-78 2377,-84 2377,-84 2377,-143 2377,-143 2377,-149 2371,-155 2365,-155\"/>\n<text text-anchor=\"middle\" x=\"2307.5\" y=\"-139.8\" font-family=\"Helvetica,sans-Serif\" font-size=\"14.00\">drink_alcohol &lt;= 0.5</text>\n<text text-anchor=\"middle\" x=\"2307.5\" y=\"-124.8\" font-family=\"Helvetica,sans-Serif\" font-size=\"14.00\">entropy = 0.777</text>\n<text text-anchor=\"middle\" x=\"2307.5\" y=\"-109.8\" font-family=\"Helvetica,sans-Serif\" font-size=\"14.00\">samples = 253</text>\n<text text-anchor=\"middle\" x=\"2307.5\" y=\"-94.8\" font-family=\"Helvetica,sans-Serif\" font-size=\"14.00\">value = [58, 195]</text>\n<text text-anchor=\"middle\" x=\"2307.5\" y=\"-79.8\" font-family=\"Helvetica,sans-Serif\" font-size=\"14.00\">class = heart_yes</text>\n</g>\n<!-- 128&#45;&gt;130 -->\n<g id=\"edge54\" class=\"edge\">\n<title>128&#45;&gt;130</title>\n<path fill=\"none\" stroke=\"black\" d=\"M2238.93,-190.91C2247.15,-181.74 2255.96,-171.93 2264.43,-162.49\"/>\n<polygon fill=\"black\" stroke=\"black\" points=\"2267.06,-164.8 2271.14,-155.02 2261.85,-160.13 2267.06,-164.8\"/>\n</g>\n<!-- 131 -->\n<g id=\"node56\" class=\"node\">\n<title>131</title>\n<path fill=\"#c0c0c0\" stroke=\"black\" d=\"M2286.5,-36C2286.5,-36 2256.5,-36 2256.5,-36 2250.5,-36 2244.5,-30 2244.5,-24 2244.5,-24 2244.5,-12 2244.5,-12 2244.5,-6 2250.5,0 2256.5,0 2256.5,0 2286.5,0 2286.5,0 2292.5,0 2298.5,-6 2298.5,-12 2298.5,-12 2298.5,-24 2298.5,-24 2298.5,-30 2292.5,-36 2286.5,-36\"/>\n<text text-anchor=\"middle\" x=\"2271.5\" y=\"-14.3\" font-family=\"Helvetica,sans-Serif\" font-size=\"14.00\">(...)</text>\n</g>\n<!-- 130&#45;&gt;131 -->\n<g id=\"edge55\" class=\"edge\">\n<title>130&#45;&gt;131</title>\n<path fill=\"none\" stroke=\"black\" d=\"M2291.81,-71.76C2288.46,-63.04 2284.99,-54.04 2281.89,-45.99\"/>\n<polygon fill=\"black\" stroke=\"black\" points=\"2285.06,-44.48 2278.2,-36.41 2278.53,-46.99 2285.06,-44.48\"/>\n</g>\n<!-- 132 -->\n<g id=\"node57\" class=\"node\">\n<title>132</title>\n<path fill=\"#c0c0c0\" stroke=\"black\" d=\"M2358.5,-36C2358.5,-36 2328.5,-36 2328.5,-36 2322.5,-36 2316.5,-30 2316.5,-24 2316.5,-24 2316.5,-12 2316.5,-12 2316.5,-6 2322.5,0 2328.5,0 2328.5,0 2358.5,0 2358.5,0 2364.5,0 2370.5,-6 2370.5,-12 2370.5,-12 2370.5,-24 2370.5,-24 2370.5,-30 2364.5,-36 2358.5,-36\"/>\n<text text-anchor=\"middle\" x=\"2343.5\" y=\"-14.3\" font-family=\"Helvetica,sans-Serif\" font-size=\"14.00\">(...)</text>\n</g>\n<!-- 130&#45;&gt;132 -->\n<g id=\"edge56\" class=\"edge\">\n<title>130&#45;&gt;132</title>\n<path fill=\"none\" stroke=\"black\" d=\"M2323.19,-71.76C2326.54,-63.04 2330.01,-54.04 2333.11,-45.99\"/>\n<polygon fill=\"black\" stroke=\"black\" points=\"2336.47,-46.99 2336.8,-36.41 2329.94,-44.48 2336.47,-46.99\"/>\n</g>\n<!-- 140 -->\n<g id=\"node59\" class=\"node\">\n<title>140</title>\n<path fill=\"#e58139\" stroke=\"black\" d=\"M2499.5,-147.5C2499.5,-147.5 2407.5,-147.5 2407.5,-147.5 2401.5,-147.5 2395.5,-141.5 2395.5,-135.5 2395.5,-135.5 2395.5,-91.5 2395.5,-91.5 2395.5,-85.5 2401.5,-79.5 2407.5,-79.5 2407.5,-79.5 2499.5,-79.5 2499.5,-79.5 2505.5,-79.5 2511.5,-85.5 2511.5,-91.5 2511.5,-91.5 2511.5,-135.5 2511.5,-135.5 2511.5,-141.5 2505.5,-147.5 2499.5,-147.5\"/>\n<text text-anchor=\"middle\" x=\"2453.5\" y=\"-132.3\" font-family=\"Helvetica,sans-Serif\" font-size=\"14.00\">entropy = 0.0</text>\n<text text-anchor=\"middle\" x=\"2453.5\" y=\"-117.3\" font-family=\"Helvetica,sans-Serif\" font-size=\"14.00\">samples = 9</text>\n<text text-anchor=\"middle\" x=\"2453.5\" y=\"-102.3\" font-family=\"Helvetica,sans-Serif\" font-size=\"14.00\">value = [9, 0]</text>\n<text text-anchor=\"middle\" x=\"2453.5\" y=\"-87.3\" font-family=\"Helvetica,sans-Serif\" font-size=\"14.00\">class = heart_no</text>\n</g>\n<!-- 139&#45;&gt;140 -->\n<g id=\"edge58\" class=\"edge\">\n<title>139&#45;&gt;140</title>\n<path fill=\"none\" stroke=\"black\" d=\"M2453.5,-190.91C2453.5,-180.2 2453.5,-168.62 2453.5,-157.78\"/>\n<polygon fill=\"black\" stroke=\"black\" points=\"2457,-157.67 2453.5,-147.67 2450,-157.67 2457,-157.67\"/>\n</g>\n<!-- 141 -->\n<g id=\"node60\" class=\"node\">\n<title>141</title>\n<path fill=\"#9dcef2\" stroke=\"black\" d=\"M2645.5,-155C2645.5,-155 2541.5,-155 2541.5,-155 2535.5,-155 2529.5,-149 2529.5,-143 2529.5,-143 2529.5,-84 2529.5,-84 2529.5,-78 2535.5,-72 2541.5,-72 2541.5,-72 2645.5,-72 2645.5,-72 2651.5,-72 2657.5,-78 2657.5,-84 2657.5,-84 2657.5,-143 2657.5,-143 2657.5,-149 2651.5,-155 2645.5,-155\"/>\n<text text-anchor=\"middle\" x=\"2593.5\" y=\"-139.8\" font-family=\"Helvetica,sans-Serif\" font-size=\"14.00\">calories &lt;= 2746.0</text>\n<text text-anchor=\"middle\" x=\"2593.5\" y=\"-124.8\" font-family=\"Helvetica,sans-Serif\" font-size=\"14.00\">entropy = 0.92</text>\n<text text-anchor=\"middle\" x=\"2593.5\" y=\"-109.8\" font-family=\"Helvetica,sans-Serif\" font-size=\"14.00\">samples = 221</text>\n<text text-anchor=\"middle\" x=\"2593.5\" y=\"-94.8\" font-family=\"Helvetica,sans-Serif\" font-size=\"14.00\">value = [74, 147]</text>\n<text text-anchor=\"middle\" x=\"2593.5\" y=\"-79.8\" font-family=\"Helvetica,sans-Serif\" font-size=\"14.00\">class = heart_yes</text>\n</g>\n<!-- 139&#45;&gt;141 -->\n<g id=\"edge59\" class=\"edge\">\n<title>139&#45;&gt;141</title>\n<path fill=\"none\" stroke=\"black\" d=\"M2502.07,-190.91C2513.37,-181.47 2525.48,-171.34 2537.08,-161.65\"/>\n<polygon fill=\"black\" stroke=\"black\" points=\"2539.58,-164.12 2545.01,-155.02 2535.1,-158.75 2539.58,-164.12\"/>\n</g>\n<!-- 142 -->\n<g id=\"node61\" class=\"node\">\n<title>142</title>\n<path fill=\"#c0c0c0\" stroke=\"black\" d=\"M2572.5,-36C2572.5,-36 2542.5,-36 2542.5,-36 2536.5,-36 2530.5,-30 2530.5,-24 2530.5,-24 2530.5,-12 2530.5,-12 2530.5,-6 2536.5,0 2542.5,0 2542.5,0 2572.5,0 2572.5,0 2578.5,0 2584.5,-6 2584.5,-12 2584.5,-12 2584.5,-24 2584.5,-24 2584.5,-30 2578.5,-36 2572.5,-36\"/>\n<text text-anchor=\"middle\" x=\"2557.5\" y=\"-14.3\" font-family=\"Helvetica,sans-Serif\" font-size=\"14.00\">(...)</text>\n</g>\n<!-- 141&#45;&gt;142 -->\n<g id=\"edge60\" class=\"edge\">\n<title>141&#45;&gt;142</title>\n<path fill=\"none\" stroke=\"black\" d=\"M2577.81,-71.76C2574.46,-63.04 2570.99,-54.04 2567.89,-45.99\"/>\n<polygon fill=\"black\" stroke=\"black\" points=\"2571.06,-44.48 2564.2,-36.41 2564.53,-46.99 2571.06,-44.48\"/>\n</g>\n<!-- 147 -->\n<g id=\"node62\" class=\"node\">\n<title>147</title>\n<path fill=\"#c0c0c0\" stroke=\"black\" d=\"M2644.5,-36C2644.5,-36 2614.5,-36 2614.5,-36 2608.5,-36 2602.5,-30 2602.5,-24 2602.5,-24 2602.5,-12 2602.5,-12 2602.5,-6 2608.5,0 2614.5,0 2614.5,0 2644.5,0 2644.5,0 2650.5,0 2656.5,-6 2656.5,-12 2656.5,-12 2656.5,-24 2656.5,-24 2656.5,-30 2650.5,-36 2644.5,-36\"/>\n<text text-anchor=\"middle\" x=\"2629.5\" y=\"-14.3\" font-family=\"Helvetica,sans-Serif\" font-size=\"14.00\">(...)</text>\n</g>\n<!-- 141&#45;&gt;147 -->\n<g id=\"edge61\" class=\"edge\">\n<title>141&#45;&gt;147</title>\n<path fill=\"none\" stroke=\"black\" d=\"M2609.19,-71.76C2612.54,-63.04 2616.01,-54.04 2619.11,-45.99\"/>\n<polygon fill=\"black\" stroke=\"black\" points=\"2622.47,-46.99 2622.8,-36.41 2615.94,-44.48 2622.47,-46.99\"/>\n</g>\n<!-- 149 -->\n<g id=\"node64\" class=\"node\">\n<title>149</title>\n<path fill=\"#bddef6\" stroke=\"black\" d=\"M2549.5,-385.5C2549.5,-385.5 2451.5,-385.5 2451.5,-385.5 2445.5,-385.5 2439.5,-379.5 2439.5,-373.5 2439.5,-373.5 2439.5,-329.5 2439.5,-329.5 2439.5,-323.5 2445.5,-317.5 2451.5,-317.5 2451.5,-317.5 2549.5,-317.5 2549.5,-317.5 2555.5,-317.5 2561.5,-323.5 2561.5,-329.5 2561.5,-329.5 2561.5,-373.5 2561.5,-373.5 2561.5,-379.5 2555.5,-385.5 2549.5,-385.5\"/>\n<text text-anchor=\"middle\" x=\"2500.5\" y=\"-370.3\" font-family=\"Helvetica,sans-Serif\" font-size=\"14.00\">entropy = 0.971</text>\n<text text-anchor=\"middle\" x=\"2500.5\" y=\"-355.3\" font-family=\"Helvetica,sans-Serif\" font-size=\"14.00\">samples = 60</text>\n<text text-anchor=\"middle\" x=\"2500.5\" y=\"-340.3\" font-family=\"Helvetica,sans-Serif\" font-size=\"14.00\">value = [24, 36]</text>\n<text text-anchor=\"middle\" x=\"2500.5\" y=\"-325.3\" font-family=\"Helvetica,sans-Serif\" font-size=\"14.00\">class = heart_yes</text>\n</g>\n<!-- 148&#45;&gt;149 -->\n<g id=\"edge63\" class=\"edge\">\n<title>148&#45;&gt;149</title>\n<path fill=\"none\" stroke=\"black\" d=\"M2500.5,-428.91C2500.5,-418.2 2500.5,-406.62 2500.5,-395.78\"/>\n<polygon fill=\"black\" stroke=\"black\" points=\"2504,-395.67 2500.5,-385.67 2497,-395.67 2504,-395.67\"/>\n</g>\n<!-- 150 -->\n<g id=\"node65\" class=\"node\">\n<title>150</title>\n<path fill=\"#54aae9\" stroke=\"black\" d=\"M2886,-393C2886,-393 2715,-393 2715,-393 2709,-393 2703,-387 2703,-381 2703,-381 2703,-322 2703,-322 2703,-316 2709,-310 2715,-310 2715,-310 2886,-310 2886,-310 2892,-310 2898,-316 2898,-322 2898,-322 2898,-381 2898,-381 2898,-387 2892,-393 2886,-393\"/>\n<text text-anchor=\"middle\" x=\"2800.5\" y=\"-377.8\" font-family=\"Helvetica,sans-Serif\" font-size=\"14.00\">blood_pressure_sys &lt;= 135.0</text>\n<text text-anchor=\"middle\" x=\"2800.5\" y=\"-362.8\" font-family=\"Helvetica,sans-Serif\" font-size=\"14.00\">entropy = 0.53</text>\n<text text-anchor=\"middle\" x=\"2800.5\" y=\"-347.8\" font-family=\"Helvetica,sans-Serif\" font-size=\"14.00\">samples = 823</text>\n<text text-anchor=\"middle\" x=\"2800.5\" y=\"-332.8\" font-family=\"Helvetica,sans-Serif\" font-size=\"14.00\">value = [99, 724]</text>\n<text text-anchor=\"middle\" x=\"2800.5\" y=\"-317.8\" font-family=\"Helvetica,sans-Serif\" font-size=\"14.00\">class = heart_yes</text>\n</g>\n<!-- 148&#45;&gt;150 -->\n<g id=\"edge64\" class=\"edge\">\n<title>148&#45;&gt;150</title>\n<path fill=\"none\" stroke=\"black\" d=\"M2590.51,-434.4C2622.93,-421.75 2659.83,-407.36 2693.55,-394.21\"/>\n<polygon fill=\"black\" stroke=\"black\" points=\"2694.93,-397.43 2702.97,-390.54 2692.38,-390.91 2694.93,-397.43\"/>\n</g>\n<!-- 151 -->\n<g id=\"node66\" class=\"node\">\n<title>151</title>\n<path fill=\"#59ade9\" stroke=\"black\" d=\"M2857.5,-274C2857.5,-274 2743.5,-274 2743.5,-274 2737.5,-274 2731.5,-268 2731.5,-262 2731.5,-262 2731.5,-203 2731.5,-203 2731.5,-197 2737.5,-191 2743.5,-191 2743.5,-191 2857.5,-191 2857.5,-191 2863.5,-191 2869.5,-197 2869.5,-203 2869.5,-203 2869.5,-262 2869.5,-262 2869.5,-268 2863.5,-274 2857.5,-274\"/>\n<text text-anchor=\"middle\" x=\"2800.5\" y=\"-258.8\" font-family=\"Helvetica,sans-Serif\" font-size=\"14.00\">diastolic_bp &lt;= 57.0</text>\n<text text-anchor=\"middle\" x=\"2800.5\" y=\"-243.8\" font-family=\"Helvetica,sans-Serif\" font-size=\"14.00\">entropy = 0.586</text>\n<text text-anchor=\"middle\" x=\"2800.5\" y=\"-228.8\" font-family=\"Helvetica,sans-Serif\" font-size=\"14.00\">samples = 668</text>\n<text text-anchor=\"middle\" x=\"2800.5\" y=\"-213.8\" font-family=\"Helvetica,sans-Serif\" font-size=\"14.00\">value = [94, 574]</text>\n<text text-anchor=\"middle\" x=\"2800.5\" y=\"-198.8\" font-family=\"Helvetica,sans-Serif\" font-size=\"14.00\">class = heart_yes</text>\n</g>\n<!-- 150&#45;&gt;151 -->\n<g id=\"edge65\" class=\"edge\">\n<title>150&#45;&gt;151</title>\n<path fill=\"none\" stroke=\"black\" d=\"M2800.5,-309.91C2800.5,-301.65 2800.5,-292.86 2800.5,-284.3\"/>\n<polygon fill=\"black\" stroke=\"black\" points=\"2804,-284.02 2800.5,-274.02 2797,-284.02 2804,-284.02\"/>\n</g>\n<!-- 184 -->\n<g id=\"node71\" class=\"node\">\n<title>184</title>\n<path fill=\"#40a0e6\" stroke=\"black\" d=\"M3068.5,-274C3068.5,-274 2964.5,-274 2964.5,-274 2958.5,-274 2952.5,-268 2952.5,-262 2952.5,-262 2952.5,-203 2952.5,-203 2952.5,-197 2958.5,-191 2964.5,-191 2964.5,-191 3068.5,-191 3068.5,-191 3074.5,-191 3080.5,-197 3080.5,-203 3080.5,-203 3080.5,-262 3080.5,-262 3080.5,-268 3074.5,-274 3068.5,-274\"/>\n<text text-anchor=\"middle\" x=\"3016.5\" y=\"-258.8\" font-family=\"Helvetica,sans-Serif\" font-size=\"14.00\">calories &lt;= 1992.5</text>\n<text text-anchor=\"middle\" x=\"3016.5\" y=\"-243.8\" font-family=\"Helvetica,sans-Serif\" font-size=\"14.00\">entropy = 0.206</text>\n<text text-anchor=\"middle\" x=\"3016.5\" y=\"-228.8\" font-family=\"Helvetica,sans-Serif\" font-size=\"14.00\">samples = 155</text>\n<text text-anchor=\"middle\" x=\"3016.5\" y=\"-213.8\" font-family=\"Helvetica,sans-Serif\" font-size=\"14.00\">value = [5, 150]</text>\n<text text-anchor=\"middle\" x=\"3016.5\" y=\"-198.8\" font-family=\"Helvetica,sans-Serif\" font-size=\"14.00\">class = heart_yes</text>\n</g>\n<!-- 150&#45;&gt;184 -->\n<g id=\"edge70\" class=\"edge\">\n<title>150&#45;&gt;184</title>\n<path fill=\"none\" stroke=\"black\" d=\"M2875.44,-309.91C2897.5,-297.96 2921.6,-284.9 2943.53,-273.02\"/>\n<polygon fill=\"black\" stroke=\"black\" points=\"2945.34,-276.02 2952.47,-268.18 2942.01,-269.87 2945.34,-276.02\"/>\n</g>\n<!-- 152 -->\n<g id=\"node67\" class=\"node\">\n<title>152</title>\n<path fill=\"#9acdf2\" stroke=\"black\" d=\"M2785.5,-147.5C2785.5,-147.5 2687.5,-147.5 2687.5,-147.5 2681.5,-147.5 2675.5,-141.5 2675.5,-135.5 2675.5,-135.5 2675.5,-91.5 2675.5,-91.5 2675.5,-85.5 2681.5,-79.5 2687.5,-79.5 2687.5,-79.5 2785.5,-79.5 2785.5,-79.5 2791.5,-79.5 2797.5,-85.5 2797.5,-91.5 2797.5,-91.5 2797.5,-135.5 2797.5,-135.5 2797.5,-141.5 2791.5,-147.5 2785.5,-147.5\"/>\n<text text-anchor=\"middle\" x=\"2736.5\" y=\"-132.3\" font-family=\"Helvetica,sans-Serif\" font-size=\"14.00\">entropy = 0.914</text>\n<text text-anchor=\"middle\" x=\"2736.5\" y=\"-117.3\" font-family=\"Helvetica,sans-Serif\" font-size=\"14.00\">samples = 76</text>\n<text text-anchor=\"middle\" x=\"2736.5\" y=\"-102.3\" font-family=\"Helvetica,sans-Serif\" font-size=\"14.00\">value = [25, 51]</text>\n<text text-anchor=\"middle\" x=\"2736.5\" y=\"-87.3\" font-family=\"Helvetica,sans-Serif\" font-size=\"14.00\">class = heart_yes</text>\n</g>\n<!-- 151&#45;&gt;152 -->\n<g id=\"edge66\" class=\"edge\">\n<title>151&#45;&gt;152</title>\n<path fill=\"none\" stroke=\"black\" d=\"M2778.3,-190.91C2772.26,-179.87 2765.71,-167.9 2759.62,-156.77\"/>\n<polygon fill=\"black\" stroke=\"black\" points=\"2762.51,-154.76 2754.64,-147.67 2756.37,-158.12 2762.51,-154.76\"/>\n</g>\n<!-- 153 -->\n<g id=\"node68\" class=\"node\">\n<title>153</title>\n<path fill=\"#53aae8\" stroke=\"black\" d=\"M2925.5,-155C2925.5,-155 2827.5,-155 2827.5,-155 2821.5,-155 2815.5,-149 2815.5,-143 2815.5,-143 2815.5,-84 2815.5,-84 2815.5,-78 2821.5,-72 2827.5,-72 2827.5,-72 2925.5,-72 2925.5,-72 2931.5,-72 2937.5,-78 2937.5,-84 2937.5,-84 2937.5,-143 2937.5,-143 2937.5,-149 2931.5,-155 2925.5,-155\"/>\n<text text-anchor=\"middle\" x=\"2876.5\" y=\"-139.8\" font-family=\"Helvetica,sans-Serif\" font-size=\"14.00\">calories &lt;= 522.0</text>\n<text text-anchor=\"middle\" x=\"2876.5\" y=\"-124.8\" font-family=\"Helvetica,sans-Serif\" font-size=\"14.00\">entropy = 0.519</text>\n<text text-anchor=\"middle\" x=\"2876.5\" y=\"-109.8\" font-family=\"Helvetica,sans-Serif\" font-size=\"14.00\">samples = 592</text>\n<text text-anchor=\"middle\" x=\"2876.5\" y=\"-94.8\" font-family=\"Helvetica,sans-Serif\" font-size=\"14.00\">value = [69, 523]</text>\n<text text-anchor=\"middle\" x=\"2876.5\" y=\"-79.8\" font-family=\"Helvetica,sans-Serif\" font-size=\"14.00\">class = heart_yes</text>\n</g>\n<!-- 151&#45;&gt;153 -->\n<g id=\"edge67\" class=\"edge\">\n<title>151&#45;&gt;153</title>\n<path fill=\"none\" stroke=\"black\" d=\"M2826.87,-190.91C2832.59,-182.1 2838.69,-172.7 2844.6,-163.61\"/>\n<polygon fill=\"black\" stroke=\"black\" points=\"2847.67,-165.31 2850.18,-155.02 2841.8,-161.5 2847.67,-165.31\"/>\n</g>\n<!-- 154 -->\n<g id=\"node69\" class=\"node\">\n<title>154</title>\n<path fill=\"#c0c0c0\" stroke=\"black\" d=\"M2855.5,-36C2855.5,-36 2825.5,-36 2825.5,-36 2819.5,-36 2813.5,-30 2813.5,-24 2813.5,-24 2813.5,-12 2813.5,-12 2813.5,-6 2819.5,0 2825.5,0 2825.5,0 2855.5,0 2855.5,0 2861.5,0 2867.5,-6 2867.5,-12 2867.5,-12 2867.5,-24 2867.5,-24 2867.5,-30 2861.5,-36 2855.5,-36\"/>\n<text text-anchor=\"middle\" x=\"2840.5\" y=\"-14.3\" font-family=\"Helvetica,sans-Serif\" font-size=\"14.00\">(...)</text>\n</g>\n<!-- 153&#45;&gt;154 -->\n<g id=\"edge68\" class=\"edge\">\n<title>153&#45;&gt;154</title>\n<path fill=\"none\" stroke=\"black\" d=\"M2860.81,-71.76C2857.46,-63.04 2853.99,-54.04 2850.89,-45.99\"/>\n<polygon fill=\"black\" stroke=\"black\" points=\"2854.06,-44.48 2847.2,-36.41 2847.53,-46.99 2854.06,-44.48\"/>\n</g>\n<!-- 155 -->\n<g id=\"node70\" class=\"node\">\n<title>155</title>\n<path fill=\"#c0c0c0\" stroke=\"black\" d=\"M2927.5,-36C2927.5,-36 2897.5,-36 2897.5,-36 2891.5,-36 2885.5,-30 2885.5,-24 2885.5,-24 2885.5,-12 2885.5,-12 2885.5,-6 2891.5,0 2897.5,0 2897.5,0 2927.5,0 2927.5,0 2933.5,0 2939.5,-6 2939.5,-12 2939.5,-12 2939.5,-24 2939.5,-24 2939.5,-30 2933.5,-36 2927.5,-36\"/>\n<text text-anchor=\"middle\" x=\"2912.5\" y=\"-14.3\" font-family=\"Helvetica,sans-Serif\" font-size=\"14.00\">(...)</text>\n</g>\n<!-- 153&#45;&gt;155 -->\n<g id=\"edge69\" class=\"edge\">\n<title>153&#45;&gt;155</title>\n<path fill=\"none\" stroke=\"black\" d=\"M2892.19,-71.76C2895.54,-63.04 2899.01,-54.04 2902.11,-45.99\"/>\n<polygon fill=\"black\" stroke=\"black\" points=\"2905.47,-46.99 2905.8,-36.41 2898.94,-44.48 2905.47,-46.99\"/>\n</g>\n<!-- 185 -->\n<g id=\"node72\" class=\"node\">\n<title>185</title>\n<path fill=\"#399de5\" stroke=\"black\" d=\"M3065.5,-147.5C3065.5,-147.5 2967.5,-147.5 2967.5,-147.5 2961.5,-147.5 2955.5,-141.5 2955.5,-135.5 2955.5,-135.5 2955.5,-91.5 2955.5,-91.5 2955.5,-85.5 2961.5,-79.5 2967.5,-79.5 2967.5,-79.5 3065.5,-79.5 3065.5,-79.5 3071.5,-79.5 3077.5,-85.5 3077.5,-91.5 3077.5,-91.5 3077.5,-135.5 3077.5,-135.5 3077.5,-141.5 3071.5,-147.5 3065.5,-147.5\"/>\n<text text-anchor=\"middle\" x=\"3016.5\" y=\"-132.3\" font-family=\"Helvetica,sans-Serif\" font-size=\"14.00\">entropy = 0.0</text>\n<text text-anchor=\"middle\" x=\"3016.5\" y=\"-117.3\" font-family=\"Helvetica,sans-Serif\" font-size=\"14.00\">samples = 110</text>\n<text text-anchor=\"middle\" x=\"3016.5\" y=\"-102.3\" font-family=\"Helvetica,sans-Serif\" font-size=\"14.00\">value = [0, 110]</text>\n<text text-anchor=\"middle\" x=\"3016.5\" y=\"-87.3\" font-family=\"Helvetica,sans-Serif\" font-size=\"14.00\">class = heart_yes</text>\n</g>\n<!-- 184&#45;&gt;185 -->\n<g id=\"edge71\" class=\"edge\">\n<title>184&#45;&gt;185</title>\n<path fill=\"none\" stroke=\"black\" d=\"M3016.5,-190.91C3016.5,-180.2 3016.5,-168.62 3016.5,-157.78\"/>\n<polygon fill=\"black\" stroke=\"black\" points=\"3020,-157.67 3016.5,-147.67 3013,-157.67 3020,-157.67\"/>\n</g>\n<!-- 186 -->\n<g id=\"node73\" class=\"node\">\n<title>186</title>\n<path fill=\"#52a9e8\" stroke=\"black\" d=\"M3205.5,-147.5C3205.5,-147.5 3107.5,-147.5 3107.5,-147.5 3101.5,-147.5 3095.5,-141.5 3095.5,-135.5 3095.5,-135.5 3095.5,-91.5 3095.5,-91.5 3095.5,-85.5 3101.5,-79.5 3107.5,-79.5 3107.5,-79.5 3205.5,-79.5 3205.5,-79.5 3211.5,-79.5 3217.5,-85.5 3217.5,-91.5 3217.5,-91.5 3217.5,-135.5 3217.5,-135.5 3217.5,-141.5 3211.5,-147.5 3205.5,-147.5\"/>\n<text text-anchor=\"middle\" x=\"3156.5\" y=\"-132.3\" font-family=\"Helvetica,sans-Serif\" font-size=\"14.00\">entropy = 0.503</text>\n<text text-anchor=\"middle\" x=\"3156.5\" y=\"-117.3\" font-family=\"Helvetica,sans-Serif\" font-size=\"14.00\">samples = 45</text>\n<text text-anchor=\"middle\" x=\"3156.5\" y=\"-102.3\" font-family=\"Helvetica,sans-Serif\" font-size=\"14.00\">value = [5, 40]</text>\n<text text-anchor=\"middle\" x=\"3156.5\" y=\"-87.3\" font-family=\"Helvetica,sans-Serif\" font-size=\"14.00\">class = heart_yes</text>\n</g>\n<!-- 184&#45;&gt;186 -->\n<g id=\"edge72\" class=\"edge\">\n<title>184&#45;&gt;186</title>\n<path fill=\"none\" stroke=\"black\" d=\"M3065.07,-190.91C3079.33,-178.99 3094.91,-165.98 3109.09,-154.12\"/>\n<polygon fill=\"black\" stroke=\"black\" points=\"3111.38,-156.77 3116.81,-147.67 3106.9,-151.39 3111.38,-156.77\"/>\n</g>\n</g>\n</svg>\n",
            "text/plain": [
              "<graphviz.sources.Source at 0x7dffb6614040>"
            ]
          },
          "metadata": {}
        }
      ],
      "source": [
        "# TODO: create a DecisionTreeClassifier\n",
        "tree_over = DecisionTreeClassifier(criterion=\"entropy\", min_samples_split=100)\n",
        "\n",
        "# TODO: fit it to our data\n",
        "tree_over.fit(X_train, t_train)\n",
        "\n",
        "# Print the training and validation accuracy\n",
        "print(\"Training Accuracy:\", tree_over.score(X_train, t_train))\n",
        "print(\"Validation Accuracy:\", tree_over.score(X_valid, t_valid))\n",
        "\n",
        "# TODO: visualize the tree\n",
        "visualize_tree(tree_over)"
      ]
    },
    {
      "cell_type": "markdown",
      "id": "everyday-subdivision",
      "metadata": {
        "id": "everyday-subdivision"
      },
      "source": [
        "**Graded Task:** What value of `min_samples_split` did you choose to make the tree underfit, or overfit? Why do these values cause the graph to underfit, or overfit?"
      ]
    },
    {
      "cell_type": "code",
      "execution_count": null,
      "id": "straight-battery",
      "metadata": {
        "id": "straight-battery"
      },
      "outputs": [],
      "source": [
        "# I chose min_samples_split = 5000, which is the sample size for the whole\n",
        "# training dataset for underfit so that the model has little complexity. For\n",
        "# overfitting, I chose min_samples_split = 100 so that the tree can keep\n",
        "# splitting until it perfectly classifies all training data."
      ]
    },
    {
      "cell_type": "markdown",
      "id": "basic-sullivan",
      "metadata": {
        "id": "basic-sullivan"
      },
      "source": [
        "**Task:** What differences in training accuracy do you see between your underfitted and overfitted decision trees? Why might this be the case?"
      ]
    },
    {
      "cell_type": "code",
      "execution_count": null,
      "id": "about-candidate",
      "metadata": {
        "id": "about-candidate"
      },
      "outputs": [],
      "source": [
        "# underfitted decision trees have lower accuracy whereas overfitted decision\n",
        "# trees have higher accuracy."
      ]
    },
    {
      "cell_type": "markdown",
      "id": "applicable-drawing",
      "metadata": {
        "id": "applicable-drawing"
      },
      "source": [
        "## Part 3. Hyperparameter Tuning\n",
        "\n",
        "So far, we have experimented with two Decision Tree hyperparameters: `max_depth` and `min_samples_split`. Another hyperparameter we can vary is the `criterion` for measuring split quality. In lecture, and earlier in this lab, we used `entropy` as the criterion. Another criterion that Sklearn supports is `gini` (Gini impurity index). You don't need to know the implementation details behind this as we'll rely on Sklearn to compute it. However, if you are interested in learning more about this alternative impurity index, we encourage you to [read more about it](https://en.wikipedia.org/wiki/Gini_coefficient).\n",
        "\n",
        "Thus, our goal is now to figure out what combination of `max_depth`, `min_samples_split` and `criterion` results in the \"best\" decision tree. It is up to you to determine what \"best\" means in this context.\n",
        "\n",
        "**Graded Task:** Start by completing `build_all_models` based on the function specification.\n",
        "This function builds many trees, one for each combination of hyperparameters, and\n",
        "then compares them."
      ]
    },
    {
      "cell_type": "code",
      "execution_count": 70,
      "id": "experimental-crime",
      "metadata": {
        "id": "experimental-crime"
      },
      "outputs": [],
      "source": [
        "def build_all_models(max_depths,\n",
        "                     min_samples_split,\n",
        "                     criterion,\n",
        "                     X_train=X_train,\n",
        "                     t_train=t_train,\n",
        "                     X_valid=X_valid,\n",
        "                     t_valid=t_valid):\n",
        "    \"\"\"\n",
        "    Parameters:\n",
        "        `max_depths` - A list of values representing the max_depth values to be\n",
        "                       try as hyperparameter values\n",
        "        `min_samples_split` - An list of values representing the min_samples_split\n",
        "                       values to try as hyperpareameter values\n",
        "        `criterion` -  A string; either \"entropy\" or \"gini\"\n",
        "\n",
        "    Returns a dictionary, `out`, whose keys are the the hyperparameter choices, and whose values are\n",
        "    the training and validation accuracies (via the `score()` method).\n",
        "    In other words, out[(max_depth, min_samples_split)]['val'] = validation score and\n",
        "                    out[(max_depth, min_samples_split)]['train'] = training score\n",
        "    For that combination of (max_depth, min_samples_split) hyperparameters.\n",
        "    \"\"\"\n",
        "    out = {}\n",
        "\n",
        "    for d in max_depths:\n",
        "        for s in min_samples_split:\n",
        "            out[(d, s)] = {}\n",
        "            # Create a DecisionTreeClassifier based on the given hyperparameters and fit it to the data\n",
        "            tree = DecisionTreeClassifier(criterion=criterion, max_depth = d, min_samples_split=s)\n",
        "            tree.fit(X_train, t_train)\n",
        "\n",
        "            # TODO: store the validation and training scores in the `out` dictionary\n",
        "            out[(d, s)]['val'] =  tree.score(X_valid, t_valid)# TODO\n",
        "            out[(d, s)]['train'] = tree.score(X_train, t_train) # TODO\n",
        "    return out"
      ]
    },
    {
      "cell_type": "markdown",
      "id": "medical-indonesian",
      "metadata": {
        "id": "medical-indonesian"
      },
      "source": [
        "**Graded Task:** In this task, we will use an approach called **grid search** to\n",
        "tune hyperparameters: we will list possible values for each hyperparameter,\n",
        "and then attempt every combination of hyperparameter choices. In our case,\n",
        "we will start with some possible values for `max_depth`, `min_samples_split` and `criterion`. Then we will try all combinations\n",
        "of these hyperparameter choices.\n",
        "\n",
        "Complete the code below that performs grid search, by using `build_all_models`\n",
        "to build models and evaluate hyperparameter choices.\n",
        "Print the best parameters and corresponding scores (accuracy) for each of\n",
        "criterion=entropy and criterion=gini (i.e. you should have 2 print statements, 1 for each criterion)."
      ]
    },
    {
      "cell_type": "code",
      "execution_count": 71,
      "id": "roman-kingston",
      "metadata": {
        "id": "roman-kingston",
        "colab": {
          "base_uri": "https://localhost:8080/"
        },
        "outputId": "795508ee-eb0a-4c18-af68-eb568e6382ca"
      },
      "outputs": [
        {
          "output_type": "stream",
          "name": "stdout",
          "text": [
            "\n",
            "Using criterion entropy\n",
            "(5, 64) {'val': 0.742, 'train': 0.7426}\n",
            "\n",
            "Using criterion gini\n",
            "(1, 2) {'val': 0.6793333333333333, 'train': 0.6804}\n"
          ]
        }
      ],
      "source": [
        "# Hyperparameters values to try in our grid search\n",
        "criterions = [\"entropy\", \"gini\"]\n",
        "max_depths = [1, 5, 10, 15, 20, 25, 30, 50, 100]\n",
        "min_samples_split = [2, 4, 8, 16, 32, 64, 128, 256, 512, 1024]\n",
        "\n",
        "for criterion in criterions:\n",
        "    print(\"\\nUsing criterion {}\".format(criterion))\n",
        "    res = build_all_models(max_depths = max_depths, min_samples_split=min_samples_split, criterion = criterion) # TODO: call `build_all_models` for the given hyperparameters\n",
        "\n",
        "    # TODO: complete this loop which should search for the optimal\n",
        "    #  (max_depth, min_samples_split) given this criterion\n",
        "    # In this context, I think the best model means that the difference between\n",
        "    # validation accuracy and training accuracy should be as closest as it can.\n",
        "\n",
        "    diff = {}\n",
        "\n",
        "    for d, s in res:\n",
        "      diff[(d, s)] = abs(res[(d, s)]['val'] - res[(d, s)]['train'])\n",
        "\n",
        "    min_key = min(diff, key=diff.get)\n",
        "    print(min_key, res[min_key])\n",
        "\n"
      ]
    },
    {
      "cell_type": "markdown",
      "id": "useful-context",
      "metadata": {
        "id": "useful-context"
      },
      "source": [
        "## Part 4. Test accuracy\n",
        "\n",
        "**Task:** Use the optimal set of hyperparameters you previously discovered to fit a new Decision Tree model to the data. Report the test score."
      ]
    },
    {
      "cell_type": "code",
      "execution_count": 72,
      "id": "severe-forum",
      "metadata": {
        "id": "severe-forum",
        "colab": {
          "base_uri": "https://localhost:8080/",
          "height": 953
        },
        "outputId": "0333426d-c09a-4e69-8873-c8dd2513a74d"
      },
      "outputs": [
        {
          "output_type": "stream",
          "name": "stdout",
          "text": [
            "Testing Accuracy: 0.73\n"
          ]
        },
        {
          "output_type": "display_data",
          "data": {
            "image/svg+xml": "<?xml version=\"1.0\" encoding=\"UTF-8\" standalone=\"no\"?>\n<!DOCTYPE svg PUBLIC \"-//W3C//DTD SVG 1.1//EN\"\n \"http://www.w3.org/Graphics/SVG/1.1/DTD/svg11.dtd\">\n<!-- Generated by graphviz version 2.43.0 (0)\n -->\n<!-- Title: Tree Pages: 1 -->\n<svg width=\"3609pt\" height=\"671pt\"\n viewBox=\"0.00 0.00 3609.00 671.00\" xmlns=\"http://www.w3.org/2000/svg\" xmlns:xlink=\"http://www.w3.org/1999/xlink\">\n<g id=\"graph0\" class=\"graph\" transform=\"scale(1 1) rotate(0) translate(4 667)\">\n<title>Tree</title>\n<polygon fill=\"white\" stroke=\"transparent\" points=\"-4,4 -4,-667 3605,-667 3605,4 -4,4\"/>\n<!-- 0 -->\n<g id=\"node1\" class=\"node\">\n<title>0</title>\n<path fill=\"#fefcfb\" stroke=\"black\" d=\"M1985,-663C1985,-663 1869,-663 1869,-663 1863,-663 1857,-657 1857,-651 1857,-651 1857,-592 1857,-592 1857,-586 1863,-580 1869,-580 1869,-580 1985,-580 1985,-580 1991,-580 1997,-586 1997,-592 1997,-592 1997,-651 1997,-651 1997,-657 1991,-663 1985,-663\"/>\n<text text-anchor=\"middle\" x=\"1927\" y=\"-647.8\" font-family=\"Helvetica,sans-Serif\" font-size=\"14.00\">age &lt;= 64.5</text>\n<text text-anchor=\"middle\" x=\"1927\" y=\"-632.8\" font-family=\"Helvetica,sans-Serif\" font-size=\"14.00\">entropy = 1.0</text>\n<text text-anchor=\"middle\" x=\"1927\" y=\"-617.8\" font-family=\"Helvetica,sans-Serif\" font-size=\"14.00\">samples = 5000</text>\n<text text-anchor=\"middle\" x=\"1927\" y=\"-602.8\" font-family=\"Helvetica,sans-Serif\" font-size=\"14.00\">value = [2528, 2472]</text>\n<text text-anchor=\"middle\" x=\"1927\" y=\"-587.8\" font-family=\"Helvetica,sans-Serif\" font-size=\"14.00\">class = heart_no</text>\n</g>\n<!-- 1 -->\n<g id=\"node2\" class=\"node\">\n<title>1</title>\n<path fill=\"#f1be98\" stroke=\"black\" d=\"M1444,-544C1444,-544 1336,-544 1336,-544 1330,-544 1324,-538 1324,-532 1324,-532 1324,-473 1324,-473 1324,-467 1330,-461 1336,-461 1336,-461 1444,-461 1444,-461 1450,-461 1456,-467 1456,-473 1456,-473 1456,-532 1456,-532 1456,-538 1450,-544 1444,-544\"/>\n<text text-anchor=\"middle\" x=\"1390\" y=\"-528.8\" font-family=\"Helvetica,sans-Serif\" font-size=\"14.00\">chest_pain &lt;= 0.5</text>\n<text text-anchor=\"middle\" x=\"1390\" y=\"-513.8\" font-family=\"Helvetica,sans-Serif\" font-size=\"14.00\">entropy = 0.909</text>\n<text text-anchor=\"middle\" x=\"1390\" y=\"-498.8\" font-family=\"Helvetica,sans-Serif\" font-size=\"14.00\">samples = 2652</text>\n<text text-anchor=\"middle\" x=\"1390\" y=\"-483.8\" font-family=\"Helvetica,sans-Serif\" font-size=\"14.00\">value = [1791, 861]</text>\n<text text-anchor=\"middle\" x=\"1390\" y=\"-468.8\" font-family=\"Helvetica,sans-Serif\" font-size=\"14.00\">class = heart_no</text>\n</g>\n<!-- 0&#45;&gt;1 -->\n<g id=\"edge1\" class=\"edge\">\n<title>0&#45;&gt;1</title>\n<path fill=\"none\" stroke=\"black\" d=\"M1856.8,-605.2C1755.72,-583.18 1569.93,-542.7 1465.82,-520.02\"/>\n<polygon fill=\"black\" stroke=\"black\" points=\"1466.52,-516.59 1456.01,-517.88 1465.03,-523.43 1466.52,-516.59\"/>\n<text text-anchor=\"middle\" x=\"1469.52\" y=\"-535.22\" font-family=\"Helvetica,sans-Serif\" font-size=\"14.00\">True</text>\n</g>\n<!-- 30 -->\n<g id=\"node31\" class=\"node\">\n<title>30</title>\n<path fill=\"#94caf1\" stroke=\"black\" d=\"M2544,-544C2544,-544 2436,-544 2436,-544 2430,-544 2424,-538 2424,-532 2424,-532 2424,-473 2424,-473 2424,-467 2430,-461 2436,-461 2436,-461 2544,-461 2544,-461 2550,-461 2556,-467 2556,-473 2556,-473 2556,-532 2556,-532 2556,-538 2550,-544 2544,-544\"/>\n<text text-anchor=\"middle\" x=\"2490\" y=\"-528.8\" font-family=\"Helvetica,sans-Serif\" font-size=\"14.00\">chest_pain &lt;= 0.5</text>\n<text text-anchor=\"middle\" x=\"2490\" y=\"-513.8\" font-family=\"Helvetica,sans-Serif\" font-size=\"14.00\">entropy = 0.898</text>\n<text text-anchor=\"middle\" x=\"2490\" y=\"-498.8\" font-family=\"Helvetica,sans-Serif\" font-size=\"14.00\">samples = 2348</text>\n<text text-anchor=\"middle\" x=\"2490\" y=\"-483.8\" font-family=\"Helvetica,sans-Serif\" font-size=\"14.00\">value = [737, 1611]</text>\n<text text-anchor=\"middle\" x=\"2490\" y=\"-468.8\" font-family=\"Helvetica,sans-Serif\" font-size=\"14.00\">class = heart_yes</text>\n</g>\n<!-- 0&#45;&gt;30 -->\n<g id=\"edge30\" class=\"edge\">\n<title>0&#45;&gt;30</title>\n<path fill=\"none\" stroke=\"black\" d=\"M1997.17,-605.92C2103.36,-583.85 2304.11,-542.13 2413.77,-519.34\"/>\n<polygon fill=\"black\" stroke=\"black\" points=\"2414.69,-522.72 2423.77,-517.26 2413.27,-515.87 2414.69,-522.72\"/>\n<text text-anchor=\"middle\" x=\"2410.06\" y=\"-534.47\" font-family=\"Helvetica,sans-Serif\" font-size=\"14.00\">False</text>\n</g>\n<!-- 2 -->\n<g id=\"node3\" class=\"node\">\n<title>2</title>\n<path fill=\"#eca36f\" stroke=\"black\" d=\"M624,-425C624,-425 516,-425 516,-425 510,-425 504,-419 504,-413 504,-413 504,-354 504,-354 504,-348 510,-342 516,-342 516,-342 624,-342 624,-342 630,-342 636,-348 636,-354 636,-354 636,-413 636,-413 636,-419 630,-425 624,-425\"/>\n<text text-anchor=\"middle\" x=\"570\" y=\"-409.8\" font-family=\"Helvetica,sans-Serif\" font-size=\"14.00\">age &lt;= 47.5</text>\n<text text-anchor=\"middle\" x=\"570\" y=\"-394.8\" font-family=\"Helvetica,sans-Serif\" font-size=\"14.00\">entropy = 0.747</text>\n<text text-anchor=\"middle\" x=\"570\" y=\"-379.8\" font-family=\"Helvetica,sans-Serif\" font-size=\"14.00\">samples = 1818</text>\n<text text-anchor=\"middle\" x=\"570\" y=\"-364.8\" font-family=\"Helvetica,sans-Serif\" font-size=\"14.00\">value = [1431, 387]</text>\n<text text-anchor=\"middle\" x=\"570\" y=\"-349.8\" font-family=\"Helvetica,sans-Serif\" font-size=\"14.00\">class = heart_no</text>\n</g>\n<!-- 1&#45;&gt;2 -->\n<g id=\"edge2\" class=\"edge\">\n<title>1&#45;&gt;2</title>\n<path fill=\"none\" stroke=\"black\" d=\"M1323.94,-492.07C1173.55,-470.62 806.34,-418.22 646.47,-395.41\"/>\n<polygon fill=\"black\" stroke=\"black\" points=\"646.64,-391.9 636.24,-393.95 645.65,-398.83 646.64,-391.9\"/>\n</g>\n<!-- 15 -->\n<g id=\"node16\" class=\"node\">\n<title>15</title>\n<path fill=\"#cfe7f9\" stroke=\"black\" d=\"M1440.5,-425C1440.5,-425 1339.5,-425 1339.5,-425 1333.5,-425 1327.5,-419 1327.5,-413 1327.5,-413 1327.5,-354 1327.5,-354 1327.5,-348 1333.5,-342 1339.5,-342 1339.5,-342 1440.5,-342 1440.5,-342 1446.5,-342 1452.5,-348 1452.5,-354 1452.5,-354 1452.5,-413 1452.5,-413 1452.5,-419 1446.5,-425 1440.5,-425\"/>\n<text text-anchor=\"middle\" x=\"1390\" y=\"-409.8\" font-family=\"Helvetica,sans-Serif\" font-size=\"14.00\">age &lt;= 56.5</text>\n<text text-anchor=\"middle\" x=\"1390\" y=\"-394.8\" font-family=\"Helvetica,sans-Serif\" font-size=\"14.00\">entropy = 0.986</text>\n<text text-anchor=\"middle\" x=\"1390\" y=\"-379.8\" font-family=\"Helvetica,sans-Serif\" font-size=\"14.00\">samples = 834</text>\n<text text-anchor=\"middle\" x=\"1390\" y=\"-364.8\" font-family=\"Helvetica,sans-Serif\" font-size=\"14.00\">value = [360, 474]</text>\n<text text-anchor=\"middle\" x=\"1390\" y=\"-349.8\" font-family=\"Helvetica,sans-Serif\" font-size=\"14.00\">class = heart_yes</text>\n</g>\n<!-- 1&#45;&gt;15 -->\n<g id=\"edge15\" class=\"edge\">\n<title>1&#45;&gt;15</title>\n<path fill=\"none\" stroke=\"black\" d=\"M1390,-460.91C1390,-452.65 1390,-443.86 1390,-435.3\"/>\n<polygon fill=\"black\" stroke=\"black\" points=\"1393.5,-435.02 1390,-425.02 1386.5,-435.02 1393.5,-435.02\"/>\n</g>\n<!-- 3 -->\n<g id=\"node4\" class=\"node\">\n<title>3</title>\n<path fill=\"#e68641\" stroke=\"black\" d=\"M287,-306C287,-306 161,-306 161,-306 155,-306 149,-300 149,-294 149,-294 149,-235 149,-235 149,-229 155,-223 161,-223 161,-223 287,-223 287,-223 293,-223 299,-229 299,-235 299,-235 299,-294 299,-294 299,-300 293,-306 287,-306\"/>\n<text text-anchor=\"middle\" x=\"224\" y=\"-290.8\" font-family=\"Helvetica,sans-Serif\" font-size=\"14.00\">gender_female &lt;= 0.5</text>\n<text text-anchor=\"middle\" x=\"224\" y=\"-275.8\" font-family=\"Helvetica,sans-Serif\" font-size=\"14.00\">entropy = 0.232</text>\n<text text-anchor=\"middle\" x=\"224\" y=\"-260.8\" font-family=\"Helvetica,sans-Serif\" font-size=\"14.00\">samples = 529</text>\n<text text-anchor=\"middle\" x=\"224\" y=\"-245.8\" font-family=\"Helvetica,sans-Serif\" font-size=\"14.00\">value = [509, 20]</text>\n<text text-anchor=\"middle\" x=\"224\" y=\"-230.8\" font-family=\"Helvetica,sans-Serif\" font-size=\"14.00\">class = heart_no</text>\n</g>\n<!-- 2&#45;&gt;3 -->\n<g id=\"edge3\" class=\"edge\">\n<title>2&#45;&gt;3</title>\n<path fill=\"none\" stroke=\"black\" d=\"M503.7,-360.08C448.31,-341.35 368.97,-314.52 308.94,-294.22\"/>\n<polygon fill=\"black\" stroke=\"black\" points=\"309.69,-290.78 299.1,-290.89 307.45,-297.41 309.69,-290.78\"/>\n</g>\n<!-- 8 -->\n<g id=\"node9\" class=\"node\">\n<title>8</title>\n<path fill=\"#efb388\" stroke=\"black\" d=\"M635.5,-306C635.5,-306 504.5,-306 504.5,-306 498.5,-306 492.5,-300 492.5,-294 492.5,-294 492.5,-235 492.5,-235 492.5,-229 498.5,-223 504.5,-223 504.5,-223 635.5,-223 635.5,-223 641.5,-223 647.5,-229 647.5,-235 647.5,-235 647.5,-294 647.5,-294 647.5,-300 641.5,-306 635.5,-306\"/>\n<text text-anchor=\"middle\" x=\"570\" y=\"-290.8\" font-family=\"Helvetica,sans-Serif\" font-size=\"14.00\">family_income &lt;= 4.88</text>\n<text text-anchor=\"middle\" x=\"570\" y=\"-275.8\" font-family=\"Helvetica,sans-Serif\" font-size=\"14.00\">entropy = 0.862</text>\n<text text-anchor=\"middle\" x=\"570\" y=\"-260.8\" font-family=\"Helvetica,sans-Serif\" font-size=\"14.00\">samples = 1289</text>\n<text text-anchor=\"middle\" x=\"570\" y=\"-245.8\" font-family=\"Helvetica,sans-Serif\" font-size=\"14.00\">value = [922, 367]</text>\n<text text-anchor=\"middle\" x=\"570\" y=\"-230.8\" font-family=\"Helvetica,sans-Serif\" font-size=\"14.00\">class = heart_no</text>\n</g>\n<!-- 2&#45;&gt;8 -->\n<g id=\"edge8\" class=\"edge\">\n<title>2&#45;&gt;8</title>\n<path fill=\"none\" stroke=\"black\" d=\"M570,-341.91C570,-333.65 570,-324.86 570,-316.3\"/>\n<polygon fill=\"black\" stroke=\"black\" points=\"573.5,-316.02 570,-306.02 566.5,-316.02 573.5,-316.02\"/>\n</g>\n<!-- 4 -->\n<g id=\"node5\" class=\"node\">\n<title>4</title>\n<path fill=\"#e58139\" stroke=\"black\" d=\"M104,-179.5C104,-179.5 12,-179.5 12,-179.5 6,-179.5 0,-173.5 0,-167.5 0,-167.5 0,-123.5 0,-123.5 0,-117.5 6,-111.5 12,-111.5 12,-111.5 104,-111.5 104,-111.5 110,-111.5 116,-117.5 116,-123.5 116,-123.5 116,-167.5 116,-167.5 116,-173.5 110,-179.5 104,-179.5\"/>\n<text text-anchor=\"middle\" x=\"58\" y=\"-164.3\" font-family=\"Helvetica,sans-Serif\" font-size=\"14.00\">entropy = 0.0</text>\n<text text-anchor=\"middle\" x=\"58\" y=\"-149.3\" font-family=\"Helvetica,sans-Serif\" font-size=\"14.00\">samples = 235</text>\n<text text-anchor=\"middle\" x=\"58\" y=\"-134.3\" font-family=\"Helvetica,sans-Serif\" font-size=\"14.00\">value = [235, 0]</text>\n<text text-anchor=\"middle\" x=\"58\" y=\"-119.3\" font-family=\"Helvetica,sans-Serif\" font-size=\"14.00\">class = heart_no</text>\n</g>\n<!-- 3&#45;&gt;4 -->\n<g id=\"edge4\" class=\"edge\">\n<title>3&#45;&gt;4</title>\n<path fill=\"none\" stroke=\"black\" d=\"M166.41,-222.91C149.19,-210.77 130.35,-197.49 113.28,-185.46\"/>\n<polygon fill=\"black\" stroke=\"black\" points=\"115.25,-182.57 105.06,-179.67 111.21,-188.29 115.25,-182.57\"/>\n</g>\n<!-- 5 -->\n<g id=\"node6\" class=\"node\">\n<title>5</title>\n<path fill=\"#e78a47\" stroke=\"black\" d=\"M302,-187C302,-187 146,-187 146,-187 140,-187 134,-181 134,-175 134,-175 134,-116 134,-116 134,-110 140,-104 146,-104 146,-104 302,-104 302,-104 308,-104 314,-110 314,-116 314,-116 314,-175 314,-175 314,-181 308,-187 302,-187\"/>\n<text text-anchor=\"middle\" x=\"224\" y=\"-171.8\" font-family=\"Helvetica,sans-Serif\" font-size=\"14.00\">blood_cholesterol &lt;= 5.315</text>\n<text text-anchor=\"middle\" x=\"224\" y=\"-156.8\" font-family=\"Helvetica,sans-Serif\" font-size=\"14.00\">entropy = 0.359</text>\n<text text-anchor=\"middle\" x=\"224\" y=\"-141.8\" font-family=\"Helvetica,sans-Serif\" font-size=\"14.00\">samples = 294</text>\n<text text-anchor=\"middle\" x=\"224\" y=\"-126.8\" font-family=\"Helvetica,sans-Serif\" font-size=\"14.00\">value = [274, 20]</text>\n<text text-anchor=\"middle\" x=\"224\" y=\"-111.8\" font-family=\"Helvetica,sans-Serif\" font-size=\"14.00\">class = heart_no</text>\n</g>\n<!-- 3&#45;&gt;5 -->\n<g id=\"edge5\" class=\"edge\">\n<title>3&#45;&gt;5</title>\n<path fill=\"none\" stroke=\"black\" d=\"M224,-222.91C224,-214.65 224,-205.86 224,-197.3\"/>\n<polygon fill=\"black\" stroke=\"black\" points=\"227.5,-197.02 224,-187.02 220.5,-197.02 227.5,-197.02\"/>\n</g>\n<!-- 6 -->\n<g id=\"node7\" class=\"node\">\n<title>6</title>\n<path fill=\"#e68540\" stroke=\"black\" d=\"M136,-68C136,-68 44,-68 44,-68 38,-68 32,-62 32,-56 32,-56 32,-12 32,-12 32,-6 38,0 44,0 44,0 136,0 136,0 142,0 148,-6 148,-12 148,-12 148,-56 148,-56 148,-62 142,-68 136,-68\"/>\n<text text-anchor=\"middle\" x=\"90\" y=\"-52.8\" font-family=\"Helvetica,sans-Serif\" font-size=\"14.00\">entropy = 0.215</text>\n<text text-anchor=\"middle\" x=\"90\" y=\"-37.8\" font-family=\"Helvetica,sans-Serif\" font-size=\"14.00\">samples = 234</text>\n<text text-anchor=\"middle\" x=\"90\" y=\"-22.8\" font-family=\"Helvetica,sans-Serif\" font-size=\"14.00\">value = [226, 8]</text>\n<text text-anchor=\"middle\" x=\"90\" y=\"-7.8\" font-family=\"Helvetica,sans-Serif\" font-size=\"14.00\">class = heart_no</text>\n</g>\n<!-- 5&#45;&gt;6 -->\n<g id=\"edge6\" class=\"edge\">\n<title>5&#45;&gt;6</title>\n<path fill=\"none\" stroke=\"black\" d=\"M174.1,-103.73C162.5,-94.24 150.15,-84.16 138.6,-74.72\"/>\n<polygon fill=\"black\" stroke=\"black\" points=\"140.71,-71.92 130.75,-68.3 136.28,-77.34 140.71,-71.92\"/>\n</g>\n<!-- 7 -->\n<g id=\"node8\" class=\"node\">\n<title>7</title>\n<path fill=\"#eca06a\" stroke=\"black\" d=\"M270,-68C270,-68 178,-68 178,-68 172,-68 166,-62 166,-56 166,-56 166,-12 166,-12 166,-6 172,0 178,0 178,0 270,0 270,0 276,0 282,-6 282,-12 282,-12 282,-56 282,-56 282,-62 276,-68 270,-68\"/>\n<text text-anchor=\"middle\" x=\"224\" y=\"-52.8\" font-family=\"Helvetica,sans-Serif\" font-size=\"14.00\">entropy = 0.722</text>\n<text text-anchor=\"middle\" x=\"224\" y=\"-37.8\" font-family=\"Helvetica,sans-Serif\" font-size=\"14.00\">samples = 60</text>\n<text text-anchor=\"middle\" x=\"224\" y=\"-22.8\" font-family=\"Helvetica,sans-Serif\" font-size=\"14.00\">value = [48, 12]</text>\n<text text-anchor=\"middle\" x=\"224\" y=\"-7.8\" font-family=\"Helvetica,sans-Serif\" font-size=\"14.00\">class = heart_no</text>\n</g>\n<!-- 5&#45;&gt;7 -->\n<g id=\"edge7\" class=\"edge\">\n<title>5&#45;&gt;7</title>\n<path fill=\"none\" stroke=\"black\" d=\"M224,-103.73C224,-95.52 224,-86.86 224,-78.56\"/>\n<polygon fill=\"black\" stroke=\"black\" points=\"227.5,-78.3 224,-68.3 220.5,-78.3 227.5,-78.3\"/>\n</g>\n<!-- 9 -->\n<g id=\"node10\" class=\"node\">\n<title>9</title>\n<path fill=\"#f3c4a3\" stroke=\"black\" d=\"M555.5,-187C555.5,-187 424.5,-187 424.5,-187 418.5,-187 412.5,-181 412.5,-175 412.5,-175 412.5,-116 412.5,-116 412.5,-110 418.5,-104 424.5,-104 424.5,-104 555.5,-104 555.5,-104 561.5,-104 567.5,-110 567.5,-116 567.5,-116 567.5,-175 567.5,-175 567.5,-181 561.5,-187 555.5,-187\"/>\n<text text-anchor=\"middle\" x=\"490\" y=\"-171.8\" font-family=\"Helvetica,sans-Serif\" font-size=\"14.00\">family_income &lt;= 2.92</text>\n<text text-anchor=\"middle\" x=\"490\" y=\"-156.8\" font-family=\"Helvetica,sans-Serif\" font-size=\"14.00\">entropy = 0.932</text>\n<text text-anchor=\"middle\" x=\"490\" y=\"-141.8\" font-family=\"Helvetica,sans-Serif\" font-size=\"14.00\">samples = 1026</text>\n<text text-anchor=\"middle\" x=\"490\" y=\"-126.8\" font-family=\"Helvetica,sans-Serif\" font-size=\"14.00\">value = [669, 357]</text>\n<text text-anchor=\"middle\" x=\"490\" y=\"-111.8\" font-family=\"Helvetica,sans-Serif\" font-size=\"14.00\">class = heart_no</text>\n</g>\n<!-- 8&#45;&gt;9 -->\n<g id=\"edge9\" class=\"edge\">\n<title>8&#45;&gt;9</title>\n<path fill=\"none\" stroke=\"black\" d=\"M542.24,-222.91C536.16,-214.01 529.66,-204.51 523.39,-195.33\"/>\n<polygon fill=\"black\" stroke=\"black\" points=\"526.24,-193.3 517.71,-187.02 520.46,-197.25 526.24,-193.3\"/>\n</g>\n<!-- 12 -->\n<g id=\"node13\" class=\"node\">\n<title>12</title>\n<path fill=\"#e68641\" stroke=\"black\" d=\"M702,-187C702,-187 598,-187 598,-187 592,-187 586,-181 586,-175 586,-175 586,-116 586,-116 586,-110 592,-104 598,-104 598,-104 702,-104 702,-104 708,-104 714,-110 714,-116 714,-116 714,-175 714,-175 714,-181 708,-187 702,-187\"/>\n<text text-anchor=\"middle\" x=\"650\" y=\"-171.8\" font-family=\"Helvetica,sans-Serif\" font-size=\"14.00\">re_hispanic &lt;= 0.5</text>\n<text text-anchor=\"middle\" x=\"650\" y=\"-156.8\" font-family=\"Helvetica,sans-Serif\" font-size=\"14.00\">entropy = 0.233</text>\n<text text-anchor=\"middle\" x=\"650\" y=\"-141.8\" font-family=\"Helvetica,sans-Serif\" font-size=\"14.00\">samples = 263</text>\n<text text-anchor=\"middle\" x=\"650\" y=\"-126.8\" font-family=\"Helvetica,sans-Serif\" font-size=\"14.00\">value = [253, 10]</text>\n<text text-anchor=\"middle\" x=\"650\" y=\"-111.8\" font-family=\"Helvetica,sans-Serif\" font-size=\"14.00\">class = heart_no</text>\n</g>\n<!-- 8&#45;&gt;12 -->\n<g id=\"edge12\" class=\"edge\">\n<title>8&#45;&gt;12</title>\n<path fill=\"none\" stroke=\"black\" d=\"M597.76,-222.91C603.84,-214.01 610.34,-204.51 616.61,-195.33\"/>\n<polygon fill=\"black\" stroke=\"black\" points=\"619.54,-197.25 622.29,-187.02 613.76,-193.3 619.54,-197.25\"/>\n</g>\n<!-- 10 -->\n<g id=\"node11\" class=\"node\">\n<title>10</title>\n<path fill=\"#f5cfb4\" stroke=\"black\" d=\"M413.5,-68C413.5,-68 312.5,-68 312.5,-68 306.5,-68 300.5,-62 300.5,-56 300.5,-56 300.5,-12 300.5,-12 300.5,-6 306.5,0 312.5,0 312.5,0 413.5,0 413.5,0 419.5,0 425.5,-6 425.5,-12 425.5,-12 425.5,-56 425.5,-56 425.5,-62 419.5,-68 413.5,-68\"/>\n<text text-anchor=\"middle\" x=\"363\" y=\"-52.8\" font-family=\"Helvetica,sans-Serif\" font-size=\"14.00\">entropy = 0.96</text>\n<text text-anchor=\"middle\" x=\"363\" y=\"-37.8\" font-family=\"Helvetica,sans-Serif\" font-size=\"14.00\">samples = 812</text>\n<text text-anchor=\"middle\" x=\"363\" y=\"-22.8\" font-family=\"Helvetica,sans-Serif\" font-size=\"14.00\">value = [501, 311]</text>\n<text text-anchor=\"middle\" x=\"363\" y=\"-7.8\" font-family=\"Helvetica,sans-Serif\" font-size=\"14.00\">class = heart_no</text>\n</g>\n<!-- 9&#45;&gt;10 -->\n<g id=\"edge10\" class=\"edge\">\n<title>9&#45;&gt;10</title>\n<path fill=\"none\" stroke=\"black\" d=\"M442.71,-103.73C431.81,-94.33 420.24,-84.35 409.38,-74.99\"/>\n<polygon fill=\"black\" stroke=\"black\" points=\"411.48,-72.18 401.62,-68.3 406.91,-77.48 411.48,-72.18\"/>\n</g>\n<!-- 11 -->\n<g id=\"node12\" class=\"node\">\n<title>11</title>\n<path fill=\"#eca46f\" stroke=\"black\" d=\"M548.5,-68C548.5,-68 455.5,-68 455.5,-68 449.5,-68 443.5,-62 443.5,-56 443.5,-56 443.5,-12 443.5,-12 443.5,-6 449.5,0 455.5,0 455.5,0 548.5,0 548.5,0 554.5,0 560.5,-6 560.5,-12 560.5,-12 560.5,-56 560.5,-56 560.5,-62 554.5,-68 548.5,-68\"/>\n<text text-anchor=\"middle\" x=\"502\" y=\"-52.8\" font-family=\"Helvetica,sans-Serif\" font-size=\"14.00\">entropy = 0.751</text>\n<text text-anchor=\"middle\" x=\"502\" y=\"-37.8\" font-family=\"Helvetica,sans-Serif\" font-size=\"14.00\">samples = 214</text>\n<text text-anchor=\"middle\" x=\"502\" y=\"-22.8\" font-family=\"Helvetica,sans-Serif\" font-size=\"14.00\">value = [168, 46]</text>\n<text text-anchor=\"middle\" x=\"502\" y=\"-7.8\" font-family=\"Helvetica,sans-Serif\" font-size=\"14.00\">class = heart_no</text>\n</g>\n<!-- 9&#45;&gt;11 -->\n<g id=\"edge11\" class=\"edge\">\n<title>9&#45;&gt;11</title>\n<path fill=\"none\" stroke=\"black\" d=\"M494.47,-103.73C495.38,-95.43 496.34,-86.67 497.26,-78.28\"/>\n<polygon fill=\"black\" stroke=\"black\" points=\"500.74,-78.62 498.35,-68.3 493.78,-77.86 500.74,-78.62\"/>\n</g>\n<!-- 13 -->\n<g id=\"node14\" class=\"node\">\n<title>13</title>\n<path fill=\"#e58139\" stroke=\"black\" d=\"M683,-68C683,-68 591,-68 591,-68 585,-68 579,-62 579,-56 579,-56 579,-12 579,-12 579,-6 585,0 591,0 591,0 683,0 683,0 689,0 695,-6 695,-12 695,-12 695,-56 695,-56 695,-62 689,-68 683,-68\"/>\n<text text-anchor=\"middle\" x=\"637\" y=\"-52.8\" font-family=\"Helvetica,sans-Serif\" font-size=\"14.00\">entropy = 0.0</text>\n<text text-anchor=\"middle\" x=\"637\" y=\"-37.8\" font-family=\"Helvetica,sans-Serif\" font-size=\"14.00\">samples = 218</text>\n<text text-anchor=\"middle\" x=\"637\" y=\"-22.8\" font-family=\"Helvetica,sans-Serif\" font-size=\"14.00\">value = [218, 0]</text>\n<text text-anchor=\"middle\" x=\"637\" y=\"-7.8\" font-family=\"Helvetica,sans-Serif\" font-size=\"14.00\">class = heart_no</text>\n</g>\n<!-- 12&#45;&gt;13 -->\n<g id=\"edge13\" class=\"edge\">\n<title>12&#45;&gt;13</title>\n<path fill=\"none\" stroke=\"black\" d=\"M645.16,-103.73C644.17,-95.43 643.13,-86.67 642.14,-78.28\"/>\n<polygon fill=\"black\" stroke=\"black\" points=\"645.61,-77.82 640.95,-68.3 638.66,-78.64 645.61,-77.82\"/>\n</g>\n<!-- 14 -->\n<g id=\"node15\" class=\"node\">\n<title>14</title>\n<path fill=\"#eca572\" stroke=\"black\" d=\"M817,-68C817,-68 725,-68 725,-68 719,-68 713,-62 713,-56 713,-56 713,-12 713,-12 713,-6 719,0 725,0 725,0 817,0 817,0 823,0 829,-6 829,-12 829,-12 829,-56 829,-56 829,-62 823,-68 817,-68\"/>\n<text text-anchor=\"middle\" x=\"771\" y=\"-52.8\" font-family=\"Helvetica,sans-Serif\" font-size=\"14.00\">entropy = 0.764</text>\n<text text-anchor=\"middle\" x=\"771\" y=\"-37.8\" font-family=\"Helvetica,sans-Serif\" font-size=\"14.00\">samples = 45</text>\n<text text-anchor=\"middle\" x=\"771\" y=\"-22.8\" font-family=\"Helvetica,sans-Serif\" font-size=\"14.00\">value = [35, 10]</text>\n<text text-anchor=\"middle\" x=\"771\" y=\"-7.8\" font-family=\"Helvetica,sans-Serif\" font-size=\"14.00\">class = heart_no</text>\n</g>\n<!-- 12&#45;&gt;14 -->\n<g id=\"edge14\" class=\"edge\">\n<title>12&#45;&gt;14</title>\n<path fill=\"none\" stroke=\"black\" d=\"M695.06,-103.73C705.34,-94.42 716.25,-84.54 726.51,-75.26\"/>\n<polygon fill=\"black\" stroke=\"black\" points=\"729.14,-77.6 734.2,-68.3 724.44,-72.41 729.14,-77.6\"/>\n</g>\n<!-- 16 -->\n<g id=\"node17\" class=\"node\">\n<title>16</title>\n<path fill=\"#fae6d7\" stroke=\"black\" d=\"M1343.5,-306C1343.5,-306 1212.5,-306 1212.5,-306 1206.5,-306 1200.5,-300 1200.5,-294 1200.5,-294 1200.5,-235 1200.5,-235 1200.5,-229 1206.5,-223 1212.5,-223 1212.5,-223 1343.5,-223 1343.5,-223 1349.5,-223 1355.5,-229 1355.5,-235 1355.5,-235 1355.5,-294 1355.5,-294 1355.5,-300 1349.5,-306 1343.5,-306\"/>\n<text text-anchor=\"middle\" x=\"1278\" y=\"-290.8\" font-family=\"Helvetica,sans-Serif\" font-size=\"14.00\">family_income &lt;= 4.17</text>\n<text text-anchor=\"middle\" x=\"1278\" y=\"-275.8\" font-family=\"Helvetica,sans-Serif\" font-size=\"14.00\">entropy = 0.991</text>\n<text text-anchor=\"middle\" x=\"1278\" y=\"-260.8\" font-family=\"Helvetica,sans-Serif\" font-size=\"14.00\">samples = 448</text>\n<text text-anchor=\"middle\" x=\"1278\" y=\"-245.8\" font-family=\"Helvetica,sans-Serif\" font-size=\"14.00\">value = [249, 199]</text>\n<text text-anchor=\"middle\" x=\"1278\" y=\"-230.8\" font-family=\"Helvetica,sans-Serif\" font-size=\"14.00\">class = heart_no</text>\n</g>\n<!-- 15&#45;&gt;16 -->\n<g id=\"edge16\" class=\"edge\">\n<title>15&#45;&gt;16</title>\n<path fill=\"none\" stroke=\"black\" d=\"M1351.14,-341.91C1342.37,-332.74 1332.97,-322.93 1323.94,-313.49\"/>\n<polygon fill=\"black\" stroke=\"black\" points=\"1326.23,-310.82 1316.79,-306.02 1321.18,-315.66 1326.23,-310.82\"/>\n</g>\n<!-- 23 -->\n<g id=\"node24\" class=\"node\">\n<title>23</title>\n<path fill=\"#89c5ef\" stroke=\"black\" d=\"M1552.5,-306C1552.5,-306 1451.5,-306 1451.5,-306 1445.5,-306 1439.5,-300 1439.5,-294 1439.5,-294 1439.5,-235 1439.5,-235 1439.5,-229 1445.5,-223 1451.5,-223 1451.5,-223 1552.5,-223 1552.5,-223 1558.5,-223 1564.5,-229 1564.5,-235 1564.5,-235 1564.5,-294 1564.5,-294 1564.5,-300 1558.5,-306 1552.5,-306\"/>\n<text text-anchor=\"middle\" x=\"1502\" y=\"-290.8\" font-family=\"Helvetica,sans-Serif\" font-size=\"14.00\">age &lt;= 58.5</text>\n<text text-anchor=\"middle\" x=\"1502\" y=\"-275.8\" font-family=\"Helvetica,sans-Serif\" font-size=\"14.00\">entropy = 0.866</text>\n<text text-anchor=\"middle\" x=\"1502\" y=\"-260.8\" font-family=\"Helvetica,sans-Serif\" font-size=\"14.00\">samples = 386</text>\n<text text-anchor=\"middle\" x=\"1502\" y=\"-245.8\" font-family=\"Helvetica,sans-Serif\" font-size=\"14.00\">value = [111, 275]</text>\n<text text-anchor=\"middle\" x=\"1502\" y=\"-230.8\" font-family=\"Helvetica,sans-Serif\" font-size=\"14.00\">class = heart_yes</text>\n</g>\n<!-- 15&#45;&gt;23 -->\n<g id=\"edge23\" class=\"edge\">\n<title>15&#45;&gt;23</title>\n<path fill=\"none\" stroke=\"black\" d=\"M1428.86,-341.91C1437.63,-332.74 1447.03,-322.93 1456.06,-313.49\"/>\n<polygon fill=\"black\" stroke=\"black\" points=\"1458.82,-315.66 1463.21,-306.02 1453.77,-310.82 1458.82,-315.66\"/>\n</g>\n<!-- 17 -->\n<g id=\"node18\" class=\"node\">\n<title>17</title>\n<path fill=\"#f9fcfe\" stroke=\"black\" d=\"M1094.5,-187C1094.5,-187 993.5,-187 993.5,-187 987.5,-187 981.5,-181 981.5,-175 981.5,-175 981.5,-116 981.5,-116 981.5,-110 987.5,-104 993.5,-104 993.5,-104 1094.5,-104 1094.5,-104 1100.5,-104 1106.5,-110 1106.5,-116 1106.5,-116 1106.5,-175 1106.5,-175 1106.5,-181 1100.5,-187 1094.5,-187\"/>\n<text text-anchor=\"middle\" x=\"1044\" y=\"-171.8\" font-family=\"Helvetica,sans-Serif\" font-size=\"14.00\">age &lt;= 42.5</text>\n<text text-anchor=\"middle\" x=\"1044\" y=\"-156.8\" font-family=\"Helvetica,sans-Serif\" font-size=\"14.00\">entropy = 1.0</text>\n<text text-anchor=\"middle\" x=\"1044\" y=\"-141.8\" font-family=\"Helvetica,sans-Serif\" font-size=\"14.00\">samples = 380</text>\n<text text-anchor=\"middle\" x=\"1044\" y=\"-126.8\" font-family=\"Helvetica,sans-Serif\" font-size=\"14.00\">value = [187, 193]</text>\n<text text-anchor=\"middle\" x=\"1044\" y=\"-111.8\" font-family=\"Helvetica,sans-Serif\" font-size=\"14.00\">class = heart_yes</text>\n</g>\n<!-- 16&#45;&gt;17 -->\n<g id=\"edge17\" class=\"edge\">\n<title>16&#45;&gt;17</title>\n<path fill=\"none\" stroke=\"black\" d=\"M1200.41,-224.7C1173.03,-211.02 1142.41,-195.7 1115.56,-182.28\"/>\n<polygon fill=\"black\" stroke=\"black\" points=\"1117.12,-179.14 1106.61,-177.8 1113.99,-185.41 1117.12,-179.14\"/>\n</g>\n<!-- 20 -->\n<g id=\"node21\" class=\"node\">\n<title>20</title>\n<path fill=\"#e88d4c\" stroke=\"black\" d=\"M1363.5,-187C1363.5,-187 1192.5,-187 1192.5,-187 1186.5,-187 1180.5,-181 1180.5,-175 1180.5,-175 1180.5,-116 1180.5,-116 1180.5,-110 1186.5,-104 1192.5,-104 1192.5,-104 1363.5,-104 1363.5,-104 1369.5,-104 1375.5,-110 1375.5,-116 1375.5,-116 1375.5,-175 1375.5,-175 1375.5,-181 1369.5,-187 1363.5,-187\"/>\n<text text-anchor=\"middle\" x=\"1278\" y=\"-171.8\" font-family=\"Helvetica,sans-Serif\" font-size=\"14.00\">blood_pressure_sys &lt;= 159.0</text>\n<text text-anchor=\"middle\" x=\"1278\" y=\"-156.8\" font-family=\"Helvetica,sans-Serif\" font-size=\"14.00\">entropy = 0.431</text>\n<text text-anchor=\"middle\" x=\"1278\" y=\"-141.8\" font-family=\"Helvetica,sans-Serif\" font-size=\"14.00\">samples = 68</text>\n<text text-anchor=\"middle\" x=\"1278\" y=\"-126.8\" font-family=\"Helvetica,sans-Serif\" font-size=\"14.00\">value = [62, 6]</text>\n<text text-anchor=\"middle\" x=\"1278\" y=\"-111.8\" font-family=\"Helvetica,sans-Serif\" font-size=\"14.00\">class = heart_no</text>\n</g>\n<!-- 16&#45;&gt;20 -->\n<g id=\"edge20\" class=\"edge\">\n<title>16&#45;&gt;20</title>\n<path fill=\"none\" stroke=\"black\" d=\"M1278,-222.91C1278,-214.65 1278,-205.86 1278,-197.3\"/>\n<polygon fill=\"black\" stroke=\"black\" points=\"1281.5,-197.02 1278,-187.02 1274.5,-197.02 1281.5,-197.02\"/>\n</g>\n<!-- 18 -->\n<g id=\"node19\" class=\"node\">\n<title>18</title>\n<path fill=\"#e78c49\" stroke=\"black\" d=\"M951,-68C951,-68 859,-68 859,-68 853,-68 847,-62 847,-56 847,-56 847,-12 847,-12 847,-6 853,0 859,0 859,0 951,0 951,0 957,0 963,-6 963,-12 963,-12 963,-56 963,-56 963,-62 957,-68 951,-68\"/>\n<text text-anchor=\"middle\" x=\"905\" y=\"-52.8\" font-family=\"Helvetica,sans-Serif\" font-size=\"14.00\">entropy = 0.391</text>\n<text text-anchor=\"middle\" x=\"905\" y=\"-37.8\" font-family=\"Helvetica,sans-Serif\" font-size=\"14.00\">samples = 39</text>\n<text text-anchor=\"middle\" x=\"905\" y=\"-22.8\" font-family=\"Helvetica,sans-Serif\" font-size=\"14.00\">value = [36, 3]</text>\n<text text-anchor=\"middle\" x=\"905\" y=\"-7.8\" font-family=\"Helvetica,sans-Serif\" font-size=\"14.00\">class = heart_no</text>\n</g>\n<!-- 17&#45;&gt;18 -->\n<g id=\"edge18\" class=\"edge\">\n<title>17&#45;&gt;18</title>\n<path fill=\"none\" stroke=\"black\" d=\"M992.24,-103.73C980.2,-94.24 967.4,-84.16 955.42,-74.72\"/>\n<polygon fill=\"black\" stroke=\"black\" points=\"957.29,-71.74 947.27,-68.3 952.96,-77.24 957.29,-71.74\"/>\n</g>\n<!-- 19 -->\n<g id=\"node20\" class=\"node\">\n<title>19</title>\n<path fill=\"#d6ebfa\" stroke=\"black\" d=\"M1094.5,-68C1094.5,-68 993.5,-68 993.5,-68 987.5,-68 981.5,-62 981.5,-56 981.5,-56 981.5,-12 981.5,-12 981.5,-6 987.5,0 993.5,0 993.5,0 1094.5,0 1094.5,0 1100.5,0 1106.5,-6 1106.5,-12 1106.5,-12 1106.5,-56 1106.5,-56 1106.5,-62 1100.5,-68 1094.5,-68\"/>\n<text text-anchor=\"middle\" x=\"1044\" y=\"-52.8\" font-family=\"Helvetica,sans-Serif\" font-size=\"14.00\">entropy = 0.991</text>\n<text text-anchor=\"middle\" x=\"1044\" y=\"-37.8\" font-family=\"Helvetica,sans-Serif\" font-size=\"14.00\">samples = 341</text>\n<text text-anchor=\"middle\" x=\"1044\" y=\"-22.8\" font-family=\"Helvetica,sans-Serif\" font-size=\"14.00\">value = [151, 190]</text>\n<text text-anchor=\"middle\" x=\"1044\" y=\"-7.8\" font-family=\"Helvetica,sans-Serif\" font-size=\"14.00\">class = heart_yes</text>\n</g>\n<!-- 17&#45;&gt;19 -->\n<g id=\"edge19\" class=\"edge\">\n<title>17&#45;&gt;19</title>\n<path fill=\"none\" stroke=\"black\" d=\"M1044,-103.73C1044,-95.52 1044,-86.86 1044,-78.56\"/>\n<polygon fill=\"black\" stroke=\"black\" points=\"1047.5,-78.3 1044,-68.3 1040.5,-78.3 1047.5,-78.3\"/>\n</g>\n<!-- 21 -->\n<g id=\"node22\" class=\"node\">\n<title>21</title>\n<path fill=\"#e6853f\" stroke=\"black\" d=\"M1229,-68C1229,-68 1137,-68 1137,-68 1131,-68 1125,-62 1125,-56 1125,-56 1125,-12 1125,-12 1125,-6 1131,0 1137,0 1137,0 1229,0 1229,0 1235,0 1241,-6 1241,-12 1241,-12 1241,-56 1241,-56 1241,-62 1235,-68 1229,-68\"/>\n<text text-anchor=\"middle\" x=\"1183\" y=\"-52.8\" font-family=\"Helvetica,sans-Serif\" font-size=\"14.00\">entropy = 0.201</text>\n<text text-anchor=\"middle\" x=\"1183\" y=\"-37.8\" font-family=\"Helvetica,sans-Serif\" font-size=\"14.00\">samples = 64</text>\n<text text-anchor=\"middle\" x=\"1183\" y=\"-22.8\" font-family=\"Helvetica,sans-Serif\" font-size=\"14.00\">value = [62, 2]</text>\n<text text-anchor=\"middle\" x=\"1183\" y=\"-7.8\" font-family=\"Helvetica,sans-Serif\" font-size=\"14.00\">class = heart_no</text>\n</g>\n<!-- 20&#45;&gt;21 -->\n<g id=\"edge21\" class=\"edge\">\n<title>20&#45;&gt;21</title>\n<path fill=\"none\" stroke=\"black\" d=\"M1242.63,-103.73C1234.79,-94.7 1226.49,-85.12 1218.64,-76.08\"/>\n<polygon fill=\"black\" stroke=\"black\" points=\"1221.09,-73.56 1211.89,-68.3 1215.8,-78.15 1221.09,-73.56\"/>\n</g>\n<!-- 22 -->\n<g id=\"node23\" class=\"node\">\n<title>22</title>\n<path fill=\"#399de5\" stroke=\"black\" d=\"M1369,-68C1369,-68 1271,-68 1271,-68 1265,-68 1259,-62 1259,-56 1259,-56 1259,-12 1259,-12 1259,-6 1265,0 1271,0 1271,0 1369,0 1369,0 1375,0 1381,-6 1381,-12 1381,-12 1381,-56 1381,-56 1381,-62 1375,-68 1369,-68\"/>\n<text text-anchor=\"middle\" x=\"1320\" y=\"-52.8\" font-family=\"Helvetica,sans-Serif\" font-size=\"14.00\">entropy = 0.0</text>\n<text text-anchor=\"middle\" x=\"1320\" y=\"-37.8\" font-family=\"Helvetica,sans-Serif\" font-size=\"14.00\">samples = 4</text>\n<text text-anchor=\"middle\" x=\"1320\" y=\"-22.8\" font-family=\"Helvetica,sans-Serif\" font-size=\"14.00\">value = [0, 4]</text>\n<text text-anchor=\"middle\" x=\"1320\" y=\"-7.8\" font-family=\"Helvetica,sans-Serif\" font-size=\"14.00\">class = heart_yes</text>\n</g>\n<!-- 20&#45;&gt;22 -->\n<g id=\"edge22\" class=\"edge\">\n<title>20&#45;&gt;22</title>\n<path fill=\"none\" stroke=\"black\" d=\"M1293.64,-103.73C1296.89,-95.24 1300.33,-86.28 1303.61,-77.73\"/>\n<polygon fill=\"black\" stroke=\"black\" points=\"1306.91,-78.89 1307.23,-68.3 1300.38,-76.38 1306.91,-78.89\"/>\n</g>\n<!-- 24 -->\n<g id=\"node25\" class=\"node\">\n<title>24</title>\n<path fill=\"#4ea7e8\" stroke=\"black\" d=\"M1551,-187C1551,-187 1453,-187 1453,-187 1447,-187 1441,-181 1441,-175 1441,-175 1441,-116 1441,-116 1441,-110 1447,-104 1453,-104 1453,-104 1551,-104 1551,-104 1557,-104 1563,-110 1563,-116 1563,-116 1563,-175 1563,-175 1563,-181 1557,-187 1551,-187\"/>\n<text text-anchor=\"middle\" x=\"1502\" y=\"-171.8\" font-family=\"Helvetica,sans-Serif\" font-size=\"14.00\">BMI &lt;= 16.1</text>\n<text text-anchor=\"middle\" x=\"1502\" y=\"-156.8\" font-family=\"Helvetica,sans-Serif\" font-size=\"14.00\">entropy = 0.455</text>\n<text text-anchor=\"middle\" x=\"1502\" y=\"-141.8\" font-family=\"Helvetica,sans-Serif\" font-size=\"14.00\">samples = 94</text>\n<text text-anchor=\"middle\" x=\"1502\" y=\"-126.8\" font-family=\"Helvetica,sans-Serif\" font-size=\"14.00\">value = [9, 85]</text>\n<text text-anchor=\"middle\" x=\"1502\" y=\"-111.8\" font-family=\"Helvetica,sans-Serif\" font-size=\"14.00\">class = heart_yes</text>\n</g>\n<!-- 23&#45;&gt;24 -->\n<g id=\"edge24\" class=\"edge\">\n<title>23&#45;&gt;24</title>\n<path fill=\"none\" stroke=\"black\" d=\"M1502,-222.91C1502,-214.65 1502,-205.86 1502,-197.3\"/>\n<polygon fill=\"black\" stroke=\"black\" points=\"1505.5,-197.02 1502,-187.02 1498.5,-197.02 1505.5,-197.02\"/>\n</g>\n<!-- 27 -->\n<g id=\"node28\" class=\"node\">\n<title>27</title>\n<path fill=\"#a3d2f3\" stroke=\"black\" d=\"M1797,-187C1797,-187 1683,-187 1683,-187 1677,-187 1671,-181 1671,-175 1671,-175 1671,-116 1671,-116 1671,-110 1677,-104 1683,-104 1683,-104 1797,-104 1797,-104 1803,-104 1809,-110 1809,-116 1809,-116 1809,-175 1809,-175 1809,-181 1803,-187 1797,-187\"/>\n<text text-anchor=\"middle\" x=\"1740\" y=\"-171.8\" font-family=\"Helvetica,sans-Serif\" font-size=\"14.00\">diastolic_bp &lt;= 81.0</text>\n<text text-anchor=\"middle\" x=\"1740\" y=\"-156.8\" font-family=\"Helvetica,sans-Serif\" font-size=\"14.00\">entropy = 0.933</text>\n<text text-anchor=\"middle\" x=\"1740\" y=\"-141.8\" font-family=\"Helvetica,sans-Serif\" font-size=\"14.00\">samples = 292</text>\n<text text-anchor=\"middle\" x=\"1740\" y=\"-126.8\" font-family=\"Helvetica,sans-Serif\" font-size=\"14.00\">value = [102, 190]</text>\n<text text-anchor=\"middle\" x=\"1740\" y=\"-111.8\" font-family=\"Helvetica,sans-Serif\" font-size=\"14.00\">class = heart_yes</text>\n</g>\n<!-- 23&#45;&gt;27 -->\n<g id=\"edge27\" class=\"edge\">\n<title>23&#45;&gt;27</title>\n<path fill=\"none\" stroke=\"black\" d=\"M1564.53,-232.76C1594.24,-218.16 1630.06,-200.55 1661.57,-185.06\"/>\n<polygon fill=\"black\" stroke=\"black\" points=\"1663.34,-188.09 1670.77,-180.54 1660.25,-181.81 1663.34,-188.09\"/>\n</g>\n<!-- 25 -->\n<g id=\"node26\" class=\"node\">\n<title>25</title>\n<path fill=\"#bddef6\" stroke=\"black\" d=\"M1509,-68C1509,-68 1411,-68 1411,-68 1405,-68 1399,-62 1399,-56 1399,-56 1399,-12 1399,-12 1399,-6 1405,0 1411,0 1411,0 1509,0 1509,0 1515,0 1521,-6 1521,-12 1521,-12 1521,-56 1521,-56 1521,-62 1515,-68 1509,-68\"/>\n<text text-anchor=\"middle\" x=\"1460\" y=\"-52.8\" font-family=\"Helvetica,sans-Serif\" font-size=\"14.00\">entropy = 0.971</text>\n<text text-anchor=\"middle\" x=\"1460\" y=\"-37.8\" font-family=\"Helvetica,sans-Serif\" font-size=\"14.00\">samples = 10</text>\n<text text-anchor=\"middle\" x=\"1460\" y=\"-22.8\" font-family=\"Helvetica,sans-Serif\" font-size=\"14.00\">value = [4, 6]</text>\n<text text-anchor=\"middle\" x=\"1460\" y=\"-7.8\" font-family=\"Helvetica,sans-Serif\" font-size=\"14.00\">class = heart_yes</text>\n</g>\n<!-- 24&#45;&gt;25 -->\n<g id=\"edge25\" class=\"edge\">\n<title>24&#45;&gt;25</title>\n<path fill=\"none\" stroke=\"black\" d=\"M1486.36,-103.73C1483.11,-95.24 1479.67,-86.28 1476.39,-77.73\"/>\n<polygon fill=\"black\" stroke=\"black\" points=\"1479.62,-76.38 1472.77,-68.3 1473.09,-78.89 1479.62,-76.38\"/>\n</g>\n<!-- 26 -->\n<g id=\"node27\" class=\"node\">\n<title>26</title>\n<path fill=\"#46a3e7\" stroke=\"black\" d=\"M1649,-68C1649,-68 1551,-68 1551,-68 1545,-68 1539,-62 1539,-56 1539,-56 1539,-12 1539,-12 1539,-6 1545,0 1551,0 1551,0 1649,0 1649,0 1655,0 1661,-6 1661,-12 1661,-12 1661,-56 1661,-56 1661,-62 1655,-68 1649,-68\"/>\n<text text-anchor=\"middle\" x=\"1600\" y=\"-52.8\" font-family=\"Helvetica,sans-Serif\" font-size=\"14.00\">entropy = 0.326</text>\n<text text-anchor=\"middle\" x=\"1600\" y=\"-37.8\" font-family=\"Helvetica,sans-Serif\" font-size=\"14.00\">samples = 84</text>\n<text text-anchor=\"middle\" x=\"1600\" y=\"-22.8\" font-family=\"Helvetica,sans-Serif\" font-size=\"14.00\">value = [5, 79]</text>\n<text text-anchor=\"middle\" x=\"1600\" y=\"-7.8\" font-family=\"Helvetica,sans-Serif\" font-size=\"14.00\">class = heart_yes</text>\n</g>\n<!-- 24&#45;&gt;26 -->\n<g id=\"edge26\" class=\"edge\">\n<title>24&#45;&gt;26</title>\n<path fill=\"none\" stroke=\"black\" d=\"M1538.49,-103.73C1546.65,-94.61 1555.31,-84.93 1563.48,-75.81\"/>\n<polygon fill=\"black\" stroke=\"black\" points=\"1566.14,-78.09 1570.2,-68.3 1560.92,-73.42 1566.14,-78.09\"/>\n</g>\n<!-- 28 -->\n<g id=\"node29\" class=\"node\">\n<title>28</title>\n<path fill=\"#97cbf1\" stroke=\"black\" d=\"M1789,-68C1789,-68 1691,-68 1691,-68 1685,-68 1679,-62 1679,-56 1679,-56 1679,-12 1679,-12 1679,-6 1685,0 1691,0 1691,0 1789,0 1789,0 1795,0 1801,-6 1801,-12 1801,-12 1801,-56 1801,-56 1801,-62 1795,-68 1789,-68\"/>\n<text text-anchor=\"middle\" x=\"1740\" y=\"-52.8\" font-family=\"Helvetica,sans-Serif\" font-size=\"14.00\">entropy = 0.906</text>\n<text text-anchor=\"middle\" x=\"1740\" y=\"-37.8\" font-family=\"Helvetica,sans-Serif\" font-size=\"14.00\">samples = 280</text>\n<text text-anchor=\"middle\" x=\"1740\" y=\"-22.8\" font-family=\"Helvetica,sans-Serif\" font-size=\"14.00\">value = [90, 190]</text>\n<text text-anchor=\"middle\" x=\"1740\" y=\"-7.8\" font-family=\"Helvetica,sans-Serif\" font-size=\"14.00\">class = heart_yes</text>\n</g>\n<!-- 27&#45;&gt;28 -->\n<g id=\"edge28\" class=\"edge\">\n<title>27&#45;&gt;28</title>\n<path fill=\"none\" stroke=\"black\" d=\"M1740,-103.73C1740,-95.52 1740,-86.86 1740,-78.56\"/>\n<polygon fill=\"black\" stroke=\"black\" points=\"1743.5,-78.3 1740,-68.3 1736.5,-78.3 1743.5,-78.3\"/>\n</g>\n<!-- 29 -->\n<g id=\"node30\" class=\"node\">\n<title>29</title>\n<path fill=\"#e58139\" stroke=\"black\" d=\"M1923,-68C1923,-68 1831,-68 1831,-68 1825,-68 1819,-62 1819,-56 1819,-56 1819,-12 1819,-12 1819,-6 1825,0 1831,0 1831,0 1923,0 1923,0 1929,0 1935,-6 1935,-12 1935,-12 1935,-56 1935,-56 1935,-62 1929,-68 1923,-68\"/>\n<text text-anchor=\"middle\" x=\"1877\" y=\"-52.8\" font-family=\"Helvetica,sans-Serif\" font-size=\"14.00\">entropy = 0.0</text>\n<text text-anchor=\"middle\" x=\"1877\" y=\"-37.8\" font-family=\"Helvetica,sans-Serif\" font-size=\"14.00\">samples = 12</text>\n<text text-anchor=\"middle\" x=\"1877\" y=\"-22.8\" font-family=\"Helvetica,sans-Serif\" font-size=\"14.00\">value = [12, 0]</text>\n<text text-anchor=\"middle\" x=\"1877\" y=\"-7.8\" font-family=\"Helvetica,sans-Serif\" font-size=\"14.00\">class = heart_no</text>\n</g>\n<!-- 27&#45;&gt;29 -->\n<g id=\"edge29\" class=\"edge\">\n<title>27&#45;&gt;29</title>\n<path fill=\"none\" stroke=\"black\" d=\"M1791.01,-103.73C1802.88,-94.24 1815.5,-84.16 1827.31,-74.72\"/>\n<polygon fill=\"black\" stroke=\"black\" points=\"1829.71,-77.28 1835.34,-68.3 1825.34,-71.81 1829.71,-77.28\"/>\n</g>\n<!-- 31 -->\n<g id=\"node32\" class=\"node\">\n<title>31</title>\n<path fill=\"#c8e4f8\" stroke=\"black\" d=\"M2540.5,-425C2540.5,-425 2439.5,-425 2439.5,-425 2433.5,-425 2427.5,-419 2427.5,-413 2427.5,-413 2427.5,-354 2427.5,-354 2427.5,-348 2433.5,-342 2439.5,-342 2439.5,-342 2540.5,-342 2540.5,-342 2546.5,-342 2552.5,-348 2552.5,-354 2552.5,-354 2552.5,-413 2552.5,-413 2552.5,-419 2546.5,-425 2540.5,-425\"/>\n<text text-anchor=\"middle\" x=\"2490\" y=\"-409.8\" font-family=\"Helvetica,sans-Serif\" font-size=\"14.00\">age &lt;= 77.5</text>\n<text text-anchor=\"middle\" x=\"2490\" y=\"-394.8\" font-family=\"Helvetica,sans-Serif\" font-size=\"14.00\">entropy = 0.981</text>\n<text text-anchor=\"middle\" x=\"2490\" y=\"-379.8\" font-family=\"Helvetica,sans-Serif\" font-size=\"14.00\">samples = 1465</text>\n<text text-anchor=\"middle\" x=\"2490\" y=\"-364.8\" font-family=\"Helvetica,sans-Serif\" font-size=\"14.00\">value = [614, 851]</text>\n<text text-anchor=\"middle\" x=\"2490\" y=\"-349.8\" font-family=\"Helvetica,sans-Serif\" font-size=\"14.00\">class = heart_yes</text>\n</g>\n<!-- 30&#45;&gt;31 -->\n<g id=\"edge31\" class=\"edge\">\n<title>30&#45;&gt;31</title>\n<path fill=\"none\" stroke=\"black\" d=\"M2490,-460.91C2490,-452.65 2490,-443.86 2490,-435.3\"/>\n<polygon fill=\"black\" stroke=\"black\" points=\"2493.5,-435.02 2490,-425.02 2486.5,-435.02 2493.5,-435.02\"/>\n</g>\n<!-- 46 -->\n<g id=\"node47\" class=\"node\">\n<title>46</title>\n<path fill=\"#59ade9\" stroke=\"black\" d=\"M2974,-425C2974,-425 2818,-425 2818,-425 2812,-425 2806,-419 2806,-413 2806,-413 2806,-354 2806,-354 2806,-348 2812,-342 2818,-342 2818,-342 2974,-342 2974,-342 2980,-342 2986,-348 2986,-354 2986,-354 2986,-413 2986,-413 2986,-419 2980,-425 2974,-425\"/>\n<text text-anchor=\"middle\" x=\"2896\" y=\"-409.8\" font-family=\"Helvetica,sans-Serif\" font-size=\"14.00\">blood_cholesterol &lt;= 3.605</text>\n<text text-anchor=\"middle\" x=\"2896\" y=\"-394.8\" font-family=\"Helvetica,sans-Serif\" font-size=\"14.00\">entropy = 0.582</text>\n<text text-anchor=\"middle\" x=\"2896\" y=\"-379.8\" font-family=\"Helvetica,sans-Serif\" font-size=\"14.00\">samples = 883</text>\n<text text-anchor=\"middle\" x=\"2896\" y=\"-364.8\" font-family=\"Helvetica,sans-Serif\" font-size=\"14.00\">value = [123, 760]</text>\n<text text-anchor=\"middle\" x=\"2896\" y=\"-349.8\" font-family=\"Helvetica,sans-Serif\" font-size=\"14.00\">class = heart_yes</text>\n</g>\n<!-- 30&#45;&gt;46 -->\n<g id=\"edge46\" class=\"edge\">\n<title>30&#45;&gt;46</title>\n<path fill=\"none\" stroke=\"black\" d=\"M2556.13,-482.44C2621.18,-463.7 2721.33,-434.84 2796.09,-413.29\"/>\n<polygon fill=\"black\" stroke=\"black\" points=\"2797.36,-416.57 2806,-410.44 2795.42,-409.84 2797.36,-416.57\"/>\n</g>\n<!-- 32 -->\n<g id=\"node33\" class=\"node\">\n<title>32</title>\n<path fill=\"#fefcfb\" stroke=\"black\" d=\"M2445.5,-306C2445.5,-306 2314.5,-306 2314.5,-306 2308.5,-306 2302.5,-300 2302.5,-294 2302.5,-294 2302.5,-235 2302.5,-235 2302.5,-229 2308.5,-223 2314.5,-223 2314.5,-223 2445.5,-223 2445.5,-223 2451.5,-223 2457.5,-229 2457.5,-235 2457.5,-235 2457.5,-294 2457.5,-294 2457.5,-300 2451.5,-306 2445.5,-306\"/>\n<text text-anchor=\"middle\" x=\"2380\" y=\"-290.8\" font-family=\"Helvetica,sans-Serif\" font-size=\"14.00\">family_income &lt;= 3.84</text>\n<text text-anchor=\"middle\" x=\"2380\" y=\"-275.8\" font-family=\"Helvetica,sans-Serif\" font-size=\"14.00\">entropy = 1.0</text>\n<text text-anchor=\"middle\" x=\"2380\" y=\"-260.8\" font-family=\"Helvetica,sans-Serif\" font-size=\"14.00\">samples = 936</text>\n<text text-anchor=\"middle\" x=\"2380\" y=\"-245.8\" font-family=\"Helvetica,sans-Serif\" font-size=\"14.00\">value = [473, 463]</text>\n<text text-anchor=\"middle\" x=\"2380\" y=\"-230.8\" font-family=\"Helvetica,sans-Serif\" font-size=\"14.00\">class = heart_no</text>\n</g>\n<!-- 31&#45;&gt;32 -->\n<g id=\"edge32\" class=\"edge\">\n<title>31&#45;&gt;32</title>\n<path fill=\"none\" stroke=\"black\" d=\"M2451.84,-341.91C2443.22,-332.74 2433.99,-322.93 2425.12,-313.49\"/>\n<polygon fill=\"black\" stroke=\"black\" points=\"2427.5,-310.91 2418.1,-306.02 2422.4,-315.7 2427.5,-310.91\"/>\n</g>\n<!-- 39 -->\n<g id=\"node40\" class=\"node\">\n<title>39</title>\n<path fill=\"#81c1ee\" stroke=\"black\" d=\"M2664,-306C2664,-306 2538,-306 2538,-306 2532,-306 2526,-300 2526,-294 2526,-294 2526,-235 2526,-235 2526,-229 2532,-223 2538,-223 2538,-223 2664,-223 2664,-223 2670,-223 2676,-229 2676,-235 2676,-235 2676,-294 2676,-294 2676,-300 2670,-306 2664,-306\"/>\n<text text-anchor=\"middle\" x=\"2601\" y=\"-290.8\" font-family=\"Helvetica,sans-Serif\" font-size=\"14.00\">gender_female &lt;= 0.5</text>\n<text text-anchor=\"middle\" x=\"2601\" y=\"-275.8\" font-family=\"Helvetica,sans-Serif\" font-size=\"14.00\">entropy = 0.836</text>\n<text text-anchor=\"middle\" x=\"2601\" y=\"-260.8\" font-family=\"Helvetica,sans-Serif\" font-size=\"14.00\">samples = 529</text>\n<text text-anchor=\"middle\" x=\"2601\" y=\"-245.8\" font-family=\"Helvetica,sans-Serif\" font-size=\"14.00\">value = [141, 388]</text>\n<text text-anchor=\"middle\" x=\"2601\" y=\"-230.8\" font-family=\"Helvetica,sans-Serif\" font-size=\"14.00\">class = heart_yes</text>\n</g>\n<!-- 31&#45;&gt;39 -->\n<g id=\"edge39\" class=\"edge\">\n<title>31&#45;&gt;39</title>\n<path fill=\"none\" stroke=\"black\" d=\"M2528.51,-341.91C2537.21,-332.74 2546.52,-322.93 2555.47,-313.49\"/>\n<polygon fill=\"black\" stroke=\"black\" points=\"2558.21,-315.68 2562.56,-306.02 2553.14,-310.87 2558.21,-315.68\"/>\n</g>\n<!-- 33 -->\n<g id=\"node34\" class=\"node\">\n<title>33</title>\n<path fill=\"#dbedfa\" stroke=\"black\" d=\"M2206.5,-187C2206.5,-187 2105.5,-187 2105.5,-187 2099.5,-187 2093.5,-181 2093.5,-175 2093.5,-175 2093.5,-116 2093.5,-116 2093.5,-110 2099.5,-104 2105.5,-104 2105.5,-104 2206.5,-104 2206.5,-104 2212.5,-104 2218.5,-110 2218.5,-116 2218.5,-116 2218.5,-175 2218.5,-175 2218.5,-181 2212.5,-187 2206.5,-187\"/>\n<text text-anchor=\"middle\" x=\"2156\" y=\"-171.8\" font-family=\"Helvetica,sans-Serif\" font-size=\"14.00\">BMI &lt;= 16.05</text>\n<text text-anchor=\"middle\" x=\"2156\" y=\"-156.8\" font-family=\"Helvetica,sans-Serif\" font-size=\"14.00\">entropy = 0.993</text>\n<text text-anchor=\"middle\" x=\"2156\" y=\"-141.8\" font-family=\"Helvetica,sans-Serif\" font-size=\"14.00\">samples = 737</text>\n<text text-anchor=\"middle\" x=\"2156\" y=\"-126.8\" font-family=\"Helvetica,sans-Serif\" font-size=\"14.00\">value = [332, 405]</text>\n<text text-anchor=\"middle\" x=\"2156\" y=\"-111.8\" font-family=\"Helvetica,sans-Serif\" font-size=\"14.00\">class = heart_yes</text>\n</g>\n<!-- 32&#45;&gt;33 -->\n<g id=\"edge33\" class=\"edge\">\n<title>32&#45;&gt;33</title>\n<path fill=\"none\" stroke=\"black\" d=\"M2302.28,-222.91C2278.08,-210.27 2251.52,-196.39 2227.74,-183.97\"/>\n<polygon fill=\"black\" stroke=\"black\" points=\"2229.26,-180.82 2218.78,-179.29 2226.02,-187.02 2229.26,-180.82\"/>\n</g>\n<!-- 36 -->\n<g id=\"node37\" class=\"node\">\n<title>36</title>\n<path fill=\"#f0b58a\" stroke=\"black\" d=\"M2426.5,-187C2426.5,-187 2333.5,-187 2333.5,-187 2327.5,-187 2321.5,-181 2321.5,-175 2321.5,-175 2321.5,-116 2321.5,-116 2321.5,-110 2327.5,-104 2333.5,-104 2333.5,-104 2426.5,-104 2426.5,-104 2432.5,-104 2438.5,-110 2438.5,-116 2438.5,-116 2438.5,-175 2438.5,-175 2438.5,-181 2432.5,-187 2426.5,-187\"/>\n<text text-anchor=\"middle\" x=\"2380\" y=\"-171.8\" font-family=\"Helvetica,sans-Serif\" font-size=\"14.00\">BMI &lt;= 23.25</text>\n<text text-anchor=\"middle\" x=\"2380\" y=\"-156.8\" font-family=\"Helvetica,sans-Serif\" font-size=\"14.00\">entropy = 0.871</text>\n<text text-anchor=\"middle\" x=\"2380\" y=\"-141.8\" font-family=\"Helvetica,sans-Serif\" font-size=\"14.00\">samples = 199</text>\n<text text-anchor=\"middle\" x=\"2380\" y=\"-126.8\" font-family=\"Helvetica,sans-Serif\" font-size=\"14.00\">value = [141, 58]</text>\n<text text-anchor=\"middle\" x=\"2380\" y=\"-111.8\" font-family=\"Helvetica,sans-Serif\" font-size=\"14.00\">class = heart_no</text>\n</g>\n<!-- 32&#45;&gt;36 -->\n<g id=\"edge36\" class=\"edge\">\n<title>32&#45;&gt;36</title>\n<path fill=\"none\" stroke=\"black\" d=\"M2380,-222.91C2380,-214.65 2380,-205.86 2380,-197.3\"/>\n<polygon fill=\"black\" stroke=\"black\" points=\"2383.5,-197.02 2380,-187.02 2376.5,-197.02 2383.5,-197.02\"/>\n</g>\n<!-- 34 -->\n<g id=\"node35\" class=\"node\">\n<title>34</title>\n<path fill=\"#67b4eb\" stroke=\"black\" d=\"M2063,-68C2063,-68 1965,-68 1965,-68 1959,-68 1953,-62 1953,-56 1953,-56 1953,-12 1953,-12 1953,-6 1959,0 1965,0 1965,0 2063,0 2063,0 2069,0 2075,-6 2075,-12 2075,-12 2075,-56 2075,-56 2075,-62 2069,-68 2063,-68\"/>\n<text text-anchor=\"middle\" x=\"2014\" y=\"-52.8\" font-family=\"Helvetica,sans-Serif\" font-size=\"14.00\">entropy = 0.701</text>\n<text text-anchor=\"middle\" x=\"2014\" y=\"-37.8\" font-family=\"Helvetica,sans-Serif\" font-size=\"14.00\">samples = 100</text>\n<text text-anchor=\"middle\" x=\"2014\" y=\"-22.8\" font-family=\"Helvetica,sans-Serif\" font-size=\"14.00\">value = [19, 81]</text>\n<text text-anchor=\"middle\" x=\"2014\" y=\"-7.8\" font-family=\"Helvetica,sans-Serif\" font-size=\"14.00\">class = heart_yes</text>\n</g>\n<!-- 33&#45;&gt;34 -->\n<g id=\"edge34\" class=\"edge\">\n<title>33&#45;&gt;34</title>\n<path fill=\"none\" stroke=\"black\" d=\"M2103.12,-103.73C2090.71,-94.15 2077.49,-83.96 2065.15,-74.44\"/>\n<polygon fill=\"black\" stroke=\"black\" points=\"2067.24,-71.63 2057.18,-68.3 2062.96,-77.18 2067.24,-71.63\"/>\n</g>\n<!-- 35 -->\n<g id=\"node36\" class=\"node\">\n<title>35</title>\n<path fill=\"#f8fcfe\" stroke=\"black\" d=\"M2206.5,-68C2206.5,-68 2105.5,-68 2105.5,-68 2099.5,-68 2093.5,-62 2093.5,-56 2093.5,-56 2093.5,-12 2093.5,-12 2093.5,-6 2099.5,0 2105.5,0 2105.5,0 2206.5,0 2206.5,0 2212.5,0 2218.5,-6 2218.5,-12 2218.5,-12 2218.5,-56 2218.5,-56 2218.5,-62 2212.5,-68 2206.5,-68\"/>\n<text text-anchor=\"middle\" x=\"2156\" y=\"-52.8\" font-family=\"Helvetica,sans-Serif\" font-size=\"14.00\">entropy = 1.0</text>\n<text text-anchor=\"middle\" x=\"2156\" y=\"-37.8\" font-family=\"Helvetica,sans-Serif\" font-size=\"14.00\">samples = 637</text>\n<text text-anchor=\"middle\" x=\"2156\" y=\"-22.8\" font-family=\"Helvetica,sans-Serif\" font-size=\"14.00\">value = [313, 324]</text>\n<text text-anchor=\"middle\" x=\"2156\" y=\"-7.8\" font-family=\"Helvetica,sans-Serif\" font-size=\"14.00\">class = heart_yes</text>\n</g>\n<!-- 33&#45;&gt;35 -->\n<g id=\"edge35\" class=\"edge\">\n<title>33&#45;&gt;35</title>\n<path fill=\"none\" stroke=\"black\" d=\"M2156,-103.73C2156,-95.52 2156,-86.86 2156,-78.56\"/>\n<polygon fill=\"black\" stroke=\"black\" points=\"2159.5,-78.3 2156,-68.3 2152.5,-78.3 2159.5,-78.3\"/>\n</g>\n<!-- 37 -->\n<g id=\"node38\" class=\"node\">\n<title>37</title>\n<path fill=\"#fae7d9\" stroke=\"black\" d=\"M2341,-68C2341,-68 2249,-68 2249,-68 2243,-68 2237,-62 2237,-56 2237,-56 2237,-12 2237,-12 2237,-6 2243,0 2249,0 2249,0 2341,0 2341,0 2347,0 2353,-6 2353,-12 2353,-12 2353,-56 2353,-56 2353,-62 2347,-68 2341,-68\"/>\n<text text-anchor=\"middle\" x=\"2295\" y=\"-52.8\" font-family=\"Helvetica,sans-Serif\" font-size=\"14.00\">entropy = 0.992</text>\n<text text-anchor=\"middle\" x=\"2295\" y=\"-37.8\" font-family=\"Helvetica,sans-Serif\" font-size=\"14.00\">samples = 114</text>\n<text text-anchor=\"middle\" x=\"2295\" y=\"-22.8\" font-family=\"Helvetica,sans-Serif\" font-size=\"14.00\">value = [63, 51]</text>\n<text text-anchor=\"middle\" x=\"2295\" y=\"-7.8\" font-family=\"Helvetica,sans-Serif\" font-size=\"14.00\">class = heart_no</text>\n</g>\n<!-- 36&#45;&gt;37 -->\n<g id=\"edge37\" class=\"edge\">\n<title>36&#45;&gt;37</title>\n<path fill=\"none\" stroke=\"black\" d=\"M2348.35,-103.73C2341.41,-94.79 2334.06,-85.32 2327.1,-76.36\"/>\n<polygon fill=\"black\" stroke=\"black\" points=\"2329.75,-74.05 2320.85,-68.3 2324.22,-78.35 2329.75,-74.05\"/>\n</g>\n<!-- 38 -->\n<g id=\"node39\" class=\"node\">\n<title>38</title>\n<path fill=\"#e78c4b\" stroke=\"black\" d=\"M2475,-68C2475,-68 2383,-68 2383,-68 2377,-68 2371,-62 2371,-56 2371,-56 2371,-12 2371,-12 2371,-6 2377,0 2383,0 2383,0 2475,0 2475,0 2481,0 2487,-6 2487,-12 2487,-12 2487,-56 2487,-56 2487,-62 2481,-68 2475,-68\"/>\n<text text-anchor=\"middle\" x=\"2429\" y=\"-52.8\" font-family=\"Helvetica,sans-Serif\" font-size=\"14.00\">entropy = 0.41</text>\n<text text-anchor=\"middle\" x=\"2429\" y=\"-37.8\" font-family=\"Helvetica,sans-Serif\" font-size=\"14.00\">samples = 85</text>\n<text text-anchor=\"middle\" x=\"2429\" y=\"-22.8\" font-family=\"Helvetica,sans-Serif\" font-size=\"14.00\">value = [78, 7]</text>\n<text text-anchor=\"middle\" x=\"2429\" y=\"-7.8\" font-family=\"Helvetica,sans-Serif\" font-size=\"14.00\">class = heart_no</text>\n</g>\n<!-- 36&#45;&gt;38 -->\n<g id=\"edge38\" class=\"edge\">\n<title>36&#45;&gt;38</title>\n<path fill=\"none\" stroke=\"black\" d=\"M2398.25,-103.73C2402.08,-95.15 2406.14,-86.09 2410,-77.46\"/>\n<polygon fill=\"black\" stroke=\"black\" points=\"2413.21,-78.86 2414.1,-68.3 2406.82,-76 2413.21,-78.86\"/>\n</g>\n<!-- 40 -->\n<g id=\"node41\" class=\"node\">\n<title>40</title>\n<path fill=\"#69b5eb\" stroke=\"black\" d=\"M2679,-187C2679,-187 2523,-187 2523,-187 2517,-187 2511,-181 2511,-175 2511,-175 2511,-116 2511,-116 2511,-110 2517,-104 2523,-104 2523,-104 2679,-104 2679,-104 2685,-104 2691,-110 2691,-116 2691,-116 2691,-175 2691,-175 2691,-181 2685,-187 2679,-187\"/>\n<text text-anchor=\"middle\" x=\"2601\" y=\"-171.8\" font-family=\"Helvetica,sans-Serif\" font-size=\"14.00\">blood_cholesterol &lt;= 3.375</text>\n<text text-anchor=\"middle\" x=\"2601\" y=\"-156.8\" font-family=\"Helvetica,sans-Serif\" font-size=\"14.00\">entropy = 0.71</text>\n<text text-anchor=\"middle\" x=\"2601\" y=\"-141.8\" font-family=\"Helvetica,sans-Serif\" font-size=\"14.00\">samples = 299</text>\n<text text-anchor=\"middle\" x=\"2601\" y=\"-126.8\" font-family=\"Helvetica,sans-Serif\" font-size=\"14.00\">value = [58, 241]</text>\n<text text-anchor=\"middle\" x=\"2601\" y=\"-111.8\" font-family=\"Helvetica,sans-Serif\" font-size=\"14.00\">class = heart_yes</text>\n</g>\n<!-- 39&#45;&gt;40 -->\n<g id=\"edge40\" class=\"edge\">\n<title>39&#45;&gt;40</title>\n<path fill=\"none\" stroke=\"black\" d=\"M2601,-222.91C2601,-214.65 2601,-205.86 2601,-197.3\"/>\n<polygon fill=\"black\" stroke=\"black\" points=\"2604.5,-197.02 2601,-187.02 2597.5,-197.02 2604.5,-197.02\"/>\n</g>\n<!-- 43 -->\n<g id=\"node44\" class=\"node\">\n<title>43</title>\n<path fill=\"#a9d4f4\" stroke=\"black\" d=\"M2928.5,-187C2928.5,-187 2757.5,-187 2757.5,-187 2751.5,-187 2745.5,-181 2745.5,-175 2745.5,-175 2745.5,-116 2745.5,-116 2745.5,-110 2751.5,-104 2757.5,-104 2757.5,-104 2928.5,-104 2928.5,-104 2934.5,-104 2940.5,-110 2940.5,-116 2940.5,-116 2940.5,-175 2940.5,-175 2940.5,-181 2934.5,-187 2928.5,-187\"/>\n<text text-anchor=\"middle\" x=\"2843\" y=\"-171.8\" font-family=\"Helvetica,sans-Serif\" font-size=\"14.00\">blood_pressure_sys &lt;= 101.0</text>\n<text text-anchor=\"middle\" x=\"2843\" y=\"-156.8\" font-family=\"Helvetica,sans-Serif\" font-size=\"14.00\">entropy = 0.943</text>\n<text text-anchor=\"middle\" x=\"2843\" y=\"-141.8\" font-family=\"Helvetica,sans-Serif\" font-size=\"14.00\">samples = 230</text>\n<text text-anchor=\"middle\" x=\"2843\" y=\"-126.8\" font-family=\"Helvetica,sans-Serif\" font-size=\"14.00\">value = [83, 147]</text>\n<text text-anchor=\"middle\" x=\"2843\" y=\"-111.8\" font-family=\"Helvetica,sans-Serif\" font-size=\"14.00\">class = heart_yes</text>\n</g>\n<!-- 39&#45;&gt;43 -->\n<g id=\"edge43\" class=\"edge\">\n<title>39&#45;&gt;43</title>\n<path fill=\"none\" stroke=\"black\" d=\"M2676.24,-227.12C2699.5,-215.88 2725.39,-203.36 2749.71,-191.6\"/>\n<polygon fill=\"black\" stroke=\"black\" points=\"2751.47,-194.64 2758.95,-187.14 2748.42,-188.34 2751.47,-194.64\"/>\n</g>\n<!-- 41 -->\n<g id=\"node42\" class=\"node\">\n<title>41</title>\n<path fill=\"#399de5\" stroke=\"black\" d=\"M2615,-68C2615,-68 2517,-68 2517,-68 2511,-68 2505,-62 2505,-56 2505,-56 2505,-12 2505,-12 2505,-6 2511,0 2517,0 2517,0 2615,0 2615,0 2621,0 2627,-6 2627,-12 2627,-12 2627,-56 2627,-56 2627,-62 2621,-68 2615,-68\"/>\n<text text-anchor=\"middle\" x=\"2566\" y=\"-52.8\" font-family=\"Helvetica,sans-Serif\" font-size=\"14.00\">entropy = 0.0</text>\n<text text-anchor=\"middle\" x=\"2566\" y=\"-37.8\" font-family=\"Helvetica,sans-Serif\" font-size=\"14.00\">samples = 46</text>\n<text text-anchor=\"middle\" x=\"2566\" y=\"-22.8\" font-family=\"Helvetica,sans-Serif\" font-size=\"14.00\">value = [0, 46]</text>\n<text text-anchor=\"middle\" x=\"2566\" y=\"-7.8\" font-family=\"Helvetica,sans-Serif\" font-size=\"14.00\">class = heart_yes</text>\n</g>\n<!-- 40&#45;&gt;41 -->\n<g id=\"edge41\" class=\"edge\">\n<title>40&#45;&gt;41</title>\n<path fill=\"none\" stroke=\"black\" d=\"M2587.97,-103.73C2585.29,-95.34 2582.45,-86.47 2579.75,-78.01\"/>\n<polygon fill=\"black\" stroke=\"black\" points=\"2583.02,-76.76 2576.64,-68.3 2576.35,-78.89 2583.02,-76.76\"/>\n</g>\n<!-- 42 -->\n<g id=\"node43\" class=\"node\">\n<title>42</title>\n<path fill=\"#74baed\" stroke=\"black\" d=\"M2755,-68C2755,-68 2657,-68 2657,-68 2651,-68 2645,-62 2645,-56 2645,-56 2645,-12 2645,-12 2645,-6 2651,0 2657,0 2657,0 2755,0 2755,0 2761,0 2767,-6 2767,-12 2767,-12 2767,-56 2767,-56 2767,-62 2761,-68 2755,-68\"/>\n<text text-anchor=\"middle\" x=\"2706\" y=\"-52.8\" font-family=\"Helvetica,sans-Serif\" font-size=\"14.00\">entropy = 0.777</text>\n<text text-anchor=\"middle\" x=\"2706\" y=\"-37.8\" font-family=\"Helvetica,sans-Serif\" font-size=\"14.00\">samples = 253</text>\n<text text-anchor=\"middle\" x=\"2706\" y=\"-22.8\" font-family=\"Helvetica,sans-Serif\" font-size=\"14.00\">value = [58, 195]</text>\n<text text-anchor=\"middle\" x=\"2706\" y=\"-7.8\" font-family=\"Helvetica,sans-Serif\" font-size=\"14.00\">class = heart_yes</text>\n</g>\n<!-- 40&#45;&gt;42 -->\n<g id=\"edge42\" class=\"edge\">\n<title>40&#45;&gt;42</title>\n<path fill=\"none\" stroke=\"black\" d=\"M2640.1,-103.73C2648.93,-94.51 2658.31,-84.74 2667.13,-75.53\"/>\n<polygon fill=\"black\" stroke=\"black\" points=\"2669.67,-77.94 2674.07,-68.3 2664.62,-73.1 2669.67,-77.94\"/>\n</g>\n<!-- 44 -->\n<g id=\"node45\" class=\"node\">\n<title>44</title>\n<path fill=\"#e58139\" stroke=\"black\" d=\"M2889,-68C2889,-68 2797,-68 2797,-68 2791,-68 2785,-62 2785,-56 2785,-56 2785,-12 2785,-12 2785,-6 2791,0 2797,0 2797,0 2889,0 2889,0 2895,0 2901,-6 2901,-12 2901,-12 2901,-56 2901,-56 2901,-62 2895,-68 2889,-68\"/>\n<text text-anchor=\"middle\" x=\"2843\" y=\"-52.8\" font-family=\"Helvetica,sans-Serif\" font-size=\"14.00\">entropy = 0.0</text>\n<text text-anchor=\"middle\" x=\"2843\" y=\"-37.8\" font-family=\"Helvetica,sans-Serif\" font-size=\"14.00\">samples = 9</text>\n<text text-anchor=\"middle\" x=\"2843\" y=\"-22.8\" font-family=\"Helvetica,sans-Serif\" font-size=\"14.00\">value = [9, 0]</text>\n<text text-anchor=\"middle\" x=\"2843\" y=\"-7.8\" font-family=\"Helvetica,sans-Serif\" font-size=\"14.00\">class = heart_no</text>\n</g>\n<!-- 43&#45;&gt;44 -->\n<g id=\"edge44\" class=\"edge\">\n<title>43&#45;&gt;44</title>\n<path fill=\"none\" stroke=\"black\" d=\"M2843,-103.73C2843,-95.52 2843,-86.86 2843,-78.56\"/>\n<polygon fill=\"black\" stroke=\"black\" points=\"2846.5,-78.3 2843,-68.3 2839.5,-78.3 2846.5,-78.3\"/>\n</g>\n<!-- 45 -->\n<g id=\"node46\" class=\"node\">\n<title>45</title>\n<path fill=\"#9dcef2\" stroke=\"black\" d=\"M3029,-68C3029,-68 2931,-68 2931,-68 2925,-68 2919,-62 2919,-56 2919,-56 2919,-12 2919,-12 2919,-6 2925,0 2931,0 2931,0 3029,0 3029,0 3035,0 3041,-6 3041,-12 3041,-12 3041,-56 3041,-56 3041,-62 3035,-68 3029,-68\"/>\n<text text-anchor=\"middle\" x=\"2980\" y=\"-52.8\" font-family=\"Helvetica,sans-Serif\" font-size=\"14.00\">entropy = 0.92</text>\n<text text-anchor=\"middle\" x=\"2980\" y=\"-37.8\" font-family=\"Helvetica,sans-Serif\" font-size=\"14.00\">samples = 221</text>\n<text text-anchor=\"middle\" x=\"2980\" y=\"-22.8\" font-family=\"Helvetica,sans-Serif\" font-size=\"14.00\">value = [74, 147]</text>\n<text text-anchor=\"middle\" x=\"2980\" y=\"-7.8\" font-family=\"Helvetica,sans-Serif\" font-size=\"14.00\">class = heart_yes</text>\n</g>\n<!-- 43&#45;&gt;45 -->\n<g id=\"edge45\" class=\"edge\">\n<title>43&#45;&gt;45</title>\n<path fill=\"none\" stroke=\"black\" d=\"M2894.01,-103.73C2905.88,-94.24 2918.5,-84.16 2930.31,-74.72\"/>\n<polygon fill=\"black\" stroke=\"black\" points=\"2932.71,-77.28 2938.34,-68.3 2928.34,-71.81 2932.71,-77.28\"/>\n</g>\n<!-- 47 -->\n<g id=\"node48\" class=\"node\">\n<title>47</title>\n<path fill=\"#bddef6\" stroke=\"black\" d=\"M2945,-298.5C2945,-298.5 2847,-298.5 2847,-298.5 2841,-298.5 2835,-292.5 2835,-286.5 2835,-286.5 2835,-242.5 2835,-242.5 2835,-236.5 2841,-230.5 2847,-230.5 2847,-230.5 2945,-230.5 2945,-230.5 2951,-230.5 2957,-236.5 2957,-242.5 2957,-242.5 2957,-286.5 2957,-286.5 2957,-292.5 2951,-298.5 2945,-298.5\"/>\n<text text-anchor=\"middle\" x=\"2896\" y=\"-283.3\" font-family=\"Helvetica,sans-Serif\" font-size=\"14.00\">entropy = 0.971</text>\n<text text-anchor=\"middle\" x=\"2896\" y=\"-268.3\" font-family=\"Helvetica,sans-Serif\" font-size=\"14.00\">samples = 60</text>\n<text text-anchor=\"middle\" x=\"2896\" y=\"-253.3\" font-family=\"Helvetica,sans-Serif\" font-size=\"14.00\">value = [24, 36]</text>\n<text text-anchor=\"middle\" x=\"2896\" y=\"-238.3\" font-family=\"Helvetica,sans-Serif\" font-size=\"14.00\">class = heart_yes</text>\n</g>\n<!-- 46&#45;&gt;47 -->\n<g id=\"edge47\" class=\"edge\">\n<title>46&#45;&gt;47</title>\n<path fill=\"none\" stroke=\"black\" d=\"M2896,-341.91C2896,-331.2 2896,-319.62 2896,-308.78\"/>\n<polygon fill=\"black\" stroke=\"black\" points=\"2899.5,-308.67 2896,-298.67 2892.5,-308.67 2899.5,-308.67\"/>\n</g>\n<!-- 48 -->\n<g id=\"node49\" class=\"node\">\n<title>48</title>\n<path fill=\"#54aae9\" stroke=\"black\" d=\"M3269.5,-306C3269.5,-306 3098.5,-306 3098.5,-306 3092.5,-306 3086.5,-300 3086.5,-294 3086.5,-294 3086.5,-235 3086.5,-235 3086.5,-229 3092.5,-223 3098.5,-223 3098.5,-223 3269.5,-223 3269.5,-223 3275.5,-223 3281.5,-229 3281.5,-235 3281.5,-235 3281.5,-294 3281.5,-294 3281.5,-300 3275.5,-306 3269.5,-306\"/>\n<text text-anchor=\"middle\" x=\"3184\" y=\"-290.8\" font-family=\"Helvetica,sans-Serif\" font-size=\"14.00\">blood_pressure_sys &lt;= 135.0</text>\n<text text-anchor=\"middle\" x=\"3184\" y=\"-275.8\" font-family=\"Helvetica,sans-Serif\" font-size=\"14.00\">entropy = 0.53</text>\n<text text-anchor=\"middle\" x=\"3184\" y=\"-260.8\" font-family=\"Helvetica,sans-Serif\" font-size=\"14.00\">samples = 823</text>\n<text text-anchor=\"middle\" x=\"3184\" y=\"-245.8\" font-family=\"Helvetica,sans-Serif\" font-size=\"14.00\">value = [99, 724]</text>\n<text text-anchor=\"middle\" x=\"3184\" y=\"-230.8\" font-family=\"Helvetica,sans-Serif\" font-size=\"14.00\">class = heart_yes</text>\n</g>\n<!-- 46&#45;&gt;48 -->\n<g id=\"edge48\" class=\"edge\">\n<title>46&#45;&gt;48</title>\n<path fill=\"none\" stroke=\"black\" d=\"M2986.33,-345.8C3015.06,-334.13 3047.12,-321.11 3076.91,-309\"/>\n<polygon fill=\"black\" stroke=\"black\" points=\"3078.55,-312.12 3086.5,-305.11 3075.92,-305.63 3078.55,-312.12\"/>\n</g>\n<!-- 49 -->\n<g id=\"node50\" class=\"node\">\n<title>49</title>\n<path fill=\"#59ade9\" stroke=\"black\" d=\"M3241,-187C3241,-187 3127,-187 3127,-187 3121,-187 3115,-181 3115,-175 3115,-175 3115,-116 3115,-116 3115,-110 3121,-104 3127,-104 3127,-104 3241,-104 3241,-104 3247,-104 3253,-110 3253,-116 3253,-116 3253,-175 3253,-175 3253,-181 3247,-187 3241,-187\"/>\n<text text-anchor=\"middle\" x=\"3184\" y=\"-171.8\" font-family=\"Helvetica,sans-Serif\" font-size=\"14.00\">diastolic_bp &lt;= 57.0</text>\n<text text-anchor=\"middle\" x=\"3184\" y=\"-156.8\" font-family=\"Helvetica,sans-Serif\" font-size=\"14.00\">entropy = 0.586</text>\n<text text-anchor=\"middle\" x=\"3184\" y=\"-141.8\" font-family=\"Helvetica,sans-Serif\" font-size=\"14.00\">samples = 668</text>\n<text text-anchor=\"middle\" x=\"3184\" y=\"-126.8\" font-family=\"Helvetica,sans-Serif\" font-size=\"14.00\">value = [94, 574]</text>\n<text text-anchor=\"middle\" x=\"3184\" y=\"-111.8\" font-family=\"Helvetica,sans-Serif\" font-size=\"14.00\">class = heart_yes</text>\n</g>\n<!-- 48&#45;&gt;49 -->\n<g id=\"edge49\" class=\"edge\">\n<title>48&#45;&gt;49</title>\n<path fill=\"none\" stroke=\"black\" d=\"M3184,-222.91C3184,-214.65 3184,-205.86 3184,-197.3\"/>\n<polygon fill=\"black\" stroke=\"black\" points=\"3187.5,-197.02 3184,-187.02 3180.5,-197.02 3187.5,-197.02\"/>\n</g>\n<!-- 52 -->\n<g id=\"node53\" class=\"node\">\n<title>52</title>\n<path fill=\"#40a0e6\" stroke=\"black\" d=\"M3452,-187C3452,-187 3348,-187 3348,-187 3342,-187 3336,-181 3336,-175 3336,-175 3336,-116 3336,-116 3336,-110 3342,-104 3348,-104 3348,-104 3452,-104 3452,-104 3458,-104 3464,-110 3464,-116 3464,-116 3464,-175 3464,-175 3464,-181 3458,-187 3452,-187\"/>\n<text text-anchor=\"middle\" x=\"3400\" y=\"-171.8\" font-family=\"Helvetica,sans-Serif\" font-size=\"14.00\">calories &lt;= 1992.5</text>\n<text text-anchor=\"middle\" x=\"3400\" y=\"-156.8\" font-family=\"Helvetica,sans-Serif\" font-size=\"14.00\">entropy = 0.206</text>\n<text text-anchor=\"middle\" x=\"3400\" y=\"-141.8\" font-family=\"Helvetica,sans-Serif\" font-size=\"14.00\">samples = 155</text>\n<text text-anchor=\"middle\" x=\"3400\" y=\"-126.8\" font-family=\"Helvetica,sans-Serif\" font-size=\"14.00\">value = [5, 150]</text>\n<text text-anchor=\"middle\" x=\"3400\" y=\"-111.8\" font-family=\"Helvetica,sans-Serif\" font-size=\"14.00\">class = heart_yes</text>\n</g>\n<!-- 48&#45;&gt;52 -->\n<g id=\"edge52\" class=\"edge\">\n<title>48&#45;&gt;52</title>\n<path fill=\"none\" stroke=\"black\" d=\"M3258.94,-222.91C3281,-210.96 3305.1,-197.9 3327.03,-186.02\"/>\n<polygon fill=\"black\" stroke=\"black\" points=\"3328.84,-189.02 3335.97,-181.18 3325.51,-182.87 3328.84,-189.02\"/>\n</g>\n<!-- 50 -->\n<g id=\"node51\" class=\"node\">\n<title>50</title>\n<path fill=\"#9acdf2\" stroke=\"black\" d=\"M3169,-68C3169,-68 3071,-68 3071,-68 3065,-68 3059,-62 3059,-56 3059,-56 3059,-12 3059,-12 3059,-6 3065,0 3071,0 3071,0 3169,0 3169,0 3175,0 3181,-6 3181,-12 3181,-12 3181,-56 3181,-56 3181,-62 3175,-68 3169,-68\"/>\n<text text-anchor=\"middle\" x=\"3120\" y=\"-52.8\" font-family=\"Helvetica,sans-Serif\" font-size=\"14.00\">entropy = 0.914</text>\n<text text-anchor=\"middle\" x=\"3120\" y=\"-37.8\" font-family=\"Helvetica,sans-Serif\" font-size=\"14.00\">samples = 76</text>\n<text text-anchor=\"middle\" x=\"3120\" y=\"-22.8\" font-family=\"Helvetica,sans-Serif\" font-size=\"14.00\">value = [25, 51]</text>\n<text text-anchor=\"middle\" x=\"3120\" y=\"-7.8\" font-family=\"Helvetica,sans-Serif\" font-size=\"14.00\">class = heart_yes</text>\n</g>\n<!-- 49&#45;&gt;50 -->\n<g id=\"edge50\" class=\"edge\">\n<title>49&#45;&gt;50</title>\n<path fill=\"none\" stroke=\"black\" d=\"M3160.17,-103.73C3155.1,-95.06 3149.75,-85.9 3144.65,-77.18\"/>\n<polygon fill=\"black\" stroke=\"black\" points=\"3147.53,-75.17 3139.46,-68.3 3141.49,-78.7 3147.53,-75.17\"/>\n</g>\n<!-- 51 -->\n<g id=\"node52\" class=\"node\">\n<title>51</title>\n<path fill=\"#53aae8\" stroke=\"black\" d=\"M3309,-68C3309,-68 3211,-68 3211,-68 3205,-68 3199,-62 3199,-56 3199,-56 3199,-12 3199,-12 3199,-6 3205,0 3211,0 3211,0 3309,0 3309,0 3315,0 3321,-6 3321,-12 3321,-12 3321,-56 3321,-56 3321,-62 3315,-68 3309,-68\"/>\n<text text-anchor=\"middle\" x=\"3260\" y=\"-52.8\" font-family=\"Helvetica,sans-Serif\" font-size=\"14.00\">entropy = 0.519</text>\n<text text-anchor=\"middle\" x=\"3260\" y=\"-37.8\" font-family=\"Helvetica,sans-Serif\" font-size=\"14.00\">samples = 592</text>\n<text text-anchor=\"middle\" x=\"3260\" y=\"-22.8\" font-family=\"Helvetica,sans-Serif\" font-size=\"14.00\">value = [69, 523]</text>\n<text text-anchor=\"middle\" x=\"3260\" y=\"-7.8\" font-family=\"Helvetica,sans-Serif\" font-size=\"14.00\">class = heart_yes</text>\n</g>\n<!-- 49&#45;&gt;51 -->\n<g id=\"edge51\" class=\"edge\">\n<title>49&#45;&gt;51</title>\n<path fill=\"none\" stroke=\"black\" d=\"M3212.3,-103.73C3218.44,-94.88 3224.94,-85.51 3231.11,-76.63\"/>\n<polygon fill=\"black\" stroke=\"black\" points=\"3234.06,-78.51 3236.89,-68.3 3228.31,-74.52 3234.06,-78.51\"/>\n</g>\n<!-- 53 -->\n<g id=\"node54\" class=\"node\">\n<title>53</title>\n<path fill=\"#399de5\" stroke=\"black\" d=\"M3449,-68C3449,-68 3351,-68 3351,-68 3345,-68 3339,-62 3339,-56 3339,-56 3339,-12 3339,-12 3339,-6 3345,0 3351,0 3351,0 3449,0 3449,0 3455,0 3461,-6 3461,-12 3461,-12 3461,-56 3461,-56 3461,-62 3455,-68 3449,-68\"/>\n<text text-anchor=\"middle\" x=\"3400\" y=\"-52.8\" font-family=\"Helvetica,sans-Serif\" font-size=\"14.00\">entropy = 0.0</text>\n<text text-anchor=\"middle\" x=\"3400\" y=\"-37.8\" font-family=\"Helvetica,sans-Serif\" font-size=\"14.00\">samples = 110</text>\n<text text-anchor=\"middle\" x=\"3400\" y=\"-22.8\" font-family=\"Helvetica,sans-Serif\" font-size=\"14.00\">value = [0, 110]</text>\n<text text-anchor=\"middle\" x=\"3400\" y=\"-7.8\" font-family=\"Helvetica,sans-Serif\" font-size=\"14.00\">class = heart_yes</text>\n</g>\n<!-- 52&#45;&gt;53 -->\n<g id=\"edge53\" class=\"edge\">\n<title>52&#45;&gt;53</title>\n<path fill=\"none\" stroke=\"black\" d=\"M3400,-103.73C3400,-95.52 3400,-86.86 3400,-78.56\"/>\n<polygon fill=\"black\" stroke=\"black\" points=\"3403.5,-78.3 3400,-68.3 3396.5,-78.3 3403.5,-78.3\"/>\n</g>\n<!-- 54 -->\n<g id=\"node55\" class=\"node\">\n<title>54</title>\n<path fill=\"#52a9e8\" stroke=\"black\" d=\"M3589,-68C3589,-68 3491,-68 3491,-68 3485,-68 3479,-62 3479,-56 3479,-56 3479,-12 3479,-12 3479,-6 3485,0 3491,0 3491,0 3589,0 3589,0 3595,0 3601,-6 3601,-12 3601,-12 3601,-56 3601,-56 3601,-62 3595,-68 3589,-68\"/>\n<text text-anchor=\"middle\" x=\"3540\" y=\"-52.8\" font-family=\"Helvetica,sans-Serif\" font-size=\"14.00\">entropy = 0.503</text>\n<text text-anchor=\"middle\" x=\"3540\" y=\"-37.8\" font-family=\"Helvetica,sans-Serif\" font-size=\"14.00\">samples = 45</text>\n<text text-anchor=\"middle\" x=\"3540\" y=\"-22.8\" font-family=\"Helvetica,sans-Serif\" font-size=\"14.00\">value = [5, 40]</text>\n<text text-anchor=\"middle\" x=\"3540\" y=\"-7.8\" font-family=\"Helvetica,sans-Serif\" font-size=\"14.00\">class = heart_yes</text>\n</g>\n<!-- 52&#45;&gt;54 -->\n<g id=\"edge54\" class=\"edge\">\n<title>52&#45;&gt;54</title>\n<path fill=\"none\" stroke=\"black\" d=\"M3452.13,-103.73C3464.26,-94.24 3477.15,-84.16 3489.22,-74.72\"/>\n<polygon fill=\"black\" stroke=\"black\" points=\"3491.7,-77.22 3497.43,-68.3 3487.39,-71.7 3491.7,-77.22\"/>\n</g>\n</g>\n</svg>\n",
            "text/plain": [
              "<graphviz.sources.Source at 0x7dffb67a6f80>"
            ]
          },
          "metadata": {}
        }
      ],
      "source": [
        "best_tree = DecisionTreeClassifier(criterion = \"entropy\", max_depth = 5, min_samples_split= 64)\n",
        "best_tree.fit(X_train, t_train)\n",
        "\n",
        "print(\"Testing Accuracy:\", best_tree.score(X_test, t_test))\n",
        "\n",
        "# visualize the tree\n",
        "visualize_tree(best_tree)"
      ]
    },
    {
      "cell_type": "markdown",
      "id": "statistical-admission",
      "metadata": {
        "id": "statistical-admission"
      },
      "source": [
        "The accuracy measure above considers every mis-classification that is made by our model an `error`, and it assumes that each and every error is of equal importance. However, in many domains, not all errors are of equal importance at all! Some mistakes may have significant negative impacts on people, while others may not.  In future labs, we'll look more closely at different kinds of errors that our models may make and reflect on how these errors might be related to risks.\n",
        "\n",
        "For now, however, let's simply reflect on some shortcomings of the accuracy measure above.\n",
        "\n",
        "**Graded Task:** Assume we have two decision trees that both report 95% accuracy on our validation set.\n",
        "Why might a doctor prefer to use one tree rather than the other?  Answer below in 100 words or less."
      ]
    },
    {
      "cell_type": "code",
      "execution_count": 73,
      "id": "surprised-terror",
      "metadata": {
        "id": "surprised-terror"
      },
      "outputs": [],
      "source": [
        "# If we have 2 decision trees that have equal accuracy on the validation set,\n",
        "# then a doctor might prefer to use one tree that has better performance for\n",
        "# severe condition rather than the other one. For example, if one tree is more\n",
        "# effective in detecting the life-threatening condition than the other one,\n",
        "# then the doctor might choose this one so that it reduces severe mistakes."
      ]
    }
  ],
  "metadata": {
    "colab": {
      "provenance": []
    },
    "language_info": {
      "name": "python"
    },
    "kernelspec": {
      "name": "python3",
      "display_name": "Python 3"
    }
  },
  "nbformat": 4,
  "nbformat_minor": 5
}